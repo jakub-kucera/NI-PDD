{
 "cells": [
  {
   "cell_type": "markdown",
   "metadata": {
    "cell_id": "1cec9133eff44833b86b00522c9fdaa4",
    "deepnote_cell_height": 2002,
    "deepnote_cell_type": "markdown",
    "tags": []
   },
   "source": [
    "# Homework 1 - data validation & cleaning (deadline 30. 10. 2022, 23:59)\n",
    "\n",
    "In short, the main task is to clean The Metropolitan Museum of Art Open Access dataset.\n",
    "  \n",
    "> The instructions are not given in details: It is up to you to come up with ideas on how to fulfill the particular tasks as best as you can!\n",
    "\n",
    "However, we **strongly recommend and require** the following:\n",
    "* Follow the assignment step by step. Number each step.\n",
    "* Most steps contain the number of features that should be treated. You can preprocess more features, however, it does not mean that the teacher will give you more points. Focus on quality, not quantity.\n",
    "* Properly comment all your steps. Comments are evaluated for 2 points of the total together with the final presentation of the solution. However, it is not desirable to write novels! \n",
    "* This task is the most challenging of the three, both timewise and computationally. Do not leave it to the last minute.\n",
    "* Hand in a notebook that has already been run (i.e. do not delete outputs before handing in).\n",
    "\n",
    "## What are you supposed to do:\n",
    "\n",
    "  1. Download the dataset MetObjects.csv from the repository https://github.com/metmuseum/openaccess/.\n",
    "  2. Check consistency (i.e. that same things are represented in the same way) of at least **three features** where you expect problems (include \"Object Name\" feature). You can propose how to clean the selected features, however do not apply cleaning (in your interest) 🙂 _(1.5 points)_\n",
    "  3. Select at least **two features** where you expect integrity problems (describe your choice) and check integrity of those features. By integrity we mean correct logical relations between features (e.g. female names for females only). _(2 points)_\n",
    "  4. Convert at least **five features** to a proper data type. Choose at least one numeric, one categorical and one datetime. _(1.5 points)_\n",
    "  5. Find some outliers and describe your method. _(3 points, depends on creativity)_\n",
    "  6. Detect missing data in at least **three features**, convert them to a proper representation (if they are already not), and impute missing values in at least **one feature**. _(1 + 3 points, depends on creativity)_\n",
    "  7. Focus more precisely on the cleaning of the \"Medium\" feature. As if you were to use it in KNN algorithm later. _(2 points)_\n",
    "  8. Focus on the extraction of physical dimensions of each item (width, depth and height in centimeters) from the \"Dimensions\" feature. _(2 points)_\n",
    "\n",
    "All your steps and following code **have to be commented!** Comments are evaluated for 2 points together with the final presentation of the solution.\n",
    "\n",
    "**If you do all this properly, you will obtain 18 points.**\n",
    "\n",
    "## Comments\n",
    "\n",
    "  * Please follow the technical instructions from https://courses.fit.cvut.cz/NI-PDD/homeworks/index.html.\n",
    "  * If the reviewing teacher is not satisfied, she can (!) give you another chance to rework your homework and to obtain more points. However, this is not a given, so do your best! :)"
   ]
  },
  {
   "cell_type": "code",
   "execution_count": 1,
   "metadata": {
    "collapsed": false,
    "jupyter": {
     "outputs_hidden": false
    }
   },
   "outputs": [],
   "source": [
    "# importing basic libraries\n",
    "import numpy as np\n",
    "import pandas as pd\n",
    "\n",
    "import matplotlib.pyplot as plt\n",
    "%matplotlib inline\n",
    "\n",
    "import seaborn as sns"
   ]
  },
  {
   "cell_type": "markdown",
   "source": [
    "# 1. Download the dataset MetObjects.csv from the repository https://github.com/metmuseum/openaccess/."
   ],
   "metadata": {
    "collapsed": false
   }
  },
  {
   "cell_type": "code",
   "execution_count": 2,
   "metadata": {
    "cell_id": "f849ab93921843069afd5dc4abec8510",
    "deepnote_cell_height": 76,
    "deepnote_cell_type": "code",
    "deepnote_to_be_reexecuted": false,
    "execution_millis": 43,
    "execution_start": 1662743365252,
    "source_hash": "9e2da255",
    "tags": []
   },
   "outputs": [
    {
     "name": "stderr",
     "output_type": "stream",
     "text": [
      "/var/folders/gm/6zjcwbd164d1v4gmx73009pr0000gn/T/ipykernel_84845/4046042708.py:2: DtypeWarning: Columns (5,7,10,11,12,13,14,34,35,36,37,38,39,40,41,42,43,44,45,46) have mixed types. Specify dtype option on import or set low_memory=False.\n",
      "  df = pd.read_csv('MetObjects.csv', sep=',') # load data as pandas DataFrame\n"
     ]
    }
   ],
   "source": [
    "# importing data\n",
    "df = pd.read_csv('MetObjects.csv', sep=',') # load data as pandas DataFrame"
   ]
  },
  {
   "cell_type": "markdown",
   "source": [
    "## Random data exploration"
   ],
   "metadata": {
    "collapsed": false
   }
  },
  {
   "cell_type": "code",
   "execution_count": 3,
   "metadata": {
    "collapsed": false,
    "jupyter": {
     "outputs_hidden": false
    }
   },
   "outputs": [
    {
     "data": {
      "text/plain": "(477804, 54)"
     },
     "execution_count": 3,
     "metadata": {},
     "output_type": "execute_result"
    }
   ],
   "source": [
    "df.shape"
   ]
  },
  {
   "cell_type": "code",
   "execution_count": 90,
   "metadata": {
    "collapsed": false,
    "jupyter": {
     "outputs_hidden": false
    }
   },
   "outputs": [
    {
     "data": {
      "text/plain": "          Object Number  Is Highlight  Is Timeline Work  Is Public Domain  \\\nObject ID                                                                   \n1            1979.486.1         False             False             False   \n2            1980.264.5         False             False             False   \n3              67.265.9         False             False             False   \n4             67.265.10         False             False             False   \n5             67.265.11         False             False             False   \n...                 ...           ...               ...               ...   \n860869      23.112.2893         False             False              True   \n860870      23.112.2894         False             False              True   \n860871      53.600.1434         False             False             False   \n860872      23.112.2895         False             False              True   \n860873      23.112.2896         False             False              True   \n\n          Gallery Number           Department                 AccessionYear  \\\nObject ID                                                                     \n1                    NaN    The American Wing 1970-01-01 00:00:00.000001979   \n2                    NaN    The American Wing 1970-01-01 00:00:00.000001980   \n3                    NaN    The American Wing 1970-01-01 00:00:00.000001967   \n4                    NaN    The American Wing 1970-01-01 00:00:00.000001967   \n5                    NaN    The American Wing 1970-01-01 00:00:00.000001967   \n...                  ...                  ...                           ...   \n860869               NaN  Drawings and Prints 1923-01-01 00:00:00.000000000   \n860870               NaN  Drawings and Prints 1923-01-01 00:00:00.000000000   \n860871               NaN  Drawings and Prints 1953-01-01 00:00:00.000000000   \n860872               NaN  Drawings and Prints 1923-01-01 00:00:00.000000000   \n860873               NaN  Drawings and Prints 1923-01-01 00:00:00.000000000   \n\n          Object Name                                              Title  \\\nObject ID                                                                  \n1                Coin                       One-dollar Liberty Head Coin   \n2                Coin                       Ten-dollar Liberty Head Coin   \n3                Coin                         Two-and-a-Half Dollar Coin   \n4                Coin                         Two-and-a-Half Dollar Coin   \n5                Coin                         Two-and-a-Half Dollar Coin   \n...               ...                                                ...   \n860869        Drawing                                     Phaeton #24567   \n860870        Drawing             Stanhope Phaeton #25538-25539 (#21222)   \n860871          Print  Forest landscape with cattle drinking, a woman...   \n860872        Drawing                           Phaeton with folding top   \n860873        Drawing                                   Stanhope Phaeton   \n\n          Culture  ... Rights and Reproduction  \\\nObject ID          ...                           \n1             NaN  ...                     NaN   \n2             NaN  ...                     NaN   \n3             NaN  ...                     NaN   \n4             NaN  ...                     NaN   \n5             NaN  ...                     NaN   \n...           ...  ...                     ...   \n860869        NaN  ...                     NaN   \n860870        NaN  ...                     NaN   \n860871        NaN  ...                     NaN   \n860872        NaN  ...                     NaN   \n860873        NaN  ...                     NaN   \n\n                                               Link Resource  \\\nObject ID                                                      \n1           http://www.metmuseum.org/art/collection/search/1   \n2           http://www.metmuseum.org/art/collection/search/2   \n3           http://www.metmuseum.org/art/collection/search/3   \n4           http://www.metmuseum.org/art/collection/search/4   \n5           http://www.metmuseum.org/art/collection/search/5   \n...                                                      ...   \n860869     http://www.metmuseum.org/art/collection/search...   \n860870     http://www.metmuseum.org/art/collection/search...   \n860871     http://www.metmuseum.org/art/collection/search...   \n860872     http://www.metmuseum.org/art/collection/search...   \n860873     http://www.metmuseum.org/art/collection/search...   \n\n          Object Wikidata URL Metadata Date  \\\nObject ID                                     \n1                         NaN           NaN   \n2                         NaN           NaN   \n3                         NaN           NaN   \n4                         NaN           NaN   \n5                         NaN           NaN   \n...                       ...           ...   \n860869                    NaN           NaN   \n860870                    NaN           NaN   \n860871                    NaN           NaN   \n860872                    NaN           NaN   \n860873                    NaN           NaN   \n\n                                         Repository       Tags  \\\nObject ID                                                        \n1          Metropolitan Museum of Art, New York, NY        NaN   \n2          Metropolitan Museum of Art, New York, NY        NaN   \n3          Metropolitan Museum of Art, New York, NY        NaN   \n4          Metropolitan Museum of Art, New York, NY        NaN   \n5          Metropolitan Museum of Art, New York, NY        NaN   \n...                                             ...        ...   \n860869     Metropolitan Museum of Art, New York, NY  Carriages   \n860870     Metropolitan Museum of Art, New York, NY  Carriages   \n860871     Metropolitan Museum of Art, New York, NY        NaN   \n860872     Metropolitan Museum of Art, New York, NY  Carriages   \n860873     Metropolitan Museum of Art, New York, NY  Carriages   \n\n                                        Tags AAT URL  \\\nObject ID                                              \n1                                                NaN   \n2                                                NaN   \n3                                                NaN   \n4                                                NaN   \n5                                                NaN   \n...                                              ...   \n860869     http://vocab.getty.edu/page/aat/300185335   \n860870     http://vocab.getty.edu/page/aat/300185335   \n860871                                           NaN   \n860872     http://vocab.getty.edu/page/aat/300185335   \n860873     http://vocab.getty.edu/page/aat/300185335   \n\n                               Tags Wikidata URL Object_name_len  \\\nObject ID                                                          \n1                                            NaN             4.0   \n2                                            NaN             4.0   \n3                                            NaN             4.0   \n4                                            NaN             4.0   \n5                                            NaN             4.0   \n...                                          ...             ...   \n860869     https://www.wikidata.org/wiki/Q235356             7.0   \n860870     https://www.wikidata.org/wiki/Q235356             7.0   \n860871                                       NaN             5.0   \n860872     https://www.wikidata.org/wiki/Q235356             7.0   \n860873     https://www.wikidata.org/wiki/Q235356             7.0   \n\n          object_date_combined  \nObject ID                       \n1                         1853  \n2                         1901  \n3                      1909–27  \n4                      1909–27  \n5                      1909–27  \n...                        ...  \n860869                    1904  \n860870                    1904  \n860871                 1768–78  \n860872               1890–1900  \n860873               1890–1900  \n\n[477804 rows x 55 columns]",
      "text/html": "<div>\n<style scoped>\n    .dataframe tbody tr th:only-of-type {\n        vertical-align: middle;\n    }\n\n    .dataframe tbody tr th {\n        vertical-align: top;\n    }\n\n    .dataframe thead th {\n        text-align: right;\n    }\n</style>\n<table border=\"1\" class=\"dataframe\">\n  <thead>\n    <tr style=\"text-align: right;\">\n      <th></th>\n      <th>Object Number</th>\n      <th>Is Highlight</th>\n      <th>Is Timeline Work</th>\n      <th>Is Public Domain</th>\n      <th>Gallery Number</th>\n      <th>Department</th>\n      <th>AccessionYear</th>\n      <th>Object Name</th>\n      <th>Title</th>\n      <th>Culture</th>\n      <th>...</th>\n      <th>Rights and Reproduction</th>\n      <th>Link Resource</th>\n      <th>Object Wikidata URL</th>\n      <th>Metadata Date</th>\n      <th>Repository</th>\n      <th>Tags</th>\n      <th>Tags AAT URL</th>\n      <th>Tags Wikidata URL</th>\n      <th>Object_name_len</th>\n      <th>object_date_combined</th>\n    </tr>\n    <tr>\n      <th>Object ID</th>\n      <th></th>\n      <th></th>\n      <th></th>\n      <th></th>\n      <th></th>\n      <th></th>\n      <th></th>\n      <th></th>\n      <th></th>\n      <th></th>\n      <th></th>\n      <th></th>\n      <th></th>\n      <th></th>\n      <th></th>\n      <th></th>\n      <th></th>\n      <th></th>\n      <th></th>\n      <th></th>\n      <th></th>\n    </tr>\n  </thead>\n  <tbody>\n    <tr>\n      <th>1</th>\n      <td>1979.486.1</td>\n      <td>False</td>\n      <td>False</td>\n      <td>False</td>\n      <td>NaN</td>\n      <td>The American Wing</td>\n      <td>1970-01-01 00:00:00.000001979</td>\n      <td>Coin</td>\n      <td>One-dollar Liberty Head Coin</td>\n      <td>NaN</td>\n      <td>...</td>\n      <td>NaN</td>\n      <td>http://www.metmuseum.org/art/collection/search/1</td>\n      <td>NaN</td>\n      <td>NaN</td>\n      <td>Metropolitan Museum of Art, New York, NY</td>\n      <td>NaN</td>\n      <td>NaN</td>\n      <td>NaN</td>\n      <td>4.0</td>\n      <td>1853</td>\n    </tr>\n    <tr>\n      <th>2</th>\n      <td>1980.264.5</td>\n      <td>False</td>\n      <td>False</td>\n      <td>False</td>\n      <td>NaN</td>\n      <td>The American Wing</td>\n      <td>1970-01-01 00:00:00.000001980</td>\n      <td>Coin</td>\n      <td>Ten-dollar Liberty Head Coin</td>\n      <td>NaN</td>\n      <td>...</td>\n      <td>NaN</td>\n      <td>http://www.metmuseum.org/art/collection/search/2</td>\n      <td>NaN</td>\n      <td>NaN</td>\n      <td>Metropolitan Museum of Art, New York, NY</td>\n      <td>NaN</td>\n      <td>NaN</td>\n      <td>NaN</td>\n      <td>4.0</td>\n      <td>1901</td>\n    </tr>\n    <tr>\n      <th>3</th>\n      <td>67.265.9</td>\n      <td>False</td>\n      <td>False</td>\n      <td>False</td>\n      <td>NaN</td>\n      <td>The American Wing</td>\n      <td>1970-01-01 00:00:00.000001967</td>\n      <td>Coin</td>\n      <td>Two-and-a-Half Dollar Coin</td>\n      <td>NaN</td>\n      <td>...</td>\n      <td>NaN</td>\n      <td>http://www.metmuseum.org/art/collection/search/3</td>\n      <td>NaN</td>\n      <td>NaN</td>\n      <td>Metropolitan Museum of Art, New York, NY</td>\n      <td>NaN</td>\n      <td>NaN</td>\n      <td>NaN</td>\n      <td>4.0</td>\n      <td>1909–27</td>\n    </tr>\n    <tr>\n      <th>4</th>\n      <td>67.265.10</td>\n      <td>False</td>\n      <td>False</td>\n      <td>False</td>\n      <td>NaN</td>\n      <td>The American Wing</td>\n      <td>1970-01-01 00:00:00.000001967</td>\n      <td>Coin</td>\n      <td>Two-and-a-Half Dollar Coin</td>\n      <td>NaN</td>\n      <td>...</td>\n      <td>NaN</td>\n      <td>http://www.metmuseum.org/art/collection/search/4</td>\n      <td>NaN</td>\n      <td>NaN</td>\n      <td>Metropolitan Museum of Art, New York, NY</td>\n      <td>NaN</td>\n      <td>NaN</td>\n      <td>NaN</td>\n      <td>4.0</td>\n      <td>1909–27</td>\n    </tr>\n    <tr>\n      <th>5</th>\n      <td>67.265.11</td>\n      <td>False</td>\n      <td>False</td>\n      <td>False</td>\n      <td>NaN</td>\n      <td>The American Wing</td>\n      <td>1970-01-01 00:00:00.000001967</td>\n      <td>Coin</td>\n      <td>Two-and-a-Half Dollar Coin</td>\n      <td>NaN</td>\n      <td>...</td>\n      <td>NaN</td>\n      <td>http://www.metmuseum.org/art/collection/search/5</td>\n      <td>NaN</td>\n      <td>NaN</td>\n      <td>Metropolitan Museum of Art, New York, NY</td>\n      <td>NaN</td>\n      <td>NaN</td>\n      <td>NaN</td>\n      <td>4.0</td>\n      <td>1909–27</td>\n    </tr>\n    <tr>\n      <th>...</th>\n      <td>...</td>\n      <td>...</td>\n      <td>...</td>\n      <td>...</td>\n      <td>...</td>\n      <td>...</td>\n      <td>...</td>\n      <td>...</td>\n      <td>...</td>\n      <td>...</td>\n      <td>...</td>\n      <td>...</td>\n      <td>...</td>\n      <td>...</td>\n      <td>...</td>\n      <td>...</td>\n      <td>...</td>\n      <td>...</td>\n      <td>...</td>\n      <td>...</td>\n      <td>...</td>\n    </tr>\n    <tr>\n      <th>860869</th>\n      <td>23.112.2893</td>\n      <td>False</td>\n      <td>False</td>\n      <td>True</td>\n      <td>NaN</td>\n      <td>Drawings and Prints</td>\n      <td>1923-01-01 00:00:00.000000000</td>\n      <td>Drawing</td>\n      <td>Phaeton #24567</td>\n      <td>NaN</td>\n      <td>...</td>\n      <td>NaN</td>\n      <td>http://www.metmuseum.org/art/collection/search...</td>\n      <td>NaN</td>\n      <td>NaN</td>\n      <td>Metropolitan Museum of Art, New York, NY</td>\n      <td>Carriages</td>\n      <td>http://vocab.getty.edu/page/aat/300185335</td>\n      <td>https://www.wikidata.org/wiki/Q235356</td>\n      <td>7.0</td>\n      <td>1904</td>\n    </tr>\n    <tr>\n      <th>860870</th>\n      <td>23.112.2894</td>\n      <td>False</td>\n      <td>False</td>\n      <td>True</td>\n      <td>NaN</td>\n      <td>Drawings and Prints</td>\n      <td>1923-01-01 00:00:00.000000000</td>\n      <td>Drawing</td>\n      <td>Stanhope Phaeton #25538-25539 (#21222)</td>\n      <td>NaN</td>\n      <td>...</td>\n      <td>NaN</td>\n      <td>http://www.metmuseum.org/art/collection/search...</td>\n      <td>NaN</td>\n      <td>NaN</td>\n      <td>Metropolitan Museum of Art, New York, NY</td>\n      <td>Carriages</td>\n      <td>http://vocab.getty.edu/page/aat/300185335</td>\n      <td>https://www.wikidata.org/wiki/Q235356</td>\n      <td>7.0</td>\n      <td>1904</td>\n    </tr>\n    <tr>\n      <th>860871</th>\n      <td>53.600.1434</td>\n      <td>False</td>\n      <td>False</td>\n      <td>False</td>\n      <td>NaN</td>\n      <td>Drawings and Prints</td>\n      <td>1953-01-01 00:00:00.000000000</td>\n      <td>Print</td>\n      <td>Forest landscape with cattle drinking, a woman...</td>\n      <td>NaN</td>\n      <td>...</td>\n      <td>NaN</td>\n      <td>http://www.metmuseum.org/art/collection/search...</td>\n      <td>NaN</td>\n      <td>NaN</td>\n      <td>Metropolitan Museum of Art, New York, NY</td>\n      <td>NaN</td>\n      <td>NaN</td>\n      <td>NaN</td>\n      <td>5.0</td>\n      <td>1768–78</td>\n    </tr>\n    <tr>\n      <th>860872</th>\n      <td>23.112.2895</td>\n      <td>False</td>\n      <td>False</td>\n      <td>True</td>\n      <td>NaN</td>\n      <td>Drawings and Prints</td>\n      <td>1923-01-01 00:00:00.000000000</td>\n      <td>Drawing</td>\n      <td>Phaeton with folding top</td>\n      <td>NaN</td>\n      <td>...</td>\n      <td>NaN</td>\n      <td>http://www.metmuseum.org/art/collection/search...</td>\n      <td>NaN</td>\n      <td>NaN</td>\n      <td>Metropolitan Museum of Art, New York, NY</td>\n      <td>Carriages</td>\n      <td>http://vocab.getty.edu/page/aat/300185335</td>\n      <td>https://www.wikidata.org/wiki/Q235356</td>\n      <td>7.0</td>\n      <td>1890–1900</td>\n    </tr>\n    <tr>\n      <th>860873</th>\n      <td>23.112.2896</td>\n      <td>False</td>\n      <td>False</td>\n      <td>True</td>\n      <td>NaN</td>\n      <td>Drawings and Prints</td>\n      <td>1923-01-01 00:00:00.000000000</td>\n      <td>Drawing</td>\n      <td>Stanhope Phaeton</td>\n      <td>NaN</td>\n      <td>...</td>\n      <td>NaN</td>\n      <td>http://www.metmuseum.org/art/collection/search...</td>\n      <td>NaN</td>\n      <td>NaN</td>\n      <td>Metropolitan Museum of Art, New York, NY</td>\n      <td>Carriages</td>\n      <td>http://vocab.getty.edu/page/aat/300185335</td>\n      <td>https://www.wikidata.org/wiki/Q235356</td>\n      <td>7.0</td>\n      <td>1890–1900</td>\n    </tr>\n  </tbody>\n</table>\n<p>477804 rows × 55 columns</p>\n</div>"
     },
     "execution_count": 90,
     "metadata": {},
     "output_type": "execute_result"
    }
   ],
   "source": [
    "df"
   ]
  },
  {
   "cell_type": "code",
   "execution_count": 91,
   "metadata": {
    "collapsed": false,
    "jupyter": {
     "outputs_hidden": false
    }
   },
   "outputs": [
    {
     "name": "stdout",
     "output_type": "stream",
     "text": [
      "<class 'pandas.core.frame.DataFrame'>\n",
      "Int64Index: 477804 entries, 1 to 860873\n",
      "Data columns (total 55 columns):\n",
      " #   Column                   Non-Null Count   Dtype         \n",
      "---  ------                   --------------   -----         \n",
      " 0   Object Number            477804 non-null  object        \n",
      " 1   Is Highlight             477804 non-null  bool          \n",
      " 2   Is Timeline Work         477804 non-null  bool          \n",
      " 3   Is Public Domain         477804 non-null  bool          \n",
      " 4   Gallery Number           51776 non-null   object        \n",
      " 5   Department               477804 non-null  category      \n",
      " 6   AccessionYear            474248 non-null  datetime64[ns]\n",
      " 7   Object Name              476113 non-null  object        \n",
      " 8   Title                    448619 non-null  object        \n",
      " 9   Culture                  207379 non-null  object        \n",
      " 10  Period                   90956 non-null   object        \n",
      " 11  Dynasty                  23233 non-null   object        \n",
      " 12  Reign                    11226 non-null   object        \n",
      " 13  Portfolio                23530 non-null   object        \n",
      " 14  Constituent ID           275535 non-null  object        \n",
      " 15  Artist Role              273436 non-null  object        \n",
      " 16  Artist Prefix            275535 non-null  object        \n",
      " 17  Artist Display Name      275535 non-null  object        \n",
      " 18  Artist Display Bio       273436 non-null  object        \n",
      " 19  Artist Suffix            275487 non-null  object        \n",
      " 20  Artist Alpha Sort        275535 non-null  object        \n",
      " 21  Artist Nationality       275535 non-null  object        \n",
      " 22  Artist Begin Date        275535 non-null  object        \n",
      " 23  Artist End Date          275535 non-null  object        \n",
      " 24  Artist Gender            103061 non-null  object        \n",
      " 25  Artist ULAN URL          222021 non-null  object        \n",
      " 26  Artist Wikidata URL      217732 non-null  object        \n",
      " 27  Object Date              477804 non-null  object        \n",
      " 28  Object Begin Date        477804 non-null  int64         \n",
      " 29  Object End Date          477804 non-null  int64         \n",
      " 30  Medium                   470684 non-null  object        \n",
      " 31  Dimensions               402510 non-null  object        \n",
      " 32  Credit Line              477353 non-null  object        \n",
      " 33  Geography Type           59769 non-null   object        \n",
      " 34  City                     32407 non-null   object        \n",
      " 35  State                    2550 non-null    object        \n",
      " 36  County                   8450 non-null    object        \n",
      " 37  Country                  75751 non-null   object        \n",
      " 38  Region                   31360 non-null   object        \n",
      " 39  Subregion                22124 non-null   object        \n",
      " 40  Locale                   15709 non-null   object        \n",
      " 41  Locus                    7493 non-null    object        \n",
      " 42  Excavation               16558 non-null   object        \n",
      " 43  River                    2095 non-null    object        \n",
      " 44  Classification           399598 non-null  object        \n",
      " 45  Rights and Reproduction  24198 non-null   object        \n",
      " 46  Link Resource            477804 non-null  object        \n",
      " 47  Object Wikidata URL      22265 non-null   object        \n",
      " 48  Metadata Date            0 non-null       float64       \n",
      " 49  Repository               477804 non-null  object        \n",
      " 50  Tags                     200400 non-null  object        \n",
      " 51  Tags AAT URL             200400 non-null  object        \n",
      " 52  Tags Wikidata URL        200400 non-null  object        \n",
      " 53  Object_name_len          476113 non-null  float64       \n",
      " 54  object_date_combined     477804 non-null  object        \n",
      "dtypes: bool(3), category(1), datetime64[ns](1), float64(2), int64(2), object(46)\n",
      "memory usage: 191.4+ MB\n"
     ]
    }
   ],
   "source": [
    "df.info()"
   ]
  },
  {
   "cell_type": "code",
   "execution_count": 92,
   "outputs": [
    {
     "data": {
      "text/plain": "Object Number              474872\nIs Highlight                    2\nIs Timeline Work                2\nIs Public Domain                2\nGallery Number                609\nDepartment                     19\nAccessionYear                 280\nObject Name                 28449\nTitle                      239091\nCulture                      7180\nPeriod                       1873\nDynasty                       403\nReign                         389\nPortfolio                    3563\nConstituent ID              46224\nArtist Role                  6837\nArtist Prefix                8046\nArtist Display Name         64531\nArtist Display Bio          52439\nArtist Suffix                2729\nArtist Alpha Sort           64489\nArtist Nationality           5037\nArtist Begin Date           29716\nArtist End Date             29685\nArtist Gender                 284\nArtist ULAN URL             37235\nArtist Wikidata URL         39362\nObject Date                 32697\nObject Begin Date            2073\nObject End Date              2040\nMedium                      64685\nDimensions                 259819\nCredit Line                 35330\nGeography Type                115\nCity                         2566\nState                         104\nCounty                       1093\nCountry                       946\nRegion                        717\nSubregion                     365\nLocale                        867\nLocus                        1380\nExcavation                    404\nRiver                         229\nClassification               1212\nRights and Reproduction      1415\nLink Resource              477804\nObject Wikidata URL         22213\nMetadata Date                   0\nRepository                      1\nTags                        44830\nTags AAT URL                44370\nTags Wikidata URL           44564\nObject_name_len                79\nobject_date_combined        19206\ndtype: int64"
     },
     "execution_count": 92,
     "metadata": {},
     "output_type": "execute_result"
    }
   ],
   "source": [
    "df.nunique()"
   ],
   "metadata": {
    "collapsed": false
   }
  },
  {
   "cell_type": "code",
   "execution_count": 7,
   "outputs": [
    {
     "data": {
      "text/plain": "       Object Number Is Highlight Is Timeline Work Is Public Domain  \\\ncount         477804       477804           477804           477804   \nunique        474872            2                2                2   \ntop           62.635        False            False             True   \nfreq               4       475320           469816           245307   \nmean             NaN          NaN              NaN              NaN   \nstd              NaN          NaN              NaN              NaN   \nmin              NaN          NaN              NaN              NaN   \n25%              NaN          NaN              NaN              NaN   \n50%              NaN          NaN              NaN              NaN   \n75%              NaN          NaN              NaN              NaN   \nmax              NaN          NaN              NaN              NaN   \n\n            Object ID Gallery Number           Department  AccessionYear  \\\ncount   477804.000000          51776               477804       474248.0   \nunique            NaN            609                   19          280.0   \ntop               NaN            774  Drawings and Prints         1963.0   \nfreq              NaN           7054               167152        34280.0   \nmean    387582.167811            NaN                  NaN            NaN   \nstd     237374.736434            NaN                  NaN            NaN   \nmin          1.000000            NaN                  NaN            NaN   \n25%     210119.750000            NaN                  NaN            NaN   \n50%     371186.500000            NaN                  NaN            NaN   \n75%     563883.250000            NaN                  NaN            NaN   \nmax     860873.000000            NaN                  NaN            NaN   \n\n       Object Name                                          Title  ...  \\\ncount       476113                                         448619  ...   \nunique       28449                                         239091  ...   \ntop          Print  Terracotta fragment of a kylix (drinking cup)  ...   \nfreq         99439                                           6415  ...   \nmean           NaN                                            NaN  ...   \nstd            NaN                                            NaN  ...   \nmin            NaN                                            NaN  ...   \n25%            NaN                                            NaN  ...   \n50%            NaN                                            NaN  ...   \n75%            NaN                                            NaN  ...   \nmax            NaN                                            NaN  ...   \n\n                    River Classification  \\\ncount                2095         399598   \nunique                229           1212   \ntop     Upper Sepik River         Prints   \nfreq                  362          80981   \nmean                  NaN            NaN   \nstd                   NaN            NaN   \nmin                   NaN            NaN   \n25%                   NaN            NaN   \n50%                   NaN            NaN   \n75%                   NaN            NaN   \nmax                   NaN            NaN   \n\n                                  Rights and Reproduction  \\\ncount                                               24198   \nunique                                               1415   \ntop     © Walker Evans Archive, The Metropolitan Museu...   \nfreq                                                 7314   \nmean                                                  NaN   \nstd                                                   NaN   \nmin                                                   NaN   \n25%                                                   NaN   \n50%                                                   NaN   \n75%                                                   NaN   \nmax                                                   NaN   \n\n                                           Link Resource  \\\ncount                                             477804   \nunique                                            477804   \ntop     http://www.metmuseum.org/art/collection/search/1   \nfreq                                                   1   \nmean                                                 NaN   \nstd                                                  NaN   \nmin                                                  NaN   \n25%                                                  NaN   \n50%                                                  NaN   \n75%                                                  NaN   \nmax                                                  NaN   \n\n                            Object Wikidata URL Metadata Date  \\\ncount                                     22265           0.0   \nunique                                    22213           NaN   \ntop     https://www.wikidata.org/wiki/Q97732991           NaN   \nfreq                                         17           NaN   \nmean                                        NaN           NaN   \nstd                                         NaN           NaN   \nmin                                         NaN           NaN   \n25%                                         NaN           NaN   \n50%                                         NaN           NaN   \n75%                                         NaN           NaN   \nmax                                         NaN           NaN   \n\n                                      Repository     Tags  \\\ncount                                     477804   200400   \nunique                                         1    44830   \ntop     Metropolitan Museum of Art, New York, NY  Flowers   \nfreq                                      477804     8359   \nmean                                         NaN      NaN   \nstd                                          NaN      NaN   \nmin                                          NaN      NaN   \n25%                                          NaN      NaN   \n50%                                          NaN      NaN   \n75%                                          NaN      NaN   \nmax                                          NaN      NaN   \n\n                                     Tags AAT URL  \\\ncount                                      200400   \nunique                                      44370   \ntop     http://vocab.getty.edu/page/aat/300132399   \nfreq                                         8359   \nmean                                          NaN   \nstd                                           NaN   \nmin                                           NaN   \n25%                                           NaN   \n50%                                           NaN   \n75%                                           NaN   \nmax                                           NaN   \n\n                         Tags Wikidata URL  \ncount                               200400  \nunique                               44564  \ntop     https://www.wikidata.org/wiki/Q506  \nfreq                                  8359  \nmean                                   NaN  \nstd                                    NaN  \nmin                                    NaN  \n25%                                    NaN  \n50%                                    NaN  \n75%                                    NaN  \nmax                                    NaN  \n\n[11 rows x 54 columns]",
      "text/html": "<div>\n<style scoped>\n    .dataframe tbody tr th:only-of-type {\n        vertical-align: middle;\n    }\n\n    .dataframe tbody tr th {\n        vertical-align: top;\n    }\n\n    .dataframe thead th {\n        text-align: right;\n    }\n</style>\n<table border=\"1\" class=\"dataframe\">\n  <thead>\n    <tr style=\"text-align: right;\">\n      <th></th>\n      <th>Object Number</th>\n      <th>Is Highlight</th>\n      <th>Is Timeline Work</th>\n      <th>Is Public Domain</th>\n      <th>Object ID</th>\n      <th>Gallery Number</th>\n      <th>Department</th>\n      <th>AccessionYear</th>\n      <th>Object Name</th>\n      <th>Title</th>\n      <th>...</th>\n      <th>River</th>\n      <th>Classification</th>\n      <th>Rights and Reproduction</th>\n      <th>Link Resource</th>\n      <th>Object Wikidata URL</th>\n      <th>Metadata Date</th>\n      <th>Repository</th>\n      <th>Tags</th>\n      <th>Tags AAT URL</th>\n      <th>Tags Wikidata URL</th>\n    </tr>\n  </thead>\n  <tbody>\n    <tr>\n      <th>count</th>\n      <td>477804</td>\n      <td>477804</td>\n      <td>477804</td>\n      <td>477804</td>\n      <td>477804.000000</td>\n      <td>51776</td>\n      <td>477804</td>\n      <td>474248.0</td>\n      <td>476113</td>\n      <td>448619</td>\n      <td>...</td>\n      <td>2095</td>\n      <td>399598</td>\n      <td>24198</td>\n      <td>477804</td>\n      <td>22265</td>\n      <td>0.0</td>\n      <td>477804</td>\n      <td>200400</td>\n      <td>200400</td>\n      <td>200400</td>\n    </tr>\n    <tr>\n      <th>unique</th>\n      <td>474872</td>\n      <td>2</td>\n      <td>2</td>\n      <td>2</td>\n      <td>NaN</td>\n      <td>609</td>\n      <td>19</td>\n      <td>280.0</td>\n      <td>28449</td>\n      <td>239091</td>\n      <td>...</td>\n      <td>229</td>\n      <td>1212</td>\n      <td>1415</td>\n      <td>477804</td>\n      <td>22213</td>\n      <td>NaN</td>\n      <td>1</td>\n      <td>44830</td>\n      <td>44370</td>\n      <td>44564</td>\n    </tr>\n    <tr>\n      <th>top</th>\n      <td>62.635</td>\n      <td>False</td>\n      <td>False</td>\n      <td>True</td>\n      <td>NaN</td>\n      <td>774</td>\n      <td>Drawings and Prints</td>\n      <td>1963.0</td>\n      <td>Print</td>\n      <td>Terracotta fragment of a kylix (drinking cup)</td>\n      <td>...</td>\n      <td>Upper Sepik River</td>\n      <td>Prints</td>\n      <td>© Walker Evans Archive, The Metropolitan Museu...</td>\n      <td>http://www.metmuseum.org/art/collection/search/1</td>\n      <td>https://www.wikidata.org/wiki/Q97732991</td>\n      <td>NaN</td>\n      <td>Metropolitan Museum of Art, New York, NY</td>\n      <td>Flowers</td>\n      <td>http://vocab.getty.edu/page/aat/300132399</td>\n      <td>https://www.wikidata.org/wiki/Q506</td>\n    </tr>\n    <tr>\n      <th>freq</th>\n      <td>4</td>\n      <td>475320</td>\n      <td>469816</td>\n      <td>245307</td>\n      <td>NaN</td>\n      <td>7054</td>\n      <td>167152</td>\n      <td>34280.0</td>\n      <td>99439</td>\n      <td>6415</td>\n      <td>...</td>\n      <td>362</td>\n      <td>80981</td>\n      <td>7314</td>\n      <td>1</td>\n      <td>17</td>\n      <td>NaN</td>\n      <td>477804</td>\n      <td>8359</td>\n      <td>8359</td>\n      <td>8359</td>\n    </tr>\n    <tr>\n      <th>mean</th>\n      <td>NaN</td>\n      <td>NaN</td>\n      <td>NaN</td>\n      <td>NaN</td>\n      <td>387582.167811</td>\n      <td>NaN</td>\n      <td>NaN</td>\n      <td>NaN</td>\n      <td>NaN</td>\n      <td>NaN</td>\n      <td>...</td>\n      <td>NaN</td>\n      <td>NaN</td>\n      <td>NaN</td>\n      <td>NaN</td>\n      <td>NaN</td>\n      <td>NaN</td>\n      <td>NaN</td>\n      <td>NaN</td>\n      <td>NaN</td>\n      <td>NaN</td>\n    </tr>\n    <tr>\n      <th>std</th>\n      <td>NaN</td>\n      <td>NaN</td>\n      <td>NaN</td>\n      <td>NaN</td>\n      <td>237374.736434</td>\n      <td>NaN</td>\n      <td>NaN</td>\n      <td>NaN</td>\n      <td>NaN</td>\n      <td>NaN</td>\n      <td>...</td>\n      <td>NaN</td>\n      <td>NaN</td>\n      <td>NaN</td>\n      <td>NaN</td>\n      <td>NaN</td>\n      <td>NaN</td>\n      <td>NaN</td>\n      <td>NaN</td>\n      <td>NaN</td>\n      <td>NaN</td>\n    </tr>\n    <tr>\n      <th>min</th>\n      <td>NaN</td>\n      <td>NaN</td>\n      <td>NaN</td>\n      <td>NaN</td>\n      <td>1.000000</td>\n      <td>NaN</td>\n      <td>NaN</td>\n      <td>NaN</td>\n      <td>NaN</td>\n      <td>NaN</td>\n      <td>...</td>\n      <td>NaN</td>\n      <td>NaN</td>\n      <td>NaN</td>\n      <td>NaN</td>\n      <td>NaN</td>\n      <td>NaN</td>\n      <td>NaN</td>\n      <td>NaN</td>\n      <td>NaN</td>\n      <td>NaN</td>\n    </tr>\n    <tr>\n      <th>25%</th>\n      <td>NaN</td>\n      <td>NaN</td>\n      <td>NaN</td>\n      <td>NaN</td>\n      <td>210119.750000</td>\n      <td>NaN</td>\n      <td>NaN</td>\n      <td>NaN</td>\n      <td>NaN</td>\n      <td>NaN</td>\n      <td>...</td>\n      <td>NaN</td>\n      <td>NaN</td>\n      <td>NaN</td>\n      <td>NaN</td>\n      <td>NaN</td>\n      <td>NaN</td>\n      <td>NaN</td>\n      <td>NaN</td>\n      <td>NaN</td>\n      <td>NaN</td>\n    </tr>\n    <tr>\n      <th>50%</th>\n      <td>NaN</td>\n      <td>NaN</td>\n      <td>NaN</td>\n      <td>NaN</td>\n      <td>371186.500000</td>\n      <td>NaN</td>\n      <td>NaN</td>\n      <td>NaN</td>\n      <td>NaN</td>\n      <td>NaN</td>\n      <td>...</td>\n      <td>NaN</td>\n      <td>NaN</td>\n      <td>NaN</td>\n      <td>NaN</td>\n      <td>NaN</td>\n      <td>NaN</td>\n      <td>NaN</td>\n      <td>NaN</td>\n      <td>NaN</td>\n      <td>NaN</td>\n    </tr>\n    <tr>\n      <th>75%</th>\n      <td>NaN</td>\n      <td>NaN</td>\n      <td>NaN</td>\n      <td>NaN</td>\n      <td>563883.250000</td>\n      <td>NaN</td>\n      <td>NaN</td>\n      <td>NaN</td>\n      <td>NaN</td>\n      <td>NaN</td>\n      <td>...</td>\n      <td>NaN</td>\n      <td>NaN</td>\n      <td>NaN</td>\n      <td>NaN</td>\n      <td>NaN</td>\n      <td>NaN</td>\n      <td>NaN</td>\n      <td>NaN</td>\n      <td>NaN</td>\n      <td>NaN</td>\n    </tr>\n    <tr>\n      <th>max</th>\n      <td>NaN</td>\n      <td>NaN</td>\n      <td>NaN</td>\n      <td>NaN</td>\n      <td>860873.000000</td>\n      <td>NaN</td>\n      <td>NaN</td>\n      <td>NaN</td>\n      <td>NaN</td>\n      <td>NaN</td>\n      <td>...</td>\n      <td>NaN</td>\n      <td>NaN</td>\n      <td>NaN</td>\n      <td>NaN</td>\n      <td>NaN</td>\n      <td>NaN</td>\n      <td>NaN</td>\n      <td>NaN</td>\n      <td>NaN</td>\n      <td>NaN</td>\n    </tr>\n  </tbody>\n</table>\n<p>11 rows × 54 columns</p>\n</div>"
     },
     "execution_count": 7,
     "metadata": {},
     "output_type": "execute_result"
    }
   ],
   "source": [
    "df.describe(include='all')"
   ],
   "metadata": {
    "collapsed": false
   }
  },
  {
   "cell_type": "code",
   "execution_count": 8,
   "outputs": [
    {
     "data": {
      "text/plain": "0"
     },
     "execution_count": 8,
     "metadata": {},
     "output_type": "execute_result"
    }
   ],
   "source": [
    "df.duplicated().sum()"
   ],
   "metadata": {
    "collapsed": false
   }
  },
  {
   "cell_type": "code",
   "execution_count": 9,
   "outputs": [],
   "source": [
    "# df.rename(columns={'Unnamed: 0': 'id'}, inplace=True)"
   ],
   "metadata": {
    "collapsed": false
   }
  },
  {
   "cell_type": "code",
   "execution_count": 10,
   "outputs": [
    {
     "data": {
      "text/plain": "0"
     },
     "execution_count": 10,
     "metadata": {},
     "output_type": "execute_result"
    }
   ],
   "source": [
    "df.set_index('Object ID', inplace=True) # use IDs as index\n",
    "df.duplicated().sum()"
   ],
   "metadata": {
    "collapsed": false
   }
  },
  {
   "cell_type": "markdown",
   "source": [
    "No duplicates"
   ],
   "metadata": {
    "collapsed": false
   }
  },
  {
   "cell_type": "markdown",
   "source": [
    "#  2. Check consistency (i.e. that same things are represented in the same way) of at least **three features** where you expect problems (include \"Object Name\" feature). You can propose how to clean the selected features, however do not apply cleaning (in your interest) 🙂 _(1.5 points)_"
   ],
   "metadata": {
    "collapsed": false
   }
  },
  {
   "cell_type": "markdown",
   "source": [
    "## 2a Since the assigment says to include the `Object Name`, lets start with that"
   ],
   "metadata": {
    "collapsed": false
   }
  },
  {
   "cell_type": "code",
   "execution_count": 11,
   "outputs": [
    {
     "data": {
      "text/plain": "count     476113\nunique     28449\ntop        Print\nfreq       99439\nName: Object Name, dtype: object"
     },
     "execution_count": 11,
     "metadata": {},
     "output_type": "execute_result"
    }
   ],
   "source": [
    "df['Object Name'].describe()"
   ],
   "metadata": {
    "collapsed": false
   }
  },
  {
   "cell_type": "code",
   "execution_count": 12,
   "outputs": [],
   "source": [
    "# df['Title_len'] = df.apply(lambda x: len(x['Title']), axis=1)\n",
    "#df['Object_name_len'] = df['Object Name'].apply(lambda x: len(str(x)))\n",
    "df['Object_name_len'] = df['Object Name'].str.len()"
   ],
   "metadata": {
    "collapsed": false
   }
  },
  {
   "cell_type": "code",
   "execution_count": 13,
   "outputs": [
    {
     "data": {
      "text/plain": "count    476113.000000\nmean         10.476992\nstd           8.560064\nmin           2.000000\n25%           5.000000\n50%           7.000000\n75%          13.000000\nmax          80.000000\nName: Object_name_len, dtype: float64"
     },
     "execution_count": 13,
     "metadata": {},
     "output_type": "execute_result"
    }
   ],
   "source": [
    "df['Object_name_len'].describe()"
   ],
   "metadata": {
    "collapsed": false
   }
  },
  {
   "cell_type": "code",
   "execution_count": 13,
   "outputs": [],
   "source": [],
   "metadata": {
    "collapsed": false
   }
  },
  {
   "cell_type": "code",
   "execution_count": 14,
   "outputs": [],
   "source": [
    "# df.groupby('Object Name').nunique().sort_values('Object_name_len')\n",
    "# df.loc[df.groupby('Object Name').Object_name_len.nsmallest(3).index]\n",
    "# dataframe with records without duplicated 'Object name'\n",
    "df_dedup_name = df.drop_duplicates(subset=['Object Name'])"
   ],
   "metadata": {
    "collapsed": false
   }
  },
  {
   "cell_type": "code",
   "execution_count": 15,
   "outputs": [
    {
     "data": {
      "text/plain": "Object ID\n24857      Ax\n248056     As\n500526     Ūd\n500580     Po\n500582     Lo\n500589     Bo\n500606     Gu\n501092     Ty\n503211     So\n503339     Em\n503765     Se\n504702     Yu\n327       Mug\n329       Keg\n688       Cup\n896       Box\n948       Jar\n1401      Cap\n2080      Pin\n2126      Urn\nName: Object Name, dtype: object"
     },
     "execution_count": 15,
     "metadata": {},
     "output_type": "execute_result"
    }
   ],
   "source": [
    "# get 20 of the shortest Object names\n",
    "df_dedup_name.loc[df_dedup_name.Object_name_len.nsmallest(20).index]['Object Name']"
   ],
   "metadata": {
    "collapsed": false
   }
  },
  {
   "cell_type": "markdown",
   "source": [
    "after looking these up on the internet, the names do seem to make sense"
   ],
   "metadata": {
    "collapsed": false
   }
  },
  {
   "cell_type": "markdown",
   "source": [
    "altough, wait, 'Ax'? I know it as 'Axe', I wonder if that is there as well?"
   ],
   "metadata": {
    "collapsed": false
   }
  },
  {
   "cell_type": "code",
   "execution_count": 16,
   "outputs": [
    {
     "data": {
      "text/plain": "          Object Number  Is Highlight  Is Timeline Work  Is Public Domain  \\\nObject ID                                                                   \n24857            69.156         False             False              True   \n25577          04.3.467         False              True              True   \n32944          23.276.2         False             False              True   \n37759       2000.284.58         False             False              True   \n38627       2000.284.61         False             False              True   \n...                 ...           ...               ...               ...   \n555849        07.231.14         False             False             False   \n557942          17.6.65         False             False             False   \n569247          26.2.65         False             False             False   \n571171      09.180.1413         False             False             False   \n571857          29.2.11         False             False             False   \n\n          Gallery Number      Department AccessionYear Object Name  \\\nObject ID                                                            \n24857              379.0  Arms and Armor        1969.0          Ax   \n25577                NaN  Arms and Armor        1904.0          Ax   \n32944              370.0  Arms and Armor        1923.0          Ax   \n37759              244.0       Asian Art        2000.0          Ax   \n38627              244.0       Asian Art        2000.0          Ax   \n...                  ...             ...           ...         ...   \n555849             109.0    Egyptian Art        1907.0          Ax   \n557942               NaN    Egyptian Art        1917.0          Ax   \n569247               NaN    Egyptian Art        1926.0          Ax   \n571171               NaN    Egyptian Art        1909.0          Ax   \n571857               NaN    Egyptian Art        1929.0          Ax   \n\n                             Title    Culture  ...   Classification  \\\nObject ID                                      ...                    \n24857                           Ax     Syrian  ...  Shafted Weapons   \n25577                   Dervish Ax    Turkish  ...  Shafted Weapons   \n32944      Ax of the Palstave Type    British  ...    Miscellaneous   \n37759                          NaN    Vietnam  ...        Metalwork   \n38627                          NaN  Indonesia  ...        Sculpture   \n...                            ...        ...  ...              ...   \n555849                      Ax (?)        NaN  ...              NaN   \n557942                          Ax        NaN  ...              NaN   \n569247                          Ax        NaN  ...              NaN   \n571171                          Ax        NaN  ...              NaN   \n571857                          Ax        NaN  ...              NaN   \n\n          Rights and Reproduction  \\\nObject ID                           \n24857                         NaN   \n25577                         NaN   \n32944                         NaN   \n37759                         NaN   \n38627                         NaN   \n...                           ...   \n555849                        NaN   \n557942                        NaN   \n569247                        NaN   \n571171                        NaN   \n571857                        NaN   \n\n                                               Link Resource  \\\nObject ID                                                      \n24857      http://www.metmuseum.org/art/collection/search...   \n25577      http://www.metmuseum.org/art/collection/search...   \n32944      http://www.metmuseum.org/art/collection/search...   \n37759      http://www.metmuseum.org/art/collection/search...   \n38627      http://www.metmuseum.org/art/collection/search...   \n...                                                      ...   \n555849     http://www.metmuseum.org/art/collection/search...   \n557942     http://www.metmuseum.org/art/collection/search...   \n569247     http://www.metmuseum.org/art/collection/search...   \n571171     http://www.metmuseum.org/art/collection/search...   \n571857     http://www.metmuseum.org/art/collection/search...   \n\n          Object Wikidata URL Metadata Date  \\\nObject ID                                     \n24857                     NaN           NaN   \n25577                     NaN           NaN   \n32944                     NaN           NaN   \n37759                     NaN           NaN   \n38627                     NaN           NaN   \n...                       ...           ...   \n555849                    NaN           NaN   \n557942                    NaN           NaN   \n569247                    NaN           NaN   \n571171                    NaN           NaN   \n571857                    NaN           NaN   \n\n                                         Repository Tags Tags AAT URL  \\\nObject ID                                                               \n24857      Metropolitan Museum of Art, New York, NY  NaN          NaN   \n25577      Metropolitan Museum of Art, New York, NY  NaN          NaN   \n32944      Metropolitan Museum of Art, New York, NY  NaN          NaN   \n37759      Metropolitan Museum of Art, New York, NY  NaN          NaN   \n38627      Metropolitan Museum of Art, New York, NY  NaN          NaN   \n...                                             ...  ...          ...   \n555849     Metropolitan Museum of Art, New York, NY  NaN          NaN   \n557942     Metropolitan Museum of Art, New York, NY  NaN          NaN   \n569247     Metropolitan Museum of Art, New York, NY  NaN          NaN   \n571171     Metropolitan Museum of Art, New York, NY  NaN          NaN   \n571857     Metropolitan Museum of Art, New York, NY  NaN          NaN   \n\n          Tags Wikidata URL Object_name_len  \nObject ID                                    \n24857                   NaN             2.0  \n25577                   NaN             2.0  \n32944                   NaN             2.0  \n37759                   NaN             2.0  \n38627                   NaN             2.0  \n...                     ...             ...  \n555849                  NaN             2.0  \n557942                  NaN             2.0  \n569247                  NaN             2.0  \n571171                  NaN             2.0  \n571857                  NaN             2.0  \n\n[79 rows x 54 columns]",
      "text/html": "<div>\n<style scoped>\n    .dataframe tbody tr th:only-of-type {\n        vertical-align: middle;\n    }\n\n    .dataframe tbody tr th {\n        vertical-align: top;\n    }\n\n    .dataframe thead th {\n        text-align: right;\n    }\n</style>\n<table border=\"1\" class=\"dataframe\">\n  <thead>\n    <tr style=\"text-align: right;\">\n      <th></th>\n      <th>Object Number</th>\n      <th>Is Highlight</th>\n      <th>Is Timeline Work</th>\n      <th>Is Public Domain</th>\n      <th>Gallery Number</th>\n      <th>Department</th>\n      <th>AccessionYear</th>\n      <th>Object Name</th>\n      <th>Title</th>\n      <th>Culture</th>\n      <th>...</th>\n      <th>Classification</th>\n      <th>Rights and Reproduction</th>\n      <th>Link Resource</th>\n      <th>Object Wikidata URL</th>\n      <th>Metadata Date</th>\n      <th>Repository</th>\n      <th>Tags</th>\n      <th>Tags AAT URL</th>\n      <th>Tags Wikidata URL</th>\n      <th>Object_name_len</th>\n    </tr>\n    <tr>\n      <th>Object ID</th>\n      <th></th>\n      <th></th>\n      <th></th>\n      <th></th>\n      <th></th>\n      <th></th>\n      <th></th>\n      <th></th>\n      <th></th>\n      <th></th>\n      <th></th>\n      <th></th>\n      <th></th>\n      <th></th>\n      <th></th>\n      <th></th>\n      <th></th>\n      <th></th>\n      <th></th>\n      <th></th>\n      <th></th>\n    </tr>\n  </thead>\n  <tbody>\n    <tr>\n      <th>24857</th>\n      <td>69.156</td>\n      <td>False</td>\n      <td>False</td>\n      <td>True</td>\n      <td>379.0</td>\n      <td>Arms and Armor</td>\n      <td>1969.0</td>\n      <td>Ax</td>\n      <td>Ax</td>\n      <td>Syrian</td>\n      <td>...</td>\n      <td>Shafted Weapons</td>\n      <td>NaN</td>\n      <td>http://www.metmuseum.org/art/collection/search...</td>\n      <td>NaN</td>\n      <td>NaN</td>\n      <td>Metropolitan Museum of Art, New York, NY</td>\n      <td>NaN</td>\n      <td>NaN</td>\n      <td>NaN</td>\n      <td>2.0</td>\n    </tr>\n    <tr>\n      <th>25577</th>\n      <td>04.3.467</td>\n      <td>False</td>\n      <td>True</td>\n      <td>True</td>\n      <td>NaN</td>\n      <td>Arms and Armor</td>\n      <td>1904.0</td>\n      <td>Ax</td>\n      <td>Dervish Ax</td>\n      <td>Turkish</td>\n      <td>...</td>\n      <td>Shafted Weapons</td>\n      <td>NaN</td>\n      <td>http://www.metmuseum.org/art/collection/search...</td>\n      <td>NaN</td>\n      <td>NaN</td>\n      <td>Metropolitan Museum of Art, New York, NY</td>\n      <td>NaN</td>\n      <td>NaN</td>\n      <td>NaN</td>\n      <td>2.0</td>\n    </tr>\n    <tr>\n      <th>32944</th>\n      <td>23.276.2</td>\n      <td>False</td>\n      <td>False</td>\n      <td>True</td>\n      <td>370.0</td>\n      <td>Arms and Armor</td>\n      <td>1923.0</td>\n      <td>Ax</td>\n      <td>Ax of the Palstave Type</td>\n      <td>British</td>\n      <td>...</td>\n      <td>Miscellaneous</td>\n      <td>NaN</td>\n      <td>http://www.metmuseum.org/art/collection/search...</td>\n      <td>NaN</td>\n      <td>NaN</td>\n      <td>Metropolitan Museum of Art, New York, NY</td>\n      <td>NaN</td>\n      <td>NaN</td>\n      <td>NaN</td>\n      <td>2.0</td>\n    </tr>\n    <tr>\n      <th>37759</th>\n      <td>2000.284.58</td>\n      <td>False</td>\n      <td>False</td>\n      <td>True</td>\n      <td>244.0</td>\n      <td>Asian Art</td>\n      <td>2000.0</td>\n      <td>Ax</td>\n      <td>NaN</td>\n      <td>Vietnam</td>\n      <td>...</td>\n      <td>Metalwork</td>\n      <td>NaN</td>\n      <td>http://www.metmuseum.org/art/collection/search...</td>\n      <td>NaN</td>\n      <td>NaN</td>\n      <td>Metropolitan Museum of Art, New York, NY</td>\n      <td>NaN</td>\n      <td>NaN</td>\n      <td>NaN</td>\n      <td>2.0</td>\n    </tr>\n    <tr>\n      <th>38627</th>\n      <td>2000.284.61</td>\n      <td>False</td>\n      <td>False</td>\n      <td>True</td>\n      <td>244.0</td>\n      <td>Asian Art</td>\n      <td>2000.0</td>\n      <td>Ax</td>\n      <td>NaN</td>\n      <td>Indonesia</td>\n      <td>...</td>\n      <td>Sculpture</td>\n      <td>NaN</td>\n      <td>http://www.metmuseum.org/art/collection/search...</td>\n      <td>NaN</td>\n      <td>NaN</td>\n      <td>Metropolitan Museum of Art, New York, NY</td>\n      <td>NaN</td>\n      <td>NaN</td>\n      <td>NaN</td>\n      <td>2.0</td>\n    </tr>\n    <tr>\n      <th>...</th>\n      <td>...</td>\n      <td>...</td>\n      <td>...</td>\n      <td>...</td>\n      <td>...</td>\n      <td>...</td>\n      <td>...</td>\n      <td>...</td>\n      <td>...</td>\n      <td>...</td>\n      <td>...</td>\n      <td>...</td>\n      <td>...</td>\n      <td>...</td>\n      <td>...</td>\n      <td>...</td>\n      <td>...</td>\n      <td>...</td>\n      <td>...</td>\n      <td>...</td>\n      <td>...</td>\n    </tr>\n    <tr>\n      <th>555849</th>\n      <td>07.231.14</td>\n      <td>False</td>\n      <td>False</td>\n      <td>False</td>\n      <td>109.0</td>\n      <td>Egyptian Art</td>\n      <td>1907.0</td>\n      <td>Ax</td>\n      <td>Ax (?)</td>\n      <td>NaN</td>\n      <td>...</td>\n      <td>NaN</td>\n      <td>NaN</td>\n      <td>http://www.metmuseum.org/art/collection/search...</td>\n      <td>NaN</td>\n      <td>NaN</td>\n      <td>Metropolitan Museum of Art, New York, NY</td>\n      <td>NaN</td>\n      <td>NaN</td>\n      <td>NaN</td>\n      <td>2.0</td>\n    </tr>\n    <tr>\n      <th>557942</th>\n      <td>17.6.65</td>\n      <td>False</td>\n      <td>False</td>\n      <td>False</td>\n      <td>NaN</td>\n      <td>Egyptian Art</td>\n      <td>1917.0</td>\n      <td>Ax</td>\n      <td>Ax</td>\n      <td>NaN</td>\n      <td>...</td>\n      <td>NaN</td>\n      <td>NaN</td>\n      <td>http://www.metmuseum.org/art/collection/search...</td>\n      <td>NaN</td>\n      <td>NaN</td>\n      <td>Metropolitan Museum of Art, New York, NY</td>\n      <td>NaN</td>\n      <td>NaN</td>\n      <td>NaN</td>\n      <td>2.0</td>\n    </tr>\n    <tr>\n      <th>569247</th>\n      <td>26.2.65</td>\n      <td>False</td>\n      <td>False</td>\n      <td>False</td>\n      <td>NaN</td>\n      <td>Egyptian Art</td>\n      <td>1926.0</td>\n      <td>Ax</td>\n      <td>Ax</td>\n      <td>NaN</td>\n      <td>...</td>\n      <td>NaN</td>\n      <td>NaN</td>\n      <td>http://www.metmuseum.org/art/collection/search...</td>\n      <td>NaN</td>\n      <td>NaN</td>\n      <td>Metropolitan Museum of Art, New York, NY</td>\n      <td>NaN</td>\n      <td>NaN</td>\n      <td>NaN</td>\n      <td>2.0</td>\n    </tr>\n    <tr>\n      <th>571171</th>\n      <td>09.180.1413</td>\n      <td>False</td>\n      <td>False</td>\n      <td>False</td>\n      <td>NaN</td>\n      <td>Egyptian Art</td>\n      <td>1909.0</td>\n      <td>Ax</td>\n      <td>Ax</td>\n      <td>NaN</td>\n      <td>...</td>\n      <td>NaN</td>\n      <td>NaN</td>\n      <td>http://www.metmuseum.org/art/collection/search...</td>\n      <td>NaN</td>\n      <td>NaN</td>\n      <td>Metropolitan Museum of Art, New York, NY</td>\n      <td>NaN</td>\n      <td>NaN</td>\n      <td>NaN</td>\n      <td>2.0</td>\n    </tr>\n    <tr>\n      <th>571857</th>\n      <td>29.2.11</td>\n      <td>False</td>\n      <td>False</td>\n      <td>False</td>\n      <td>NaN</td>\n      <td>Egyptian Art</td>\n      <td>1929.0</td>\n      <td>Ax</td>\n      <td>Ax</td>\n      <td>NaN</td>\n      <td>...</td>\n      <td>NaN</td>\n      <td>NaN</td>\n      <td>http://www.metmuseum.org/art/collection/search...</td>\n      <td>NaN</td>\n      <td>NaN</td>\n      <td>Metropolitan Museum of Art, New York, NY</td>\n      <td>NaN</td>\n      <td>NaN</td>\n      <td>NaN</td>\n      <td>2.0</td>\n    </tr>\n  </tbody>\n</table>\n<p>79 rows × 54 columns</p>\n</div>"
     },
     "execution_count": 16,
     "metadata": {},
     "output_type": "execute_result"
    }
   ],
   "source": [
    "df.loc[df['Object Name'] == 'Ax']"
   ],
   "metadata": {
    "collapsed": false
   }
  },
  {
   "cell_type": "code",
   "execution_count": 17,
   "outputs": [
    {
     "data": {
      "text/plain": "          Object Number  Is Highlight  Is Timeline Work  Is Public Domain  \\\nObject ID                                                                   \n25066           04.3.40         False             False             False   \n25578          04.3.470         False             False             False   \n27065         14.25.464         False             False             False   \n27882           46.79.2         False             False             False   \n30784        36.25.1800         False             False             False   \n...                 ...           ...               ...               ...   \n327471       1992.149.7         False             False              True   \n329076           1982.5          True              True              True   \n332605      1989.281.45         False             False              True   \n561585         20.3.278         False             False              True   \n635754       2014.523.3         False             False             False   \n\n          Gallery Number                                 Department  \\\nObject ID                                                             \n25066                NaN                             Arms and Armor   \n25578                NaN                             Arms and Armor   \n27065                NaN                             Arms and Armor   \n27882                NaN                             Arms and Armor   \n30784                NaN                             Arms and Armor   \n...                  ...                                        ...   \n327471               NaN                   Ancient Near Eastern Art   \n329076             403.0                   Ancient Near Eastern Art   \n332605               NaN                   Ancient Near Eastern Art   \n561585             106.0                               Egyptian Art   \n635754               NaN  Arts of Africa, Oceania, and the Americas   \n\n          AccessionYear Object Name  \\\nObject ID                             \n25066            1904.0         Axe   \n25578            1904.0         Axe   \n27065            1914.0         Axe   \n27882            1946.0         Axe   \n30784            1936.0         Axe   \n...                 ...         ...   \n327471           1992.0         Axe   \n329076           1982.0         Axe   \n332605           1989.0         Axe   \n561585           1920.0         Axe   \n635754           2014.0         Axe   \n\n                                                       Title  \\\nObject ID                                                      \n25066                                                    Axe   \n25578                                                    Axe   \n27065                                                    Axe   \n27882                                                    Axe   \n30784                                                    Axe   \n...                                                      ...   \n327471                                   Axe with shaft hole   \n329076     Shaft-hole axe head with bird-headed demon, bo...   \n332605                              Fragmentary axe head (?)   \n561585                                                   Axe   \n635754                                        Ceremonial Axe   \n\n                                           Culture  ...  \\\nObject ID                                           ...   \n25066                                       German  ...   \n25578                                       German  ...   \n27065                                      Swedish  ...   \n27882                                    Norwegian  ...   \n30784                          Indian, south India  ...   \n...                                            ...  ...   \n327471     Bactria-Margiana Archaeological Complex  ...   \n329076     Bactria-Margiana Archaeological Complex  ...   \n332605     Bactria-Margiana Archaeological Complex  ...   \n561585                                         NaN  ...   \n635754                               Shona peoples  ...   \n\n                                      Classification Rights and Reproduction  \\\nObject ID                                                                      \n25066                                Shafted Weapons                     NaN   \n25578                                Shafted Weapons                     NaN   \n27065                                Shafted Weapons                     NaN   \n27882                                Shafted Weapons                     NaN   \n30784                                Shafted Weapons                     NaN   \n...                                              ...                     ...   \n327471                          Metalwork-Implements                     NaN   \n329076                          Metalwork-Implements                     NaN   \n332605                          Metalwork-Implements                     NaN   \n561585                                           NaN                     NaN   \n635754     Wood-Musical Instruments|Metal-Implements                     NaN   \n\n                                               Link Resource  \\\nObject ID                                                      \n25066      http://www.metmuseum.org/art/collection/search...   \n25578      http://www.metmuseum.org/art/collection/search...   \n27065      http://www.metmuseum.org/art/collection/search...   \n27882      http://www.metmuseum.org/art/collection/search...   \n30784      http://www.metmuseum.org/art/collection/search...   \n...                                                      ...   \n327471     http://www.metmuseum.org/art/collection/search...   \n329076     http://www.metmuseum.org/art/collection/search...   \n332605     http://www.metmuseum.org/art/collection/search...   \n561585     http://www.metmuseum.org/art/collection/search...   \n635754     http://www.metmuseum.org/art/collection/search...   \n\n                               Object Wikidata URL Metadata Date  \\\nObject ID                                                          \n25066                                          NaN           NaN   \n25578                                          NaN           NaN   \n27065                                          NaN           NaN   \n27882                                          NaN           NaN   \n30784                                          NaN           NaN   \n...                                            ...           ...   \n327471                                         NaN           NaN   \n329076     https://www.wikidata.org/wiki/Q29384562           NaN   \n332605                                         NaN           NaN   \n561585                                         NaN           NaN   \n635754                                         NaN           NaN   \n\n                                         Repository  \\\nObject ID                                             \n25066      Metropolitan Museum of Art, New York, NY   \n25578      Metropolitan Museum of Art, New York, NY   \n27065      Metropolitan Museum of Art, New York, NY   \n27882      Metropolitan Museum of Art, New York, NY   \n30784      Metropolitan Museum of Art, New York, NY   \n...                                             ...   \n327471     Metropolitan Museum of Art, New York, NY   \n329076     Metropolitan Museum of Art, New York, NY   \n332605     Metropolitan Museum of Art, New York, NY   \n561585     Metropolitan Museum of Art, New York, NY   \n635754     Metropolitan Museum of Art, New York, NY   \n\n                                 Tags  \\\nObject ID                               \n25066                             NaN   \n25578                             NaN   \n27065                             NaN   \n27882                             NaN   \n30784                             NaN   \n...                               ...   \n327471                            NaN   \n329076     Birds|Dragons|Boars|Demons   \n332605                            NaN   \n561585                            NaN   \n635754                            NaN   \n\n                                                Tags AAT URL  \\\nObject ID                                                      \n25066                                                    NaN   \n25578                                                    NaN   \n27065                                                    NaN   \n27882                                                    NaN   \n30784                                                    NaN   \n...                                                      ...   \n327471                                                   NaN   \n329076     http://vocab.getty.edu/page/aat/300266506|http...   \n332605                                                   NaN   \n561585                                                   NaN   \n635754                                                   NaN   \n\n                                           Tags Wikidata URL Object_name_len  \nObject ID                                                                     \n25066                                                    NaN             3.0  \n25578                                                    NaN             3.0  \n27065                                                    NaN             3.0  \n27882                                                    NaN             3.0  \n30784                                                    NaN             3.0  \n...                                                      ...             ...  \n327471                                                   NaN             3.0  \n329076     https://www.wikidata.org/wiki/Q5113|https://ww...             3.0  \n332605                                                   NaN             3.0  \n561585                                                   NaN             3.0  \n635754                                                   NaN             3.0  \n\n[133 rows x 54 columns]",
      "text/html": "<div>\n<style scoped>\n    .dataframe tbody tr th:only-of-type {\n        vertical-align: middle;\n    }\n\n    .dataframe tbody tr th {\n        vertical-align: top;\n    }\n\n    .dataframe thead th {\n        text-align: right;\n    }\n</style>\n<table border=\"1\" class=\"dataframe\">\n  <thead>\n    <tr style=\"text-align: right;\">\n      <th></th>\n      <th>Object Number</th>\n      <th>Is Highlight</th>\n      <th>Is Timeline Work</th>\n      <th>Is Public Domain</th>\n      <th>Gallery Number</th>\n      <th>Department</th>\n      <th>AccessionYear</th>\n      <th>Object Name</th>\n      <th>Title</th>\n      <th>Culture</th>\n      <th>...</th>\n      <th>Classification</th>\n      <th>Rights and Reproduction</th>\n      <th>Link Resource</th>\n      <th>Object Wikidata URL</th>\n      <th>Metadata Date</th>\n      <th>Repository</th>\n      <th>Tags</th>\n      <th>Tags AAT URL</th>\n      <th>Tags Wikidata URL</th>\n      <th>Object_name_len</th>\n    </tr>\n    <tr>\n      <th>Object ID</th>\n      <th></th>\n      <th></th>\n      <th></th>\n      <th></th>\n      <th></th>\n      <th></th>\n      <th></th>\n      <th></th>\n      <th></th>\n      <th></th>\n      <th></th>\n      <th></th>\n      <th></th>\n      <th></th>\n      <th></th>\n      <th></th>\n      <th></th>\n      <th></th>\n      <th></th>\n      <th></th>\n      <th></th>\n    </tr>\n  </thead>\n  <tbody>\n    <tr>\n      <th>25066</th>\n      <td>04.3.40</td>\n      <td>False</td>\n      <td>False</td>\n      <td>False</td>\n      <td>NaN</td>\n      <td>Arms and Armor</td>\n      <td>1904.0</td>\n      <td>Axe</td>\n      <td>Axe</td>\n      <td>German</td>\n      <td>...</td>\n      <td>Shafted Weapons</td>\n      <td>NaN</td>\n      <td>http://www.metmuseum.org/art/collection/search...</td>\n      <td>NaN</td>\n      <td>NaN</td>\n      <td>Metropolitan Museum of Art, New York, NY</td>\n      <td>NaN</td>\n      <td>NaN</td>\n      <td>NaN</td>\n      <td>3.0</td>\n    </tr>\n    <tr>\n      <th>25578</th>\n      <td>04.3.470</td>\n      <td>False</td>\n      <td>False</td>\n      <td>False</td>\n      <td>NaN</td>\n      <td>Arms and Armor</td>\n      <td>1904.0</td>\n      <td>Axe</td>\n      <td>Axe</td>\n      <td>German</td>\n      <td>...</td>\n      <td>Shafted Weapons</td>\n      <td>NaN</td>\n      <td>http://www.metmuseum.org/art/collection/search...</td>\n      <td>NaN</td>\n      <td>NaN</td>\n      <td>Metropolitan Museum of Art, New York, NY</td>\n      <td>NaN</td>\n      <td>NaN</td>\n      <td>NaN</td>\n      <td>3.0</td>\n    </tr>\n    <tr>\n      <th>27065</th>\n      <td>14.25.464</td>\n      <td>False</td>\n      <td>False</td>\n      <td>False</td>\n      <td>NaN</td>\n      <td>Arms and Armor</td>\n      <td>1914.0</td>\n      <td>Axe</td>\n      <td>Axe</td>\n      <td>Swedish</td>\n      <td>...</td>\n      <td>Shafted Weapons</td>\n      <td>NaN</td>\n      <td>http://www.metmuseum.org/art/collection/search...</td>\n      <td>NaN</td>\n      <td>NaN</td>\n      <td>Metropolitan Museum of Art, New York, NY</td>\n      <td>NaN</td>\n      <td>NaN</td>\n      <td>NaN</td>\n      <td>3.0</td>\n    </tr>\n    <tr>\n      <th>27882</th>\n      <td>46.79.2</td>\n      <td>False</td>\n      <td>False</td>\n      <td>False</td>\n      <td>NaN</td>\n      <td>Arms and Armor</td>\n      <td>1946.0</td>\n      <td>Axe</td>\n      <td>Axe</td>\n      <td>Norwegian</td>\n      <td>...</td>\n      <td>Shafted Weapons</td>\n      <td>NaN</td>\n      <td>http://www.metmuseum.org/art/collection/search...</td>\n      <td>NaN</td>\n      <td>NaN</td>\n      <td>Metropolitan Museum of Art, New York, NY</td>\n      <td>NaN</td>\n      <td>NaN</td>\n      <td>NaN</td>\n      <td>3.0</td>\n    </tr>\n    <tr>\n      <th>30784</th>\n      <td>36.25.1800</td>\n      <td>False</td>\n      <td>False</td>\n      <td>False</td>\n      <td>NaN</td>\n      <td>Arms and Armor</td>\n      <td>1936.0</td>\n      <td>Axe</td>\n      <td>Axe</td>\n      <td>Indian, south India</td>\n      <td>...</td>\n      <td>Shafted Weapons</td>\n      <td>NaN</td>\n      <td>http://www.metmuseum.org/art/collection/search...</td>\n      <td>NaN</td>\n      <td>NaN</td>\n      <td>Metropolitan Museum of Art, New York, NY</td>\n      <td>NaN</td>\n      <td>NaN</td>\n      <td>NaN</td>\n      <td>3.0</td>\n    </tr>\n    <tr>\n      <th>...</th>\n      <td>...</td>\n      <td>...</td>\n      <td>...</td>\n      <td>...</td>\n      <td>...</td>\n      <td>...</td>\n      <td>...</td>\n      <td>...</td>\n      <td>...</td>\n      <td>...</td>\n      <td>...</td>\n      <td>...</td>\n      <td>...</td>\n      <td>...</td>\n      <td>...</td>\n      <td>...</td>\n      <td>...</td>\n      <td>...</td>\n      <td>...</td>\n      <td>...</td>\n      <td>...</td>\n    </tr>\n    <tr>\n      <th>327471</th>\n      <td>1992.149.7</td>\n      <td>False</td>\n      <td>False</td>\n      <td>True</td>\n      <td>NaN</td>\n      <td>Ancient Near Eastern Art</td>\n      <td>1992.0</td>\n      <td>Axe</td>\n      <td>Axe with shaft hole</td>\n      <td>Bactria-Margiana Archaeological Complex</td>\n      <td>...</td>\n      <td>Metalwork-Implements</td>\n      <td>NaN</td>\n      <td>http://www.metmuseum.org/art/collection/search...</td>\n      <td>NaN</td>\n      <td>NaN</td>\n      <td>Metropolitan Museum of Art, New York, NY</td>\n      <td>NaN</td>\n      <td>NaN</td>\n      <td>NaN</td>\n      <td>3.0</td>\n    </tr>\n    <tr>\n      <th>329076</th>\n      <td>1982.5</td>\n      <td>True</td>\n      <td>True</td>\n      <td>True</td>\n      <td>403.0</td>\n      <td>Ancient Near Eastern Art</td>\n      <td>1982.0</td>\n      <td>Axe</td>\n      <td>Shaft-hole axe head with bird-headed demon, bo...</td>\n      <td>Bactria-Margiana Archaeological Complex</td>\n      <td>...</td>\n      <td>Metalwork-Implements</td>\n      <td>NaN</td>\n      <td>http://www.metmuseum.org/art/collection/search...</td>\n      <td>https://www.wikidata.org/wiki/Q29384562</td>\n      <td>NaN</td>\n      <td>Metropolitan Museum of Art, New York, NY</td>\n      <td>Birds|Dragons|Boars|Demons</td>\n      <td>http://vocab.getty.edu/page/aat/300266506|http...</td>\n      <td>https://www.wikidata.org/wiki/Q5113|https://ww...</td>\n      <td>3.0</td>\n    </tr>\n    <tr>\n      <th>332605</th>\n      <td>1989.281.45</td>\n      <td>False</td>\n      <td>False</td>\n      <td>True</td>\n      <td>NaN</td>\n      <td>Ancient Near Eastern Art</td>\n      <td>1989.0</td>\n      <td>Axe</td>\n      <td>Fragmentary axe head (?)</td>\n      <td>Bactria-Margiana Archaeological Complex</td>\n      <td>...</td>\n      <td>Metalwork-Implements</td>\n      <td>NaN</td>\n      <td>http://www.metmuseum.org/art/collection/search...</td>\n      <td>NaN</td>\n      <td>NaN</td>\n      <td>Metropolitan Museum of Art, New York, NY</td>\n      <td>NaN</td>\n      <td>NaN</td>\n      <td>NaN</td>\n      <td>3.0</td>\n    </tr>\n    <tr>\n      <th>561585</th>\n      <td>20.3.278</td>\n      <td>False</td>\n      <td>False</td>\n      <td>True</td>\n      <td>106.0</td>\n      <td>Egyptian Art</td>\n      <td>1920.0</td>\n      <td>Axe</td>\n      <td>Axe</td>\n      <td>NaN</td>\n      <td>...</td>\n      <td>NaN</td>\n      <td>NaN</td>\n      <td>http://www.metmuseum.org/art/collection/search...</td>\n      <td>NaN</td>\n      <td>NaN</td>\n      <td>Metropolitan Museum of Art, New York, NY</td>\n      <td>NaN</td>\n      <td>NaN</td>\n      <td>NaN</td>\n      <td>3.0</td>\n    </tr>\n    <tr>\n      <th>635754</th>\n      <td>2014.523.3</td>\n      <td>False</td>\n      <td>False</td>\n      <td>False</td>\n      <td>NaN</td>\n      <td>Arts of Africa, Oceania, and the Americas</td>\n      <td>2014.0</td>\n      <td>Axe</td>\n      <td>Ceremonial Axe</td>\n      <td>Shona peoples</td>\n      <td>...</td>\n      <td>Wood-Musical Instruments|Metal-Implements</td>\n      <td>NaN</td>\n      <td>http://www.metmuseum.org/art/collection/search...</td>\n      <td>NaN</td>\n      <td>NaN</td>\n      <td>Metropolitan Museum of Art, New York, NY</td>\n      <td>NaN</td>\n      <td>NaN</td>\n      <td>NaN</td>\n      <td>3.0</td>\n    </tr>\n  </tbody>\n</table>\n<p>133 rows × 54 columns</p>\n</div>"
     },
     "execution_count": 17,
     "metadata": {},
     "output_type": "execute_result"
    }
   ],
   "source": [
    "df.loc[df['Object Name'] == 'Axe']"
   ],
   "metadata": {
    "collapsed": false
   }
  },
  {
   "cell_type": "markdown",
   "source": [
    "Both of these names are indeed used for the same thing. (By checking the department \"Arms and Armor\" we can make sure, that those 2 different names, do indeed mean the same thing)\n",
    "Solving this problem might be a bit difficult, but maybe we could compare against a list of synonyms or translations"
   ],
   "metadata": {
    "collapsed": false
   }
  },
  {
   "cell_type": "code",
   "execution_count": 18,
   "outputs": [
    {
     "data": {
      "text/plain": "Object ID\n24684     Double-barreled flintlock shotgun with exchang...\n24977     Nineteen ornamental fittings from a horse harn...\n30379     Ammunition belt (Kamr) Object Cards.  S. martz...\n30958     Blade and for a hatchet (Nata) and mounting fo...\n34765     Set of Pommel (Fuchigashira), Sword grip ornam...\n35744     Top two lames from a right thigh defense (Cuis...\n545279    Pall, sheet, Wah, rather coarse, light weight,...\n545619    String of 16 spherical, 1 barrel and 1 cylindr...\n552577    Cone, round, Padiamunnebnesuttawy, chancellor,...\n553399    Scarab, Menkheperra, nsw bit, royal title, mry...\n554965    Cone, Ptahmose, circular impression, high prie...\n555025    Cone, rectangular impression, Neferhotep, scri...\n555048    Cone, circular impression, Kaemamun, prophet, ...\n555113    Cylinder seal with name of Amenemhat II and th...\n556167    Cylinder seal with cartouches of Nubkaure (Ame...\n557109    Scarab, pseudo-inscription in oval, hieroglyph...\n557815    Facsimile, Panehsy (TT 16), procession, Amun, ...\n557913    Mummy Label, Petemin, son of Petempto, son of ...\n557981    Scarab cap (no longer on ring), base plate cov...\n559843    Scarab; Maatkare, Lord of the Two Lands, Given...\nName: Object Name, dtype: object"
     },
     "execution_count": 18,
     "metadata": {},
     "output_type": "execute_result"
    }
   ],
   "source": [
    "# get 20 of the shortest Object names\n",
    "df_dedup_name.loc[df_dedup_name.Object_name_len.nlargest(20).index]['Object Name']\n",
    "# Hmm, kinda SUS"
   ],
   "metadata": {
    "collapsed": false
   }
  },
  {
   "cell_type": "markdown",
   "source": [
    "From example above we can see the longest objects names."
   ],
   "metadata": {
    "collapsed": false
   }
  },
  {
   "cell_type": "markdown",
   "source": [
    "Lets take a look at `Scarab, Menkheperra, nsw bit, royal title, mry imn, beloved of Amun, Thutmose II` and see if there is only `Scarab`"
   ],
   "metadata": {
    "collapsed": false
   }
  },
  {
   "cell_type": "code",
   "execution_count": 19,
   "outputs": [
    {
     "data": {
      "text/plain": "          Object Number  Is Highlight  Is Timeline Work  Is Public Domain  \\\nObject ID                                                                   \n243605       74.51.4193         False             False              True   \n243606       74.51.4194         False             False              True   \n244873           81.6.2         False             False             False   \n244875           81.6.4         False             False              True   \n244876           81.6.5         False             False             False   \n...                 ...           ...               ...               ...   \n575445         23.3.183         False             False              True   \n575446         23.3.187         False             False              True   \n575485         23.3.260         False             False              True   \n575486         23.3.275         False             False              True   \n575487         23.3.283         False             False              True   \n\n          Gallery Number           Department AccessionYear Object Name  \\\nObject ID                                                                 \n243605             171.0  Greek and Roman Art        1874.0      Scarab   \n243606             171.0  Greek and Roman Art        1874.0      Scarab   \n244873               NaN  Greek and Roman Art        1881.0      Scarab   \n244875             170.0  Greek and Roman Art        1881.0      Scarab   \n244876               NaN  Greek and Roman Art        1881.0      Scarab   \n...                  ...                  ...           ...         ...   \n575445             117.0         Egyptian Art        1923.0      Scarab   \n575446             117.0         Egyptian Art        1923.0      Scarab   \n575485             117.0         Egyptian Art        1923.0      Scarab   \n575486             117.0         Egyptian Art        1923.0      Scarab   \n575487             117.0         Egyptian Art        1923.0      Scarab   \n\n                         Title            Culture  ...        Classification  \\\nObject ID                                          ...                         \n243605            Agate scarab              Greek  ...                  Gems   \n243606                  Scarab            Cypriot  ...  Gems|Gold and Silver   \n244873                  Scarab              Roman  ...                  Gems   \n244875     Banded agate scarab           Etruscan  ...                  Gems   \n244876                  Scarab  Greek or Etruscan  ...                  Gems   \n...                        ...                ...  ...                   ...   \n575445                  Scarab                NaN  ...                   NaN   \n575446                  Scarab                NaN  ...                   NaN   \n575485                  Scarab                NaN  ...                   NaN   \n575486                  Scarab                NaN  ...                   NaN   \n575487                  Scarab                NaN  ...                   NaN   \n\n          Rights and Reproduction  \\\nObject ID                           \n243605                        NaN   \n243606                        NaN   \n244873                        NaN   \n244875                        NaN   \n244876                        NaN   \n...                           ...   \n575445                        NaN   \n575446                        NaN   \n575485                        NaN   \n575486                        NaN   \n575487                        NaN   \n\n                                               Link Resource  \\\nObject ID                                                      \n243605     http://www.metmuseum.org/art/collection/search...   \n243606     http://www.metmuseum.org/art/collection/search...   \n244873     http://www.metmuseum.org/art/collection/search...   \n244875     http://www.metmuseum.org/art/collection/search...   \n244876     http://www.metmuseum.org/art/collection/search...   \n...                                                      ...   \n575445     http://www.metmuseum.org/art/collection/search...   \n575446     http://www.metmuseum.org/art/collection/search...   \n575485     http://www.metmuseum.org/art/collection/search...   \n575486     http://www.metmuseum.org/art/collection/search...   \n575487     http://www.metmuseum.org/art/collection/search...   \n\n          Object Wikidata URL Metadata Date  \\\nObject ID                                     \n243605                    NaN           NaN   \n243606                    NaN           NaN   \n244873                    NaN           NaN   \n244875                    NaN           NaN   \n244876                    NaN           NaN   \n...                       ...           ...   \n575445                    NaN           NaN   \n575446                    NaN           NaN   \n575485                    NaN           NaN   \n575486                    NaN           NaN   \n575487                    NaN           NaN   \n\n                                         Repository                 Tags  \\\nObject ID                                                                  \n243605     Metropolitan Museum of Art, New York, NY         Cows|Scarabs   \n243606     Metropolitan Museum of Art, New York, NY   Mythical Creatures   \n244873     Metropolitan Museum of Art, New York, NY                  NaN   \n244875     Metropolitan Museum of Art, New York, NY              Scarabs   \n244876     Metropolitan Museum of Art, New York, NY                  NaN   \n...                                             ...                  ...   \n575445     Metropolitan Museum of Art, New York, NY              Scarabs   \n575446     Metropolitan Museum of Art, New York, NY              Scarabs   \n575485     Metropolitan Museum of Art, New York, NY              Scarabs   \n575486     Metropolitan Museum of Art, New York, NY  Hieroglyphs|Scarabs   \n575487     Metropolitan Museum of Art, New York, NY              Scarabs   \n\n                                                Tags AAT URL  \\\nObject ID                                                      \n243605     http://vocab.getty.edu/page/aat/300250120|http...   \n243606             http://vocab.getty.edu/page/aat/300375725   \n244873                                                   NaN   \n244875             http://vocab.getty.edu/page/aat/300230813   \n244876                                                   NaN   \n...                                                      ...   \n575445             http://vocab.getty.edu/page/aat/300230813   \n575446             http://vocab.getty.edu/page/aat/300230813   \n575485             http://vocab.getty.edu/page/aat/300230813   \n575486     http://vocab.getty.edu/page/aat/300028721|http...   \n575487             http://vocab.getty.edu/page/aat/300230813   \n\n                                           Tags Wikidata URL Object_name_len  \nObject ID                                                                     \n243605     https://www.wikidata.org/wiki/Q830|https://www...             6.0  \n243606                https://www.wikidata.org/wiki/Q2239243             6.0  \n244873                                                   NaN             6.0  \n244875                https://www.wikidata.org/wiki/Q2442735             6.0  \n244876                                                   NaN             6.0  \n...                                                      ...             ...  \n575445                https://www.wikidata.org/wiki/Q2442735             6.0  \n575446                https://www.wikidata.org/wiki/Q2442735             6.0  \n575485                https://www.wikidata.org/wiki/Q2442735             6.0  \n575486     https://www.wikidata.org/wiki/Q193762|https://...             6.0  \n575487                https://www.wikidata.org/wiki/Q2442735             6.0  \n\n[1130 rows x 54 columns]",
      "text/html": "<div>\n<style scoped>\n    .dataframe tbody tr th:only-of-type {\n        vertical-align: middle;\n    }\n\n    .dataframe tbody tr th {\n        vertical-align: top;\n    }\n\n    .dataframe thead th {\n        text-align: right;\n    }\n</style>\n<table border=\"1\" class=\"dataframe\">\n  <thead>\n    <tr style=\"text-align: right;\">\n      <th></th>\n      <th>Object Number</th>\n      <th>Is Highlight</th>\n      <th>Is Timeline Work</th>\n      <th>Is Public Domain</th>\n      <th>Gallery Number</th>\n      <th>Department</th>\n      <th>AccessionYear</th>\n      <th>Object Name</th>\n      <th>Title</th>\n      <th>Culture</th>\n      <th>...</th>\n      <th>Classification</th>\n      <th>Rights and Reproduction</th>\n      <th>Link Resource</th>\n      <th>Object Wikidata URL</th>\n      <th>Metadata Date</th>\n      <th>Repository</th>\n      <th>Tags</th>\n      <th>Tags AAT URL</th>\n      <th>Tags Wikidata URL</th>\n      <th>Object_name_len</th>\n    </tr>\n    <tr>\n      <th>Object ID</th>\n      <th></th>\n      <th></th>\n      <th></th>\n      <th></th>\n      <th></th>\n      <th></th>\n      <th></th>\n      <th></th>\n      <th></th>\n      <th></th>\n      <th></th>\n      <th></th>\n      <th></th>\n      <th></th>\n      <th></th>\n      <th></th>\n      <th></th>\n      <th></th>\n      <th></th>\n      <th></th>\n      <th></th>\n    </tr>\n  </thead>\n  <tbody>\n    <tr>\n      <th>243605</th>\n      <td>74.51.4193</td>\n      <td>False</td>\n      <td>False</td>\n      <td>True</td>\n      <td>171.0</td>\n      <td>Greek and Roman Art</td>\n      <td>1874.0</td>\n      <td>Scarab</td>\n      <td>Agate scarab</td>\n      <td>Greek</td>\n      <td>...</td>\n      <td>Gems</td>\n      <td>NaN</td>\n      <td>http://www.metmuseum.org/art/collection/search...</td>\n      <td>NaN</td>\n      <td>NaN</td>\n      <td>Metropolitan Museum of Art, New York, NY</td>\n      <td>Cows|Scarabs</td>\n      <td>http://vocab.getty.edu/page/aat/300250120|http...</td>\n      <td>https://www.wikidata.org/wiki/Q830|https://www...</td>\n      <td>6.0</td>\n    </tr>\n    <tr>\n      <th>243606</th>\n      <td>74.51.4194</td>\n      <td>False</td>\n      <td>False</td>\n      <td>True</td>\n      <td>171.0</td>\n      <td>Greek and Roman Art</td>\n      <td>1874.0</td>\n      <td>Scarab</td>\n      <td>Scarab</td>\n      <td>Cypriot</td>\n      <td>...</td>\n      <td>Gems|Gold and Silver</td>\n      <td>NaN</td>\n      <td>http://www.metmuseum.org/art/collection/search...</td>\n      <td>NaN</td>\n      <td>NaN</td>\n      <td>Metropolitan Museum of Art, New York, NY</td>\n      <td>Mythical Creatures</td>\n      <td>http://vocab.getty.edu/page/aat/300375725</td>\n      <td>https://www.wikidata.org/wiki/Q2239243</td>\n      <td>6.0</td>\n    </tr>\n    <tr>\n      <th>244873</th>\n      <td>81.6.2</td>\n      <td>False</td>\n      <td>False</td>\n      <td>False</td>\n      <td>NaN</td>\n      <td>Greek and Roman Art</td>\n      <td>1881.0</td>\n      <td>Scarab</td>\n      <td>Scarab</td>\n      <td>Roman</td>\n      <td>...</td>\n      <td>Gems</td>\n      <td>NaN</td>\n      <td>http://www.metmuseum.org/art/collection/search...</td>\n      <td>NaN</td>\n      <td>NaN</td>\n      <td>Metropolitan Museum of Art, New York, NY</td>\n      <td>NaN</td>\n      <td>NaN</td>\n      <td>NaN</td>\n      <td>6.0</td>\n    </tr>\n    <tr>\n      <th>244875</th>\n      <td>81.6.4</td>\n      <td>False</td>\n      <td>False</td>\n      <td>True</td>\n      <td>170.0</td>\n      <td>Greek and Roman Art</td>\n      <td>1881.0</td>\n      <td>Scarab</td>\n      <td>Banded agate scarab</td>\n      <td>Etruscan</td>\n      <td>...</td>\n      <td>Gems</td>\n      <td>NaN</td>\n      <td>http://www.metmuseum.org/art/collection/search...</td>\n      <td>NaN</td>\n      <td>NaN</td>\n      <td>Metropolitan Museum of Art, New York, NY</td>\n      <td>Scarabs</td>\n      <td>http://vocab.getty.edu/page/aat/300230813</td>\n      <td>https://www.wikidata.org/wiki/Q2442735</td>\n      <td>6.0</td>\n    </tr>\n    <tr>\n      <th>244876</th>\n      <td>81.6.5</td>\n      <td>False</td>\n      <td>False</td>\n      <td>False</td>\n      <td>NaN</td>\n      <td>Greek and Roman Art</td>\n      <td>1881.0</td>\n      <td>Scarab</td>\n      <td>Scarab</td>\n      <td>Greek or Etruscan</td>\n      <td>...</td>\n      <td>Gems</td>\n      <td>NaN</td>\n      <td>http://www.metmuseum.org/art/collection/search...</td>\n      <td>NaN</td>\n      <td>NaN</td>\n      <td>Metropolitan Museum of Art, New York, NY</td>\n      <td>NaN</td>\n      <td>NaN</td>\n      <td>NaN</td>\n      <td>6.0</td>\n    </tr>\n    <tr>\n      <th>...</th>\n      <td>...</td>\n      <td>...</td>\n      <td>...</td>\n      <td>...</td>\n      <td>...</td>\n      <td>...</td>\n      <td>...</td>\n      <td>...</td>\n      <td>...</td>\n      <td>...</td>\n      <td>...</td>\n      <td>...</td>\n      <td>...</td>\n      <td>...</td>\n      <td>...</td>\n      <td>...</td>\n      <td>...</td>\n      <td>...</td>\n      <td>...</td>\n      <td>...</td>\n      <td>...</td>\n    </tr>\n    <tr>\n      <th>575445</th>\n      <td>23.3.183</td>\n      <td>False</td>\n      <td>False</td>\n      <td>True</td>\n      <td>117.0</td>\n      <td>Egyptian Art</td>\n      <td>1923.0</td>\n      <td>Scarab</td>\n      <td>Scarab</td>\n      <td>NaN</td>\n      <td>...</td>\n      <td>NaN</td>\n      <td>NaN</td>\n      <td>http://www.metmuseum.org/art/collection/search...</td>\n      <td>NaN</td>\n      <td>NaN</td>\n      <td>Metropolitan Museum of Art, New York, NY</td>\n      <td>Scarabs</td>\n      <td>http://vocab.getty.edu/page/aat/300230813</td>\n      <td>https://www.wikidata.org/wiki/Q2442735</td>\n      <td>6.0</td>\n    </tr>\n    <tr>\n      <th>575446</th>\n      <td>23.3.187</td>\n      <td>False</td>\n      <td>False</td>\n      <td>True</td>\n      <td>117.0</td>\n      <td>Egyptian Art</td>\n      <td>1923.0</td>\n      <td>Scarab</td>\n      <td>Scarab</td>\n      <td>NaN</td>\n      <td>...</td>\n      <td>NaN</td>\n      <td>NaN</td>\n      <td>http://www.metmuseum.org/art/collection/search...</td>\n      <td>NaN</td>\n      <td>NaN</td>\n      <td>Metropolitan Museum of Art, New York, NY</td>\n      <td>Scarabs</td>\n      <td>http://vocab.getty.edu/page/aat/300230813</td>\n      <td>https://www.wikidata.org/wiki/Q2442735</td>\n      <td>6.0</td>\n    </tr>\n    <tr>\n      <th>575485</th>\n      <td>23.3.260</td>\n      <td>False</td>\n      <td>False</td>\n      <td>True</td>\n      <td>117.0</td>\n      <td>Egyptian Art</td>\n      <td>1923.0</td>\n      <td>Scarab</td>\n      <td>Scarab</td>\n      <td>NaN</td>\n      <td>...</td>\n      <td>NaN</td>\n      <td>NaN</td>\n      <td>http://www.metmuseum.org/art/collection/search...</td>\n      <td>NaN</td>\n      <td>NaN</td>\n      <td>Metropolitan Museum of Art, New York, NY</td>\n      <td>Scarabs</td>\n      <td>http://vocab.getty.edu/page/aat/300230813</td>\n      <td>https://www.wikidata.org/wiki/Q2442735</td>\n      <td>6.0</td>\n    </tr>\n    <tr>\n      <th>575486</th>\n      <td>23.3.275</td>\n      <td>False</td>\n      <td>False</td>\n      <td>True</td>\n      <td>117.0</td>\n      <td>Egyptian Art</td>\n      <td>1923.0</td>\n      <td>Scarab</td>\n      <td>Scarab</td>\n      <td>NaN</td>\n      <td>...</td>\n      <td>NaN</td>\n      <td>NaN</td>\n      <td>http://www.metmuseum.org/art/collection/search...</td>\n      <td>NaN</td>\n      <td>NaN</td>\n      <td>Metropolitan Museum of Art, New York, NY</td>\n      <td>Hieroglyphs|Scarabs</td>\n      <td>http://vocab.getty.edu/page/aat/300028721|http...</td>\n      <td>https://www.wikidata.org/wiki/Q193762|https://...</td>\n      <td>6.0</td>\n    </tr>\n    <tr>\n      <th>575487</th>\n      <td>23.3.283</td>\n      <td>False</td>\n      <td>False</td>\n      <td>True</td>\n      <td>117.0</td>\n      <td>Egyptian Art</td>\n      <td>1923.0</td>\n      <td>Scarab</td>\n      <td>Scarab</td>\n      <td>NaN</td>\n      <td>...</td>\n      <td>NaN</td>\n      <td>NaN</td>\n      <td>http://www.metmuseum.org/art/collection/search...</td>\n      <td>NaN</td>\n      <td>NaN</td>\n      <td>Metropolitan Museum of Art, New York, NY</td>\n      <td>Scarabs</td>\n      <td>http://vocab.getty.edu/page/aat/300230813</td>\n      <td>https://www.wikidata.org/wiki/Q2442735</td>\n      <td>6.0</td>\n    </tr>\n  </tbody>\n</table>\n<p>1130 rows × 54 columns</p>\n</div>"
     },
     "execution_count": 19,
     "metadata": {},
     "output_type": "execute_result"
    }
   ],
   "source": [
    "df.loc[df['Object Name'] == 'Scarab']"
   ],
   "metadata": {
    "collapsed": false
   }
  },
  {
   "cell_type": "markdown",
   "source": [
    "Aha, there is also only `Scarab`, therefore another consistency problem.\n",
    "To remove this kind of incostistency problem we could use `.apply(lambda x: x.split(',')[0])`, same thing should be checked and done for other special characters (`|`, `.`, `/`, ... )"
   ],
   "metadata": {
    "collapsed": false
   }
  },
  {
   "cell_type": "markdown",
   "source": [
    "Check for unprintable characters (only LF newline in this case)"
   ],
   "metadata": {
    "collapsed": false
   }
  },
  {
   "cell_type": "code",
   "execution_count": 20,
   "outputs": [
    {
     "data": {
      "text/plain": "          Object Number  Is Highlight  Is Timeline Work  Is Public Domain  \\\nObject ID                                                                   \n3580             16.177         False             False              True   \n3658       1971.180.65b         False             False             False   \n5612         1975.400.3         False             False              True   \n12890          46.67.84         False             False              True   \n19200           2007.43         False             False              True   \n...                 ...           ...               ...               ...   \n788902        21.91.243         False             False              True   \n788903        21.91.244         False             False              True   \n820446     26.50.1(146)         False             False             False   \n822562         28.99.29         False             False              True   \n845522     2020.373a, b         False             False              True   \n\n          Gallery Number           Department AccessionYear  \\\nObject ID                                                     \n3580                 751    The American Wing        1916.0   \n3658                 741    The American Wing        1971.0   \n5612                 704    The American Wing        1975.0   \n12890                730    The American Wing        1946.0   \n19200                NaN    The American Wing        2007.0   \n...                  ...                  ...           ...   \n788902               NaN  Drawings and Prints        1921.0   \n788903               NaN  Drawings and Prints        1921.0   \n820446               NaN  Drawings and Prints        1926.0   \n822562               NaN       Arms and Armor        1928.0   \n845522               NaN          Islamic Art        2020.0   \n\n                                                 Object Name  \\\nObject ID                                                      \n3580       Exterior Doorway from One West Broad Street,\\r...   \n3658                                          Fire Tongs\\r\\n   \n5612                                               Plate\\r\\n   \n12890      Painting\\r\\nFrigate Presiden\\r\\nFrigate Presid...   \n19200        Panel\\r\\n\\r\\n\\r\\n\\r\\n\\r\\n\\r\\n\\r\\n\\r\\n\\r\\nWindow   \n...                                                      ...   \n788902                                             Print\\r\\n   \n788903                                             Print\\r\\n   \n820446                                     Drawing \\r\\nPrint   \n822562                                      Crossbow nut\\r\\n   \n845522                            Mirror case with pouch\\r\\n   \n\n                                                       Title  \\\nObject ID                                                      \n3580       Exterior Doorway from One West Broad Street, S...   \n3658                                              Fire Tongs   \n5612                                                   Plate   \n12890      Fight Between the U.S. Frigate President and H...   \n19200                                                 Spring   \n...                                                      ...   \n788902                                  Chinoiserie Ornament   \n788903                                  Chinoiserie Ornament   \n820446                       Five dancing or fighting cupids   \n822562                                          Crossbow Nut   \n845522     Mirror Case Depicting the Meeting of Nasir al-...   \n\n                                    Culture  ...  \\\nObject ID                                    ...   \n3580                               American  ...   \n3658                                    NaN  ...   \n5612                               American  ...   \n12890                              American  ...   \n19200                              American  ...   \n...                                     ...  ...   \n788902                                  NaN  ...   \n788903                                  NaN  ...   \n820446                                  NaN  ...   \n822562     Western European or Near Eastern  ...   \n845522                                  NaN  ...   \n\n                           Classification Rights and Reproduction  \\\nObject ID                                                           \n3580                                  NaN                     NaN   \n3658                                  NaN                     NaN   \n5612                                  NaN                     NaN   \n12890                                 NaN                     NaN   \n19200                                 NaN                     NaN   \n...                                   ...                     ...   \n788902     Prints|Ornament & Architecture                     NaN   \n788903     Prints|Ornament & Architecture                     NaN   \n820446                             Prints                     NaN   \n822562                  Archery Equipment                     NaN   \n845522                            Lacquer                     NaN   \n\n                                               Link Resource  \\\nObject ID                                                      \n3580       http://www.metmuseum.org/art/collection/search...   \n3658       http://www.metmuseum.org/art/collection/search...   \n5612       http://www.metmuseum.org/art/collection/search...   \n12890      http://www.metmuseum.org/art/collection/search...   \n19200      http://www.metmuseum.org/art/collection/search...   \n...                                                      ...   \n788902     http://www.metmuseum.org/art/collection/search...   \n788903     http://www.metmuseum.org/art/collection/search...   \n820446     http://www.metmuseum.org/art/collection/search...   \n822562     http://www.metmuseum.org/art/collection/search...   \n845522     http://www.metmuseum.org/art/collection/search...   \n\n                               Object Wikidata URL Metadata Date  \\\nObject ID                                                          \n3580                                           NaN           NaN   \n3658                                           NaN           NaN   \n5612                                           NaN           NaN   \n12890      https://www.wikidata.org/wiki/Q19924726           NaN   \n19200                                          NaN           NaN   \n...                                            ...           ...   \n788902                                         NaN           NaN   \n788903                                         NaN           NaN   \n820446                                         NaN           NaN   \n822562                                         NaN           NaN   \n845522                                         NaN           NaN   \n\n                                         Repository  \\\nObject ID                                             \n3580       Metropolitan Museum of Art, New York, NY   \n3658       Metropolitan Museum of Art, New York, NY   \n5612       Metropolitan Museum of Art, New York, NY   \n12890      Metropolitan Museum of Art, New York, NY   \n19200      Metropolitan Museum of Art, New York, NY   \n...                                             ...   \n788902     Metropolitan Museum of Art, New York, NY   \n788903     Metropolitan Museum of Art, New York, NY   \n820446     Metropolitan Museum of Art, New York, NY   \n822562     Metropolitan Museum of Art, New York, NY   \n845522     Metropolitan Museum of Art, New York, NY   \n\n                                        Tags  \\\nObject ID                                      \n3580                                     NaN   \n3658                                     NaN   \n5612                                     NaN   \n12890                                  Ships   \n19200      Women|Lambs|Flowers|Leaves|Spring   \n...                                      ...   \n788902              Ornament|Men|Chinoiserie   \n788903        Boys|Playing Cards|Chinoiserie   \n820446                                   NaN   \n822562                                   NaN   \n845522                                   NaN   \n\n                                                Tags AAT URL  \\\nObject ID                                                      \n3580                                                     NaN   \n3658                                                     NaN   \n5612                                                     NaN   \n12890              http://vocab.getty.edu/page/aat/300082981   \n19200      http://vocab.getty.edu/page/aat/300025943|http...   \n...                                                      ...   \n788902     http://vocab.getty.edu/page/aat/300164595|http...   \n788903     http://vocab.getty.edu/page/aat/300247598|http...   \n820446                                                   NaN   \n822562                                                   NaN   \n845522                                                   NaN   \n\n                                           Tags Wikidata URL Object_name_len  \nObject ID                                                                     \n3580                                                     NaN            63.0  \n3658                                                     NaN            12.0  \n5612                                                     NaN             7.0  \n12890                   https://www.wikidata.org/wiki/Q11446            66.0  \n19200      https://www.wikidata.org/wiki/Q467|https://www...            29.0  \n...                                                      ...             ...  \n788902     https://www.wikidata.org/wiki/Q335261|https://...             7.0  \n788903     https://www.wikidata.org/wiki/Q3010|https://ww...             7.0  \n820446                                                   NaN            15.0  \n822562                                                   NaN            14.0  \n845522                                                   NaN            24.0  \n\n[1036 rows x 54 columns]",
      "text/html": "<div>\n<style scoped>\n    .dataframe tbody tr th:only-of-type {\n        vertical-align: middle;\n    }\n\n    .dataframe tbody tr th {\n        vertical-align: top;\n    }\n\n    .dataframe thead th {\n        text-align: right;\n    }\n</style>\n<table border=\"1\" class=\"dataframe\">\n  <thead>\n    <tr style=\"text-align: right;\">\n      <th></th>\n      <th>Object Number</th>\n      <th>Is Highlight</th>\n      <th>Is Timeline Work</th>\n      <th>Is Public Domain</th>\n      <th>Gallery Number</th>\n      <th>Department</th>\n      <th>AccessionYear</th>\n      <th>Object Name</th>\n      <th>Title</th>\n      <th>Culture</th>\n      <th>...</th>\n      <th>Classification</th>\n      <th>Rights and Reproduction</th>\n      <th>Link Resource</th>\n      <th>Object Wikidata URL</th>\n      <th>Metadata Date</th>\n      <th>Repository</th>\n      <th>Tags</th>\n      <th>Tags AAT URL</th>\n      <th>Tags Wikidata URL</th>\n      <th>Object_name_len</th>\n    </tr>\n    <tr>\n      <th>Object ID</th>\n      <th></th>\n      <th></th>\n      <th></th>\n      <th></th>\n      <th></th>\n      <th></th>\n      <th></th>\n      <th></th>\n      <th></th>\n      <th></th>\n      <th></th>\n      <th></th>\n      <th></th>\n      <th></th>\n      <th></th>\n      <th></th>\n      <th></th>\n      <th></th>\n      <th></th>\n      <th></th>\n      <th></th>\n    </tr>\n  </thead>\n  <tbody>\n    <tr>\n      <th>3580</th>\n      <td>16.177</td>\n      <td>False</td>\n      <td>False</td>\n      <td>True</td>\n      <td>751</td>\n      <td>The American Wing</td>\n      <td>1916.0</td>\n      <td>Exterior Doorway from One West Broad Street,\\r...</td>\n      <td>Exterior Doorway from One West Broad Street, S...</td>\n      <td>American</td>\n      <td>...</td>\n      <td>NaN</td>\n      <td>NaN</td>\n      <td>http://www.metmuseum.org/art/collection/search...</td>\n      <td>NaN</td>\n      <td>NaN</td>\n      <td>Metropolitan Museum of Art, New York, NY</td>\n      <td>NaN</td>\n      <td>NaN</td>\n      <td>NaN</td>\n      <td>63.0</td>\n    </tr>\n    <tr>\n      <th>3658</th>\n      <td>1971.180.65b</td>\n      <td>False</td>\n      <td>False</td>\n      <td>False</td>\n      <td>741</td>\n      <td>The American Wing</td>\n      <td>1971.0</td>\n      <td>Fire Tongs\\r\\n</td>\n      <td>Fire Tongs</td>\n      <td>NaN</td>\n      <td>...</td>\n      <td>NaN</td>\n      <td>NaN</td>\n      <td>http://www.metmuseum.org/art/collection/search...</td>\n      <td>NaN</td>\n      <td>NaN</td>\n      <td>Metropolitan Museum of Art, New York, NY</td>\n      <td>NaN</td>\n      <td>NaN</td>\n      <td>NaN</td>\n      <td>12.0</td>\n    </tr>\n    <tr>\n      <th>5612</th>\n      <td>1975.400.3</td>\n      <td>False</td>\n      <td>False</td>\n      <td>True</td>\n      <td>704</td>\n      <td>The American Wing</td>\n      <td>1975.0</td>\n      <td>Plate\\r\\n</td>\n      <td>Plate</td>\n      <td>American</td>\n      <td>...</td>\n      <td>NaN</td>\n      <td>NaN</td>\n      <td>http://www.metmuseum.org/art/collection/search...</td>\n      <td>NaN</td>\n      <td>NaN</td>\n      <td>Metropolitan Museum of Art, New York, NY</td>\n      <td>NaN</td>\n      <td>NaN</td>\n      <td>NaN</td>\n      <td>7.0</td>\n    </tr>\n    <tr>\n      <th>12890</th>\n      <td>46.67.84</td>\n      <td>False</td>\n      <td>False</td>\n      <td>True</td>\n      <td>730</td>\n      <td>The American Wing</td>\n      <td>1946.0</td>\n      <td>Painting\\r\\nFrigate Presiden\\r\\nFrigate Presid...</td>\n      <td>Fight Between the U.S. Frigate President and H...</td>\n      <td>American</td>\n      <td>...</td>\n      <td>NaN</td>\n      <td>NaN</td>\n      <td>http://www.metmuseum.org/art/collection/search...</td>\n      <td>https://www.wikidata.org/wiki/Q19924726</td>\n      <td>NaN</td>\n      <td>Metropolitan Museum of Art, New York, NY</td>\n      <td>Ships</td>\n      <td>http://vocab.getty.edu/page/aat/300082981</td>\n      <td>https://www.wikidata.org/wiki/Q11446</td>\n      <td>66.0</td>\n    </tr>\n    <tr>\n      <th>19200</th>\n      <td>2007.43</td>\n      <td>False</td>\n      <td>False</td>\n      <td>True</td>\n      <td>NaN</td>\n      <td>The American Wing</td>\n      <td>2007.0</td>\n      <td>Panel\\r\\n\\r\\n\\r\\n\\r\\n\\r\\n\\r\\n\\r\\n\\r\\n\\r\\nWindow</td>\n      <td>Spring</td>\n      <td>American</td>\n      <td>...</td>\n      <td>NaN</td>\n      <td>NaN</td>\n      <td>http://www.metmuseum.org/art/collection/search...</td>\n      <td>NaN</td>\n      <td>NaN</td>\n      <td>Metropolitan Museum of Art, New York, NY</td>\n      <td>Women|Lambs|Flowers|Leaves|Spring</td>\n      <td>http://vocab.getty.edu/page/aat/300025943|http...</td>\n      <td>https://www.wikidata.org/wiki/Q467|https://www...</td>\n      <td>29.0</td>\n    </tr>\n    <tr>\n      <th>...</th>\n      <td>...</td>\n      <td>...</td>\n      <td>...</td>\n      <td>...</td>\n      <td>...</td>\n      <td>...</td>\n      <td>...</td>\n      <td>...</td>\n      <td>...</td>\n      <td>...</td>\n      <td>...</td>\n      <td>...</td>\n      <td>...</td>\n      <td>...</td>\n      <td>...</td>\n      <td>...</td>\n      <td>...</td>\n      <td>...</td>\n      <td>...</td>\n      <td>...</td>\n      <td>...</td>\n    </tr>\n    <tr>\n      <th>788902</th>\n      <td>21.91.243</td>\n      <td>False</td>\n      <td>False</td>\n      <td>True</td>\n      <td>NaN</td>\n      <td>Drawings and Prints</td>\n      <td>1921.0</td>\n      <td>Print\\r\\n</td>\n      <td>Chinoiserie Ornament</td>\n      <td>NaN</td>\n      <td>...</td>\n      <td>Prints|Ornament &amp; Architecture</td>\n      <td>NaN</td>\n      <td>http://www.metmuseum.org/art/collection/search...</td>\n      <td>NaN</td>\n      <td>NaN</td>\n      <td>Metropolitan Museum of Art, New York, NY</td>\n      <td>Ornament|Men|Chinoiserie</td>\n      <td>http://vocab.getty.edu/page/aat/300164595|http...</td>\n      <td>https://www.wikidata.org/wiki/Q335261|https://...</td>\n      <td>7.0</td>\n    </tr>\n    <tr>\n      <th>788903</th>\n      <td>21.91.244</td>\n      <td>False</td>\n      <td>False</td>\n      <td>True</td>\n      <td>NaN</td>\n      <td>Drawings and Prints</td>\n      <td>1921.0</td>\n      <td>Print\\r\\n</td>\n      <td>Chinoiserie Ornament</td>\n      <td>NaN</td>\n      <td>...</td>\n      <td>Prints|Ornament &amp; Architecture</td>\n      <td>NaN</td>\n      <td>http://www.metmuseum.org/art/collection/search...</td>\n      <td>NaN</td>\n      <td>NaN</td>\n      <td>Metropolitan Museum of Art, New York, NY</td>\n      <td>Boys|Playing Cards|Chinoiserie</td>\n      <td>http://vocab.getty.edu/page/aat/300247598|http...</td>\n      <td>https://www.wikidata.org/wiki/Q3010|https://ww...</td>\n      <td>7.0</td>\n    </tr>\n    <tr>\n      <th>820446</th>\n      <td>26.50.1(146)</td>\n      <td>False</td>\n      <td>False</td>\n      <td>False</td>\n      <td>NaN</td>\n      <td>Drawings and Prints</td>\n      <td>1926.0</td>\n      <td>Drawing \\r\\nPrint</td>\n      <td>Five dancing or fighting cupids</td>\n      <td>NaN</td>\n      <td>...</td>\n      <td>Prints</td>\n      <td>NaN</td>\n      <td>http://www.metmuseum.org/art/collection/search...</td>\n      <td>NaN</td>\n      <td>NaN</td>\n      <td>Metropolitan Museum of Art, New York, NY</td>\n      <td>NaN</td>\n      <td>NaN</td>\n      <td>NaN</td>\n      <td>15.0</td>\n    </tr>\n    <tr>\n      <th>822562</th>\n      <td>28.99.29</td>\n      <td>False</td>\n      <td>False</td>\n      <td>True</td>\n      <td>NaN</td>\n      <td>Arms and Armor</td>\n      <td>1928.0</td>\n      <td>Crossbow nut\\r\\n</td>\n      <td>Crossbow Nut</td>\n      <td>Western European or Near Eastern</td>\n      <td>...</td>\n      <td>Archery Equipment</td>\n      <td>NaN</td>\n      <td>http://www.metmuseum.org/art/collection/search...</td>\n      <td>NaN</td>\n      <td>NaN</td>\n      <td>Metropolitan Museum of Art, New York, NY</td>\n      <td>NaN</td>\n      <td>NaN</td>\n      <td>NaN</td>\n      <td>14.0</td>\n    </tr>\n    <tr>\n      <th>845522</th>\n      <td>2020.373a, b</td>\n      <td>False</td>\n      <td>False</td>\n      <td>True</td>\n      <td>NaN</td>\n      <td>Islamic Art</td>\n      <td>2020.0</td>\n      <td>Mirror case with pouch\\r\\n</td>\n      <td>Mirror Case Depicting the Meeting of Nasir al-...</td>\n      <td>NaN</td>\n      <td>...</td>\n      <td>Lacquer</td>\n      <td>NaN</td>\n      <td>http://www.metmuseum.org/art/collection/search...</td>\n      <td>NaN</td>\n      <td>NaN</td>\n      <td>Metropolitan Museum of Art, New York, NY</td>\n      <td>NaN</td>\n      <td>NaN</td>\n      <td>NaN</td>\n      <td>24.0</td>\n    </tr>\n  </tbody>\n</table>\n<p>1036 rows × 54 columns</p>\n</div>"
     },
     "execution_count": 20,
     "metadata": {},
     "output_type": "execute_result"
    }
   ],
   "source": [
    "from string import printable\n",
    "# df.loc[str(df['Object Name']).isalnum()]\n",
    "# df.loc[df['Object Name'].apply(lambda x: not str(x).isalnum())]\n",
    "# df.loc[df['Object Name'].apply(lambda x: set(str(x)).difference(printable))]\n",
    "df.loc[df['Object Name'].apply(lambda x: '\\n' in str(x))]\n"
   ],
   "metadata": {
    "collapsed": false
   }
  },
  {
   "cell_type": "markdown",
   "source": [
    "We can see a name such as `Bowl\\r\\n\\r\\n\\r\\n\\r\\n\\r\\n\\r\\n\\r\\n\\r\\n\\r\\n\\r\\n\\r\\n\\r\\n\\r\\n\\r\\n\\r\\n\\r\\n\\r\\n\\r\\n\\r\\n\\r\\n\\r\\n\\r\\n\\r\\n\\r\\n\\r\\n\\r\\n\\r\\n\\r\\n\\r\\n\\r\\n\\r\\n\\r\\n`\n",
    "So we should clean the names of any unprintable characters. For this particular case a simple `name.strip()` would work, but a better solution is needed for all rows"
   ],
   "metadata": {
    "collapsed": false
   }
  },
  {
   "cell_type": "code",
   "execution_count": 21,
   "outputs": [],
   "source": [
    "# df_dedup_name['Object_name_commas_count'] = df_dedup_name['Object Name'].apply(lambda x: str(x).count(','))\n",
    "# df_dedup_name.Object_name_commas_count.describe()"
   ],
   "metadata": {
    "collapsed": false
   }
  },
  {
   "cell_type": "markdown",
   "source": [
    "Lets take a look if case sensitivity plays a role"
   ],
   "metadata": {
    "collapsed": false
   }
  },
  {
   "cell_type": "code",
   "execution_count": 22,
   "outputs": [
    {
     "data": {
      "text/plain": "449354"
     },
     "execution_count": 22,
     "metadata": {},
     "output_type": "execute_result"
    }
   ],
   "source": [
    "# get number of duplicate names\n",
    "df.duplicated(subset=['Object Name']).sum()"
   ],
   "metadata": {
    "collapsed": false
   }
  },
  {
   "cell_type": "code",
   "execution_count": 23,
   "outputs": [
    {
     "data": {
      "text/plain": "450202"
     },
     "execution_count": 23,
     "metadata": {},
     "output_type": "execute_result"
    }
   ],
   "source": [
    "# get number of duplicated names when case sensitivity does not matter\n",
    "df['Object Name'].apply(lambda x: str(x).upper()).duplicated().sum()"
   ],
   "metadata": {
    "collapsed": false
   }
  },
  {
   "cell_type": "markdown",
   "source": [
    "We can see that there are inconsistencies in case sensitivity. We should converted all rows in some way (all upper, all lower, 1st upper, ...)"
   ],
   "metadata": {
    "collapsed": false
   }
  },
  {
   "cell_type": "markdown",
   "source": [
    "## 2b"
   ],
   "metadata": {
    "collapsed": false
   }
  },
  {
   "cell_type": "markdown",
   "source": [
    "Lets decide on 2nd column. When I look back at the initial data exploration, 1st thing that seems very suspicious is `Artist Gender,284` when looking at number of unique values, so `Artist Gender` it is."
   ],
   "metadata": {
    "collapsed": false
   }
  },
  {
   "cell_type": "code",
   "execution_count": 24,
   "outputs": [
    {
     "data": {
      "text/plain": "           Object Number  Is Highlight  Is Timeline Work  Is Public Domain  \\\nObject ID                                                                    \n1             1979.486.1         False             False             False   \n35               04.1a–c          True              True             False   \n282            25.173a–o          True              True             False   \n311              1984.98         False             False             False   \n444            18.110.64         False              True              True   \n...                  ...           ...               ...               ...   \n838183       60.502.7(4)         False             False             False   \n840803        40.101(56)         False             False             False   \n849227      62.600.15(2)         False             False             False   \n853788         66.540.34         False             False             False   \n858033     1991.1073.232         False             False             False   \n\n          Gallery Number           Department AccessionYear Object Name  \\\nObject ID                                                                 \n1                    NaN    The American Wing        1979.0        Coin   \n35                   706    The American Wing        1904.0        Vase   \n282                  700    The American Wing        1925.0      Window   \n311                  701    The American Wing        1984.0    Baluster   \n444                  729    The American Wing        1918.0    Bedstead   \n...                  ...                  ...           ...         ...   \n838183               NaN  Drawings and Prints        1960.0        Book   \n840803               NaN  Drawings and Prints        1940.0       Print   \n849227               NaN  Drawings and Prints        1962.0        Book   \n853788               NaN  Drawings and Prints          1966        Book   \n858033               NaN  Drawings and Prints          1991        Book   \n\n                                                       Title   Culture  ...  \\\nObject ID                                                               ...   \n1                               One-dollar Liberty Head Coin       NaN  ...   \n35                                            The Adams Vase  American  ...   \n282                                         Autumn Landscape  American  ...   \n311        Baluster from the Guaranty Building, Buffalo, ...  American  ...   \n444                                                 Bedstead  American  ...   \n...                                                      ...       ...  ...   \n838183                           Illustrated London Almanack       NaN  ...   \n840803               Artist Color Proof Associates (leaflet)       NaN  ...   \n849227       The Life of Her Most Gracious Majesty the Queen       NaN  ...   \n853788     A London Garland, Selected from Five Centuries...       NaN  ...   \n858033                 Original Etchings by American Artists       NaN  ...   \n\n          Classification Rights and Reproduction  \\\nObject ID                                          \n1                    NaN                     NaN   \n35                   NaN                     NaN   \n282                  NaN                     NaN   \n311                  NaN                     NaN   \n444                  NaN                     NaN   \n...                  ...                     ...   \n838183             Books                     NaN   \n840803            Prints                     NaN   \n849227             Books                     NaN   \n853788             Books                     NaN   \n858033             Books                     NaN   \n\n                                               Link Resource  \\\nObject ID                                                      \n1           http://www.metmuseum.org/art/collection/search/1   \n35         http://www.metmuseum.org/art/collection/search/35   \n282        http://www.metmuseum.org/art/collection/search...   \n311        http://www.metmuseum.org/art/collection/search...   \n444        http://www.metmuseum.org/art/collection/search...   \n...                                                      ...   \n838183     http://www.metmuseum.org/art/collection/search...   \n840803     http://www.metmuseum.org/art/collection/search...   \n849227     http://www.metmuseum.org/art/collection/search...   \n853788     http://www.metmuseum.org/art/collection/search...   \n858033     http://www.metmuseum.org/art/collection/search...   \n\n                               Object Wikidata URL Metadata Date  \\\nObject ID                                                          \n1                                              NaN           NaN   \n35         https://www.wikidata.org/wiki/Q83545838           NaN   \n282        https://www.wikidata.org/wiki/Q83560015           NaN   \n311                                            NaN           NaN   \n444                                            NaN           NaN   \n...                                            ...           ...   \n838183                                         NaN           NaN   \n840803                                         NaN           NaN   \n849227                                         NaN           NaN   \n853788                                         NaN           NaN   \n858033                                         NaN           NaN   \n\n                                         Repository  \\\nObject ID                                             \n1          Metropolitan Museum of Art, New York, NY   \n35         Metropolitan Museum of Art, New York, NY   \n282        Metropolitan Museum of Art, New York, NY   \n311        Metropolitan Museum of Art, New York, NY   \n444        Metropolitan Museum of Art, New York, NY   \n...                                             ...   \n838183     Metropolitan Museum of Art, New York, NY   \n840803     Metropolitan Museum of Art, New York, NY   \n849227     Metropolitan Museum of Art, New York, NY   \n853788     Metropolitan Museum of Art, New York, NY   \n858033     Metropolitan Museum of Art, New York, NY   \n\n                                           Tags  \\\nObject ID                                         \n1                                           NaN   \n35                   Animals|Garlands|Birds|Men   \n282        Windows|Waterfalls|Landscapes|Autumn   \n311                                         NaN   \n444                                         NaN   \n...                                         ...   \n838183                                      NaN   \n840803                                      NaN   \n849227                                      NaN   \n853788                                      NaN   \n858033                                      NaN   \n\n                                                Tags AAT URL  \\\nObject ID                                                      \n1                                                        NaN   \n35         http://vocab.getty.edu/page/aat/300249525|http...   \n282        http://vocab.getty.edu/page/aat/300002944|http...   \n311                                                      NaN   \n444                                                      NaN   \n...                                                      ...   \n838183                                                   NaN   \n840803                                                   NaN   \n849227                                                   NaN   \n853788                                                   NaN   \n858033                                                   NaN   \n\n                                           Tags Wikidata URL Object_name_len  \nObject ID                                                                     \n1                                                        NaN             4.0  \n35         https://www.wikidata.org/wiki/Q729|https://www...             4.0  \n282        https://www.wikidata.org/wiki/Q35473|https://w...             6.0  \n311                                                      NaN             8.0  \n444                                                      NaN             8.0  \n...                                                      ...             ...  \n838183                                                   NaN             4.0  \n840803                                                   NaN             5.0  \n849227                                                   NaN             4.0  \n853788                                                   NaN             4.0  \n858033                                                   NaN             4.0  \n\n[285 rows x 54 columns]",
      "text/html": "<div>\n<style scoped>\n    .dataframe tbody tr th:only-of-type {\n        vertical-align: middle;\n    }\n\n    .dataframe tbody tr th {\n        vertical-align: top;\n    }\n\n    .dataframe thead th {\n        text-align: right;\n    }\n</style>\n<table border=\"1\" class=\"dataframe\">\n  <thead>\n    <tr style=\"text-align: right;\">\n      <th></th>\n      <th>Object Number</th>\n      <th>Is Highlight</th>\n      <th>Is Timeline Work</th>\n      <th>Is Public Domain</th>\n      <th>Gallery Number</th>\n      <th>Department</th>\n      <th>AccessionYear</th>\n      <th>Object Name</th>\n      <th>Title</th>\n      <th>Culture</th>\n      <th>...</th>\n      <th>Classification</th>\n      <th>Rights and Reproduction</th>\n      <th>Link Resource</th>\n      <th>Object Wikidata URL</th>\n      <th>Metadata Date</th>\n      <th>Repository</th>\n      <th>Tags</th>\n      <th>Tags AAT URL</th>\n      <th>Tags Wikidata URL</th>\n      <th>Object_name_len</th>\n    </tr>\n    <tr>\n      <th>Object ID</th>\n      <th></th>\n      <th></th>\n      <th></th>\n      <th></th>\n      <th></th>\n      <th></th>\n      <th></th>\n      <th></th>\n      <th></th>\n      <th></th>\n      <th></th>\n      <th></th>\n      <th></th>\n      <th></th>\n      <th></th>\n      <th></th>\n      <th></th>\n      <th></th>\n      <th></th>\n      <th></th>\n      <th></th>\n    </tr>\n  </thead>\n  <tbody>\n    <tr>\n      <th>1</th>\n      <td>1979.486.1</td>\n      <td>False</td>\n      <td>False</td>\n      <td>False</td>\n      <td>NaN</td>\n      <td>The American Wing</td>\n      <td>1979.0</td>\n      <td>Coin</td>\n      <td>One-dollar Liberty Head Coin</td>\n      <td>NaN</td>\n      <td>...</td>\n      <td>NaN</td>\n      <td>NaN</td>\n      <td>http://www.metmuseum.org/art/collection/search/1</td>\n      <td>NaN</td>\n      <td>NaN</td>\n      <td>Metropolitan Museum of Art, New York, NY</td>\n      <td>NaN</td>\n      <td>NaN</td>\n      <td>NaN</td>\n      <td>4.0</td>\n    </tr>\n    <tr>\n      <th>35</th>\n      <td>04.1a–c</td>\n      <td>True</td>\n      <td>True</td>\n      <td>False</td>\n      <td>706</td>\n      <td>The American Wing</td>\n      <td>1904.0</td>\n      <td>Vase</td>\n      <td>The Adams Vase</td>\n      <td>American</td>\n      <td>...</td>\n      <td>NaN</td>\n      <td>NaN</td>\n      <td>http://www.metmuseum.org/art/collection/search/35</td>\n      <td>https://www.wikidata.org/wiki/Q83545838</td>\n      <td>NaN</td>\n      <td>Metropolitan Museum of Art, New York, NY</td>\n      <td>Animals|Garlands|Birds|Men</td>\n      <td>http://vocab.getty.edu/page/aat/300249525|http...</td>\n      <td>https://www.wikidata.org/wiki/Q729|https://www...</td>\n      <td>4.0</td>\n    </tr>\n    <tr>\n      <th>282</th>\n      <td>25.173a–o</td>\n      <td>True</td>\n      <td>True</td>\n      <td>False</td>\n      <td>700</td>\n      <td>The American Wing</td>\n      <td>1925.0</td>\n      <td>Window</td>\n      <td>Autumn Landscape</td>\n      <td>American</td>\n      <td>...</td>\n      <td>NaN</td>\n      <td>NaN</td>\n      <td>http://www.metmuseum.org/art/collection/search...</td>\n      <td>https://www.wikidata.org/wiki/Q83560015</td>\n      <td>NaN</td>\n      <td>Metropolitan Museum of Art, New York, NY</td>\n      <td>Windows|Waterfalls|Landscapes|Autumn</td>\n      <td>http://vocab.getty.edu/page/aat/300002944|http...</td>\n      <td>https://www.wikidata.org/wiki/Q35473|https://w...</td>\n      <td>6.0</td>\n    </tr>\n    <tr>\n      <th>311</th>\n      <td>1984.98</td>\n      <td>False</td>\n      <td>False</td>\n      <td>False</td>\n      <td>701</td>\n      <td>The American Wing</td>\n      <td>1984.0</td>\n      <td>Baluster</td>\n      <td>Baluster from the Guaranty Building, Buffalo, ...</td>\n      <td>American</td>\n      <td>...</td>\n      <td>NaN</td>\n      <td>NaN</td>\n      <td>http://www.metmuseum.org/art/collection/search...</td>\n      <td>NaN</td>\n      <td>NaN</td>\n      <td>Metropolitan Museum of Art, New York, NY</td>\n      <td>NaN</td>\n      <td>NaN</td>\n      <td>NaN</td>\n      <td>8.0</td>\n    </tr>\n    <tr>\n      <th>444</th>\n      <td>18.110.64</td>\n      <td>False</td>\n      <td>True</td>\n      <td>True</td>\n      <td>729</td>\n      <td>The American Wing</td>\n      <td>1918.0</td>\n      <td>Bedstead</td>\n      <td>Bedstead</td>\n      <td>American</td>\n      <td>...</td>\n      <td>NaN</td>\n      <td>NaN</td>\n      <td>http://www.metmuseum.org/art/collection/search...</td>\n      <td>NaN</td>\n      <td>NaN</td>\n      <td>Metropolitan Museum of Art, New York, NY</td>\n      <td>NaN</td>\n      <td>NaN</td>\n      <td>NaN</td>\n      <td>8.0</td>\n    </tr>\n    <tr>\n      <th>...</th>\n      <td>...</td>\n      <td>...</td>\n      <td>...</td>\n      <td>...</td>\n      <td>...</td>\n      <td>...</td>\n      <td>...</td>\n      <td>...</td>\n      <td>...</td>\n      <td>...</td>\n      <td>...</td>\n      <td>...</td>\n      <td>...</td>\n      <td>...</td>\n      <td>...</td>\n      <td>...</td>\n      <td>...</td>\n      <td>...</td>\n      <td>...</td>\n      <td>...</td>\n      <td>...</td>\n    </tr>\n    <tr>\n      <th>838183</th>\n      <td>60.502.7(4)</td>\n      <td>False</td>\n      <td>False</td>\n      <td>False</td>\n      <td>NaN</td>\n      <td>Drawings and Prints</td>\n      <td>1960.0</td>\n      <td>Book</td>\n      <td>Illustrated London Almanack</td>\n      <td>NaN</td>\n      <td>...</td>\n      <td>Books</td>\n      <td>NaN</td>\n      <td>http://www.metmuseum.org/art/collection/search...</td>\n      <td>NaN</td>\n      <td>NaN</td>\n      <td>Metropolitan Museum of Art, New York, NY</td>\n      <td>NaN</td>\n      <td>NaN</td>\n      <td>NaN</td>\n      <td>4.0</td>\n    </tr>\n    <tr>\n      <th>840803</th>\n      <td>40.101(56)</td>\n      <td>False</td>\n      <td>False</td>\n      <td>False</td>\n      <td>NaN</td>\n      <td>Drawings and Prints</td>\n      <td>1940.0</td>\n      <td>Print</td>\n      <td>Artist Color Proof Associates (leaflet)</td>\n      <td>NaN</td>\n      <td>...</td>\n      <td>Prints</td>\n      <td>NaN</td>\n      <td>http://www.metmuseum.org/art/collection/search...</td>\n      <td>NaN</td>\n      <td>NaN</td>\n      <td>Metropolitan Museum of Art, New York, NY</td>\n      <td>NaN</td>\n      <td>NaN</td>\n      <td>NaN</td>\n      <td>5.0</td>\n    </tr>\n    <tr>\n      <th>849227</th>\n      <td>62.600.15(2)</td>\n      <td>False</td>\n      <td>False</td>\n      <td>False</td>\n      <td>NaN</td>\n      <td>Drawings and Prints</td>\n      <td>1962.0</td>\n      <td>Book</td>\n      <td>The Life of Her Most Gracious Majesty the Queen</td>\n      <td>NaN</td>\n      <td>...</td>\n      <td>Books</td>\n      <td>NaN</td>\n      <td>http://www.metmuseum.org/art/collection/search...</td>\n      <td>NaN</td>\n      <td>NaN</td>\n      <td>Metropolitan Museum of Art, New York, NY</td>\n      <td>NaN</td>\n      <td>NaN</td>\n      <td>NaN</td>\n      <td>4.0</td>\n    </tr>\n    <tr>\n      <th>853788</th>\n      <td>66.540.34</td>\n      <td>False</td>\n      <td>False</td>\n      <td>False</td>\n      <td>NaN</td>\n      <td>Drawings and Prints</td>\n      <td>1966</td>\n      <td>Book</td>\n      <td>A London Garland, Selected from Five Centuries...</td>\n      <td>NaN</td>\n      <td>...</td>\n      <td>Books</td>\n      <td>NaN</td>\n      <td>http://www.metmuseum.org/art/collection/search...</td>\n      <td>NaN</td>\n      <td>NaN</td>\n      <td>Metropolitan Museum of Art, New York, NY</td>\n      <td>NaN</td>\n      <td>NaN</td>\n      <td>NaN</td>\n      <td>4.0</td>\n    </tr>\n    <tr>\n      <th>858033</th>\n      <td>1991.1073.232</td>\n      <td>False</td>\n      <td>False</td>\n      <td>False</td>\n      <td>NaN</td>\n      <td>Drawings and Prints</td>\n      <td>1991</td>\n      <td>Book</td>\n      <td>Original Etchings by American Artists</td>\n      <td>NaN</td>\n      <td>...</td>\n      <td>Books</td>\n      <td>NaN</td>\n      <td>http://www.metmuseum.org/art/collection/search...</td>\n      <td>NaN</td>\n      <td>NaN</td>\n      <td>Metropolitan Museum of Art, New York, NY</td>\n      <td>NaN</td>\n      <td>NaN</td>\n      <td>NaN</td>\n      <td>4.0</td>\n    </tr>\n  </tbody>\n</table>\n<p>285 rows × 54 columns</p>\n</div>"
     },
     "execution_count": 24,
     "metadata": {},
     "output_type": "execute_result"
    }
   ],
   "source": [
    "# get list of unique values\n",
    "df_dedup_artist_gender = df.drop_duplicates(subset=['Artist Gender'])\n",
    "df_dedup_artist_gender"
   ],
   "metadata": {
    "collapsed": false
   }
  },
  {
   "cell_type": "markdown",
   "source": [
    "We can see that it is a big mess, with values like `||||||||||||||Female|||||||`\n",
    "To find all inconsistencies I'll actually try to clean the data"
   ],
   "metadata": {
    "collapsed": false
   }
  },
  {
   "cell_type": "code",
   "execution_count": 25,
   "outputs": [],
   "source": [
    "# first convert NaN into empty string\n",
    "df_dedup_artist_gender = df_dedup_artist_gender.fillna('')"
   ],
   "metadata": {
    "collapsed": false
   }
  },
  {
   "cell_type": "code",
   "execution_count": 26,
   "outputs": [],
   "source": [
    "def clean_artist_gender(text: str) -> str:\n",
    "    # split string into list by `|`\n",
    "    split_list = text.split('|')\n",
    "    # remove empty substrings\n",
    "    split_list = list(filter(len, split_list))\n",
    "    # deduplicate substrings\n",
    "    split_list = list(set(split_list))\n",
    "    # make into string. If there are multiple substrings in list, join it with `, ` (Spoiler there arent any anyway)\n",
    "    final_value = \", \".join(split_list)\n",
    "    return final_value"
   ],
   "metadata": {
    "collapsed": false
   }
  },
  {
   "cell_type": "code",
   "execution_count": 27,
   "outputs": [
    {
     "data": {
      "text/plain": "Object ID\n1               \n35              \n282       Female\n311             \n444             \n           ...  \n838183    Female\n840803    Female\n849227    Female\n853788    Female\n858033    Female\nName: Artist Gender, Length: 285, dtype: object"
     },
     "execution_count": 27,
     "metadata": {},
     "output_type": "execute_result"
    }
   ],
   "source": [
    "df_dedup_artist_gender = df_dedup_artist_gender['Artist Gender'].apply(lambda x: clean_artist_gender(str(x)))\n",
    "df_dedup_artist_gender"
   ],
   "metadata": {
    "collapsed": false
   }
  },
  {
   "cell_type": "code",
   "execution_count": 28,
   "outputs": [
    {
     "data": {
      "text/plain": "Object ID\n1            \n282    Female\nName: Artist Gender, dtype: object"
     },
     "execution_count": 28,
     "metadata": {},
     "output_type": "execute_result"
    }
   ],
   "source": [
    "# lets dedup again\n",
    "df_dedup_artist_gender = df_dedup_artist_gender.drop_duplicates()\n",
    "df_dedup_artist_gender"
   ],
   "metadata": {
    "collapsed": false
   }
  },
  {
   "cell_type": "markdown",
   "source": [
    "### yikes!\n",
    "I just noticed that use of the `||||||||||||||Female|||||||` is because there are multiple authors, which makes it not a consistency problem. (It would be better to check if for all author columns the number of `|` is the same in one row, but I am not gonna bother here)\n",
    "However I'll still count this one as incorrect since there are is no info if the artist is a male. Maybe all null values are male, but we cannot say for sure."
   ],
   "metadata": {
    "collapsed": false
   }
  },
  {
   "cell_type": "markdown",
   "source": [
    "## 2c"
   ],
   "metadata": {
    "collapsed": false
   }
  },
  {
   "cell_type": "markdown",
   "source": [
    "I could pick any author related column, but let's look at smth else.\n",
    "Again, looking at the data exploration, I notice `Object Date`, so lets explore that"
   ],
   "metadata": {
    "collapsed": false
   }
  },
  {
   "cell_type": "code",
   "execution_count": 30,
   "outputs": [
    {
     "data": {
      "text/plain": "          Object Number  Is Highlight  Is Timeline Work  Is Public Domain  \\\nObject ID                                                                   \n1            1979.486.1         False             False             False   \n2            1980.264.5         False             False             False   \n3              67.265.9         False             False             False   \n10           1979.486.3         False             False             False   \n11           1979.486.2         False             False             False   \n...                 ...           ...               ...               ...   \n858211       67.539.162         False             False             False   \n858213     1980.1124.25         False             False             False   \n858241     17.3.3442-83         False             False             False   \n858251       1976.622.1         False             False             False   \n860871      53.600.1434         False             False             False   \n\n          Gallery Number           Department AccessionYear     Object Name  \\\nObject ID                                                                     \n1                    NaN    The American Wing        1979.0            Coin   \n2                    NaN    The American Wing        1980.0            Coin   \n3                    NaN    The American Wing        1967.0            Coin   \n10                   NaN    The American Wing        1979.0            Coin   \n11                   NaN    The American Wing        1979.0            Coin   \n...                  ...                  ...           ...             ...   \n858211               NaN  Drawings and Prints          1967           Print   \n858213               NaN  Drawings and Prints          1980           Print   \n858241               NaN  Drawings and Prints          1917           Print   \n858251               NaN  Drawings and Prints          1976  Book, pamphlet   \n860871               NaN  Drawings and Prints          1953           Print   \n\n                                                       Title Culture  ...  \\\nObject ID                                                             ...   \n1                               One-dollar Liberty Head Coin     NaN  ...   \n2                               Ten-dollar Liberty Head Coin     NaN  ...   \n3                                 Two-and-a-Half Dollar Coin     NaN  ...   \n10                    Two-and-a-half-dollar Indian Head Coin     NaN  ...   \n11                   Two-and-a-half-dollar Liberty Head Coin     NaN  ...   \n...                                                      ...     ...  ...   \n858211                         Ornamental frame with figures     NaN  ...   \n858213                             Portrait of Benjamin West     NaN  ...   \n858241            Six guineas entrance and a guinea a lesson     NaN  ...   \n858251              Craftsman Catalog of Dog Goods, No. 1-25     NaN  ...   \n860871     Forest landscape with cattle drinking, a woman...     NaN  ...   \n\n          Classification Rights and Reproduction  \\\nObject ID                                          \n1                    NaN                     NaN   \n2                    NaN                     NaN   \n3                    NaN                     NaN   \n10                   NaN                     NaN   \n11                   NaN                     NaN   \n...                  ...                     ...   \n858211            Prints                     NaN   \n858213            Prints                     NaN   \n858241            Prints                     NaN   \n858251             Books                     NaN   \n860871            Prints                     NaN   \n\n                                               Link Resource  \\\nObject ID                                                      \n1           http://www.metmuseum.org/art/collection/search/1   \n2           http://www.metmuseum.org/art/collection/search/2   \n3           http://www.metmuseum.org/art/collection/search/3   \n10         http://www.metmuseum.org/art/collection/search/10   \n11         http://www.metmuseum.org/art/collection/search/11   \n...                                                      ...   \n858211     http://www.metmuseum.org/art/collection/search...   \n858213     http://www.metmuseum.org/art/collection/search...   \n858241     http://www.metmuseum.org/art/collection/search...   \n858251     http://www.metmuseum.org/art/collection/search...   \n860871     http://www.metmuseum.org/art/collection/search...   \n\n          Object Wikidata URL Metadata Date  \\\nObject ID                                     \n1                         NaN           NaN   \n2                         NaN           NaN   \n3                         NaN           NaN   \n10                        NaN           NaN   \n11                        NaN           NaN   \n...                       ...           ...   \n858211                    NaN           NaN   \n858213                    NaN           NaN   \n858241                    NaN           NaN   \n858251                    NaN           NaN   \n860871                    NaN           NaN   \n\n                                         Repository Tags Tags AAT URL  \\\nObject ID                                                               \n1          Metropolitan Museum of Art, New York, NY  NaN          NaN   \n2          Metropolitan Museum of Art, New York, NY  NaN          NaN   \n3          Metropolitan Museum of Art, New York, NY  NaN          NaN   \n10         Metropolitan Museum of Art, New York, NY  NaN          NaN   \n11         Metropolitan Museum of Art, New York, NY  NaN          NaN   \n...                                             ...  ...          ...   \n858211     Metropolitan Museum of Art, New York, NY  NaN          NaN   \n858213     Metropolitan Museum of Art, New York, NY  NaN          NaN   \n858241     Metropolitan Museum of Art, New York, NY  NaN          NaN   \n858251     Metropolitan Museum of Art, New York, NY  NaN          NaN   \n860871     Metropolitan Museum of Art, New York, NY  NaN          NaN   \n\n          Tags Wikidata URL Object_name_len  \nObject ID                                    \n1                       NaN             4.0  \n2                       NaN             4.0  \n3                       NaN             4.0  \n10                      NaN             4.0  \n11                      NaN             4.0  \n...                     ...             ...  \n858211                  NaN             5.0  \n858213                  NaN             5.0  \n858241                  NaN             5.0  \n858251                  NaN            14.0  \n860871                  NaN             5.0  \n\n[32697 rows x 54 columns]",
      "text/html": "<div>\n<style scoped>\n    .dataframe tbody tr th:only-of-type {\n        vertical-align: middle;\n    }\n\n    .dataframe tbody tr th {\n        vertical-align: top;\n    }\n\n    .dataframe thead th {\n        text-align: right;\n    }\n</style>\n<table border=\"1\" class=\"dataframe\">\n  <thead>\n    <tr style=\"text-align: right;\">\n      <th></th>\n      <th>Object Number</th>\n      <th>Is Highlight</th>\n      <th>Is Timeline Work</th>\n      <th>Is Public Domain</th>\n      <th>Gallery Number</th>\n      <th>Department</th>\n      <th>AccessionYear</th>\n      <th>Object Name</th>\n      <th>Title</th>\n      <th>Culture</th>\n      <th>...</th>\n      <th>Classification</th>\n      <th>Rights and Reproduction</th>\n      <th>Link Resource</th>\n      <th>Object Wikidata URL</th>\n      <th>Metadata Date</th>\n      <th>Repository</th>\n      <th>Tags</th>\n      <th>Tags AAT URL</th>\n      <th>Tags Wikidata URL</th>\n      <th>Object_name_len</th>\n    </tr>\n    <tr>\n      <th>Object ID</th>\n      <th></th>\n      <th></th>\n      <th></th>\n      <th></th>\n      <th></th>\n      <th></th>\n      <th></th>\n      <th></th>\n      <th></th>\n      <th></th>\n      <th></th>\n      <th></th>\n      <th></th>\n      <th></th>\n      <th></th>\n      <th></th>\n      <th></th>\n      <th></th>\n      <th></th>\n      <th></th>\n      <th></th>\n    </tr>\n  </thead>\n  <tbody>\n    <tr>\n      <th>1</th>\n      <td>1979.486.1</td>\n      <td>False</td>\n      <td>False</td>\n      <td>False</td>\n      <td>NaN</td>\n      <td>The American Wing</td>\n      <td>1979.0</td>\n      <td>Coin</td>\n      <td>One-dollar Liberty Head Coin</td>\n      <td>NaN</td>\n      <td>...</td>\n      <td>NaN</td>\n      <td>NaN</td>\n      <td>http://www.metmuseum.org/art/collection/search/1</td>\n      <td>NaN</td>\n      <td>NaN</td>\n      <td>Metropolitan Museum of Art, New York, NY</td>\n      <td>NaN</td>\n      <td>NaN</td>\n      <td>NaN</td>\n      <td>4.0</td>\n    </tr>\n    <tr>\n      <th>2</th>\n      <td>1980.264.5</td>\n      <td>False</td>\n      <td>False</td>\n      <td>False</td>\n      <td>NaN</td>\n      <td>The American Wing</td>\n      <td>1980.0</td>\n      <td>Coin</td>\n      <td>Ten-dollar Liberty Head Coin</td>\n      <td>NaN</td>\n      <td>...</td>\n      <td>NaN</td>\n      <td>NaN</td>\n      <td>http://www.metmuseum.org/art/collection/search/2</td>\n      <td>NaN</td>\n      <td>NaN</td>\n      <td>Metropolitan Museum of Art, New York, NY</td>\n      <td>NaN</td>\n      <td>NaN</td>\n      <td>NaN</td>\n      <td>4.0</td>\n    </tr>\n    <tr>\n      <th>3</th>\n      <td>67.265.9</td>\n      <td>False</td>\n      <td>False</td>\n      <td>False</td>\n      <td>NaN</td>\n      <td>The American Wing</td>\n      <td>1967.0</td>\n      <td>Coin</td>\n      <td>Two-and-a-Half Dollar Coin</td>\n      <td>NaN</td>\n      <td>...</td>\n      <td>NaN</td>\n      <td>NaN</td>\n      <td>http://www.metmuseum.org/art/collection/search/3</td>\n      <td>NaN</td>\n      <td>NaN</td>\n      <td>Metropolitan Museum of Art, New York, NY</td>\n      <td>NaN</td>\n      <td>NaN</td>\n      <td>NaN</td>\n      <td>4.0</td>\n    </tr>\n    <tr>\n      <th>10</th>\n      <td>1979.486.3</td>\n      <td>False</td>\n      <td>False</td>\n      <td>False</td>\n      <td>NaN</td>\n      <td>The American Wing</td>\n      <td>1979.0</td>\n      <td>Coin</td>\n      <td>Two-and-a-half-dollar Indian Head Coin</td>\n      <td>NaN</td>\n      <td>...</td>\n      <td>NaN</td>\n      <td>NaN</td>\n      <td>http://www.metmuseum.org/art/collection/search/10</td>\n      <td>NaN</td>\n      <td>NaN</td>\n      <td>Metropolitan Museum of Art, New York, NY</td>\n      <td>NaN</td>\n      <td>NaN</td>\n      <td>NaN</td>\n      <td>4.0</td>\n    </tr>\n    <tr>\n      <th>11</th>\n      <td>1979.486.2</td>\n      <td>False</td>\n      <td>False</td>\n      <td>False</td>\n      <td>NaN</td>\n      <td>The American Wing</td>\n      <td>1979.0</td>\n      <td>Coin</td>\n      <td>Two-and-a-half-dollar Liberty Head Coin</td>\n      <td>NaN</td>\n      <td>...</td>\n      <td>NaN</td>\n      <td>NaN</td>\n      <td>http://www.metmuseum.org/art/collection/search/11</td>\n      <td>NaN</td>\n      <td>NaN</td>\n      <td>Metropolitan Museum of Art, New York, NY</td>\n      <td>NaN</td>\n      <td>NaN</td>\n      <td>NaN</td>\n      <td>4.0</td>\n    </tr>\n    <tr>\n      <th>...</th>\n      <td>...</td>\n      <td>...</td>\n      <td>...</td>\n      <td>...</td>\n      <td>...</td>\n      <td>...</td>\n      <td>...</td>\n      <td>...</td>\n      <td>...</td>\n      <td>...</td>\n      <td>...</td>\n      <td>...</td>\n      <td>...</td>\n      <td>...</td>\n      <td>...</td>\n      <td>...</td>\n      <td>...</td>\n      <td>...</td>\n      <td>...</td>\n      <td>...</td>\n      <td>...</td>\n    </tr>\n    <tr>\n      <th>858211</th>\n      <td>67.539.162</td>\n      <td>False</td>\n      <td>False</td>\n      <td>False</td>\n      <td>NaN</td>\n      <td>Drawings and Prints</td>\n      <td>1967</td>\n      <td>Print</td>\n      <td>Ornamental frame with figures</td>\n      <td>NaN</td>\n      <td>...</td>\n      <td>Prints</td>\n      <td>NaN</td>\n      <td>http://www.metmuseum.org/art/collection/search...</td>\n      <td>NaN</td>\n      <td>NaN</td>\n      <td>Metropolitan Museum of Art, New York, NY</td>\n      <td>NaN</td>\n      <td>NaN</td>\n      <td>NaN</td>\n      <td>5.0</td>\n    </tr>\n    <tr>\n      <th>858213</th>\n      <td>1980.1124.25</td>\n      <td>False</td>\n      <td>False</td>\n      <td>False</td>\n      <td>NaN</td>\n      <td>Drawings and Prints</td>\n      <td>1980</td>\n      <td>Print</td>\n      <td>Portrait of Benjamin West</td>\n      <td>NaN</td>\n      <td>...</td>\n      <td>Prints</td>\n      <td>NaN</td>\n      <td>http://www.metmuseum.org/art/collection/search...</td>\n      <td>NaN</td>\n      <td>NaN</td>\n      <td>Metropolitan Museum of Art, New York, NY</td>\n      <td>NaN</td>\n      <td>NaN</td>\n      <td>NaN</td>\n      <td>5.0</td>\n    </tr>\n    <tr>\n      <th>858241</th>\n      <td>17.3.3442-83</td>\n      <td>False</td>\n      <td>False</td>\n      <td>False</td>\n      <td>NaN</td>\n      <td>Drawings and Prints</td>\n      <td>1917</td>\n      <td>Print</td>\n      <td>Six guineas entrance and a guinea a lesson</td>\n      <td>NaN</td>\n      <td>...</td>\n      <td>Prints</td>\n      <td>NaN</td>\n      <td>http://www.metmuseum.org/art/collection/search...</td>\n      <td>NaN</td>\n      <td>NaN</td>\n      <td>Metropolitan Museum of Art, New York, NY</td>\n      <td>NaN</td>\n      <td>NaN</td>\n      <td>NaN</td>\n      <td>5.0</td>\n    </tr>\n    <tr>\n      <th>858251</th>\n      <td>1976.622.1</td>\n      <td>False</td>\n      <td>False</td>\n      <td>False</td>\n      <td>NaN</td>\n      <td>Drawings and Prints</td>\n      <td>1976</td>\n      <td>Book, pamphlet</td>\n      <td>Craftsman Catalog of Dog Goods, No. 1-25</td>\n      <td>NaN</td>\n      <td>...</td>\n      <td>Books</td>\n      <td>NaN</td>\n      <td>http://www.metmuseum.org/art/collection/search...</td>\n      <td>NaN</td>\n      <td>NaN</td>\n      <td>Metropolitan Museum of Art, New York, NY</td>\n      <td>NaN</td>\n      <td>NaN</td>\n      <td>NaN</td>\n      <td>14.0</td>\n    </tr>\n    <tr>\n      <th>860871</th>\n      <td>53.600.1434</td>\n      <td>False</td>\n      <td>False</td>\n      <td>False</td>\n      <td>NaN</td>\n      <td>Drawings and Prints</td>\n      <td>1953</td>\n      <td>Print</td>\n      <td>Forest landscape with cattle drinking, a woman...</td>\n      <td>NaN</td>\n      <td>...</td>\n      <td>Prints</td>\n      <td>NaN</td>\n      <td>http://www.metmuseum.org/art/collection/search...</td>\n      <td>NaN</td>\n      <td>NaN</td>\n      <td>Metropolitan Museum of Art, New York, NY</td>\n      <td>NaN</td>\n      <td>NaN</td>\n      <td>NaN</td>\n      <td>5.0</td>\n    </tr>\n  </tbody>\n</table>\n<p>32697 rows × 54 columns</p>\n</div>"
     },
     "execution_count": 30,
     "metadata": {},
     "output_type": "execute_result"
    }
   ],
   "source": [
    "# get list of unique values\n",
    "df_dedup_object_date = df.drop_duplicates(subset=['Object Date'])\n",
    "df_dedup_object_date"
   ],
   "metadata": {
    "collapsed": false
   }
  },
  {
   "cell_type": "markdown",
   "source": [
    "out of some examples there are few ways of representations\n",
    "\n",
    "```\n",
    "1853\n",
    "1909-27\n",
    "1665-1700\n",
    "ca. 1887\n",
    "after 1866\n",
    "ca. 1902–3\n",
    "19th century\n",
    "1821–ca. 1843\n",
    "1716 or 1719 (edition)\n",
    "1787 (?)\n",
    "1879, cast probably 1880\n",
    "September 25, 1973\n",
    "```\n",
    "\n",
    "This makes it clear the ranges and uncertainty are represented in multiple ways => inconsistency"
   ],
   "metadata": {
    "collapsed": false
   }
  },
  {
   "cell_type": "markdown",
   "source": [
    "# 3. Select at least **two features** where you expect integrity problems (describe your choice) and check integrity of those features. By integrity we mean correct logical relations between features (e.g. female names for females only). _(2 points)_"
   ],
   "metadata": {
    "collapsed": false
   }
  },
  {
   "cell_type": "markdown",
   "source": [
    "## 3A\n",
    "During step 2c when exploring `Object date` I notice 2 other columns `Object Begin Date` and `Object end Date`, I think that there could be integrity problems between those, since there should be direct relationship between these 3. Lets explore\n",
    "Lets try to create our own `Object Date` from the other two columns"
   ],
   "metadata": {
    "collapsed": false
   }
  },
  {
   "cell_type": "code",
   "execution_count": 44,
   "outputs": [],
   "source": [
    "# convert `Object Date` to string\n",
    "df['Object Date'] = df['Object Date'].astype(str)"
   ],
   "metadata": {
    "collapsed": false
   }
  },
  {
   "cell_type": "code",
   "execution_count": 55,
   "outputs": [],
   "source": [
    "def combine_date(begin: str, end: str) -> str:\n",
    "    if begin == end:\n",
    "        return str(begin)\n",
    "    if begin[0:3] == end[0:3]:\n",
    "        return f\"{begin}–{end[3:]}\"\n",
    "    if begin[0:2] == end[0:2]:\n",
    "        return f\"{begin}–{end[2:]}\"\n",
    "    return f\"{begin}–{end}\"\n",
    "        # return f\"{begin}-{end}\""
   ],
   "metadata": {
    "collapsed": false
   }
  },
  {
   "cell_type": "code",
   "execution_count": 56,
   "outputs": [
    {
     "data": {
      "text/plain": "Object ID\n1              1853\n2              1901\n3           1909–27\n4           1909–27\n5           1909–27\n            ...    \n860869         1904\n860870         1904\n860871      1768–78\n860872    1890–1900\n860873    1890–1900\nName: object_date_combined, Length: 477804, dtype: object"
     },
     "execution_count": 56,
     "metadata": {},
     "output_type": "execute_result"
    }
   ],
   "source": [
    "df['object_date_combined'] = df.apply(lambda x: combine_date(str(x['Object Begin Date']), str(x['Object End Date'])), axis=1)\n",
    "df.object_date_combined"
   ],
   "metadata": {
    "collapsed": false
   }
  },
  {
   "cell_type": "code",
   "execution_count": 57,
   "outputs": [
    {
     "data": {
      "text/plain": "          Object Date object_date_combined\nObject ID                                 \n35            1893–95               1893–5\n36           ca. 1887               1884–7\n37           ca. 1785               1782–5\n38           ca. 1785               1782–5\n44           ca. 1790              1787–90\n...               ...                  ...\n860867           1758              1753–63\n860868           1758              1753–63\n860871     after 1773              1768–78\n860872           1904            1890–1900\n860873           1904            1890–1900\n\n[328702 rows x 2 columns]",
      "text/html": "<div>\n<style scoped>\n    .dataframe tbody tr th:only-of-type {\n        vertical-align: middle;\n    }\n\n    .dataframe tbody tr th {\n        vertical-align: top;\n    }\n\n    .dataframe thead th {\n        text-align: right;\n    }\n</style>\n<table border=\"1\" class=\"dataframe\">\n  <thead>\n    <tr style=\"text-align: right;\">\n      <th></th>\n      <th>Object Date</th>\n      <th>object_date_combined</th>\n    </tr>\n    <tr>\n      <th>Object ID</th>\n      <th></th>\n      <th></th>\n    </tr>\n  </thead>\n  <tbody>\n    <tr>\n      <th>35</th>\n      <td>1893–95</td>\n      <td>1893–5</td>\n    </tr>\n    <tr>\n      <th>36</th>\n      <td>ca. 1887</td>\n      <td>1884–7</td>\n    </tr>\n    <tr>\n      <th>37</th>\n      <td>ca. 1785</td>\n      <td>1782–5</td>\n    </tr>\n    <tr>\n      <th>38</th>\n      <td>ca. 1785</td>\n      <td>1782–5</td>\n    </tr>\n    <tr>\n      <th>44</th>\n      <td>ca. 1790</td>\n      <td>1787–90</td>\n    </tr>\n    <tr>\n      <th>...</th>\n      <td>...</td>\n      <td>...</td>\n    </tr>\n    <tr>\n      <th>860867</th>\n      <td>1758</td>\n      <td>1753–63</td>\n    </tr>\n    <tr>\n      <th>860868</th>\n      <td>1758</td>\n      <td>1753–63</td>\n    </tr>\n    <tr>\n      <th>860871</th>\n      <td>after 1773</td>\n      <td>1768–78</td>\n    </tr>\n    <tr>\n      <th>860872</th>\n      <td>1904</td>\n      <td>1890–1900</td>\n    </tr>\n    <tr>\n      <th>860873</th>\n      <td>1904</td>\n      <td>1890–1900</td>\n    </tr>\n  </tbody>\n</table>\n<p>328702 rows × 2 columns</p>\n</div>"
     },
     "execution_count": 57,
     "metadata": {},
     "output_type": "execute_result"
    }
   ],
   "source": [
    "# show rows where these differ\n",
    "df.loc[df['Object Date'] != df['object_date_combined']][['Object Date', 'object_date_combined']]"
   ],
   "metadata": {
    "collapsed": false
   }
  },
  {
   "cell_type": "markdown",
   "source": [
    "from the previous cell output we can see that `Object Date` is kind of random. I am talking about deleting leading digits in the end part, example:\n",
    "begin = 1755\n",
    "end = 1758\n",
    "this is represented in multiple different ways, so like\n",
    "1755-1758\n",
    "1755-58\n",
    "1755-8"
   ],
   "metadata": {
    "collapsed": false
   }
  },
  {
   "cell_type": "markdown",
   "source": [
    "there is also a problem with the `ca.`\n",
    "`ca. 1875` can mean `1872-1875`, but also `1872-1878`"
   ],
   "metadata": {
    "collapsed": false
   }
  },
  {
   "cell_type": "markdown",
   "source": [
    "there are also examples like `19th century` which is not that bad, but there are also things like `after 1885`, like what is that supposed to mean, what range after?"
   ],
   "metadata": {
    "collapsed": false
   }
  },
  {
   "cell_type": "markdown",
   "source": [
    "## 3B\n",
    "as I have already talked about in 2B, the number of `|` in all of the artist related columns should be the same, since this is used when there are multiple columns. So if the number of these is different on a row, then it could be an integrity problem, lets check"
   ],
   "metadata": {
    "collapsed": false
   }
  },
  {
   "cell_type": "code",
   "execution_count": 61,
   "outputs": [
    {
     "data": {
      "text/plain": "Index(['Object Number', 'Is Highlight', 'Is Timeline Work', 'Is Public Domain',\n       'Gallery Number', 'Department', 'AccessionYear', 'Object Name', 'Title',\n       'Culture', 'Period', 'Dynasty', 'Reign', 'Portfolio', 'Constituent ID',\n       'Artist Role', 'Artist Prefix', 'Artist Display Name',\n       'Artist Display Bio', 'Artist Suffix', 'Artist Alpha Sort',\n       'Artist Nationality', 'Artist Begin Date', 'Artist End Date',\n       'Artist Gender', 'Artist ULAN URL', 'Artist Wikidata URL',\n       'Object Date', 'Object Begin Date', 'Object End Date', 'Medium',\n       'Dimensions', 'Credit Line', 'Geography Type', 'City', 'State',\n       'County', 'Country', 'Region', 'Subregion', 'Locale', 'Locus',\n       'Excavation', 'River', 'Classification', 'Rights and Reproduction',\n       'Link Resource', 'Object Wikidata URL', 'Metadata Date', 'Repository',\n       'Tags', 'Tags AAT URL', 'Tags Wikidata URL', 'Object_name_len',\n       'object_date_combined'],\n      dtype='object')"
     },
     "execution_count": 61,
     "metadata": {},
     "output_type": "execute_result"
    }
   ],
   "source": [
    "# find out list of all artist columns\n",
    "df.columns"
   ],
   "metadata": {
    "collapsed": false
   }
  },
  {
   "cell_type": "code",
   "execution_count": 62,
   "outputs": [],
   "source": [
    "artist_columns=[\n",
    "    'Artist Role', 'Artist Prefix', 'Artist Display Name', 'Artist Display Bio', 'Artist Suffix', 'Artist Alpha Sort', 'Artist Nationality', 'Artist Begin Date', 'Artist End Date', 'Artist Gender', 'Artist ULAN URL', 'Artist Wikidata URL'\n",
    "]"
   ],
   "metadata": {
    "collapsed": false
   }
  },
  {
   "cell_type": "code",
   "execution_count": 64,
   "outputs": [],
   "source": [
    "# get number of occurrences for `|` for all artist columns\n",
    "artist_pipe_counts = {}\n",
    "for col in artist_columns:\n",
    "    artist_pipe_counts[col] = df[col].apply(lambda x: str(x).count('|'))"
   ],
   "metadata": {
    "collapsed": false
   }
  },
  {
   "cell_type": "code",
   "execution_count": 74,
   "outputs": [
    {
     "data": {
      "text/plain": "Empty DataFrame\nColumns: [Object Number, Is Highlight, Is Timeline Work, Is Public Domain, Gallery Number, Department, AccessionYear, Object Name, Title, Culture, Period, Dynasty, Reign, Portfolio, Constituent ID, Artist Role, Artist Prefix, Artist Display Name, Artist Display Bio, Artist Suffix, Artist Alpha Sort, Artist Nationality, Artist Begin Date, Artist End Date, Artist Gender, Artist ULAN URL, Artist Wikidata URL, Object Date, Object Begin Date, Object End Date, Medium, Dimensions, Credit Line, Geography Type, City, State, County, Country, Region, Subregion, Locale, Locus, Excavation, River, Classification, Rights and Reproduction, Link Resource, Object Wikidata URL, Metadata Date, Repository, Tags, Tags AAT URL, Tags Wikidata URL, Object_name_len, object_date_combined]\nIndex: []\n\n[0 rows x 55 columns]",
      "text/html": "<div>\n<style scoped>\n    .dataframe tbody tr th:only-of-type {\n        vertical-align: middle;\n    }\n\n    .dataframe tbody tr th {\n        vertical-align: top;\n    }\n\n    .dataframe thead th {\n        text-align: right;\n    }\n</style>\n<table border=\"1\" class=\"dataframe\">\n  <thead>\n    <tr style=\"text-align: right;\">\n      <th></th>\n      <th>Object Number</th>\n      <th>Is Highlight</th>\n      <th>Is Timeline Work</th>\n      <th>Is Public Domain</th>\n      <th>Gallery Number</th>\n      <th>Department</th>\n      <th>AccessionYear</th>\n      <th>Object Name</th>\n      <th>Title</th>\n      <th>Culture</th>\n      <th>...</th>\n      <th>Rights and Reproduction</th>\n      <th>Link Resource</th>\n      <th>Object Wikidata URL</th>\n      <th>Metadata Date</th>\n      <th>Repository</th>\n      <th>Tags</th>\n      <th>Tags AAT URL</th>\n      <th>Tags Wikidata URL</th>\n      <th>Object_name_len</th>\n      <th>object_date_combined</th>\n    </tr>\n    <tr>\n      <th>Object ID</th>\n      <th></th>\n      <th></th>\n      <th></th>\n      <th></th>\n      <th></th>\n      <th></th>\n      <th></th>\n      <th></th>\n      <th></th>\n      <th></th>\n      <th></th>\n      <th></th>\n      <th></th>\n      <th></th>\n      <th></th>\n      <th></th>\n      <th></th>\n      <th></th>\n      <th></th>\n      <th></th>\n      <th></th>\n    </tr>\n  </thead>\n  <tbody>\n  </tbody>\n</table>\n<p>0 rows × 55 columns</p>\n</div>"
     },
     "execution_count": 74,
     "metadata": {},
     "output_type": "execute_result"
    }
   ],
   "source": [
    "# example\n",
    "df.loc[artist_pipe_counts['Artist Role'] != artist_pipe_counts['Artist Display Name']]"
   ],
   "metadata": {
    "collapsed": false
   }
  },
  {
   "cell_type": "code",
   "execution_count": 79,
   "outputs": [],
   "source": [
    "for i in range(0, len(artist_columns)-1):\n",
    "    a = artist_columns[i]\n",
    "    b = artist_columns[i+1]\n",
    "    missmatch_count = len(df.loc[artist_pipe_counts[a] != artist_pipe_counts[b]])\n",
    "    if missmatch_count > 0:\n",
    "        print(f\"Pipe count does not match for columns `{a}` and `{b}`\")\n"
   ],
   "metadata": {
    "collapsed": false
   }
  },
  {
   "cell_type": "markdown",
   "source": [
    "Based on this we know that the count of `|` occurrences is the same for all columns, hence integrity is fine (at least in this case anyway)"
   ],
   "metadata": {
    "collapsed": false
   }
  },
  {
   "cell_type": "markdown",
   "source": [],
   "metadata": {
    "collapsed": false
   }
  },
  {
   "cell_type": "markdown",
   "source": [
    "# 4. Convert at least **five features** to a proper data type. Choose at least one numeric, one categorical and one datetime. _(1.5 points)_"
   ],
   "metadata": {
    "collapsed": false
   }
  },
  {
   "cell_type": "code",
   "execution_count": 89,
   "outputs": [
    {
     "data": {
      "text/plain": "          Object Number Gallery Number Object Name  \\\nObject ID                                            \n1            1979.486.1            NaN        Coin   \n2            1980.264.5            NaN        Coin   \n3              67.265.9            NaN        Coin   \n4             67.265.10            NaN        Coin   \n5             67.265.11            NaN        Coin   \n...                 ...            ...         ...   \n860869      23.112.2893            NaN     Drawing   \n860870      23.112.2894            NaN     Drawing   \n860871      53.600.1434            NaN       Print   \n860872      23.112.2895            NaN     Drawing   \n860873      23.112.2896            NaN     Drawing   \n\n                                                       Title Culture Period  \\\nObject ID                                                                     \n1                               One-dollar Liberty Head Coin     NaN    NaN   \n2                               Ten-dollar Liberty Head Coin     NaN    NaN   \n3                                 Two-and-a-Half Dollar Coin     NaN    NaN   \n4                                 Two-and-a-Half Dollar Coin     NaN    NaN   \n5                                 Two-and-a-Half Dollar Coin     NaN    NaN   \n...                                                      ...     ...    ...   \n860869                                        Phaeton #24567     NaN    NaN   \n860870                Stanhope Phaeton #25538-25539 (#21222)     NaN    NaN   \n860871     Forest landscape with cattle drinking, a woman...     NaN    NaN   \n860872                              Phaeton with folding top     NaN    NaN   \n860873                                      Stanhope Phaeton     NaN    NaN   \n\n          Dynasty Reign Portfolio Constituent ID  ... River Classification  \\\nObject ID                                         ...                        \n1             NaN   NaN       NaN          16429  ...   NaN            NaN   \n2             NaN   NaN       NaN            107  ...   NaN            NaN   \n3             NaN   NaN       NaN            NaN  ...   NaN            NaN   \n4             NaN   NaN       NaN            NaN  ...   NaN            NaN   \n5             NaN   NaN       NaN            NaN  ...   NaN            NaN   \n...           ...   ...       ...            ...  ...   ...            ...   \n860869        NaN   NaN       NaN          16517  ...   NaN       Drawings   \n860870        NaN   NaN       NaN          16517  ...   NaN       Drawings   \n860871        NaN   NaN       NaN          16489  ...   NaN         Prints   \n860872        NaN   NaN       NaN          16517  ...   NaN       Drawings   \n860873        NaN   NaN       NaN          16517  ...   NaN       Drawings   \n\n          Rights and Reproduction  \\\nObject ID                           \n1                             NaN   \n2                             NaN   \n3                             NaN   \n4                             NaN   \n5                             NaN   \n...                           ...   \n860869                        NaN   \n860870                        NaN   \n860871                        NaN   \n860872                        NaN   \n860873                        NaN   \n\n                                               Link Resource  \\\nObject ID                                                      \n1           http://www.metmuseum.org/art/collection/search/1   \n2           http://www.metmuseum.org/art/collection/search/2   \n3           http://www.metmuseum.org/art/collection/search/3   \n4           http://www.metmuseum.org/art/collection/search/4   \n5           http://www.metmuseum.org/art/collection/search/5   \n...                                                      ...   \n860869     http://www.metmuseum.org/art/collection/search...   \n860870     http://www.metmuseum.org/art/collection/search...   \n860871     http://www.metmuseum.org/art/collection/search...   \n860872     http://www.metmuseum.org/art/collection/search...   \n860873     http://www.metmuseum.org/art/collection/search...   \n\n          Object Wikidata URL                                Repository  \\\nObject ID                                                                 \n1                         NaN  Metropolitan Museum of Art, New York, NY   \n2                         NaN  Metropolitan Museum of Art, New York, NY   \n3                         NaN  Metropolitan Museum of Art, New York, NY   \n4                         NaN  Metropolitan Museum of Art, New York, NY   \n5                         NaN  Metropolitan Museum of Art, New York, NY   \n...                       ...                                       ...   \n860869                    NaN  Metropolitan Museum of Art, New York, NY   \n860870                    NaN  Metropolitan Museum of Art, New York, NY   \n860871                    NaN  Metropolitan Museum of Art, New York, NY   \n860872                    NaN  Metropolitan Museum of Art, New York, NY   \n860873                    NaN  Metropolitan Museum of Art, New York, NY   \n\n                Tags                               Tags AAT URL  \\\nObject ID                                                         \n1                NaN                                        NaN   \n2                NaN                                        NaN   \n3                NaN                                        NaN   \n4                NaN                                        NaN   \n5                NaN                                        NaN   \n...              ...                                        ...   \n860869     Carriages  http://vocab.getty.edu/page/aat/300185335   \n860870     Carriages  http://vocab.getty.edu/page/aat/300185335   \n860871           NaN                                        NaN   \n860872     Carriages  http://vocab.getty.edu/page/aat/300185335   \n860873     Carriages  http://vocab.getty.edu/page/aat/300185335   \n\n                               Tags Wikidata URL object_date_combined  \nObject ID                                                              \n1                                            NaN                 1853  \n2                                            NaN                 1901  \n3                                            NaN              1909–27  \n4                                            NaN              1909–27  \n5                                            NaN              1909–27  \n...                                          ...                  ...  \n860869     https://www.wikidata.org/wiki/Q235356                 1904  \n860870     https://www.wikidata.org/wiki/Q235356                 1904  \n860871                                       NaN              1768–78  \n860872     https://www.wikidata.org/wiki/Q235356            1890–1900  \n860873     https://www.wikidata.org/wiki/Q235356            1890–1900  \n\n[477804 rows x 46 columns]",
      "text/html": "<div>\n<style scoped>\n    .dataframe tbody tr th:only-of-type {\n        vertical-align: middle;\n    }\n\n    .dataframe tbody tr th {\n        vertical-align: top;\n    }\n\n    .dataframe thead th {\n        text-align: right;\n    }\n</style>\n<table border=\"1\" class=\"dataframe\">\n  <thead>\n    <tr style=\"text-align: right;\">\n      <th></th>\n      <th>Object Number</th>\n      <th>Gallery Number</th>\n      <th>Object Name</th>\n      <th>Title</th>\n      <th>Culture</th>\n      <th>Period</th>\n      <th>Dynasty</th>\n      <th>Reign</th>\n      <th>Portfolio</th>\n      <th>Constituent ID</th>\n      <th>...</th>\n      <th>River</th>\n      <th>Classification</th>\n      <th>Rights and Reproduction</th>\n      <th>Link Resource</th>\n      <th>Object Wikidata URL</th>\n      <th>Repository</th>\n      <th>Tags</th>\n      <th>Tags AAT URL</th>\n      <th>Tags Wikidata URL</th>\n      <th>object_date_combined</th>\n    </tr>\n    <tr>\n      <th>Object ID</th>\n      <th></th>\n      <th></th>\n      <th></th>\n      <th></th>\n      <th></th>\n      <th></th>\n      <th></th>\n      <th></th>\n      <th></th>\n      <th></th>\n      <th></th>\n      <th></th>\n      <th></th>\n      <th></th>\n      <th></th>\n      <th></th>\n      <th></th>\n      <th></th>\n      <th></th>\n      <th></th>\n      <th></th>\n    </tr>\n  </thead>\n  <tbody>\n    <tr>\n      <th>1</th>\n      <td>1979.486.1</td>\n      <td>NaN</td>\n      <td>Coin</td>\n      <td>One-dollar Liberty Head Coin</td>\n      <td>NaN</td>\n      <td>NaN</td>\n      <td>NaN</td>\n      <td>NaN</td>\n      <td>NaN</td>\n      <td>16429</td>\n      <td>...</td>\n      <td>NaN</td>\n      <td>NaN</td>\n      <td>NaN</td>\n      <td>http://www.metmuseum.org/art/collection/search/1</td>\n      <td>NaN</td>\n      <td>Metropolitan Museum of Art, New York, NY</td>\n      <td>NaN</td>\n      <td>NaN</td>\n      <td>NaN</td>\n      <td>1853</td>\n    </tr>\n    <tr>\n      <th>2</th>\n      <td>1980.264.5</td>\n      <td>NaN</td>\n      <td>Coin</td>\n      <td>Ten-dollar Liberty Head Coin</td>\n      <td>NaN</td>\n      <td>NaN</td>\n      <td>NaN</td>\n      <td>NaN</td>\n      <td>NaN</td>\n      <td>107</td>\n      <td>...</td>\n      <td>NaN</td>\n      <td>NaN</td>\n      <td>NaN</td>\n      <td>http://www.metmuseum.org/art/collection/search/2</td>\n      <td>NaN</td>\n      <td>Metropolitan Museum of Art, New York, NY</td>\n      <td>NaN</td>\n      <td>NaN</td>\n      <td>NaN</td>\n      <td>1901</td>\n    </tr>\n    <tr>\n      <th>3</th>\n      <td>67.265.9</td>\n      <td>NaN</td>\n      <td>Coin</td>\n      <td>Two-and-a-Half Dollar Coin</td>\n      <td>NaN</td>\n      <td>NaN</td>\n      <td>NaN</td>\n      <td>NaN</td>\n      <td>NaN</td>\n      <td>NaN</td>\n      <td>...</td>\n      <td>NaN</td>\n      <td>NaN</td>\n      <td>NaN</td>\n      <td>http://www.metmuseum.org/art/collection/search/3</td>\n      <td>NaN</td>\n      <td>Metropolitan Museum of Art, New York, NY</td>\n      <td>NaN</td>\n      <td>NaN</td>\n      <td>NaN</td>\n      <td>1909–27</td>\n    </tr>\n    <tr>\n      <th>4</th>\n      <td>67.265.10</td>\n      <td>NaN</td>\n      <td>Coin</td>\n      <td>Two-and-a-Half Dollar Coin</td>\n      <td>NaN</td>\n      <td>NaN</td>\n      <td>NaN</td>\n      <td>NaN</td>\n      <td>NaN</td>\n      <td>NaN</td>\n      <td>...</td>\n      <td>NaN</td>\n      <td>NaN</td>\n      <td>NaN</td>\n      <td>http://www.metmuseum.org/art/collection/search/4</td>\n      <td>NaN</td>\n      <td>Metropolitan Museum of Art, New York, NY</td>\n      <td>NaN</td>\n      <td>NaN</td>\n      <td>NaN</td>\n      <td>1909–27</td>\n    </tr>\n    <tr>\n      <th>5</th>\n      <td>67.265.11</td>\n      <td>NaN</td>\n      <td>Coin</td>\n      <td>Two-and-a-Half Dollar Coin</td>\n      <td>NaN</td>\n      <td>NaN</td>\n      <td>NaN</td>\n      <td>NaN</td>\n      <td>NaN</td>\n      <td>NaN</td>\n      <td>...</td>\n      <td>NaN</td>\n      <td>NaN</td>\n      <td>NaN</td>\n      <td>http://www.metmuseum.org/art/collection/search/5</td>\n      <td>NaN</td>\n      <td>Metropolitan Museum of Art, New York, NY</td>\n      <td>NaN</td>\n      <td>NaN</td>\n      <td>NaN</td>\n      <td>1909–27</td>\n    </tr>\n    <tr>\n      <th>...</th>\n      <td>...</td>\n      <td>...</td>\n      <td>...</td>\n      <td>...</td>\n      <td>...</td>\n      <td>...</td>\n      <td>...</td>\n      <td>...</td>\n      <td>...</td>\n      <td>...</td>\n      <td>...</td>\n      <td>...</td>\n      <td>...</td>\n      <td>...</td>\n      <td>...</td>\n      <td>...</td>\n      <td>...</td>\n      <td>...</td>\n      <td>...</td>\n      <td>...</td>\n      <td>...</td>\n    </tr>\n    <tr>\n      <th>860869</th>\n      <td>23.112.2893</td>\n      <td>NaN</td>\n      <td>Drawing</td>\n      <td>Phaeton #24567</td>\n      <td>NaN</td>\n      <td>NaN</td>\n      <td>NaN</td>\n      <td>NaN</td>\n      <td>NaN</td>\n      <td>16517</td>\n      <td>...</td>\n      <td>NaN</td>\n      <td>Drawings</td>\n      <td>NaN</td>\n      <td>http://www.metmuseum.org/art/collection/search...</td>\n      <td>NaN</td>\n      <td>Metropolitan Museum of Art, New York, NY</td>\n      <td>Carriages</td>\n      <td>http://vocab.getty.edu/page/aat/300185335</td>\n      <td>https://www.wikidata.org/wiki/Q235356</td>\n      <td>1904</td>\n    </tr>\n    <tr>\n      <th>860870</th>\n      <td>23.112.2894</td>\n      <td>NaN</td>\n      <td>Drawing</td>\n      <td>Stanhope Phaeton #25538-25539 (#21222)</td>\n      <td>NaN</td>\n      <td>NaN</td>\n      <td>NaN</td>\n      <td>NaN</td>\n      <td>NaN</td>\n      <td>16517</td>\n      <td>...</td>\n      <td>NaN</td>\n      <td>Drawings</td>\n      <td>NaN</td>\n      <td>http://www.metmuseum.org/art/collection/search...</td>\n      <td>NaN</td>\n      <td>Metropolitan Museum of Art, New York, NY</td>\n      <td>Carriages</td>\n      <td>http://vocab.getty.edu/page/aat/300185335</td>\n      <td>https://www.wikidata.org/wiki/Q235356</td>\n      <td>1904</td>\n    </tr>\n    <tr>\n      <th>860871</th>\n      <td>53.600.1434</td>\n      <td>NaN</td>\n      <td>Print</td>\n      <td>Forest landscape with cattle drinking, a woman...</td>\n      <td>NaN</td>\n      <td>NaN</td>\n      <td>NaN</td>\n      <td>NaN</td>\n      <td>NaN</td>\n      <td>16489</td>\n      <td>...</td>\n      <td>NaN</td>\n      <td>Prints</td>\n      <td>NaN</td>\n      <td>http://www.metmuseum.org/art/collection/search...</td>\n      <td>NaN</td>\n      <td>Metropolitan Museum of Art, New York, NY</td>\n      <td>NaN</td>\n      <td>NaN</td>\n      <td>NaN</td>\n      <td>1768–78</td>\n    </tr>\n    <tr>\n      <th>860872</th>\n      <td>23.112.2895</td>\n      <td>NaN</td>\n      <td>Drawing</td>\n      <td>Phaeton with folding top</td>\n      <td>NaN</td>\n      <td>NaN</td>\n      <td>NaN</td>\n      <td>NaN</td>\n      <td>NaN</td>\n      <td>16517</td>\n      <td>...</td>\n      <td>NaN</td>\n      <td>Drawings</td>\n      <td>NaN</td>\n      <td>http://www.metmuseum.org/art/collection/search...</td>\n      <td>NaN</td>\n      <td>Metropolitan Museum of Art, New York, NY</td>\n      <td>Carriages</td>\n      <td>http://vocab.getty.edu/page/aat/300185335</td>\n      <td>https://www.wikidata.org/wiki/Q235356</td>\n      <td>1890–1900</td>\n    </tr>\n    <tr>\n      <th>860873</th>\n      <td>23.112.2896</td>\n      <td>NaN</td>\n      <td>Drawing</td>\n      <td>Stanhope Phaeton</td>\n      <td>NaN</td>\n      <td>NaN</td>\n      <td>NaN</td>\n      <td>NaN</td>\n      <td>NaN</td>\n      <td>16517</td>\n      <td>...</td>\n      <td>NaN</td>\n      <td>Drawings</td>\n      <td>NaN</td>\n      <td>http://www.metmuseum.org/art/collection/search...</td>\n      <td>NaN</td>\n      <td>Metropolitan Museum of Art, New York, NY</td>\n      <td>Carriages</td>\n      <td>http://vocab.getty.edu/page/aat/300185335</td>\n      <td>https://www.wikidata.org/wiki/Q235356</td>\n      <td>1890–1900</td>\n    </tr>\n  </tbody>\n</table>\n<p>477804 rows × 46 columns</p>\n</div>"
     },
     "execution_count": 89,
     "metadata": {},
     "output_type": "execute_result"
    }
   ],
   "source": [
    "# lets get all object type columns\n",
    "df.select_dtypes(include=['object'])"
   ],
   "metadata": {
    "collapsed": false
   }
  },
  {
   "cell_type": "markdown",
   "source": [
    "### 4a\n",
    "as far as datetime, we can choose AssentionYear. It appears to represent years only, but it still doesnt hurt to change to datetime. One of the advantage might be future comparisons"
   ],
   "metadata": {
    "collapsed": false
   }
  },
  {
   "cell_type": "code",
   "execution_count": 84,
   "outputs": [],
   "source": [
    "df['AccessionYear']= pd.to_datetime(df['AccessionYear'])"
   ],
   "metadata": {
    "collapsed": false
   }
  },
  {
   "cell_type": "markdown",
   "source": [
    "### 4b,c,d\n",
    "Department seems like a good candidate for categorical data type with 19 unique values`"
   ],
   "metadata": {
    "collapsed": false
   }
  },
  {
   "cell_type": "code",
   "execution_count": 94,
   "outputs": [],
   "source": [
    "# sex_category = pd.api.types.CategoricalDtype(categories=['male','female'], ordered=False)\n",
    "# df['Department'] = df['Department'].astype(sex_category)\n",
    "df['Department'] = pd.Categorical(df['Department'])"
   ],
   "metadata": {
    "collapsed": false
   }
  },
  {
   "cell_type": "markdown",
   "source": [
    "these also look like good candinates\n",
    "```\n",
    "Dynasty,403\n",
    "Reign,389\n",
    "```"
   ],
   "metadata": {
    "collapsed": false
   }
  },
  {
   "cell_type": "code",
   "execution_count": 93,
   "outputs": [],
   "source": [
    "df['Dynasty'] = pd.Categorical(df['Dynasty'])\n",
    "df['Reign'] = pd.Categorical(df['Reign'])"
   ],
   "metadata": {
    "collapsed": false
   }
  },
  {
   "cell_type": "markdown",
   "source": [
    "If I would do the already mentioned cleaning for `Object Name`, then it would also be a good candidate for Categorical data type, but it is definitely not in the current state."
   ],
   "metadata": {
    "collapsed": false
   }
  },
  {
   "cell_type": "markdown",
   "source": [
    "### 4e\n",
    "as for the numerical data type, I am currently thinking `Constituent ID`, lets try it"
   ],
   "metadata": {
    "collapsed": false
   }
  },
  {
   "cell_type": "code",
   "execution_count": 114,
   "outputs": [
    {
     "name": "stdout",
     "output_type": "stream",
     "text": [
      "Integer out of range. at position 389\n"
     ]
    }
   ],
   "source": [
    "try:\n",
    "    df['Constituent ID']= pd.to_numeric(df['Constituent ID'])\n",
    "except Exception as e:\n",
    "    print(e)"
   ],
   "metadata": {
    "collapsed": false
   }
  },
  {
   "cell_type": "markdown",
   "source": [
    "Oh, the IDs dont fit into 64bit integer, never mind, lets take a look at smth else.\n",
    "Maybe `Galery Number`, somebody could consider it as a categorical data type, but I thinking about it more as an ID."
   ],
   "metadata": {
    "collapsed": false
   }
  },
  {
   "cell_type": "code",
   "execution_count": 103,
   "outputs": [
    {
     "data": {
      "text/plain": "                         Object Number  Is Highlight  Is Timeline Work  \\\nObject ID                                                                \n1                           1979.486.1         False             False   \n33                               64.62         False             False   \n35                             04.1a–c          True              True   \n42                             60.58.1         False             False   \n62                            22.120.1         False             False   \n...                                ...           ...               ...   \n854924                      2021.326.1         False             False   \n855358                    2021.323a, b         False             False   \n855895                      48.101.91h         False             False   \n857061     NB198.5.J84 J86 1966 Quarto          True             False   \n857709                      74.51.6718         False             False   \n\n           Is Public Domain  Gallery Number           Department  \\\nObject ID                                                          \n1                     False             NaN    The American Wing   \n33                    False             774    The American Wing   \n35                    False             706    The American Wing   \n42                     True             724    The American Wing   \n62                     True             741    The American Wing   \n...                     ...             ...                  ...   \n854924                False             253            Asian Art   \n855358                False             207            Asian Art   \n855895                 True             453          Islamic Art   \n857061                False  Watson Library        The Libraries   \n857709                 True             171  Greek and Roman Art   \n\n                          AccessionYear                  Object Name  \\\nObject ID                                                              \n1         1970-01-01 00:00:00.000001979                         Coin   \n33        1970-01-01 00:00:00.000001964                         Bust   \n35        1970-01-01 00:00:00.000001904                         Vase   \n42        1970-01-01 00:00:00.000001960                      Andiron   \n62        1970-01-01 00:00:00.000001922                      Andiron   \n...                                 ...                          ...   \n854924    2021-01-01 00:00:00.000000000                       Tangka   \n855358    2021-01-01 00:00:00.000000000  Hexagonal vessel with cover   \n855895    1948-01-01 00:00:00.000000000           Beads and pendants   \n857061                              NaT                          NaN   \n857709    1874-01-01 00:00:00.000000000                        Askos   \n\n                                                       Title        Culture  \\\nObject ID                                                                     \n1                               One-dollar Liberty Head Coin            NaN   \n33                                   Bust of Abraham Lincoln       American   \n35                                            The Adams Vase       American   \n42                                                   Andiron       American   \n62                                                   Andiron            NaN   \n...                                                      ...            ...   \n854924                                                   NaN  Central Tibet   \n855358     손대현 주칠빙렬무늬 함|孫大鉉　八角牡丹文　器 |Hexagonal vessel wit...          Korea   \n855895                                    Beads and Pendants            NaN   \n857061                                      66 signs of neon            NaN   \n857709          Terracotta askos in the shape of a quadruped        Cypriot   \n\n           ... Rights and Reproduction  \\\nObject ID  ...                           \n1          ...                     NaN   \n33         ...                     NaN   \n35         ...                     NaN   \n42         ...                     NaN   \n62         ...                     NaN   \n...        ...                     ...   \n854924     ...                     NaN   \n855358     ...          © Sohn Daehyun   \n855895     ...                     NaN   \n857061     ...                     NaN   \n857709     ...                     NaN   \n\n                                               Link Resource  \\\nObject ID                                                      \n1           http://www.metmuseum.org/art/collection/search/1   \n33         http://www.metmuseum.org/art/collection/search/33   \n35         http://www.metmuseum.org/art/collection/search/35   \n42         http://www.metmuseum.org/art/collection/search/42   \n62         http://www.metmuseum.org/art/collection/search/62   \n...                                                      ...   \n854924     http://www.metmuseum.org/art/collection/search...   \n855358     http://www.metmuseum.org/art/collection/search...   \n855895     http://www.metmuseum.org/art/collection/search...   \n857061     http://www.metmuseum.org/art/collection/search...   \n857709     http://www.metmuseum.org/art/collection/search...   \n\n                               Object Wikidata URL Metadata Date  \\\nObject ID                                                          \n1                                              NaN           NaN   \n33                                             NaN           NaN   \n35         https://www.wikidata.org/wiki/Q83545838           NaN   \n42                                             NaN           NaN   \n62                                             NaN           NaN   \n...                                            ...           ...   \n854924                                         NaN           NaN   \n855358                                         NaN           NaN   \n855895                                         NaN           NaN   \n857061                                         NaN           NaN   \n857709                                         NaN           NaN   \n\n                                         Repository  \\\nObject ID                                             \n1          Metropolitan Museum of Art, New York, NY   \n33         Metropolitan Museum of Art, New York, NY   \n35         Metropolitan Museum of Art, New York, NY   \n42         Metropolitan Museum of Art, New York, NY   \n62         Metropolitan Museum of Art, New York, NY   \n...                                             ...   \n854924     Metropolitan Museum of Art, New York, NY   \n855358     Metropolitan Museum of Art, New York, NY   \n855895     Metropolitan Museum of Art, New York, NY   \n857061     Metropolitan Museum of Art, New York, NY   \n857709     Metropolitan Museum of Art, New York, NY   \n\n                                    Tags  \\\nObject ID                                  \n1                                    NaN   \n33         Men|Abraham Lincoln|Portraits   \n35            Animals|Garlands|Birds|Men   \n42                                   NaN   \n62                                   NaN   \n...                                  ...   \n854924                               NaN   \n855358                               NaN   \n855895                               NaN   \n857061                               NaN   \n857709                               NaN   \n\n                                                Tags AAT URL  \\\nObject ID                                                      \n1                                                        NaN   \n33         http://vocab.getty.edu/page/aat/300025928|http...   \n35         http://vocab.getty.edu/page/aat/300249525|http...   \n42                                                       NaN   \n62                                                       NaN   \n...                                                      ...   \n854924                                                   NaN   \n855358                                                   NaN   \n855895                                                   NaN   \n857061                                                   NaN   \n857709                                                   NaN   \n\n                                           Tags Wikidata URL Object_name_len  \\\nObject ID                                                                      \n1                                                        NaN             4.0   \n33         https://www.wikidata.org/wiki/Q8441|https://ww...             4.0   \n35         https://www.wikidata.org/wiki/Q729|https://www...             4.0   \n42                                                       NaN             7.0   \n62                                                       NaN             7.0   \n...                                                      ...             ...   \n854924                                                   NaN             6.0   \n855358                                                   NaN            27.0   \n855895                                                   NaN            18.0   \n857061                                                   NaN             NaN   \n857709                                                   NaN             5.0   \n\n          object_date_combined  \nObject ID                       \n1                         1853  \n33                        1876  \n35                      1893–5  \n42                   1795–1810  \n62                   1797–1800  \n...                        ...  \n854924               1600–1799  \n855358                    2018  \n855895                700–1299  \n857061                    1966  \n857709             -2000–-1725  \n\n[608 rows x 55 columns]",
      "text/html": "<div>\n<style scoped>\n    .dataframe tbody tr th:only-of-type {\n        vertical-align: middle;\n    }\n\n    .dataframe tbody tr th {\n        vertical-align: top;\n    }\n\n    .dataframe thead th {\n        text-align: right;\n    }\n</style>\n<table border=\"1\" class=\"dataframe\">\n  <thead>\n    <tr style=\"text-align: right;\">\n      <th></th>\n      <th>Object Number</th>\n      <th>Is Highlight</th>\n      <th>Is Timeline Work</th>\n      <th>Is Public Domain</th>\n      <th>Gallery Number</th>\n      <th>Department</th>\n      <th>AccessionYear</th>\n      <th>Object Name</th>\n      <th>Title</th>\n      <th>Culture</th>\n      <th>...</th>\n      <th>Rights and Reproduction</th>\n      <th>Link Resource</th>\n      <th>Object Wikidata URL</th>\n      <th>Metadata Date</th>\n      <th>Repository</th>\n      <th>Tags</th>\n      <th>Tags AAT URL</th>\n      <th>Tags Wikidata URL</th>\n      <th>Object_name_len</th>\n      <th>object_date_combined</th>\n    </tr>\n    <tr>\n      <th>Object ID</th>\n      <th></th>\n      <th></th>\n      <th></th>\n      <th></th>\n      <th></th>\n      <th></th>\n      <th></th>\n      <th></th>\n      <th></th>\n      <th></th>\n      <th></th>\n      <th></th>\n      <th></th>\n      <th></th>\n      <th></th>\n      <th></th>\n      <th></th>\n      <th></th>\n      <th></th>\n      <th></th>\n      <th></th>\n    </tr>\n  </thead>\n  <tbody>\n    <tr>\n      <th>1</th>\n      <td>1979.486.1</td>\n      <td>False</td>\n      <td>False</td>\n      <td>False</td>\n      <td>NaN</td>\n      <td>The American Wing</td>\n      <td>1970-01-01 00:00:00.000001979</td>\n      <td>Coin</td>\n      <td>One-dollar Liberty Head Coin</td>\n      <td>NaN</td>\n      <td>...</td>\n      <td>NaN</td>\n      <td>http://www.metmuseum.org/art/collection/search/1</td>\n      <td>NaN</td>\n      <td>NaN</td>\n      <td>Metropolitan Museum of Art, New York, NY</td>\n      <td>NaN</td>\n      <td>NaN</td>\n      <td>NaN</td>\n      <td>4.0</td>\n      <td>1853</td>\n    </tr>\n    <tr>\n      <th>33</th>\n      <td>64.62</td>\n      <td>False</td>\n      <td>False</td>\n      <td>False</td>\n      <td>774</td>\n      <td>The American Wing</td>\n      <td>1970-01-01 00:00:00.000001964</td>\n      <td>Bust</td>\n      <td>Bust of Abraham Lincoln</td>\n      <td>American</td>\n      <td>...</td>\n      <td>NaN</td>\n      <td>http://www.metmuseum.org/art/collection/search/33</td>\n      <td>NaN</td>\n      <td>NaN</td>\n      <td>Metropolitan Museum of Art, New York, NY</td>\n      <td>Men|Abraham Lincoln|Portraits</td>\n      <td>http://vocab.getty.edu/page/aat/300025928|http...</td>\n      <td>https://www.wikidata.org/wiki/Q8441|https://ww...</td>\n      <td>4.0</td>\n      <td>1876</td>\n    </tr>\n    <tr>\n      <th>35</th>\n      <td>04.1a–c</td>\n      <td>True</td>\n      <td>True</td>\n      <td>False</td>\n      <td>706</td>\n      <td>The American Wing</td>\n      <td>1970-01-01 00:00:00.000001904</td>\n      <td>Vase</td>\n      <td>The Adams Vase</td>\n      <td>American</td>\n      <td>...</td>\n      <td>NaN</td>\n      <td>http://www.metmuseum.org/art/collection/search/35</td>\n      <td>https://www.wikidata.org/wiki/Q83545838</td>\n      <td>NaN</td>\n      <td>Metropolitan Museum of Art, New York, NY</td>\n      <td>Animals|Garlands|Birds|Men</td>\n      <td>http://vocab.getty.edu/page/aat/300249525|http...</td>\n      <td>https://www.wikidata.org/wiki/Q729|https://www...</td>\n      <td>4.0</td>\n      <td>1893–5</td>\n    </tr>\n    <tr>\n      <th>42</th>\n      <td>60.58.1</td>\n      <td>False</td>\n      <td>False</td>\n      <td>True</td>\n      <td>724</td>\n      <td>The American Wing</td>\n      <td>1970-01-01 00:00:00.000001960</td>\n      <td>Andiron</td>\n      <td>Andiron</td>\n      <td>American</td>\n      <td>...</td>\n      <td>NaN</td>\n      <td>http://www.metmuseum.org/art/collection/search/42</td>\n      <td>NaN</td>\n      <td>NaN</td>\n      <td>Metropolitan Museum of Art, New York, NY</td>\n      <td>NaN</td>\n      <td>NaN</td>\n      <td>NaN</td>\n      <td>7.0</td>\n      <td>1795–1810</td>\n    </tr>\n    <tr>\n      <th>62</th>\n      <td>22.120.1</td>\n      <td>False</td>\n      <td>False</td>\n      <td>True</td>\n      <td>741</td>\n      <td>The American Wing</td>\n      <td>1970-01-01 00:00:00.000001922</td>\n      <td>Andiron</td>\n      <td>Andiron</td>\n      <td>NaN</td>\n      <td>...</td>\n      <td>NaN</td>\n      <td>http://www.metmuseum.org/art/collection/search/62</td>\n      <td>NaN</td>\n      <td>NaN</td>\n      <td>Metropolitan Museum of Art, New York, NY</td>\n      <td>NaN</td>\n      <td>NaN</td>\n      <td>NaN</td>\n      <td>7.0</td>\n      <td>1797–1800</td>\n    </tr>\n    <tr>\n      <th>...</th>\n      <td>...</td>\n      <td>...</td>\n      <td>...</td>\n      <td>...</td>\n      <td>...</td>\n      <td>...</td>\n      <td>...</td>\n      <td>...</td>\n      <td>...</td>\n      <td>...</td>\n      <td>...</td>\n      <td>...</td>\n      <td>...</td>\n      <td>...</td>\n      <td>...</td>\n      <td>...</td>\n      <td>...</td>\n      <td>...</td>\n      <td>...</td>\n      <td>...</td>\n      <td>...</td>\n    </tr>\n    <tr>\n      <th>854924</th>\n      <td>2021.326.1</td>\n      <td>False</td>\n      <td>False</td>\n      <td>False</td>\n      <td>253</td>\n      <td>Asian Art</td>\n      <td>2021-01-01 00:00:00.000000000</td>\n      <td>Tangka</td>\n      <td>NaN</td>\n      <td>Central Tibet</td>\n      <td>...</td>\n      <td>NaN</td>\n      <td>http://www.metmuseum.org/art/collection/search...</td>\n      <td>NaN</td>\n      <td>NaN</td>\n      <td>Metropolitan Museum of Art, New York, NY</td>\n      <td>NaN</td>\n      <td>NaN</td>\n      <td>NaN</td>\n      <td>6.0</td>\n      <td>1600–1799</td>\n    </tr>\n    <tr>\n      <th>855358</th>\n      <td>2021.323a, b</td>\n      <td>False</td>\n      <td>False</td>\n      <td>False</td>\n      <td>207</td>\n      <td>Asian Art</td>\n      <td>2021-01-01 00:00:00.000000000</td>\n      <td>Hexagonal vessel with cover</td>\n      <td>손대현 주칠빙렬무늬 함|孫大鉉　八角牡丹文　器 |Hexagonal vessel wit...</td>\n      <td>Korea</td>\n      <td>...</td>\n      <td>© Sohn Daehyun</td>\n      <td>http://www.metmuseum.org/art/collection/search...</td>\n      <td>NaN</td>\n      <td>NaN</td>\n      <td>Metropolitan Museum of Art, New York, NY</td>\n      <td>NaN</td>\n      <td>NaN</td>\n      <td>NaN</td>\n      <td>27.0</td>\n      <td>2018</td>\n    </tr>\n    <tr>\n      <th>855895</th>\n      <td>48.101.91h</td>\n      <td>False</td>\n      <td>False</td>\n      <td>True</td>\n      <td>453</td>\n      <td>Islamic Art</td>\n      <td>1948-01-01 00:00:00.000000000</td>\n      <td>Beads and pendants</td>\n      <td>Beads and Pendants</td>\n      <td>NaN</td>\n      <td>...</td>\n      <td>NaN</td>\n      <td>http://www.metmuseum.org/art/collection/search...</td>\n      <td>NaN</td>\n      <td>NaN</td>\n      <td>Metropolitan Museum of Art, New York, NY</td>\n      <td>NaN</td>\n      <td>NaN</td>\n      <td>NaN</td>\n      <td>18.0</td>\n      <td>700–1299</td>\n    </tr>\n    <tr>\n      <th>857061</th>\n      <td>NB198.5.J84 J86 1966 Quarto</td>\n      <td>True</td>\n      <td>False</td>\n      <td>False</td>\n      <td>Watson Library</td>\n      <td>The Libraries</td>\n      <td>NaT</td>\n      <td>NaN</td>\n      <td>66 signs of neon</td>\n      <td>NaN</td>\n      <td>...</td>\n      <td>NaN</td>\n      <td>http://www.metmuseum.org/art/collection/search...</td>\n      <td>NaN</td>\n      <td>NaN</td>\n      <td>Metropolitan Museum of Art, New York, NY</td>\n      <td>NaN</td>\n      <td>NaN</td>\n      <td>NaN</td>\n      <td>NaN</td>\n      <td>1966</td>\n    </tr>\n    <tr>\n      <th>857709</th>\n      <td>74.51.6718</td>\n      <td>False</td>\n      <td>False</td>\n      <td>True</td>\n      <td>171</td>\n      <td>Greek and Roman Art</td>\n      <td>1874-01-01 00:00:00.000000000</td>\n      <td>Askos</td>\n      <td>Terracotta askos in the shape of a quadruped</td>\n      <td>Cypriot</td>\n      <td>...</td>\n      <td>NaN</td>\n      <td>http://www.metmuseum.org/art/collection/search...</td>\n      <td>NaN</td>\n      <td>NaN</td>\n      <td>Metropolitan Museum of Art, New York, NY</td>\n      <td>NaN</td>\n      <td>NaN</td>\n      <td>NaN</td>\n      <td>5.0</td>\n      <td>-2000–-1725</td>\n    </tr>\n  </tbody>\n</table>\n<p>608 rows × 55 columns</p>\n</div>"
     },
     "execution_count": 103,
     "metadata": {},
     "output_type": "execute_result"
    }
   ],
   "source": [
    "# let's 1st take a look at the data\n",
    "df.drop_duplicates(subset=['Gallery Number'])"
   ],
   "metadata": {
    "collapsed": false
   }
  },
  {
   "cell_type": "markdown",
   "source": [
    "as far as all of the float values go, all of those have `0` as the decimal value, so those can be safely converted to int.\n",
    "However, there are some string values as well, since those are not duplicated, lets just replace them with NaN."
   ],
   "metadata": {
    "collapsed": false
   }
  },
  {
   "cell_type": "code",
   "execution_count": 111,
   "outputs": [],
   "source": [
    "# https://stackoverflow.com/questions/53668421/replace-a-string-value-with-nan-in-pandas-data-frame-python\n",
    "df['Gallery Number']= pd.to_numeric(df['Gallery Number'], errors='coerce')\n"
   ],
   "metadata": {
    "collapsed": false
   }
  },
  {
   "cell_type": "markdown",
   "source": [
    "# 5. Find some outliers and describe your method. _(3 points, depends on creativity)_"
   ],
   "metadata": {
    "collapsed": false
   }
  },
  {
   "cell_type": "markdown",
   "source": [
    "### 5.1\n",
    "I already found a few outliers in 4e. There were 4 rows which had Galery Number as String, which I would consider very outliery"
   ],
   "metadata": {
    "collapsed": false
   }
  },
  {
   "cell_type": "markdown",
   "source": [
    "### 5.2\n"
   ],
   "metadata": {
    "collapsed": false
   }
  },
  {
   "cell_type": "code",
   "execution_count": 115,
   "outputs": [
    {
     "data": {
      "text/plain": "          Object Number  Is Highlight  Is Timeline Work  Is Public Domain  \\\nObject ID                                                                   \n1            1979.486.1         False             False             False   \n2            1980.264.5         False             False             False   \n3              67.265.9         False             False             False   \n4             67.265.10         False             False             False   \n5             67.265.11         False             False             False   \n...                 ...           ...               ...               ...   \n860869      23.112.2893         False             False              True   \n860870      23.112.2894         False             False              True   \n860871      53.600.1434         False             False             False   \n860872      23.112.2895         False             False              True   \n860873      23.112.2896         False             False              True   \n\n           Gallery Number           Department                 AccessionYear  \\\nObject ID                                                                      \n1                     NaN    The American Wing 1970-01-01 00:00:00.000001979   \n2                     NaN    The American Wing 1970-01-01 00:00:00.000001980   \n3                     NaN    The American Wing 1970-01-01 00:00:00.000001967   \n4                     NaN    The American Wing 1970-01-01 00:00:00.000001967   \n5                     NaN    The American Wing 1970-01-01 00:00:00.000001967   \n...                   ...                  ...                           ...   \n860869                NaN  Drawings and Prints 1923-01-01 00:00:00.000000000   \n860870                NaN  Drawings and Prints 1923-01-01 00:00:00.000000000   \n860871                NaN  Drawings and Prints 1953-01-01 00:00:00.000000000   \n860872                NaN  Drawings and Prints 1923-01-01 00:00:00.000000000   \n860873                NaN  Drawings and Prints 1923-01-01 00:00:00.000000000   \n\n          Object Name                                              Title  \\\nObject ID                                                                  \n1                Coin                       One-dollar Liberty Head Coin   \n2                Coin                       Ten-dollar Liberty Head Coin   \n3                Coin                         Two-and-a-Half Dollar Coin   \n4                Coin                         Two-and-a-Half Dollar Coin   \n5                Coin                         Two-and-a-Half Dollar Coin   \n...               ...                                                ...   \n860869        Drawing                                     Phaeton #24567   \n860870        Drawing             Stanhope Phaeton #25538-25539 (#21222)   \n860871          Print  Forest landscape with cattle drinking, a woman...   \n860872        Drawing                           Phaeton with folding top   \n860873        Drawing                                   Stanhope Phaeton   \n\n          Culture  ... Rights and Reproduction  \\\nObject ID          ...                           \n1             NaN  ...                     NaN   \n2             NaN  ...                     NaN   \n3             NaN  ...                     NaN   \n4             NaN  ...                     NaN   \n5             NaN  ...                     NaN   \n...           ...  ...                     ...   \n860869        NaN  ...                     NaN   \n860870        NaN  ...                     NaN   \n860871        NaN  ...                     NaN   \n860872        NaN  ...                     NaN   \n860873        NaN  ...                     NaN   \n\n                                               Link Resource  \\\nObject ID                                                      \n1           http://www.metmuseum.org/art/collection/search/1   \n2           http://www.metmuseum.org/art/collection/search/2   \n3           http://www.metmuseum.org/art/collection/search/3   \n4           http://www.metmuseum.org/art/collection/search/4   \n5           http://www.metmuseum.org/art/collection/search/5   \n...                                                      ...   \n860869     http://www.metmuseum.org/art/collection/search...   \n860870     http://www.metmuseum.org/art/collection/search...   \n860871     http://www.metmuseum.org/art/collection/search...   \n860872     http://www.metmuseum.org/art/collection/search...   \n860873     http://www.metmuseum.org/art/collection/search...   \n\n          Object Wikidata URL Metadata Date  \\\nObject ID                                     \n1                         NaN           NaN   \n2                         NaN           NaN   \n3                         NaN           NaN   \n4                         NaN           NaN   \n5                         NaN           NaN   \n...                       ...           ...   \n860869                    NaN           NaN   \n860870                    NaN           NaN   \n860871                    NaN           NaN   \n860872                    NaN           NaN   \n860873                    NaN           NaN   \n\n                                         Repository       Tags  \\\nObject ID                                                        \n1          Metropolitan Museum of Art, New York, NY        NaN   \n2          Metropolitan Museum of Art, New York, NY        NaN   \n3          Metropolitan Museum of Art, New York, NY        NaN   \n4          Metropolitan Museum of Art, New York, NY        NaN   \n5          Metropolitan Museum of Art, New York, NY        NaN   \n...                                             ...        ...   \n860869     Metropolitan Museum of Art, New York, NY  Carriages   \n860870     Metropolitan Museum of Art, New York, NY  Carriages   \n860871     Metropolitan Museum of Art, New York, NY        NaN   \n860872     Metropolitan Museum of Art, New York, NY  Carriages   \n860873     Metropolitan Museum of Art, New York, NY  Carriages   \n\n                                        Tags AAT URL  \\\nObject ID                                              \n1                                                NaN   \n2                                                NaN   \n3                                                NaN   \n4                                                NaN   \n5                                                NaN   \n...                                              ...   \n860869     http://vocab.getty.edu/page/aat/300185335   \n860870     http://vocab.getty.edu/page/aat/300185335   \n860871                                           NaN   \n860872     http://vocab.getty.edu/page/aat/300185335   \n860873     http://vocab.getty.edu/page/aat/300185335   \n\n                               Tags Wikidata URL Object_name_len  \\\nObject ID                                                          \n1                                            NaN             4.0   \n2                                            NaN             4.0   \n3                                            NaN             4.0   \n4                                            NaN             4.0   \n5                                            NaN             4.0   \n...                                          ...             ...   \n860869     https://www.wikidata.org/wiki/Q235356             7.0   \n860870     https://www.wikidata.org/wiki/Q235356             7.0   \n860871                                       NaN             5.0   \n860872     https://www.wikidata.org/wiki/Q235356             7.0   \n860873     https://www.wikidata.org/wiki/Q235356             7.0   \n\n          object_date_combined  \nObject ID                       \n1                         1853  \n2                         1901  \n3                      1909–27  \n4                      1909–27  \n5                      1909–27  \n...                        ...  \n860869                    1904  \n860870                    1904  \n860871                 1768–78  \n860872               1890–1900  \n860873               1890–1900  \n\n[477804 rows x 55 columns]",
      "text/html": "<div>\n<style scoped>\n    .dataframe tbody tr th:only-of-type {\n        vertical-align: middle;\n    }\n\n    .dataframe tbody tr th {\n        vertical-align: top;\n    }\n\n    .dataframe thead th {\n        text-align: right;\n    }\n</style>\n<table border=\"1\" class=\"dataframe\">\n  <thead>\n    <tr style=\"text-align: right;\">\n      <th></th>\n      <th>Object Number</th>\n      <th>Is Highlight</th>\n      <th>Is Timeline Work</th>\n      <th>Is Public Domain</th>\n      <th>Gallery Number</th>\n      <th>Department</th>\n      <th>AccessionYear</th>\n      <th>Object Name</th>\n      <th>Title</th>\n      <th>Culture</th>\n      <th>...</th>\n      <th>Rights and Reproduction</th>\n      <th>Link Resource</th>\n      <th>Object Wikidata URL</th>\n      <th>Metadata Date</th>\n      <th>Repository</th>\n      <th>Tags</th>\n      <th>Tags AAT URL</th>\n      <th>Tags Wikidata URL</th>\n      <th>Object_name_len</th>\n      <th>object_date_combined</th>\n    </tr>\n    <tr>\n      <th>Object ID</th>\n      <th></th>\n      <th></th>\n      <th></th>\n      <th></th>\n      <th></th>\n      <th></th>\n      <th></th>\n      <th></th>\n      <th></th>\n      <th></th>\n      <th></th>\n      <th></th>\n      <th></th>\n      <th></th>\n      <th></th>\n      <th></th>\n      <th></th>\n      <th></th>\n      <th></th>\n      <th></th>\n      <th></th>\n    </tr>\n  </thead>\n  <tbody>\n    <tr>\n      <th>1</th>\n      <td>1979.486.1</td>\n      <td>False</td>\n      <td>False</td>\n      <td>False</td>\n      <td>NaN</td>\n      <td>The American Wing</td>\n      <td>1970-01-01 00:00:00.000001979</td>\n      <td>Coin</td>\n      <td>One-dollar Liberty Head Coin</td>\n      <td>NaN</td>\n      <td>...</td>\n      <td>NaN</td>\n      <td>http://www.metmuseum.org/art/collection/search/1</td>\n      <td>NaN</td>\n      <td>NaN</td>\n      <td>Metropolitan Museum of Art, New York, NY</td>\n      <td>NaN</td>\n      <td>NaN</td>\n      <td>NaN</td>\n      <td>4.0</td>\n      <td>1853</td>\n    </tr>\n    <tr>\n      <th>2</th>\n      <td>1980.264.5</td>\n      <td>False</td>\n      <td>False</td>\n      <td>False</td>\n      <td>NaN</td>\n      <td>The American Wing</td>\n      <td>1970-01-01 00:00:00.000001980</td>\n      <td>Coin</td>\n      <td>Ten-dollar Liberty Head Coin</td>\n      <td>NaN</td>\n      <td>...</td>\n      <td>NaN</td>\n      <td>http://www.metmuseum.org/art/collection/search/2</td>\n      <td>NaN</td>\n      <td>NaN</td>\n      <td>Metropolitan Museum of Art, New York, NY</td>\n      <td>NaN</td>\n      <td>NaN</td>\n      <td>NaN</td>\n      <td>4.0</td>\n      <td>1901</td>\n    </tr>\n    <tr>\n      <th>3</th>\n      <td>67.265.9</td>\n      <td>False</td>\n      <td>False</td>\n      <td>False</td>\n      <td>NaN</td>\n      <td>The American Wing</td>\n      <td>1970-01-01 00:00:00.000001967</td>\n      <td>Coin</td>\n      <td>Two-and-a-Half Dollar Coin</td>\n      <td>NaN</td>\n      <td>...</td>\n      <td>NaN</td>\n      <td>http://www.metmuseum.org/art/collection/search/3</td>\n      <td>NaN</td>\n      <td>NaN</td>\n      <td>Metropolitan Museum of Art, New York, NY</td>\n      <td>NaN</td>\n      <td>NaN</td>\n      <td>NaN</td>\n      <td>4.0</td>\n      <td>1909–27</td>\n    </tr>\n    <tr>\n      <th>4</th>\n      <td>67.265.10</td>\n      <td>False</td>\n      <td>False</td>\n      <td>False</td>\n      <td>NaN</td>\n      <td>The American Wing</td>\n      <td>1970-01-01 00:00:00.000001967</td>\n      <td>Coin</td>\n      <td>Two-and-a-Half Dollar Coin</td>\n      <td>NaN</td>\n      <td>...</td>\n      <td>NaN</td>\n      <td>http://www.metmuseum.org/art/collection/search/4</td>\n      <td>NaN</td>\n      <td>NaN</td>\n      <td>Metropolitan Museum of Art, New York, NY</td>\n      <td>NaN</td>\n      <td>NaN</td>\n      <td>NaN</td>\n      <td>4.0</td>\n      <td>1909–27</td>\n    </tr>\n    <tr>\n      <th>5</th>\n      <td>67.265.11</td>\n      <td>False</td>\n      <td>False</td>\n      <td>False</td>\n      <td>NaN</td>\n      <td>The American Wing</td>\n      <td>1970-01-01 00:00:00.000001967</td>\n      <td>Coin</td>\n      <td>Two-and-a-Half Dollar Coin</td>\n      <td>NaN</td>\n      <td>...</td>\n      <td>NaN</td>\n      <td>http://www.metmuseum.org/art/collection/search/5</td>\n      <td>NaN</td>\n      <td>NaN</td>\n      <td>Metropolitan Museum of Art, New York, NY</td>\n      <td>NaN</td>\n      <td>NaN</td>\n      <td>NaN</td>\n      <td>4.0</td>\n      <td>1909–27</td>\n    </tr>\n    <tr>\n      <th>...</th>\n      <td>...</td>\n      <td>...</td>\n      <td>...</td>\n      <td>...</td>\n      <td>...</td>\n      <td>...</td>\n      <td>...</td>\n      <td>...</td>\n      <td>...</td>\n      <td>...</td>\n      <td>...</td>\n      <td>...</td>\n      <td>...</td>\n      <td>...</td>\n      <td>...</td>\n      <td>...</td>\n      <td>...</td>\n      <td>...</td>\n      <td>...</td>\n      <td>...</td>\n      <td>...</td>\n    </tr>\n    <tr>\n      <th>860869</th>\n      <td>23.112.2893</td>\n      <td>False</td>\n      <td>False</td>\n      <td>True</td>\n      <td>NaN</td>\n      <td>Drawings and Prints</td>\n      <td>1923-01-01 00:00:00.000000000</td>\n      <td>Drawing</td>\n      <td>Phaeton #24567</td>\n      <td>NaN</td>\n      <td>...</td>\n      <td>NaN</td>\n      <td>http://www.metmuseum.org/art/collection/search...</td>\n      <td>NaN</td>\n      <td>NaN</td>\n      <td>Metropolitan Museum of Art, New York, NY</td>\n      <td>Carriages</td>\n      <td>http://vocab.getty.edu/page/aat/300185335</td>\n      <td>https://www.wikidata.org/wiki/Q235356</td>\n      <td>7.0</td>\n      <td>1904</td>\n    </tr>\n    <tr>\n      <th>860870</th>\n      <td>23.112.2894</td>\n      <td>False</td>\n      <td>False</td>\n      <td>True</td>\n      <td>NaN</td>\n      <td>Drawings and Prints</td>\n      <td>1923-01-01 00:00:00.000000000</td>\n      <td>Drawing</td>\n      <td>Stanhope Phaeton #25538-25539 (#21222)</td>\n      <td>NaN</td>\n      <td>...</td>\n      <td>NaN</td>\n      <td>http://www.metmuseum.org/art/collection/search...</td>\n      <td>NaN</td>\n      <td>NaN</td>\n      <td>Metropolitan Museum of Art, New York, NY</td>\n      <td>Carriages</td>\n      <td>http://vocab.getty.edu/page/aat/300185335</td>\n      <td>https://www.wikidata.org/wiki/Q235356</td>\n      <td>7.0</td>\n      <td>1904</td>\n    </tr>\n    <tr>\n      <th>860871</th>\n      <td>53.600.1434</td>\n      <td>False</td>\n      <td>False</td>\n      <td>False</td>\n      <td>NaN</td>\n      <td>Drawings and Prints</td>\n      <td>1953-01-01 00:00:00.000000000</td>\n      <td>Print</td>\n      <td>Forest landscape with cattle drinking, a woman...</td>\n      <td>NaN</td>\n      <td>...</td>\n      <td>NaN</td>\n      <td>http://www.metmuseum.org/art/collection/search...</td>\n      <td>NaN</td>\n      <td>NaN</td>\n      <td>Metropolitan Museum of Art, New York, NY</td>\n      <td>NaN</td>\n      <td>NaN</td>\n      <td>NaN</td>\n      <td>5.0</td>\n      <td>1768–78</td>\n    </tr>\n    <tr>\n      <th>860872</th>\n      <td>23.112.2895</td>\n      <td>False</td>\n      <td>False</td>\n      <td>True</td>\n      <td>NaN</td>\n      <td>Drawings and Prints</td>\n      <td>1923-01-01 00:00:00.000000000</td>\n      <td>Drawing</td>\n      <td>Phaeton with folding top</td>\n      <td>NaN</td>\n      <td>...</td>\n      <td>NaN</td>\n      <td>http://www.metmuseum.org/art/collection/search...</td>\n      <td>NaN</td>\n      <td>NaN</td>\n      <td>Metropolitan Museum of Art, New York, NY</td>\n      <td>Carriages</td>\n      <td>http://vocab.getty.edu/page/aat/300185335</td>\n      <td>https://www.wikidata.org/wiki/Q235356</td>\n      <td>7.0</td>\n      <td>1890–1900</td>\n    </tr>\n    <tr>\n      <th>860873</th>\n      <td>23.112.2896</td>\n      <td>False</td>\n      <td>False</td>\n      <td>True</td>\n      <td>NaN</td>\n      <td>Drawings and Prints</td>\n      <td>1923-01-01 00:00:00.000000000</td>\n      <td>Drawing</td>\n      <td>Stanhope Phaeton</td>\n      <td>NaN</td>\n      <td>...</td>\n      <td>NaN</td>\n      <td>http://www.metmuseum.org/art/collection/search...</td>\n      <td>NaN</td>\n      <td>NaN</td>\n      <td>Metropolitan Museum of Art, New York, NY</td>\n      <td>Carriages</td>\n      <td>http://vocab.getty.edu/page/aat/300185335</td>\n      <td>https://www.wikidata.org/wiki/Q235356</td>\n      <td>7.0</td>\n      <td>1890–1900</td>\n    </tr>\n  </tbody>\n</table>\n<p>477804 rows × 55 columns</p>\n</div>"
     },
     "execution_count": 115,
     "metadata": {},
     "output_type": "execute_result"
    }
   ],
   "source": [
    "df"
   ],
   "metadata": {
    "collapsed": false
   }
  },
  {
   "cell_type": "code",
   "execution_count": 120,
   "outputs": [
    {
     "ename": "KeyError",
     "evalue": "0",
     "output_type": "error",
     "traceback": [
      "\u001B[0;31m---------------------------------------------------------------------------\u001B[0m",
      "\u001B[0;31mKeyError\u001B[0m                                  Traceback (most recent call last)",
      "File \u001B[0;32m~/Documents/NI-PDD/.venv/lib/python3.10/site-packages/pandas/core/indexes/base.py:3800\u001B[0m, in \u001B[0;36mIndex.get_loc\u001B[0;34m(self, key, method, tolerance)\u001B[0m\n\u001B[1;32m   3799\u001B[0m \u001B[38;5;28;01mtry\u001B[39;00m:\n\u001B[0;32m-> 3800\u001B[0m     \u001B[38;5;28;01mreturn\u001B[39;00m \u001B[38;5;28;43mself\u001B[39;49m\u001B[38;5;241;43m.\u001B[39;49m\u001B[43m_engine\u001B[49m\u001B[38;5;241;43m.\u001B[39;49m\u001B[43mget_loc\u001B[49m\u001B[43m(\u001B[49m\u001B[43mcasted_key\u001B[49m\u001B[43m)\u001B[49m\n\u001B[1;32m   3801\u001B[0m \u001B[38;5;28;01mexcept\u001B[39;00m \u001B[38;5;167;01mKeyError\u001B[39;00m \u001B[38;5;28;01mas\u001B[39;00m err:\n",
      "File \u001B[0;32m~/Documents/NI-PDD/.venv/lib/python3.10/site-packages/pandas/_libs/index.pyx:138\u001B[0m, in \u001B[0;36mpandas._libs.index.IndexEngine.get_loc\u001B[0;34m()\u001B[0m\n",
      "File \u001B[0;32m~/Documents/NI-PDD/.venv/lib/python3.10/site-packages/pandas/_libs/index.pyx:165\u001B[0m, in \u001B[0;36mpandas._libs.index.IndexEngine.get_loc\u001B[0;34m()\u001B[0m\n",
      "File \u001B[0;32mpandas/_libs/hashtable_class_helper.pxi:2263\u001B[0m, in \u001B[0;36mpandas._libs.hashtable.Int64HashTable.get_item\u001B[0;34m()\u001B[0m\n",
      "File \u001B[0;32mpandas/_libs/hashtable_class_helper.pxi:2273\u001B[0m, in \u001B[0;36mpandas._libs.hashtable.Int64HashTable.get_item\u001B[0;34m()\u001B[0m\n",
      "\u001B[0;31mKeyError\u001B[0m: 0",
      "\nThe above exception was the direct cause of the following exception:\n",
      "\u001B[0;31mKeyError\u001B[0m                                  Traceback (most recent call last)",
      "Cell \u001B[0;32mIn [120], line 1\u001B[0m\n\u001B[0;32m----> 1\u001B[0m sns\u001B[38;5;241m.\u001B[39mboxplot(data\u001B[38;5;241m=\u001B[39mdf\u001B[38;5;241m.\u001B[39mObject_name_len)\n",
      "File \u001B[0;32m~/Documents/NI-PDD/.venv/lib/python3.10/site-packages/seaborn/categorical.py:2230\u001B[0m, in \u001B[0;36mboxplot\u001B[0;34m(data, x, y, hue, order, hue_order, orient, color, palette, saturation, width, dodge, fliersize, linewidth, whis, ax, **kwargs)\u001B[0m\n\u001B[1;32m   2223\u001B[0m \u001B[38;5;28;01mdef\u001B[39;00m \u001B[38;5;21mboxplot\u001B[39m(\n\u001B[1;32m   2224\u001B[0m     data\u001B[38;5;241m=\u001B[39m\u001B[38;5;28;01mNone\u001B[39;00m, \u001B[38;5;241m*\u001B[39m, x\u001B[38;5;241m=\u001B[39m\u001B[38;5;28;01mNone\u001B[39;00m, y\u001B[38;5;241m=\u001B[39m\u001B[38;5;28;01mNone\u001B[39;00m, hue\u001B[38;5;241m=\u001B[39m\u001B[38;5;28;01mNone\u001B[39;00m, order\u001B[38;5;241m=\u001B[39m\u001B[38;5;28;01mNone\u001B[39;00m, hue_order\u001B[38;5;241m=\u001B[39m\u001B[38;5;28;01mNone\u001B[39;00m,\n\u001B[1;32m   2225\u001B[0m     orient\u001B[38;5;241m=\u001B[39m\u001B[38;5;28;01mNone\u001B[39;00m, color\u001B[38;5;241m=\u001B[39m\u001B[38;5;28;01mNone\u001B[39;00m, palette\u001B[38;5;241m=\u001B[39m\u001B[38;5;28;01mNone\u001B[39;00m, saturation\u001B[38;5;241m=\u001B[39m\u001B[38;5;241m.75\u001B[39m, width\u001B[38;5;241m=\u001B[39m\u001B[38;5;241m.8\u001B[39m,\n\u001B[1;32m   2226\u001B[0m     dodge\u001B[38;5;241m=\u001B[39m\u001B[38;5;28;01mTrue\u001B[39;00m, fliersize\u001B[38;5;241m=\u001B[39m\u001B[38;5;241m5\u001B[39m, linewidth\u001B[38;5;241m=\u001B[39m\u001B[38;5;28;01mNone\u001B[39;00m, whis\u001B[38;5;241m=\u001B[39m\u001B[38;5;241m1.5\u001B[39m, ax\u001B[38;5;241m=\u001B[39m\u001B[38;5;28;01mNone\u001B[39;00m,\n\u001B[1;32m   2227\u001B[0m     \u001B[38;5;241m*\u001B[39m\u001B[38;5;241m*\u001B[39mkwargs\n\u001B[1;32m   2228\u001B[0m ):\n\u001B[0;32m-> 2230\u001B[0m     plotter \u001B[38;5;241m=\u001B[39m \u001B[43m_BoxPlotter\u001B[49m\u001B[43m(\u001B[49m\u001B[43mx\u001B[49m\u001B[43m,\u001B[49m\u001B[43m \u001B[49m\u001B[43my\u001B[49m\u001B[43m,\u001B[49m\u001B[43m \u001B[49m\u001B[43mhue\u001B[49m\u001B[43m,\u001B[49m\u001B[43m \u001B[49m\u001B[43mdata\u001B[49m\u001B[43m,\u001B[49m\u001B[43m \u001B[49m\u001B[43morder\u001B[49m\u001B[43m,\u001B[49m\u001B[43m \u001B[49m\u001B[43mhue_order\u001B[49m\u001B[43m,\u001B[49m\n\u001B[1;32m   2231\u001B[0m \u001B[43m                          \u001B[49m\u001B[43morient\u001B[49m\u001B[43m,\u001B[49m\u001B[43m \u001B[49m\u001B[43mcolor\u001B[49m\u001B[43m,\u001B[49m\u001B[43m \u001B[49m\u001B[43mpalette\u001B[49m\u001B[43m,\u001B[49m\u001B[43m \u001B[49m\u001B[43msaturation\u001B[49m\u001B[43m,\u001B[49m\n\u001B[1;32m   2232\u001B[0m \u001B[43m                          \u001B[49m\u001B[43mwidth\u001B[49m\u001B[43m,\u001B[49m\u001B[43m \u001B[49m\u001B[43mdodge\u001B[49m\u001B[43m,\u001B[49m\u001B[43m \u001B[49m\u001B[43mfliersize\u001B[49m\u001B[43m,\u001B[49m\u001B[43m \u001B[49m\u001B[43mlinewidth\u001B[49m\u001B[43m)\u001B[49m\n\u001B[1;32m   2234\u001B[0m     \u001B[38;5;28;01mif\u001B[39;00m ax \u001B[38;5;129;01mis\u001B[39;00m \u001B[38;5;28;01mNone\u001B[39;00m:\n\u001B[1;32m   2235\u001B[0m         ax \u001B[38;5;241m=\u001B[39m plt\u001B[38;5;241m.\u001B[39mgca()\n",
      "File \u001B[0;32m~/Documents/NI-PDD/.venv/lib/python3.10/site-packages/seaborn/categorical.py:785\u001B[0m, in \u001B[0;36m_BoxPlotter.__init__\u001B[0;34m(self, x, y, hue, data, order, hue_order, orient, color, palette, saturation, width, dodge, fliersize, linewidth)\u001B[0m\n\u001B[1;32m    781\u001B[0m \u001B[38;5;28;01mdef\u001B[39;00m \u001B[38;5;21m__init__\u001B[39m(\u001B[38;5;28mself\u001B[39m, x, y, hue, data, order, hue_order,\n\u001B[1;32m    782\u001B[0m              orient, color, palette, saturation,\n\u001B[1;32m    783\u001B[0m              width, dodge, fliersize, linewidth):\n\u001B[0;32m--> 785\u001B[0m     \u001B[38;5;28;43mself\u001B[39;49m\u001B[38;5;241;43m.\u001B[39;49m\u001B[43mestablish_variables\u001B[49m\u001B[43m(\u001B[49m\u001B[43mx\u001B[49m\u001B[43m,\u001B[49m\u001B[43m \u001B[49m\u001B[43my\u001B[49m\u001B[43m,\u001B[49m\u001B[43m \u001B[49m\u001B[43mhue\u001B[49m\u001B[43m,\u001B[49m\u001B[43m \u001B[49m\u001B[43mdata\u001B[49m\u001B[43m,\u001B[49m\u001B[43m \u001B[49m\u001B[43morient\u001B[49m\u001B[43m,\u001B[49m\u001B[43m \u001B[49m\u001B[43morder\u001B[49m\u001B[43m,\u001B[49m\u001B[43m \u001B[49m\u001B[43mhue_order\u001B[49m\u001B[43m)\u001B[49m\n\u001B[1;32m    786\u001B[0m     \u001B[38;5;28mself\u001B[39m\u001B[38;5;241m.\u001B[39mestablish_colors(color, palette, saturation)\n\u001B[1;32m    788\u001B[0m     \u001B[38;5;28mself\u001B[39m\u001B[38;5;241m.\u001B[39mdodge \u001B[38;5;241m=\u001B[39m dodge\n",
      "File \u001B[0;32m~/Documents/NI-PDD/.venv/lib/python3.10/site-packages/seaborn/categorical.py:486\u001B[0m, in \u001B[0;36m_CategoricalPlotter.establish_variables\u001B[0;34m(self, x, y, hue, data, orient, order, hue_order, units)\u001B[0m\n\u001B[1;32m    484\u001B[0m \u001B[38;5;28;01mif\u001B[39;00m \u001B[38;5;28mhasattr\u001B[39m(data, \u001B[38;5;124m\"\u001B[39m\u001B[38;5;124mshape\u001B[39m\u001B[38;5;124m\"\u001B[39m):\n\u001B[1;32m    485\u001B[0m     \u001B[38;5;28;01mif\u001B[39;00m \u001B[38;5;28mlen\u001B[39m(data\u001B[38;5;241m.\u001B[39mshape) \u001B[38;5;241m==\u001B[39m \u001B[38;5;241m1\u001B[39m:\n\u001B[0;32m--> 486\u001B[0m         \u001B[38;5;28;01mif\u001B[39;00m np\u001B[38;5;241m.\u001B[39misscalar(\u001B[43mdata\u001B[49m\u001B[43m[\u001B[49m\u001B[38;5;241;43m0\u001B[39;49m\u001B[43m]\u001B[49m):\n\u001B[1;32m    487\u001B[0m             plot_data \u001B[38;5;241m=\u001B[39m [data]\n\u001B[1;32m    488\u001B[0m         \u001B[38;5;28;01melse\u001B[39;00m:\n",
      "File \u001B[0;32m~/Documents/NI-PDD/.venv/lib/python3.10/site-packages/pandas/core/series.py:982\u001B[0m, in \u001B[0;36mSeries.__getitem__\u001B[0;34m(self, key)\u001B[0m\n\u001B[1;32m    979\u001B[0m     \u001B[38;5;28;01mreturn\u001B[39;00m \u001B[38;5;28mself\u001B[39m\u001B[38;5;241m.\u001B[39m_values[key]\n\u001B[1;32m    981\u001B[0m \u001B[38;5;28;01melif\u001B[39;00m key_is_scalar:\n\u001B[0;32m--> 982\u001B[0m     \u001B[38;5;28;01mreturn\u001B[39;00m \u001B[38;5;28;43mself\u001B[39;49m\u001B[38;5;241;43m.\u001B[39;49m\u001B[43m_get_value\u001B[49m\u001B[43m(\u001B[49m\u001B[43mkey\u001B[49m\u001B[43m)\u001B[49m\n\u001B[1;32m    984\u001B[0m \u001B[38;5;28;01mif\u001B[39;00m is_hashable(key):\n\u001B[1;32m    985\u001B[0m     \u001B[38;5;66;03m# Otherwise index.get_value will raise InvalidIndexError\u001B[39;00m\n\u001B[1;32m    986\u001B[0m     \u001B[38;5;28;01mtry\u001B[39;00m:\n\u001B[1;32m    987\u001B[0m         \u001B[38;5;66;03m# For labels that don't resolve as scalars like tuples and frozensets\u001B[39;00m\n",
      "File \u001B[0;32m~/Documents/NI-PDD/.venv/lib/python3.10/site-packages/pandas/core/series.py:1092\u001B[0m, in \u001B[0;36mSeries._get_value\u001B[0;34m(self, label, takeable)\u001B[0m\n\u001B[1;32m   1089\u001B[0m     \u001B[38;5;28;01mreturn\u001B[39;00m \u001B[38;5;28mself\u001B[39m\u001B[38;5;241m.\u001B[39m_values[label]\n\u001B[1;32m   1091\u001B[0m \u001B[38;5;66;03m# Similar to Index.get_value, but we do not fall back to positional\u001B[39;00m\n\u001B[0;32m-> 1092\u001B[0m loc \u001B[38;5;241m=\u001B[39m \u001B[38;5;28;43mself\u001B[39;49m\u001B[38;5;241;43m.\u001B[39;49m\u001B[43mindex\u001B[49m\u001B[38;5;241;43m.\u001B[39;49m\u001B[43mget_loc\u001B[49m\u001B[43m(\u001B[49m\u001B[43mlabel\u001B[49m\u001B[43m)\u001B[49m\n\u001B[1;32m   1093\u001B[0m \u001B[38;5;28;01mreturn\u001B[39;00m \u001B[38;5;28mself\u001B[39m\u001B[38;5;241m.\u001B[39mindex\u001B[38;5;241m.\u001B[39m_get_values_for_loc(\u001B[38;5;28mself\u001B[39m, loc, label)\n",
      "File \u001B[0;32m~/Documents/NI-PDD/.venv/lib/python3.10/site-packages/pandas/core/indexes/base.py:3802\u001B[0m, in \u001B[0;36mIndex.get_loc\u001B[0;34m(self, key, method, tolerance)\u001B[0m\n\u001B[1;32m   3800\u001B[0m     \u001B[38;5;28;01mreturn\u001B[39;00m \u001B[38;5;28mself\u001B[39m\u001B[38;5;241m.\u001B[39m_engine\u001B[38;5;241m.\u001B[39mget_loc(casted_key)\n\u001B[1;32m   3801\u001B[0m \u001B[38;5;28;01mexcept\u001B[39;00m \u001B[38;5;167;01mKeyError\u001B[39;00m \u001B[38;5;28;01mas\u001B[39;00m err:\n\u001B[0;32m-> 3802\u001B[0m     \u001B[38;5;28;01mraise\u001B[39;00m \u001B[38;5;167;01mKeyError\u001B[39;00m(key) \u001B[38;5;28;01mfrom\u001B[39;00m \u001B[38;5;21;01merr\u001B[39;00m\n\u001B[1;32m   3803\u001B[0m \u001B[38;5;28;01mexcept\u001B[39;00m \u001B[38;5;167;01mTypeError\u001B[39;00m:\n\u001B[1;32m   3804\u001B[0m     \u001B[38;5;66;03m# If we have a listlike key, _check_indexing_error will raise\u001B[39;00m\n\u001B[1;32m   3805\u001B[0m     \u001B[38;5;66;03m#  InvalidIndexError. Otherwise we fall through and re-raise\u001B[39;00m\n\u001B[1;32m   3806\u001B[0m     \u001B[38;5;66;03m#  the TypeError.\u001B[39;00m\n\u001B[1;32m   3807\u001B[0m     \u001B[38;5;28mself\u001B[39m\u001B[38;5;241m.\u001B[39m_check_indexing_error(key)\n",
      "\u001B[0;31mKeyError\u001B[0m: 0"
     ]
    }
   ],
   "source": [
    "sns.boxplot(data=df.Object_name_len)"
   ],
   "metadata": {
    "collapsed": false
   }
  },
  {
   "cell_type": "markdown",
   "source": [
    "# 6. Detect missing data in at least **three features**, convert them to a proper representation (if they are already not), and impute missing values in at least **one feature**. _(1 + 3 points, depends on creativity)_"
   ],
   "metadata": {
    "collapsed": false
   }
  },
  {
   "cell_type": "markdown",
   "source": [
    "# 7. Focus more precisely on the cleaning of the \"Medium\" feature. As if you were to use it in KNN algorithm later. _(2 points)_"
   ],
   "metadata": {
    "collapsed": false
   }
  },
  {
   "cell_type": "markdown",
   "source": [
    "# 8. Focus on the extraction of physical dimensions of each item (width, depth and height in centimeters) from the \"Dimensions\" feature. _(2 points)_"
   ],
   "metadata": {
    "collapsed": false
   }
  },
  {
   "cell_type": "code",
   "execution_count": 28,
   "outputs": [],
   "source": [],
   "metadata": {
    "collapsed": false
   }
  }
 ],
 "metadata": {
  "deepnote": {
   "is_reactive": false
  },
  "deepnote_execution_queue": [],
  "deepnote_notebook_id": "16b0fa78064d4e96881a41330999904b",
  "kernelspec": {
   "display_name": "Python 3 (ipykernel)",
   "language": "python",
   "name": "python3"
  },
  "language_info": {
   "codemirror_mode": {
    "name": "ipython",
    "version": 3
   },
   "file_extension": ".py",
   "mimetype": "text/x-python",
   "name": "python",
   "nbconvert_exporter": "python",
   "pygments_lexer": "ipython3",
   "version": "3.10.4"
  }
 },
 "nbformat": 4,
 "nbformat_minor": 4
}
