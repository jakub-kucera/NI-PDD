{
 "cells": [
  {
   "cell_type": "markdown",
   "metadata": {
    "cell_id": "1cec9133eff44833b86b00522c9fdaa4",
    "deepnote_cell_height": 2002,
    "deepnote_cell_type": "markdown",
    "tags": []
   },
   "source": [
    "# Homework 1 - data validation & cleaning (deadline 30. 10. 2022, 23:59)\n",
    "\n",
    "In short, the main task is to clean The Metropolitan Museum of Art Open Access dataset.\n",
    "  \n",
    "> The instructions are not given in details: It is up to you to come up with ideas on how to fulfill the particular tasks as best as you can!\n",
    "\n",
    "However, we **strongly recommend and require** the following:\n",
    "* Follow the assignment step by step. Number each step.\n",
    "* Most steps contain the number of features that should be treated. You can preprocess more features, however, it does not mean that the teacher will give you more points. Focus on quality, not quantity.\n",
    "* Properly comment all your steps. Comments are evaluated for 2 points of the total together with the final presentation of the solution. However, it is not desirable to write novels! \n",
    "* This task is the most challenging of the three, both timewise and computationally. Do not leave it to the last minute.\n",
    "* Hand in a notebook that has already been run (i.e. do not delete outputs before handing in).\n",
    "\n",
    "## What are you supposed to do:\n",
    "\n",
    "  1. Download the dataset MetObjects.csv from the repository https://github.com/metmuseum/openaccess/.\n",
    "  2. Check consistency (i.e. that same things are represented in the same way) of at least **three features** where you expect problems (include \"Object Name\" feature). You can propose how to clean the selected features, however do not apply cleaning (in your interest) 🙂 _(1.5 points)_\n",
    "  3. Select at least **two features** where you expect integrity problems (describe your choice) and check integrity of those features. By integrity we mean correct logical relations between features (e.g. female names for females only). _(2 points)_\n",
    "  4. Convert at least **five features** to a proper data type. Choose at least one numeric, one categorical and one datetime. _(1.5 points)_\n",
    "  5. Find some outliers and describe your method. _(3 points, depends on creativity)_\n",
    "  6. Detect missing data in at least **three features**, convert them to a proper representation (if they are already not), and impute missing values in at least **one feature**. _(1 + 3 points, depends on creativity)_\n",
    "  7. Focus more precisely on the cleaning of the \"Medium\" feature. As if you were to use it in KNN algorithm later. _(2 points)_\n",
    "  8. Focus on the extraction of physical dimensions of each item (width, depth and height in centimeters) from the \"Dimensions\" feature. _(2 points)_\n",
    "\n",
    "All your steps and following code **have to be commented!** Comments are evaluated for 2 points together with the final presentation of the solution.\n",
    "\n",
    "**If you do all this properly, you will obtain 18 points.**\n",
    "\n",
    "## Comments\n",
    "\n",
    "  * Please follow the technical instructions from https://courses.fit.cvut.cz/NI-PDD/homeworks/index.html.\n",
    "  * If the reviewing teacher is not satisfied, she can (!) give you another chance to rework your homework and to obtain more points. However, this is not a given, so do your best! :)"
   ]
  },
  {
   "cell_type": "code",
   "execution_count": 50,
   "metadata": {
    "collapsed": false,
    "jupyter": {
     "outputs_hidden": false
    }
   },
   "outputs": [],
   "source": [
    "# importing basic libraries\n",
    "import numpy as np\n",
    "import pandas as pd\n",
    "\n",
    "import matplotlib.pyplot as plt\n",
    "%matplotlib inline\n",
    "\n",
    "import seaborn as sns"
   ]
  },
  {
   "cell_type": "markdown",
   "source": [
    "# 1. Download the dataset MetObjects.csv from the repository https://github.com/metmuseum/openaccess/."
   ],
   "metadata": {
    "collapsed": false
   }
  },
  {
   "cell_type": "code",
   "execution_count": 51,
   "metadata": {
    "cell_id": "f849ab93921843069afd5dc4abec8510",
    "deepnote_cell_height": 76,
    "deepnote_cell_type": "code",
    "deepnote_to_be_reexecuted": false,
    "execution_millis": 43,
    "execution_start": 1662743365252,
    "source_hash": "9e2da255",
    "tags": []
   },
   "outputs": [
    {
     "name": "stderr",
     "output_type": "stream",
     "text": [
      "/var/folders/gm/6zjcwbd164d1v4gmx73009pr0000gn/T/ipykernel_16119/4046042708.py:2: DtypeWarning: Columns (5,7,10,11,12,13,14,34,35,36,37,38,39,40,41,42,43,44,45,46) have mixed types. Specify dtype option on import or set low_memory=False.\n",
      "  df = pd.read_csv('MetObjects.csv', sep=',') # load data as pandas DataFrame\n"
     ]
    }
   ],
   "source": [
    "# importing data\n",
    "df = pd.read_csv('MetObjects.csv', sep=',') # load data as pandas DataFrame"
   ]
  },
  {
   "cell_type": "markdown",
   "source": [
    "## Random data exploration"
   ],
   "metadata": {
    "collapsed": false
   }
  },
  {
   "cell_type": "code",
   "execution_count": 52,
   "metadata": {
    "collapsed": false,
    "jupyter": {
     "outputs_hidden": false
    }
   },
   "outputs": [
    {
     "data": {
      "text/plain": "(477804, 54)"
     },
     "execution_count": 52,
     "metadata": {},
     "output_type": "execute_result"
    }
   ],
   "source": [
    "df.shape"
   ]
  },
  {
   "cell_type": "code",
   "execution_count": 53,
   "metadata": {
    "collapsed": false,
    "jupyter": {
     "outputs_hidden": false
    }
   },
   "outputs": [
    {
     "data": {
      "text/plain": "       Object Number  Is Highlight  Is Timeline Work  Is Public Domain  \\\n0         1979.486.1         False             False             False   \n1         1980.264.5         False             False             False   \n2           67.265.9         False             False             False   \n3          67.265.10         False             False             False   \n4          67.265.11         False             False             False   \n...              ...           ...               ...               ...   \n477799   23.112.2893         False             False              True   \n477800   23.112.2894         False             False              True   \n477801   53.600.1434         False             False             False   \n477802   23.112.2895         False             False              True   \n477803   23.112.2896         False             False              True   \n\n        Object ID Gallery Number           Department AccessionYear  \\\n0               1            NaN    The American Wing        1979.0   \n1               2            NaN    The American Wing        1980.0   \n2               3            NaN    The American Wing        1967.0   \n3               4            NaN    The American Wing        1967.0   \n4               5            NaN    The American Wing        1967.0   \n...           ...            ...                  ...           ...   \n477799     860869            NaN  Drawings and Prints          1923   \n477800     860870            NaN  Drawings and Prints          1923   \n477801     860871            NaN  Drawings and Prints          1953   \n477802     860872            NaN  Drawings and Prints          1923   \n477803     860873            NaN  Drawings and Prints          1923   \n\n       Object Name                                              Title  ...  \\\n0             Coin                       One-dollar Liberty Head Coin  ...   \n1             Coin                       Ten-dollar Liberty Head Coin  ...   \n2             Coin                         Two-and-a-Half Dollar Coin  ...   \n3             Coin                         Two-and-a-Half Dollar Coin  ...   \n4             Coin                         Two-and-a-Half Dollar Coin  ...   \n...            ...                                                ...  ...   \n477799     Drawing                                     Phaeton #24567  ...   \n477800     Drawing             Stanhope Phaeton #25538-25539 (#21222)  ...   \n477801       Print  Forest landscape with cattle drinking, a woman...  ...   \n477802     Drawing                           Phaeton with folding top  ...   \n477803     Drawing                                   Stanhope Phaeton  ...   \n\n       River Classification Rights and Reproduction  \\\n0        NaN            NaN                     NaN   \n1        NaN            NaN                     NaN   \n2        NaN            NaN                     NaN   \n3        NaN            NaN                     NaN   \n4        NaN            NaN                     NaN   \n...      ...            ...                     ...   \n477799   NaN       Drawings                     NaN   \n477800   NaN       Drawings                     NaN   \n477801   NaN         Prints                     NaN   \n477802   NaN       Drawings                     NaN   \n477803   NaN       Drawings                     NaN   \n\n                                            Link Resource Object Wikidata URL  \\\n0        http://www.metmuseum.org/art/collection/search/1                 NaN   \n1        http://www.metmuseum.org/art/collection/search/2                 NaN   \n2        http://www.metmuseum.org/art/collection/search/3                 NaN   \n3        http://www.metmuseum.org/art/collection/search/4                 NaN   \n4        http://www.metmuseum.org/art/collection/search/5                 NaN   \n...                                                   ...                 ...   \n477799  http://www.metmuseum.org/art/collection/search...                 NaN   \n477800  http://www.metmuseum.org/art/collection/search...                 NaN   \n477801  http://www.metmuseum.org/art/collection/search...                 NaN   \n477802  http://www.metmuseum.org/art/collection/search...                 NaN   \n477803  http://www.metmuseum.org/art/collection/search...                 NaN   \n\n       Metadata Date                                Repository       Tags  \\\n0                NaN  Metropolitan Museum of Art, New York, NY        NaN   \n1                NaN  Metropolitan Museum of Art, New York, NY        NaN   \n2                NaN  Metropolitan Museum of Art, New York, NY        NaN   \n3                NaN  Metropolitan Museum of Art, New York, NY        NaN   \n4                NaN  Metropolitan Museum of Art, New York, NY        NaN   \n...              ...                                       ...        ...   \n477799           NaN  Metropolitan Museum of Art, New York, NY  Carriages   \n477800           NaN  Metropolitan Museum of Art, New York, NY  Carriages   \n477801           NaN  Metropolitan Museum of Art, New York, NY        NaN   \n477802           NaN  Metropolitan Museum of Art, New York, NY  Carriages   \n477803           NaN  Metropolitan Museum of Art, New York, NY  Carriages   \n\n                                     Tags AAT URL  \\\n0                                             NaN   \n1                                             NaN   \n2                                             NaN   \n3                                             NaN   \n4                                             NaN   \n...                                           ...   \n477799  http://vocab.getty.edu/page/aat/300185335   \n477800  http://vocab.getty.edu/page/aat/300185335   \n477801                                        NaN   \n477802  http://vocab.getty.edu/page/aat/300185335   \n477803  http://vocab.getty.edu/page/aat/300185335   \n\n                            Tags Wikidata URL  \n0                                         NaN  \n1                                         NaN  \n2                                         NaN  \n3                                         NaN  \n4                                         NaN  \n...                                       ...  \n477799  https://www.wikidata.org/wiki/Q235356  \n477800  https://www.wikidata.org/wiki/Q235356  \n477801                                    NaN  \n477802  https://www.wikidata.org/wiki/Q235356  \n477803  https://www.wikidata.org/wiki/Q235356  \n\n[477804 rows x 54 columns]",
      "text/html": "<div>\n<style scoped>\n    .dataframe tbody tr th:only-of-type {\n        vertical-align: middle;\n    }\n\n    .dataframe tbody tr th {\n        vertical-align: top;\n    }\n\n    .dataframe thead th {\n        text-align: right;\n    }\n</style>\n<table border=\"1\" class=\"dataframe\">\n  <thead>\n    <tr style=\"text-align: right;\">\n      <th></th>\n      <th>Object Number</th>\n      <th>Is Highlight</th>\n      <th>Is Timeline Work</th>\n      <th>Is Public Domain</th>\n      <th>Object ID</th>\n      <th>Gallery Number</th>\n      <th>Department</th>\n      <th>AccessionYear</th>\n      <th>Object Name</th>\n      <th>Title</th>\n      <th>...</th>\n      <th>River</th>\n      <th>Classification</th>\n      <th>Rights and Reproduction</th>\n      <th>Link Resource</th>\n      <th>Object Wikidata URL</th>\n      <th>Metadata Date</th>\n      <th>Repository</th>\n      <th>Tags</th>\n      <th>Tags AAT URL</th>\n      <th>Tags Wikidata URL</th>\n    </tr>\n  </thead>\n  <tbody>\n    <tr>\n      <th>0</th>\n      <td>1979.486.1</td>\n      <td>False</td>\n      <td>False</td>\n      <td>False</td>\n      <td>1</td>\n      <td>NaN</td>\n      <td>The American Wing</td>\n      <td>1979.0</td>\n      <td>Coin</td>\n      <td>One-dollar Liberty Head Coin</td>\n      <td>...</td>\n      <td>NaN</td>\n      <td>NaN</td>\n      <td>NaN</td>\n      <td>http://www.metmuseum.org/art/collection/search/1</td>\n      <td>NaN</td>\n      <td>NaN</td>\n      <td>Metropolitan Museum of Art, New York, NY</td>\n      <td>NaN</td>\n      <td>NaN</td>\n      <td>NaN</td>\n    </tr>\n    <tr>\n      <th>1</th>\n      <td>1980.264.5</td>\n      <td>False</td>\n      <td>False</td>\n      <td>False</td>\n      <td>2</td>\n      <td>NaN</td>\n      <td>The American Wing</td>\n      <td>1980.0</td>\n      <td>Coin</td>\n      <td>Ten-dollar Liberty Head Coin</td>\n      <td>...</td>\n      <td>NaN</td>\n      <td>NaN</td>\n      <td>NaN</td>\n      <td>http://www.metmuseum.org/art/collection/search/2</td>\n      <td>NaN</td>\n      <td>NaN</td>\n      <td>Metropolitan Museum of Art, New York, NY</td>\n      <td>NaN</td>\n      <td>NaN</td>\n      <td>NaN</td>\n    </tr>\n    <tr>\n      <th>2</th>\n      <td>67.265.9</td>\n      <td>False</td>\n      <td>False</td>\n      <td>False</td>\n      <td>3</td>\n      <td>NaN</td>\n      <td>The American Wing</td>\n      <td>1967.0</td>\n      <td>Coin</td>\n      <td>Two-and-a-Half Dollar Coin</td>\n      <td>...</td>\n      <td>NaN</td>\n      <td>NaN</td>\n      <td>NaN</td>\n      <td>http://www.metmuseum.org/art/collection/search/3</td>\n      <td>NaN</td>\n      <td>NaN</td>\n      <td>Metropolitan Museum of Art, New York, NY</td>\n      <td>NaN</td>\n      <td>NaN</td>\n      <td>NaN</td>\n    </tr>\n    <tr>\n      <th>3</th>\n      <td>67.265.10</td>\n      <td>False</td>\n      <td>False</td>\n      <td>False</td>\n      <td>4</td>\n      <td>NaN</td>\n      <td>The American Wing</td>\n      <td>1967.0</td>\n      <td>Coin</td>\n      <td>Two-and-a-Half Dollar Coin</td>\n      <td>...</td>\n      <td>NaN</td>\n      <td>NaN</td>\n      <td>NaN</td>\n      <td>http://www.metmuseum.org/art/collection/search/4</td>\n      <td>NaN</td>\n      <td>NaN</td>\n      <td>Metropolitan Museum of Art, New York, NY</td>\n      <td>NaN</td>\n      <td>NaN</td>\n      <td>NaN</td>\n    </tr>\n    <tr>\n      <th>4</th>\n      <td>67.265.11</td>\n      <td>False</td>\n      <td>False</td>\n      <td>False</td>\n      <td>5</td>\n      <td>NaN</td>\n      <td>The American Wing</td>\n      <td>1967.0</td>\n      <td>Coin</td>\n      <td>Two-and-a-Half Dollar Coin</td>\n      <td>...</td>\n      <td>NaN</td>\n      <td>NaN</td>\n      <td>NaN</td>\n      <td>http://www.metmuseum.org/art/collection/search/5</td>\n      <td>NaN</td>\n      <td>NaN</td>\n      <td>Metropolitan Museum of Art, New York, NY</td>\n      <td>NaN</td>\n      <td>NaN</td>\n      <td>NaN</td>\n    </tr>\n    <tr>\n      <th>...</th>\n      <td>...</td>\n      <td>...</td>\n      <td>...</td>\n      <td>...</td>\n      <td>...</td>\n      <td>...</td>\n      <td>...</td>\n      <td>...</td>\n      <td>...</td>\n      <td>...</td>\n      <td>...</td>\n      <td>...</td>\n      <td>...</td>\n      <td>...</td>\n      <td>...</td>\n      <td>...</td>\n      <td>...</td>\n      <td>...</td>\n      <td>...</td>\n      <td>...</td>\n      <td>...</td>\n    </tr>\n    <tr>\n      <th>477799</th>\n      <td>23.112.2893</td>\n      <td>False</td>\n      <td>False</td>\n      <td>True</td>\n      <td>860869</td>\n      <td>NaN</td>\n      <td>Drawings and Prints</td>\n      <td>1923</td>\n      <td>Drawing</td>\n      <td>Phaeton #24567</td>\n      <td>...</td>\n      <td>NaN</td>\n      <td>Drawings</td>\n      <td>NaN</td>\n      <td>http://www.metmuseum.org/art/collection/search...</td>\n      <td>NaN</td>\n      <td>NaN</td>\n      <td>Metropolitan Museum of Art, New York, NY</td>\n      <td>Carriages</td>\n      <td>http://vocab.getty.edu/page/aat/300185335</td>\n      <td>https://www.wikidata.org/wiki/Q235356</td>\n    </tr>\n    <tr>\n      <th>477800</th>\n      <td>23.112.2894</td>\n      <td>False</td>\n      <td>False</td>\n      <td>True</td>\n      <td>860870</td>\n      <td>NaN</td>\n      <td>Drawings and Prints</td>\n      <td>1923</td>\n      <td>Drawing</td>\n      <td>Stanhope Phaeton #25538-25539 (#21222)</td>\n      <td>...</td>\n      <td>NaN</td>\n      <td>Drawings</td>\n      <td>NaN</td>\n      <td>http://www.metmuseum.org/art/collection/search...</td>\n      <td>NaN</td>\n      <td>NaN</td>\n      <td>Metropolitan Museum of Art, New York, NY</td>\n      <td>Carriages</td>\n      <td>http://vocab.getty.edu/page/aat/300185335</td>\n      <td>https://www.wikidata.org/wiki/Q235356</td>\n    </tr>\n    <tr>\n      <th>477801</th>\n      <td>53.600.1434</td>\n      <td>False</td>\n      <td>False</td>\n      <td>False</td>\n      <td>860871</td>\n      <td>NaN</td>\n      <td>Drawings and Prints</td>\n      <td>1953</td>\n      <td>Print</td>\n      <td>Forest landscape with cattle drinking, a woman...</td>\n      <td>...</td>\n      <td>NaN</td>\n      <td>Prints</td>\n      <td>NaN</td>\n      <td>http://www.metmuseum.org/art/collection/search...</td>\n      <td>NaN</td>\n      <td>NaN</td>\n      <td>Metropolitan Museum of Art, New York, NY</td>\n      <td>NaN</td>\n      <td>NaN</td>\n      <td>NaN</td>\n    </tr>\n    <tr>\n      <th>477802</th>\n      <td>23.112.2895</td>\n      <td>False</td>\n      <td>False</td>\n      <td>True</td>\n      <td>860872</td>\n      <td>NaN</td>\n      <td>Drawings and Prints</td>\n      <td>1923</td>\n      <td>Drawing</td>\n      <td>Phaeton with folding top</td>\n      <td>...</td>\n      <td>NaN</td>\n      <td>Drawings</td>\n      <td>NaN</td>\n      <td>http://www.metmuseum.org/art/collection/search...</td>\n      <td>NaN</td>\n      <td>NaN</td>\n      <td>Metropolitan Museum of Art, New York, NY</td>\n      <td>Carriages</td>\n      <td>http://vocab.getty.edu/page/aat/300185335</td>\n      <td>https://www.wikidata.org/wiki/Q235356</td>\n    </tr>\n    <tr>\n      <th>477803</th>\n      <td>23.112.2896</td>\n      <td>False</td>\n      <td>False</td>\n      <td>True</td>\n      <td>860873</td>\n      <td>NaN</td>\n      <td>Drawings and Prints</td>\n      <td>1923</td>\n      <td>Drawing</td>\n      <td>Stanhope Phaeton</td>\n      <td>...</td>\n      <td>NaN</td>\n      <td>Drawings</td>\n      <td>NaN</td>\n      <td>http://www.metmuseum.org/art/collection/search...</td>\n      <td>NaN</td>\n      <td>NaN</td>\n      <td>Metropolitan Museum of Art, New York, NY</td>\n      <td>Carriages</td>\n      <td>http://vocab.getty.edu/page/aat/300185335</td>\n      <td>https://www.wikidata.org/wiki/Q235356</td>\n    </tr>\n  </tbody>\n</table>\n<p>477804 rows × 54 columns</p>\n</div>"
     },
     "execution_count": 53,
     "metadata": {},
     "output_type": "execute_result"
    }
   ],
   "source": [
    "df"
   ]
  },
  {
   "cell_type": "code",
   "execution_count": 54,
   "metadata": {
    "collapsed": false,
    "jupyter": {
     "outputs_hidden": false
    }
   },
   "outputs": [
    {
     "name": "stdout",
     "output_type": "stream",
     "text": [
      "<class 'pandas.core.frame.DataFrame'>\n",
      "RangeIndex: 477804 entries, 0 to 477803\n",
      "Data columns (total 54 columns):\n",
      " #   Column                   Non-Null Count   Dtype  \n",
      "---  ------                   --------------   -----  \n",
      " 0   Object Number            477804 non-null  object \n",
      " 1   Is Highlight             477804 non-null  bool   \n",
      " 2   Is Timeline Work         477804 non-null  bool   \n",
      " 3   Is Public Domain         477804 non-null  bool   \n",
      " 4   Object ID                477804 non-null  int64  \n",
      " 5   Gallery Number           51776 non-null   object \n",
      " 6   Department               477804 non-null  object \n",
      " 7   AccessionYear            474248 non-null  object \n",
      " 8   Object Name              476113 non-null  object \n",
      " 9   Title                    448619 non-null  object \n",
      " 10  Culture                  207379 non-null  object \n",
      " 11  Period                   90956 non-null   object \n",
      " 12  Dynasty                  23233 non-null   object \n",
      " 13  Reign                    11226 non-null   object \n",
      " 14  Portfolio                23530 non-null   object \n",
      " 15  Constituent ID           275535 non-null  object \n",
      " 16  Artist Role              273436 non-null  object \n",
      " 17  Artist Prefix            275535 non-null  object \n",
      " 18  Artist Display Name      275535 non-null  object \n",
      " 19  Artist Display Bio       273436 non-null  object \n",
      " 20  Artist Suffix            275487 non-null  object \n",
      " 21  Artist Alpha Sort        275535 non-null  object \n",
      " 22  Artist Nationality       275535 non-null  object \n",
      " 23  Artist Begin Date        275535 non-null  object \n",
      " 24  Artist End Date          275535 non-null  object \n",
      " 25  Artist Gender            103061 non-null  object \n",
      " 26  Artist ULAN URL          222021 non-null  object \n",
      " 27  Artist Wikidata URL      217732 non-null  object \n",
      " 28  Object Date              463937 non-null  object \n",
      " 29  Object Begin Date        477804 non-null  int64  \n",
      " 30  Object End Date          477804 non-null  int64  \n",
      " 31  Medium                   470684 non-null  object \n",
      " 32  Dimensions               402510 non-null  object \n",
      " 33  Credit Line              477353 non-null  object \n",
      " 34  Geography Type           59769 non-null   object \n",
      " 35  City                     32407 non-null   object \n",
      " 36  State                    2550 non-null    object \n",
      " 37  County                   8450 non-null    object \n",
      " 38  Country                  75751 non-null   object \n",
      " 39  Region                   31360 non-null   object \n",
      " 40  Subregion                22124 non-null   object \n",
      " 41  Locale                   15709 non-null   object \n",
      " 42  Locus                    7493 non-null    object \n",
      " 43  Excavation               16558 non-null   object \n",
      " 44  River                    2095 non-null    object \n",
      " 45  Classification           399598 non-null  object \n",
      " 46  Rights and Reproduction  24198 non-null   object \n",
      " 47  Link Resource            477804 non-null  object \n",
      " 48  Object Wikidata URL      22265 non-null   object \n",
      " 49  Metadata Date            0 non-null       float64\n",
      " 50  Repository               477804 non-null  object \n",
      " 51  Tags                     200400 non-null  object \n",
      " 52  Tags AAT URL             200400 non-null  object \n",
      " 53  Tags Wikidata URL        200400 non-null  object \n",
      "dtypes: bool(3), float64(1), int64(3), object(47)\n",
      "memory usage: 187.3+ MB\n"
     ]
    }
   ],
   "source": [
    "df.info()"
   ]
  },
  {
   "cell_type": "code",
   "execution_count": 55,
   "outputs": [
    {
     "data": {
      "text/plain": "Object Number              474872\nIs Highlight                    2\nIs Timeline Work                2\nIs Public Domain                2\nObject ID                  477804\nGallery Number                609\nDepartment                     19\nAccessionYear                 280\nObject Name                 28449\nTitle                      239091\nCulture                      7180\nPeriod                       1873\nDynasty                       403\nReign                         389\nPortfolio                    3563\nConstituent ID              46224\nArtist Role                  6837\nArtist Prefix                8046\nArtist Display Name         64531\nArtist Display Bio          52439\nArtist Suffix                2729\nArtist Alpha Sort           64489\nArtist Nationality           5037\nArtist Begin Date           29716\nArtist End Date             29685\nArtist Gender                 284\nArtist ULAN URL             37235\nArtist Wikidata URL         39362\nObject Date                 32696\nObject Begin Date            2073\nObject End Date              2040\nMedium                      64685\nDimensions                 259819\nCredit Line                 35330\nGeography Type                115\nCity                         2566\nState                         104\nCounty                       1093\nCountry                       946\nRegion                        717\nSubregion                     365\nLocale                        867\nLocus                        1380\nExcavation                    404\nRiver                         229\nClassification               1212\nRights and Reproduction      1415\nLink Resource              477804\nObject Wikidata URL         22213\nMetadata Date                   0\nRepository                      1\nTags                        44830\nTags AAT URL                44370\nTags Wikidata URL           44564\ndtype: int64"
     },
     "execution_count": 55,
     "metadata": {},
     "output_type": "execute_result"
    }
   ],
   "source": [
    "df.nunique()"
   ],
   "metadata": {
    "collapsed": false
   }
  },
  {
   "cell_type": "code",
   "execution_count": 56,
   "outputs": [
    {
     "data": {
      "text/plain": "       Object Number Is Highlight Is Timeline Work Is Public Domain  \\\ncount         477804       477804           477804           477804   \nunique        474872            2                2                2   \ntop           62.635        False            False             True   \nfreq               4       475320           469816           245307   \nmean             NaN          NaN              NaN              NaN   \nstd              NaN          NaN              NaN              NaN   \nmin              NaN          NaN              NaN              NaN   \n25%              NaN          NaN              NaN              NaN   \n50%              NaN          NaN              NaN              NaN   \n75%              NaN          NaN              NaN              NaN   \nmax              NaN          NaN              NaN              NaN   \n\n            Object ID Gallery Number           Department  AccessionYear  \\\ncount   477804.000000          51776               477804       474248.0   \nunique            NaN            609                   19          280.0   \ntop               NaN            774  Drawings and Prints         1963.0   \nfreq              NaN           7054               167152        34280.0   \nmean    387582.167811            NaN                  NaN            NaN   \nstd     237374.736434            NaN                  NaN            NaN   \nmin          1.000000            NaN                  NaN            NaN   \n25%     210119.750000            NaN                  NaN            NaN   \n50%     371186.500000            NaN                  NaN            NaN   \n75%     563883.250000            NaN                  NaN            NaN   \nmax     860873.000000            NaN                  NaN            NaN   \n\n       Object Name                                          Title  ...  \\\ncount       476113                                         448619  ...   \nunique       28449                                         239091  ...   \ntop          Print  Terracotta fragment of a kylix (drinking cup)  ...   \nfreq         99439                                           6415  ...   \nmean           NaN                                            NaN  ...   \nstd            NaN                                            NaN  ...   \nmin            NaN                                            NaN  ...   \n25%            NaN                                            NaN  ...   \n50%            NaN                                            NaN  ...   \n75%            NaN                                            NaN  ...   \nmax            NaN                                            NaN  ...   \n\n                    River Classification  \\\ncount                2095         399598   \nunique                229           1212   \ntop     Upper Sepik River         Prints   \nfreq                  362          80981   \nmean                  NaN            NaN   \nstd                   NaN            NaN   \nmin                   NaN            NaN   \n25%                   NaN            NaN   \n50%                   NaN            NaN   \n75%                   NaN            NaN   \nmax                   NaN            NaN   \n\n                                  Rights and Reproduction  \\\ncount                                               24198   \nunique                                               1415   \ntop     © Walker Evans Archive, The Metropolitan Museu...   \nfreq                                                 7314   \nmean                                                  NaN   \nstd                                                   NaN   \nmin                                                   NaN   \n25%                                                   NaN   \n50%                                                   NaN   \n75%                                                   NaN   \nmax                                                   NaN   \n\n                                           Link Resource  \\\ncount                                             477804   \nunique                                            477804   \ntop     http://www.metmuseum.org/art/collection/search/1   \nfreq                                                   1   \nmean                                                 NaN   \nstd                                                  NaN   \nmin                                                  NaN   \n25%                                                  NaN   \n50%                                                  NaN   \n75%                                                  NaN   \nmax                                                  NaN   \n\n                            Object Wikidata URL Metadata Date  \\\ncount                                     22265           0.0   \nunique                                    22213           NaN   \ntop     https://www.wikidata.org/wiki/Q97732991           NaN   \nfreq                                         17           NaN   \nmean                                        NaN           NaN   \nstd                                         NaN           NaN   \nmin                                         NaN           NaN   \n25%                                         NaN           NaN   \n50%                                         NaN           NaN   \n75%                                         NaN           NaN   \nmax                                         NaN           NaN   \n\n                                      Repository     Tags  \\\ncount                                     477804   200400   \nunique                                         1    44830   \ntop     Metropolitan Museum of Art, New York, NY  Flowers   \nfreq                                      477804     8359   \nmean                                         NaN      NaN   \nstd                                          NaN      NaN   \nmin                                          NaN      NaN   \n25%                                          NaN      NaN   \n50%                                          NaN      NaN   \n75%                                          NaN      NaN   \nmax                                          NaN      NaN   \n\n                                     Tags AAT URL  \\\ncount                                      200400   \nunique                                      44370   \ntop     http://vocab.getty.edu/page/aat/300132399   \nfreq                                         8359   \nmean                                          NaN   \nstd                                           NaN   \nmin                                           NaN   \n25%                                           NaN   \n50%                                           NaN   \n75%                                           NaN   \nmax                                           NaN   \n\n                         Tags Wikidata URL  \ncount                               200400  \nunique                               44564  \ntop     https://www.wikidata.org/wiki/Q506  \nfreq                                  8359  \nmean                                   NaN  \nstd                                    NaN  \nmin                                    NaN  \n25%                                    NaN  \n50%                                    NaN  \n75%                                    NaN  \nmax                                    NaN  \n\n[11 rows x 54 columns]",
      "text/html": "<div>\n<style scoped>\n    .dataframe tbody tr th:only-of-type {\n        vertical-align: middle;\n    }\n\n    .dataframe tbody tr th {\n        vertical-align: top;\n    }\n\n    .dataframe thead th {\n        text-align: right;\n    }\n</style>\n<table border=\"1\" class=\"dataframe\">\n  <thead>\n    <tr style=\"text-align: right;\">\n      <th></th>\n      <th>Object Number</th>\n      <th>Is Highlight</th>\n      <th>Is Timeline Work</th>\n      <th>Is Public Domain</th>\n      <th>Object ID</th>\n      <th>Gallery Number</th>\n      <th>Department</th>\n      <th>AccessionYear</th>\n      <th>Object Name</th>\n      <th>Title</th>\n      <th>...</th>\n      <th>River</th>\n      <th>Classification</th>\n      <th>Rights and Reproduction</th>\n      <th>Link Resource</th>\n      <th>Object Wikidata URL</th>\n      <th>Metadata Date</th>\n      <th>Repository</th>\n      <th>Tags</th>\n      <th>Tags AAT URL</th>\n      <th>Tags Wikidata URL</th>\n    </tr>\n  </thead>\n  <tbody>\n    <tr>\n      <th>count</th>\n      <td>477804</td>\n      <td>477804</td>\n      <td>477804</td>\n      <td>477804</td>\n      <td>477804.000000</td>\n      <td>51776</td>\n      <td>477804</td>\n      <td>474248.0</td>\n      <td>476113</td>\n      <td>448619</td>\n      <td>...</td>\n      <td>2095</td>\n      <td>399598</td>\n      <td>24198</td>\n      <td>477804</td>\n      <td>22265</td>\n      <td>0.0</td>\n      <td>477804</td>\n      <td>200400</td>\n      <td>200400</td>\n      <td>200400</td>\n    </tr>\n    <tr>\n      <th>unique</th>\n      <td>474872</td>\n      <td>2</td>\n      <td>2</td>\n      <td>2</td>\n      <td>NaN</td>\n      <td>609</td>\n      <td>19</td>\n      <td>280.0</td>\n      <td>28449</td>\n      <td>239091</td>\n      <td>...</td>\n      <td>229</td>\n      <td>1212</td>\n      <td>1415</td>\n      <td>477804</td>\n      <td>22213</td>\n      <td>NaN</td>\n      <td>1</td>\n      <td>44830</td>\n      <td>44370</td>\n      <td>44564</td>\n    </tr>\n    <tr>\n      <th>top</th>\n      <td>62.635</td>\n      <td>False</td>\n      <td>False</td>\n      <td>True</td>\n      <td>NaN</td>\n      <td>774</td>\n      <td>Drawings and Prints</td>\n      <td>1963.0</td>\n      <td>Print</td>\n      <td>Terracotta fragment of a kylix (drinking cup)</td>\n      <td>...</td>\n      <td>Upper Sepik River</td>\n      <td>Prints</td>\n      <td>© Walker Evans Archive, The Metropolitan Museu...</td>\n      <td>http://www.metmuseum.org/art/collection/search/1</td>\n      <td>https://www.wikidata.org/wiki/Q97732991</td>\n      <td>NaN</td>\n      <td>Metropolitan Museum of Art, New York, NY</td>\n      <td>Flowers</td>\n      <td>http://vocab.getty.edu/page/aat/300132399</td>\n      <td>https://www.wikidata.org/wiki/Q506</td>\n    </tr>\n    <tr>\n      <th>freq</th>\n      <td>4</td>\n      <td>475320</td>\n      <td>469816</td>\n      <td>245307</td>\n      <td>NaN</td>\n      <td>7054</td>\n      <td>167152</td>\n      <td>34280.0</td>\n      <td>99439</td>\n      <td>6415</td>\n      <td>...</td>\n      <td>362</td>\n      <td>80981</td>\n      <td>7314</td>\n      <td>1</td>\n      <td>17</td>\n      <td>NaN</td>\n      <td>477804</td>\n      <td>8359</td>\n      <td>8359</td>\n      <td>8359</td>\n    </tr>\n    <tr>\n      <th>mean</th>\n      <td>NaN</td>\n      <td>NaN</td>\n      <td>NaN</td>\n      <td>NaN</td>\n      <td>387582.167811</td>\n      <td>NaN</td>\n      <td>NaN</td>\n      <td>NaN</td>\n      <td>NaN</td>\n      <td>NaN</td>\n      <td>...</td>\n      <td>NaN</td>\n      <td>NaN</td>\n      <td>NaN</td>\n      <td>NaN</td>\n      <td>NaN</td>\n      <td>NaN</td>\n      <td>NaN</td>\n      <td>NaN</td>\n      <td>NaN</td>\n      <td>NaN</td>\n    </tr>\n    <tr>\n      <th>std</th>\n      <td>NaN</td>\n      <td>NaN</td>\n      <td>NaN</td>\n      <td>NaN</td>\n      <td>237374.736434</td>\n      <td>NaN</td>\n      <td>NaN</td>\n      <td>NaN</td>\n      <td>NaN</td>\n      <td>NaN</td>\n      <td>...</td>\n      <td>NaN</td>\n      <td>NaN</td>\n      <td>NaN</td>\n      <td>NaN</td>\n      <td>NaN</td>\n      <td>NaN</td>\n      <td>NaN</td>\n      <td>NaN</td>\n      <td>NaN</td>\n      <td>NaN</td>\n    </tr>\n    <tr>\n      <th>min</th>\n      <td>NaN</td>\n      <td>NaN</td>\n      <td>NaN</td>\n      <td>NaN</td>\n      <td>1.000000</td>\n      <td>NaN</td>\n      <td>NaN</td>\n      <td>NaN</td>\n      <td>NaN</td>\n      <td>NaN</td>\n      <td>...</td>\n      <td>NaN</td>\n      <td>NaN</td>\n      <td>NaN</td>\n      <td>NaN</td>\n      <td>NaN</td>\n      <td>NaN</td>\n      <td>NaN</td>\n      <td>NaN</td>\n      <td>NaN</td>\n      <td>NaN</td>\n    </tr>\n    <tr>\n      <th>25%</th>\n      <td>NaN</td>\n      <td>NaN</td>\n      <td>NaN</td>\n      <td>NaN</td>\n      <td>210119.750000</td>\n      <td>NaN</td>\n      <td>NaN</td>\n      <td>NaN</td>\n      <td>NaN</td>\n      <td>NaN</td>\n      <td>...</td>\n      <td>NaN</td>\n      <td>NaN</td>\n      <td>NaN</td>\n      <td>NaN</td>\n      <td>NaN</td>\n      <td>NaN</td>\n      <td>NaN</td>\n      <td>NaN</td>\n      <td>NaN</td>\n      <td>NaN</td>\n    </tr>\n    <tr>\n      <th>50%</th>\n      <td>NaN</td>\n      <td>NaN</td>\n      <td>NaN</td>\n      <td>NaN</td>\n      <td>371186.500000</td>\n      <td>NaN</td>\n      <td>NaN</td>\n      <td>NaN</td>\n      <td>NaN</td>\n      <td>NaN</td>\n      <td>...</td>\n      <td>NaN</td>\n      <td>NaN</td>\n      <td>NaN</td>\n      <td>NaN</td>\n      <td>NaN</td>\n      <td>NaN</td>\n      <td>NaN</td>\n      <td>NaN</td>\n      <td>NaN</td>\n      <td>NaN</td>\n    </tr>\n    <tr>\n      <th>75%</th>\n      <td>NaN</td>\n      <td>NaN</td>\n      <td>NaN</td>\n      <td>NaN</td>\n      <td>563883.250000</td>\n      <td>NaN</td>\n      <td>NaN</td>\n      <td>NaN</td>\n      <td>NaN</td>\n      <td>NaN</td>\n      <td>...</td>\n      <td>NaN</td>\n      <td>NaN</td>\n      <td>NaN</td>\n      <td>NaN</td>\n      <td>NaN</td>\n      <td>NaN</td>\n      <td>NaN</td>\n      <td>NaN</td>\n      <td>NaN</td>\n      <td>NaN</td>\n    </tr>\n    <tr>\n      <th>max</th>\n      <td>NaN</td>\n      <td>NaN</td>\n      <td>NaN</td>\n      <td>NaN</td>\n      <td>860873.000000</td>\n      <td>NaN</td>\n      <td>NaN</td>\n      <td>NaN</td>\n      <td>NaN</td>\n      <td>NaN</td>\n      <td>...</td>\n      <td>NaN</td>\n      <td>NaN</td>\n      <td>NaN</td>\n      <td>NaN</td>\n      <td>NaN</td>\n      <td>NaN</td>\n      <td>NaN</td>\n      <td>NaN</td>\n      <td>NaN</td>\n      <td>NaN</td>\n    </tr>\n  </tbody>\n</table>\n<p>11 rows × 54 columns</p>\n</div>"
     },
     "execution_count": 56,
     "metadata": {},
     "output_type": "execute_result"
    }
   ],
   "source": [
    "df.describe(include='all')"
   ],
   "metadata": {
    "collapsed": false
   }
  },
  {
   "cell_type": "code",
   "execution_count": 57,
   "outputs": [
    {
     "data": {
      "text/plain": "0"
     },
     "execution_count": 57,
     "metadata": {},
     "output_type": "execute_result"
    }
   ],
   "source": [
    "df.duplicated().sum()"
   ],
   "metadata": {
    "collapsed": false
   }
  },
  {
   "cell_type": "code",
   "execution_count": 58,
   "outputs": [],
   "source": [
    "# df.rename(columns={'Unnamed: 0': 'id'}, inplace=True)"
   ],
   "metadata": {
    "collapsed": false
   }
  },
  {
   "cell_type": "code",
   "execution_count": 59,
   "outputs": [
    {
     "data": {
      "text/plain": "0"
     },
     "execution_count": 59,
     "metadata": {},
     "output_type": "execute_result"
    }
   ],
   "source": [
    "df.set_index('Object ID', inplace=True) # use IDs as index\n",
    "df.duplicated().sum()"
   ],
   "metadata": {
    "collapsed": false
   }
  },
  {
   "cell_type": "markdown",
   "source": [
    "No duplicates"
   ],
   "metadata": {
    "collapsed": false
   }
  },
  {
   "cell_type": "markdown",
   "source": [
    "#  2. Check consistency (i.e. that same things are represented in the same way) of at least **three features** where you expect problems (include \"Object Name\" feature). You can propose how to clean the selected features, however do not apply cleaning (in your interest) 🙂 _(1.5 points)_"
   ],
   "metadata": {
    "collapsed": false
   }
  },
  {
   "cell_type": "markdown",
   "source": [
    "## 2a Since the assigment says to include the `Object Name`, lets start with that"
   ],
   "metadata": {
    "collapsed": false
   }
  },
  {
   "cell_type": "code",
   "execution_count": 60,
   "outputs": [
    {
     "data": {
      "text/plain": "count     476113\nunique     28449\ntop        Print\nfreq       99439\nName: Object Name, dtype: object"
     },
     "execution_count": 60,
     "metadata": {},
     "output_type": "execute_result"
    }
   ],
   "source": [
    "df['Object Name'].describe()"
   ],
   "metadata": {
    "collapsed": false
   }
  },
  {
   "cell_type": "code",
   "execution_count": 61,
   "outputs": [],
   "source": [
    "# df['Title_len'] = df.apply(lambda x: len(x['Title']), axis=1)\n",
    "#df['Object_name_len'] = df['Object Name'].apply(lambda x: len(str(x)))\n",
    "df['Object_name_len'] = df['Object Name'].str.len()"
   ],
   "metadata": {
    "collapsed": false
   }
  },
  {
   "cell_type": "code",
   "execution_count": 62,
   "outputs": [
    {
     "data": {
      "text/plain": "count    476113.000000\nmean         10.476992\nstd           8.560064\nmin           2.000000\n25%           5.000000\n50%           7.000000\n75%          13.000000\nmax          80.000000\nName: Object_name_len, dtype: float64"
     },
     "execution_count": 62,
     "metadata": {},
     "output_type": "execute_result"
    }
   ],
   "source": [
    "df['Object_name_len'].describe()"
   ],
   "metadata": {
    "collapsed": false
   }
  },
  {
   "cell_type": "code",
   "execution_count": 62,
   "outputs": [],
   "source": [],
   "metadata": {
    "collapsed": false
   }
  },
  {
   "cell_type": "code",
   "execution_count": 63,
   "outputs": [],
   "source": [
    "# df.groupby('Object Name').nunique().sort_values('Object_name_len')\n",
    "# df.loc[df.groupby('Object Name').Object_name_len.nsmallest(3).index]\n",
    "# dataframe with records without duplicated 'Object name'\n",
    "df_dedup_name = df.drop_duplicates(subset=['Object Name'])"
   ],
   "metadata": {
    "collapsed": false
   }
  },
  {
   "cell_type": "code",
   "execution_count": 64,
   "outputs": [
    {
     "data": {
      "text/plain": "Object ID\n24857      Ax\n248056     As\n500526     Ūd\n500580     Po\n500582     Lo\n500589     Bo\n500606     Gu\n501092     Ty\n503211     So\n503339     Em\n503765     Se\n504702     Yu\n327       Mug\n329       Keg\n688       Cup\n896       Box\n948       Jar\n1401      Cap\n2080      Pin\n2126      Urn\nName: Object Name, dtype: object"
     },
     "execution_count": 64,
     "metadata": {},
     "output_type": "execute_result"
    }
   ],
   "source": [
    "# get 20 of the shortest Object names\n",
    "df_dedup_name.loc[df_dedup_name.Object_name_len.nsmallest(20).index]['Object Name']"
   ],
   "metadata": {
    "collapsed": false
   }
  },
  {
   "cell_type": "markdown",
   "source": [
    "after looking these up on the internet, the names do seem to make sense"
   ],
   "metadata": {
    "collapsed": false
   }
  },
  {
   "cell_type": "markdown",
   "source": [
    "altough, wait, 'Ax'? I know it as 'Axe', I wonder if that is there as well?"
   ],
   "metadata": {
    "collapsed": false
   }
  },
  {
   "cell_type": "code",
   "execution_count": 65,
   "outputs": [
    {
     "data": {
      "text/plain": "          Object Number  Is Highlight  Is Timeline Work  Is Public Domain  \\\nObject ID                                                                   \n24857            69.156         False             False              True   \n25577          04.3.467         False              True              True   \n32944          23.276.2         False             False              True   \n37759       2000.284.58         False             False              True   \n38627       2000.284.61         False             False              True   \n...                 ...           ...               ...               ...   \n555849        07.231.14         False             False             False   \n557942          17.6.65         False             False             False   \n569247          26.2.65         False             False             False   \n571171      09.180.1413         False             False             False   \n571857          29.2.11         False             False             False   \n\n          Gallery Number      Department AccessionYear Object Name  \\\nObject ID                                                            \n24857              379.0  Arms and Armor        1969.0          Ax   \n25577                NaN  Arms and Armor        1904.0          Ax   \n32944              370.0  Arms and Armor        1923.0          Ax   \n37759              244.0       Asian Art        2000.0          Ax   \n38627              244.0       Asian Art        2000.0          Ax   \n...                  ...             ...           ...         ...   \n555849             109.0    Egyptian Art        1907.0          Ax   \n557942               NaN    Egyptian Art        1917.0          Ax   \n569247               NaN    Egyptian Art        1926.0          Ax   \n571171               NaN    Egyptian Art        1909.0          Ax   \n571857               NaN    Egyptian Art        1929.0          Ax   \n\n                             Title    Culture  ...   Classification  \\\nObject ID                                      ...                    \n24857                           Ax     Syrian  ...  Shafted Weapons   \n25577                   Dervish Ax    Turkish  ...  Shafted Weapons   \n32944      Ax of the Palstave Type    British  ...    Miscellaneous   \n37759                          NaN    Vietnam  ...        Metalwork   \n38627                          NaN  Indonesia  ...        Sculpture   \n...                            ...        ...  ...              ...   \n555849                      Ax (?)        NaN  ...              NaN   \n557942                          Ax        NaN  ...              NaN   \n569247                          Ax        NaN  ...              NaN   \n571171                          Ax        NaN  ...              NaN   \n571857                          Ax        NaN  ...              NaN   \n\n          Rights and Reproduction  \\\nObject ID                           \n24857                         NaN   \n25577                         NaN   \n32944                         NaN   \n37759                         NaN   \n38627                         NaN   \n...                           ...   \n555849                        NaN   \n557942                        NaN   \n569247                        NaN   \n571171                        NaN   \n571857                        NaN   \n\n                                               Link Resource  \\\nObject ID                                                      \n24857      http://www.metmuseum.org/art/collection/search...   \n25577      http://www.metmuseum.org/art/collection/search...   \n32944      http://www.metmuseum.org/art/collection/search...   \n37759      http://www.metmuseum.org/art/collection/search...   \n38627      http://www.metmuseum.org/art/collection/search...   \n...                                                      ...   \n555849     http://www.metmuseum.org/art/collection/search...   \n557942     http://www.metmuseum.org/art/collection/search...   \n569247     http://www.metmuseum.org/art/collection/search...   \n571171     http://www.metmuseum.org/art/collection/search...   \n571857     http://www.metmuseum.org/art/collection/search...   \n\n          Object Wikidata URL Metadata Date  \\\nObject ID                                     \n24857                     NaN           NaN   \n25577                     NaN           NaN   \n32944                     NaN           NaN   \n37759                     NaN           NaN   \n38627                     NaN           NaN   \n...                       ...           ...   \n555849                    NaN           NaN   \n557942                    NaN           NaN   \n569247                    NaN           NaN   \n571171                    NaN           NaN   \n571857                    NaN           NaN   \n\n                                         Repository Tags Tags AAT URL  \\\nObject ID                                                               \n24857      Metropolitan Museum of Art, New York, NY  NaN          NaN   \n25577      Metropolitan Museum of Art, New York, NY  NaN          NaN   \n32944      Metropolitan Museum of Art, New York, NY  NaN          NaN   \n37759      Metropolitan Museum of Art, New York, NY  NaN          NaN   \n38627      Metropolitan Museum of Art, New York, NY  NaN          NaN   \n...                                             ...  ...          ...   \n555849     Metropolitan Museum of Art, New York, NY  NaN          NaN   \n557942     Metropolitan Museum of Art, New York, NY  NaN          NaN   \n569247     Metropolitan Museum of Art, New York, NY  NaN          NaN   \n571171     Metropolitan Museum of Art, New York, NY  NaN          NaN   \n571857     Metropolitan Museum of Art, New York, NY  NaN          NaN   \n\n          Tags Wikidata URL Object_name_len  \nObject ID                                    \n24857                   NaN             2.0  \n25577                   NaN             2.0  \n32944                   NaN             2.0  \n37759                   NaN             2.0  \n38627                   NaN             2.0  \n...                     ...             ...  \n555849                  NaN             2.0  \n557942                  NaN             2.0  \n569247                  NaN             2.0  \n571171                  NaN             2.0  \n571857                  NaN             2.0  \n\n[79 rows x 54 columns]",
      "text/html": "<div>\n<style scoped>\n    .dataframe tbody tr th:only-of-type {\n        vertical-align: middle;\n    }\n\n    .dataframe tbody tr th {\n        vertical-align: top;\n    }\n\n    .dataframe thead th {\n        text-align: right;\n    }\n</style>\n<table border=\"1\" class=\"dataframe\">\n  <thead>\n    <tr style=\"text-align: right;\">\n      <th></th>\n      <th>Object Number</th>\n      <th>Is Highlight</th>\n      <th>Is Timeline Work</th>\n      <th>Is Public Domain</th>\n      <th>Gallery Number</th>\n      <th>Department</th>\n      <th>AccessionYear</th>\n      <th>Object Name</th>\n      <th>Title</th>\n      <th>Culture</th>\n      <th>...</th>\n      <th>Classification</th>\n      <th>Rights and Reproduction</th>\n      <th>Link Resource</th>\n      <th>Object Wikidata URL</th>\n      <th>Metadata Date</th>\n      <th>Repository</th>\n      <th>Tags</th>\n      <th>Tags AAT URL</th>\n      <th>Tags Wikidata URL</th>\n      <th>Object_name_len</th>\n    </tr>\n    <tr>\n      <th>Object ID</th>\n      <th></th>\n      <th></th>\n      <th></th>\n      <th></th>\n      <th></th>\n      <th></th>\n      <th></th>\n      <th></th>\n      <th></th>\n      <th></th>\n      <th></th>\n      <th></th>\n      <th></th>\n      <th></th>\n      <th></th>\n      <th></th>\n      <th></th>\n      <th></th>\n      <th></th>\n      <th></th>\n      <th></th>\n    </tr>\n  </thead>\n  <tbody>\n    <tr>\n      <th>24857</th>\n      <td>69.156</td>\n      <td>False</td>\n      <td>False</td>\n      <td>True</td>\n      <td>379.0</td>\n      <td>Arms and Armor</td>\n      <td>1969.0</td>\n      <td>Ax</td>\n      <td>Ax</td>\n      <td>Syrian</td>\n      <td>...</td>\n      <td>Shafted Weapons</td>\n      <td>NaN</td>\n      <td>http://www.metmuseum.org/art/collection/search...</td>\n      <td>NaN</td>\n      <td>NaN</td>\n      <td>Metropolitan Museum of Art, New York, NY</td>\n      <td>NaN</td>\n      <td>NaN</td>\n      <td>NaN</td>\n      <td>2.0</td>\n    </tr>\n    <tr>\n      <th>25577</th>\n      <td>04.3.467</td>\n      <td>False</td>\n      <td>True</td>\n      <td>True</td>\n      <td>NaN</td>\n      <td>Arms and Armor</td>\n      <td>1904.0</td>\n      <td>Ax</td>\n      <td>Dervish Ax</td>\n      <td>Turkish</td>\n      <td>...</td>\n      <td>Shafted Weapons</td>\n      <td>NaN</td>\n      <td>http://www.metmuseum.org/art/collection/search...</td>\n      <td>NaN</td>\n      <td>NaN</td>\n      <td>Metropolitan Museum of Art, New York, NY</td>\n      <td>NaN</td>\n      <td>NaN</td>\n      <td>NaN</td>\n      <td>2.0</td>\n    </tr>\n    <tr>\n      <th>32944</th>\n      <td>23.276.2</td>\n      <td>False</td>\n      <td>False</td>\n      <td>True</td>\n      <td>370.0</td>\n      <td>Arms and Armor</td>\n      <td>1923.0</td>\n      <td>Ax</td>\n      <td>Ax of the Palstave Type</td>\n      <td>British</td>\n      <td>...</td>\n      <td>Miscellaneous</td>\n      <td>NaN</td>\n      <td>http://www.metmuseum.org/art/collection/search...</td>\n      <td>NaN</td>\n      <td>NaN</td>\n      <td>Metropolitan Museum of Art, New York, NY</td>\n      <td>NaN</td>\n      <td>NaN</td>\n      <td>NaN</td>\n      <td>2.0</td>\n    </tr>\n    <tr>\n      <th>37759</th>\n      <td>2000.284.58</td>\n      <td>False</td>\n      <td>False</td>\n      <td>True</td>\n      <td>244.0</td>\n      <td>Asian Art</td>\n      <td>2000.0</td>\n      <td>Ax</td>\n      <td>NaN</td>\n      <td>Vietnam</td>\n      <td>...</td>\n      <td>Metalwork</td>\n      <td>NaN</td>\n      <td>http://www.metmuseum.org/art/collection/search...</td>\n      <td>NaN</td>\n      <td>NaN</td>\n      <td>Metropolitan Museum of Art, New York, NY</td>\n      <td>NaN</td>\n      <td>NaN</td>\n      <td>NaN</td>\n      <td>2.0</td>\n    </tr>\n    <tr>\n      <th>38627</th>\n      <td>2000.284.61</td>\n      <td>False</td>\n      <td>False</td>\n      <td>True</td>\n      <td>244.0</td>\n      <td>Asian Art</td>\n      <td>2000.0</td>\n      <td>Ax</td>\n      <td>NaN</td>\n      <td>Indonesia</td>\n      <td>...</td>\n      <td>Sculpture</td>\n      <td>NaN</td>\n      <td>http://www.metmuseum.org/art/collection/search...</td>\n      <td>NaN</td>\n      <td>NaN</td>\n      <td>Metropolitan Museum of Art, New York, NY</td>\n      <td>NaN</td>\n      <td>NaN</td>\n      <td>NaN</td>\n      <td>2.0</td>\n    </tr>\n    <tr>\n      <th>...</th>\n      <td>...</td>\n      <td>...</td>\n      <td>...</td>\n      <td>...</td>\n      <td>...</td>\n      <td>...</td>\n      <td>...</td>\n      <td>...</td>\n      <td>...</td>\n      <td>...</td>\n      <td>...</td>\n      <td>...</td>\n      <td>...</td>\n      <td>...</td>\n      <td>...</td>\n      <td>...</td>\n      <td>...</td>\n      <td>...</td>\n      <td>...</td>\n      <td>...</td>\n      <td>...</td>\n    </tr>\n    <tr>\n      <th>555849</th>\n      <td>07.231.14</td>\n      <td>False</td>\n      <td>False</td>\n      <td>False</td>\n      <td>109.0</td>\n      <td>Egyptian Art</td>\n      <td>1907.0</td>\n      <td>Ax</td>\n      <td>Ax (?)</td>\n      <td>NaN</td>\n      <td>...</td>\n      <td>NaN</td>\n      <td>NaN</td>\n      <td>http://www.metmuseum.org/art/collection/search...</td>\n      <td>NaN</td>\n      <td>NaN</td>\n      <td>Metropolitan Museum of Art, New York, NY</td>\n      <td>NaN</td>\n      <td>NaN</td>\n      <td>NaN</td>\n      <td>2.0</td>\n    </tr>\n    <tr>\n      <th>557942</th>\n      <td>17.6.65</td>\n      <td>False</td>\n      <td>False</td>\n      <td>False</td>\n      <td>NaN</td>\n      <td>Egyptian Art</td>\n      <td>1917.0</td>\n      <td>Ax</td>\n      <td>Ax</td>\n      <td>NaN</td>\n      <td>...</td>\n      <td>NaN</td>\n      <td>NaN</td>\n      <td>http://www.metmuseum.org/art/collection/search...</td>\n      <td>NaN</td>\n      <td>NaN</td>\n      <td>Metropolitan Museum of Art, New York, NY</td>\n      <td>NaN</td>\n      <td>NaN</td>\n      <td>NaN</td>\n      <td>2.0</td>\n    </tr>\n    <tr>\n      <th>569247</th>\n      <td>26.2.65</td>\n      <td>False</td>\n      <td>False</td>\n      <td>False</td>\n      <td>NaN</td>\n      <td>Egyptian Art</td>\n      <td>1926.0</td>\n      <td>Ax</td>\n      <td>Ax</td>\n      <td>NaN</td>\n      <td>...</td>\n      <td>NaN</td>\n      <td>NaN</td>\n      <td>http://www.metmuseum.org/art/collection/search...</td>\n      <td>NaN</td>\n      <td>NaN</td>\n      <td>Metropolitan Museum of Art, New York, NY</td>\n      <td>NaN</td>\n      <td>NaN</td>\n      <td>NaN</td>\n      <td>2.0</td>\n    </tr>\n    <tr>\n      <th>571171</th>\n      <td>09.180.1413</td>\n      <td>False</td>\n      <td>False</td>\n      <td>False</td>\n      <td>NaN</td>\n      <td>Egyptian Art</td>\n      <td>1909.0</td>\n      <td>Ax</td>\n      <td>Ax</td>\n      <td>NaN</td>\n      <td>...</td>\n      <td>NaN</td>\n      <td>NaN</td>\n      <td>http://www.metmuseum.org/art/collection/search...</td>\n      <td>NaN</td>\n      <td>NaN</td>\n      <td>Metropolitan Museum of Art, New York, NY</td>\n      <td>NaN</td>\n      <td>NaN</td>\n      <td>NaN</td>\n      <td>2.0</td>\n    </tr>\n    <tr>\n      <th>571857</th>\n      <td>29.2.11</td>\n      <td>False</td>\n      <td>False</td>\n      <td>False</td>\n      <td>NaN</td>\n      <td>Egyptian Art</td>\n      <td>1929.0</td>\n      <td>Ax</td>\n      <td>Ax</td>\n      <td>NaN</td>\n      <td>...</td>\n      <td>NaN</td>\n      <td>NaN</td>\n      <td>http://www.metmuseum.org/art/collection/search...</td>\n      <td>NaN</td>\n      <td>NaN</td>\n      <td>Metropolitan Museum of Art, New York, NY</td>\n      <td>NaN</td>\n      <td>NaN</td>\n      <td>NaN</td>\n      <td>2.0</td>\n    </tr>\n  </tbody>\n</table>\n<p>79 rows × 54 columns</p>\n</div>"
     },
     "execution_count": 65,
     "metadata": {},
     "output_type": "execute_result"
    }
   ],
   "source": [
    "df.loc[df['Object Name'] == 'Ax']"
   ],
   "metadata": {
    "collapsed": false
   }
  },
  {
   "cell_type": "code",
   "execution_count": 66,
   "outputs": [
    {
     "data": {
      "text/plain": "          Object Number  Is Highlight  Is Timeline Work  Is Public Domain  \\\nObject ID                                                                   \n25066           04.3.40         False             False             False   \n25578          04.3.470         False             False             False   \n27065         14.25.464         False             False             False   \n27882           46.79.2         False             False             False   \n30784        36.25.1800         False             False             False   \n...                 ...           ...               ...               ...   \n327471       1992.149.7         False             False              True   \n329076           1982.5          True              True              True   \n332605      1989.281.45         False             False              True   \n561585         20.3.278         False             False              True   \n635754       2014.523.3         False             False             False   \n\n          Gallery Number                                 Department  \\\nObject ID                                                             \n25066                NaN                             Arms and Armor   \n25578                NaN                             Arms and Armor   \n27065                NaN                             Arms and Armor   \n27882                NaN                             Arms and Armor   \n30784                NaN                             Arms and Armor   \n...                  ...                                        ...   \n327471               NaN                   Ancient Near Eastern Art   \n329076             403.0                   Ancient Near Eastern Art   \n332605               NaN                   Ancient Near Eastern Art   \n561585             106.0                               Egyptian Art   \n635754               NaN  Arts of Africa, Oceania, and the Americas   \n\n          AccessionYear Object Name  \\\nObject ID                             \n25066            1904.0         Axe   \n25578            1904.0         Axe   \n27065            1914.0         Axe   \n27882            1946.0         Axe   \n30784            1936.0         Axe   \n...                 ...         ...   \n327471           1992.0         Axe   \n329076           1982.0         Axe   \n332605           1989.0         Axe   \n561585           1920.0         Axe   \n635754           2014.0         Axe   \n\n                                                       Title  \\\nObject ID                                                      \n25066                                                    Axe   \n25578                                                    Axe   \n27065                                                    Axe   \n27882                                                    Axe   \n30784                                                    Axe   \n...                                                      ...   \n327471                                   Axe with shaft hole   \n329076     Shaft-hole axe head with bird-headed demon, bo...   \n332605                              Fragmentary axe head (?)   \n561585                                                   Axe   \n635754                                        Ceremonial Axe   \n\n                                           Culture  ...  \\\nObject ID                                           ...   \n25066                                       German  ...   \n25578                                       German  ...   \n27065                                      Swedish  ...   \n27882                                    Norwegian  ...   \n30784                          Indian, south India  ...   \n...                                            ...  ...   \n327471     Bactria-Margiana Archaeological Complex  ...   \n329076     Bactria-Margiana Archaeological Complex  ...   \n332605     Bactria-Margiana Archaeological Complex  ...   \n561585                                         NaN  ...   \n635754                               Shona peoples  ...   \n\n                                      Classification Rights and Reproduction  \\\nObject ID                                                                      \n25066                                Shafted Weapons                     NaN   \n25578                                Shafted Weapons                     NaN   \n27065                                Shafted Weapons                     NaN   \n27882                                Shafted Weapons                     NaN   \n30784                                Shafted Weapons                     NaN   \n...                                              ...                     ...   \n327471                          Metalwork-Implements                     NaN   \n329076                          Metalwork-Implements                     NaN   \n332605                          Metalwork-Implements                     NaN   \n561585                                           NaN                     NaN   \n635754     Wood-Musical Instruments|Metal-Implements                     NaN   \n\n                                               Link Resource  \\\nObject ID                                                      \n25066      http://www.metmuseum.org/art/collection/search...   \n25578      http://www.metmuseum.org/art/collection/search...   \n27065      http://www.metmuseum.org/art/collection/search...   \n27882      http://www.metmuseum.org/art/collection/search...   \n30784      http://www.metmuseum.org/art/collection/search...   \n...                                                      ...   \n327471     http://www.metmuseum.org/art/collection/search...   \n329076     http://www.metmuseum.org/art/collection/search...   \n332605     http://www.metmuseum.org/art/collection/search...   \n561585     http://www.metmuseum.org/art/collection/search...   \n635754     http://www.metmuseum.org/art/collection/search...   \n\n                               Object Wikidata URL Metadata Date  \\\nObject ID                                                          \n25066                                          NaN           NaN   \n25578                                          NaN           NaN   \n27065                                          NaN           NaN   \n27882                                          NaN           NaN   \n30784                                          NaN           NaN   \n...                                            ...           ...   \n327471                                         NaN           NaN   \n329076     https://www.wikidata.org/wiki/Q29384562           NaN   \n332605                                         NaN           NaN   \n561585                                         NaN           NaN   \n635754                                         NaN           NaN   \n\n                                         Repository  \\\nObject ID                                             \n25066      Metropolitan Museum of Art, New York, NY   \n25578      Metropolitan Museum of Art, New York, NY   \n27065      Metropolitan Museum of Art, New York, NY   \n27882      Metropolitan Museum of Art, New York, NY   \n30784      Metropolitan Museum of Art, New York, NY   \n...                                             ...   \n327471     Metropolitan Museum of Art, New York, NY   \n329076     Metropolitan Museum of Art, New York, NY   \n332605     Metropolitan Museum of Art, New York, NY   \n561585     Metropolitan Museum of Art, New York, NY   \n635754     Metropolitan Museum of Art, New York, NY   \n\n                                 Tags  \\\nObject ID                               \n25066                             NaN   \n25578                             NaN   \n27065                             NaN   \n27882                             NaN   \n30784                             NaN   \n...                               ...   \n327471                            NaN   \n329076     Birds|Dragons|Boars|Demons   \n332605                            NaN   \n561585                            NaN   \n635754                            NaN   \n\n                                                Tags AAT URL  \\\nObject ID                                                      \n25066                                                    NaN   \n25578                                                    NaN   \n27065                                                    NaN   \n27882                                                    NaN   \n30784                                                    NaN   \n...                                                      ...   \n327471                                                   NaN   \n329076     http://vocab.getty.edu/page/aat/300266506|http...   \n332605                                                   NaN   \n561585                                                   NaN   \n635754                                                   NaN   \n\n                                           Tags Wikidata URL Object_name_len  \nObject ID                                                                     \n25066                                                    NaN             3.0  \n25578                                                    NaN             3.0  \n27065                                                    NaN             3.0  \n27882                                                    NaN             3.0  \n30784                                                    NaN             3.0  \n...                                                      ...             ...  \n327471                                                   NaN             3.0  \n329076     https://www.wikidata.org/wiki/Q5113|https://ww...             3.0  \n332605                                                   NaN             3.0  \n561585                                                   NaN             3.0  \n635754                                                   NaN             3.0  \n\n[133 rows x 54 columns]",
      "text/html": "<div>\n<style scoped>\n    .dataframe tbody tr th:only-of-type {\n        vertical-align: middle;\n    }\n\n    .dataframe tbody tr th {\n        vertical-align: top;\n    }\n\n    .dataframe thead th {\n        text-align: right;\n    }\n</style>\n<table border=\"1\" class=\"dataframe\">\n  <thead>\n    <tr style=\"text-align: right;\">\n      <th></th>\n      <th>Object Number</th>\n      <th>Is Highlight</th>\n      <th>Is Timeline Work</th>\n      <th>Is Public Domain</th>\n      <th>Gallery Number</th>\n      <th>Department</th>\n      <th>AccessionYear</th>\n      <th>Object Name</th>\n      <th>Title</th>\n      <th>Culture</th>\n      <th>...</th>\n      <th>Classification</th>\n      <th>Rights and Reproduction</th>\n      <th>Link Resource</th>\n      <th>Object Wikidata URL</th>\n      <th>Metadata Date</th>\n      <th>Repository</th>\n      <th>Tags</th>\n      <th>Tags AAT URL</th>\n      <th>Tags Wikidata URL</th>\n      <th>Object_name_len</th>\n    </tr>\n    <tr>\n      <th>Object ID</th>\n      <th></th>\n      <th></th>\n      <th></th>\n      <th></th>\n      <th></th>\n      <th></th>\n      <th></th>\n      <th></th>\n      <th></th>\n      <th></th>\n      <th></th>\n      <th></th>\n      <th></th>\n      <th></th>\n      <th></th>\n      <th></th>\n      <th></th>\n      <th></th>\n      <th></th>\n      <th></th>\n      <th></th>\n    </tr>\n  </thead>\n  <tbody>\n    <tr>\n      <th>25066</th>\n      <td>04.3.40</td>\n      <td>False</td>\n      <td>False</td>\n      <td>False</td>\n      <td>NaN</td>\n      <td>Arms and Armor</td>\n      <td>1904.0</td>\n      <td>Axe</td>\n      <td>Axe</td>\n      <td>German</td>\n      <td>...</td>\n      <td>Shafted Weapons</td>\n      <td>NaN</td>\n      <td>http://www.metmuseum.org/art/collection/search...</td>\n      <td>NaN</td>\n      <td>NaN</td>\n      <td>Metropolitan Museum of Art, New York, NY</td>\n      <td>NaN</td>\n      <td>NaN</td>\n      <td>NaN</td>\n      <td>3.0</td>\n    </tr>\n    <tr>\n      <th>25578</th>\n      <td>04.3.470</td>\n      <td>False</td>\n      <td>False</td>\n      <td>False</td>\n      <td>NaN</td>\n      <td>Arms and Armor</td>\n      <td>1904.0</td>\n      <td>Axe</td>\n      <td>Axe</td>\n      <td>German</td>\n      <td>...</td>\n      <td>Shafted Weapons</td>\n      <td>NaN</td>\n      <td>http://www.metmuseum.org/art/collection/search...</td>\n      <td>NaN</td>\n      <td>NaN</td>\n      <td>Metropolitan Museum of Art, New York, NY</td>\n      <td>NaN</td>\n      <td>NaN</td>\n      <td>NaN</td>\n      <td>3.0</td>\n    </tr>\n    <tr>\n      <th>27065</th>\n      <td>14.25.464</td>\n      <td>False</td>\n      <td>False</td>\n      <td>False</td>\n      <td>NaN</td>\n      <td>Arms and Armor</td>\n      <td>1914.0</td>\n      <td>Axe</td>\n      <td>Axe</td>\n      <td>Swedish</td>\n      <td>...</td>\n      <td>Shafted Weapons</td>\n      <td>NaN</td>\n      <td>http://www.metmuseum.org/art/collection/search...</td>\n      <td>NaN</td>\n      <td>NaN</td>\n      <td>Metropolitan Museum of Art, New York, NY</td>\n      <td>NaN</td>\n      <td>NaN</td>\n      <td>NaN</td>\n      <td>3.0</td>\n    </tr>\n    <tr>\n      <th>27882</th>\n      <td>46.79.2</td>\n      <td>False</td>\n      <td>False</td>\n      <td>False</td>\n      <td>NaN</td>\n      <td>Arms and Armor</td>\n      <td>1946.0</td>\n      <td>Axe</td>\n      <td>Axe</td>\n      <td>Norwegian</td>\n      <td>...</td>\n      <td>Shafted Weapons</td>\n      <td>NaN</td>\n      <td>http://www.metmuseum.org/art/collection/search...</td>\n      <td>NaN</td>\n      <td>NaN</td>\n      <td>Metropolitan Museum of Art, New York, NY</td>\n      <td>NaN</td>\n      <td>NaN</td>\n      <td>NaN</td>\n      <td>3.0</td>\n    </tr>\n    <tr>\n      <th>30784</th>\n      <td>36.25.1800</td>\n      <td>False</td>\n      <td>False</td>\n      <td>False</td>\n      <td>NaN</td>\n      <td>Arms and Armor</td>\n      <td>1936.0</td>\n      <td>Axe</td>\n      <td>Axe</td>\n      <td>Indian, south India</td>\n      <td>...</td>\n      <td>Shafted Weapons</td>\n      <td>NaN</td>\n      <td>http://www.metmuseum.org/art/collection/search...</td>\n      <td>NaN</td>\n      <td>NaN</td>\n      <td>Metropolitan Museum of Art, New York, NY</td>\n      <td>NaN</td>\n      <td>NaN</td>\n      <td>NaN</td>\n      <td>3.0</td>\n    </tr>\n    <tr>\n      <th>...</th>\n      <td>...</td>\n      <td>...</td>\n      <td>...</td>\n      <td>...</td>\n      <td>...</td>\n      <td>...</td>\n      <td>...</td>\n      <td>...</td>\n      <td>...</td>\n      <td>...</td>\n      <td>...</td>\n      <td>...</td>\n      <td>...</td>\n      <td>...</td>\n      <td>...</td>\n      <td>...</td>\n      <td>...</td>\n      <td>...</td>\n      <td>...</td>\n      <td>...</td>\n      <td>...</td>\n    </tr>\n    <tr>\n      <th>327471</th>\n      <td>1992.149.7</td>\n      <td>False</td>\n      <td>False</td>\n      <td>True</td>\n      <td>NaN</td>\n      <td>Ancient Near Eastern Art</td>\n      <td>1992.0</td>\n      <td>Axe</td>\n      <td>Axe with shaft hole</td>\n      <td>Bactria-Margiana Archaeological Complex</td>\n      <td>...</td>\n      <td>Metalwork-Implements</td>\n      <td>NaN</td>\n      <td>http://www.metmuseum.org/art/collection/search...</td>\n      <td>NaN</td>\n      <td>NaN</td>\n      <td>Metropolitan Museum of Art, New York, NY</td>\n      <td>NaN</td>\n      <td>NaN</td>\n      <td>NaN</td>\n      <td>3.0</td>\n    </tr>\n    <tr>\n      <th>329076</th>\n      <td>1982.5</td>\n      <td>True</td>\n      <td>True</td>\n      <td>True</td>\n      <td>403.0</td>\n      <td>Ancient Near Eastern Art</td>\n      <td>1982.0</td>\n      <td>Axe</td>\n      <td>Shaft-hole axe head with bird-headed demon, bo...</td>\n      <td>Bactria-Margiana Archaeological Complex</td>\n      <td>...</td>\n      <td>Metalwork-Implements</td>\n      <td>NaN</td>\n      <td>http://www.metmuseum.org/art/collection/search...</td>\n      <td>https://www.wikidata.org/wiki/Q29384562</td>\n      <td>NaN</td>\n      <td>Metropolitan Museum of Art, New York, NY</td>\n      <td>Birds|Dragons|Boars|Demons</td>\n      <td>http://vocab.getty.edu/page/aat/300266506|http...</td>\n      <td>https://www.wikidata.org/wiki/Q5113|https://ww...</td>\n      <td>3.0</td>\n    </tr>\n    <tr>\n      <th>332605</th>\n      <td>1989.281.45</td>\n      <td>False</td>\n      <td>False</td>\n      <td>True</td>\n      <td>NaN</td>\n      <td>Ancient Near Eastern Art</td>\n      <td>1989.0</td>\n      <td>Axe</td>\n      <td>Fragmentary axe head (?)</td>\n      <td>Bactria-Margiana Archaeological Complex</td>\n      <td>...</td>\n      <td>Metalwork-Implements</td>\n      <td>NaN</td>\n      <td>http://www.metmuseum.org/art/collection/search...</td>\n      <td>NaN</td>\n      <td>NaN</td>\n      <td>Metropolitan Museum of Art, New York, NY</td>\n      <td>NaN</td>\n      <td>NaN</td>\n      <td>NaN</td>\n      <td>3.0</td>\n    </tr>\n    <tr>\n      <th>561585</th>\n      <td>20.3.278</td>\n      <td>False</td>\n      <td>False</td>\n      <td>True</td>\n      <td>106.0</td>\n      <td>Egyptian Art</td>\n      <td>1920.0</td>\n      <td>Axe</td>\n      <td>Axe</td>\n      <td>NaN</td>\n      <td>...</td>\n      <td>NaN</td>\n      <td>NaN</td>\n      <td>http://www.metmuseum.org/art/collection/search...</td>\n      <td>NaN</td>\n      <td>NaN</td>\n      <td>Metropolitan Museum of Art, New York, NY</td>\n      <td>NaN</td>\n      <td>NaN</td>\n      <td>NaN</td>\n      <td>3.0</td>\n    </tr>\n    <tr>\n      <th>635754</th>\n      <td>2014.523.3</td>\n      <td>False</td>\n      <td>False</td>\n      <td>False</td>\n      <td>NaN</td>\n      <td>Arts of Africa, Oceania, and the Americas</td>\n      <td>2014.0</td>\n      <td>Axe</td>\n      <td>Ceremonial Axe</td>\n      <td>Shona peoples</td>\n      <td>...</td>\n      <td>Wood-Musical Instruments|Metal-Implements</td>\n      <td>NaN</td>\n      <td>http://www.metmuseum.org/art/collection/search...</td>\n      <td>NaN</td>\n      <td>NaN</td>\n      <td>Metropolitan Museum of Art, New York, NY</td>\n      <td>NaN</td>\n      <td>NaN</td>\n      <td>NaN</td>\n      <td>3.0</td>\n    </tr>\n  </tbody>\n</table>\n<p>133 rows × 54 columns</p>\n</div>"
     },
     "execution_count": 66,
     "metadata": {},
     "output_type": "execute_result"
    }
   ],
   "source": [
    "df.loc[df['Object Name'] == 'Axe']"
   ],
   "metadata": {
    "collapsed": false
   }
  },
  {
   "cell_type": "markdown",
   "source": [
    "Both of these names are indeed used for the same thing. (By checking the department \"Arms and Armor\" we can make sure, that those 2 different names, do indeed mean the same thing)\n",
    "Solving this problem might be a bit difficult, but maybe we could compare against a list of synonyms or translations"
   ],
   "metadata": {
    "collapsed": false
   }
  },
  {
   "cell_type": "code",
   "execution_count": 67,
   "outputs": [
    {
     "data": {
      "text/plain": "Object ID\n24684     Double-barreled flintlock shotgun with exchang...\n24977     Nineteen ornamental fittings from a horse harn...\n30379     Ammunition belt (Kamr) Object Cards.  S. martz...\n30958     Blade and for a hatchet (Nata) and mounting fo...\n34765     Set of Pommel (Fuchigashira), Sword grip ornam...\n35744     Top two lames from a right thigh defense (Cuis...\n545279    Pall, sheet, Wah, rather coarse, light weight,...\n545619    String of 16 spherical, 1 barrel and 1 cylindr...\n552577    Cone, round, Padiamunnebnesuttawy, chancellor,...\n553399    Scarab, Menkheperra, nsw bit, royal title, mry...\n554965    Cone, Ptahmose, circular impression, high prie...\n555025    Cone, rectangular impression, Neferhotep, scri...\n555048    Cone, circular impression, Kaemamun, prophet, ...\n555113    Cylinder seal with name of Amenemhat II and th...\n556167    Cylinder seal with cartouches of Nubkaure (Ame...\n557109    Scarab, pseudo-inscription in oval, hieroglyph...\n557815    Facsimile, Panehsy (TT 16), procession, Amun, ...\n557913    Mummy Label, Petemin, son of Petempto, son of ...\n557981    Scarab cap (no longer on ring), base plate cov...\n559843    Scarab; Maatkare, Lord of the Two Lands, Given...\nName: Object Name, dtype: object"
     },
     "execution_count": 67,
     "metadata": {},
     "output_type": "execute_result"
    }
   ],
   "source": [
    "# get 20 of the shortest Object names\n",
    "df_dedup_name.loc[df_dedup_name.Object_name_len.nlargest(20).index]['Object Name']\n",
    "# Hmm, kinda SUS"
   ],
   "metadata": {
    "collapsed": false
   }
  },
  {
   "cell_type": "markdown",
   "source": [
    "From example above we can see the longest objects names."
   ],
   "metadata": {
    "collapsed": false
   }
  },
  {
   "cell_type": "markdown",
   "source": [
    "Lets take a look at `Scarab, Menkheperra, nsw bit, royal title, mry imn, beloved of Amun, Thutmose II` and see if there is only `Scarab`"
   ],
   "metadata": {
    "collapsed": false
   }
  },
  {
   "cell_type": "code",
   "execution_count": 68,
   "outputs": [
    {
     "data": {
      "text/plain": "          Object Number  Is Highlight  Is Timeline Work  Is Public Domain  \\\nObject ID                                                                   \n243605       74.51.4193         False             False              True   \n243606       74.51.4194         False             False              True   \n244873           81.6.2         False             False             False   \n244875           81.6.4         False             False              True   \n244876           81.6.5         False             False             False   \n...                 ...           ...               ...               ...   \n575445         23.3.183         False             False              True   \n575446         23.3.187         False             False              True   \n575485         23.3.260         False             False              True   \n575486         23.3.275         False             False              True   \n575487         23.3.283         False             False              True   \n\n          Gallery Number           Department AccessionYear Object Name  \\\nObject ID                                                                 \n243605             171.0  Greek and Roman Art        1874.0      Scarab   \n243606             171.0  Greek and Roman Art        1874.0      Scarab   \n244873               NaN  Greek and Roman Art        1881.0      Scarab   \n244875             170.0  Greek and Roman Art        1881.0      Scarab   \n244876               NaN  Greek and Roman Art        1881.0      Scarab   \n...                  ...                  ...           ...         ...   \n575445             117.0         Egyptian Art        1923.0      Scarab   \n575446             117.0         Egyptian Art        1923.0      Scarab   \n575485             117.0         Egyptian Art        1923.0      Scarab   \n575486             117.0         Egyptian Art        1923.0      Scarab   \n575487             117.0         Egyptian Art        1923.0      Scarab   \n\n                         Title            Culture  ...        Classification  \\\nObject ID                                          ...                         \n243605            Agate scarab              Greek  ...                  Gems   \n243606                  Scarab            Cypriot  ...  Gems|Gold and Silver   \n244873                  Scarab              Roman  ...                  Gems   \n244875     Banded agate scarab           Etruscan  ...                  Gems   \n244876                  Scarab  Greek or Etruscan  ...                  Gems   \n...                        ...                ...  ...                   ...   \n575445                  Scarab                NaN  ...                   NaN   \n575446                  Scarab                NaN  ...                   NaN   \n575485                  Scarab                NaN  ...                   NaN   \n575486                  Scarab                NaN  ...                   NaN   \n575487                  Scarab                NaN  ...                   NaN   \n\n          Rights and Reproduction  \\\nObject ID                           \n243605                        NaN   \n243606                        NaN   \n244873                        NaN   \n244875                        NaN   \n244876                        NaN   \n...                           ...   \n575445                        NaN   \n575446                        NaN   \n575485                        NaN   \n575486                        NaN   \n575487                        NaN   \n\n                                               Link Resource  \\\nObject ID                                                      \n243605     http://www.metmuseum.org/art/collection/search...   \n243606     http://www.metmuseum.org/art/collection/search...   \n244873     http://www.metmuseum.org/art/collection/search...   \n244875     http://www.metmuseum.org/art/collection/search...   \n244876     http://www.metmuseum.org/art/collection/search...   \n...                                                      ...   \n575445     http://www.metmuseum.org/art/collection/search...   \n575446     http://www.metmuseum.org/art/collection/search...   \n575485     http://www.metmuseum.org/art/collection/search...   \n575486     http://www.metmuseum.org/art/collection/search...   \n575487     http://www.metmuseum.org/art/collection/search...   \n\n          Object Wikidata URL Metadata Date  \\\nObject ID                                     \n243605                    NaN           NaN   \n243606                    NaN           NaN   \n244873                    NaN           NaN   \n244875                    NaN           NaN   \n244876                    NaN           NaN   \n...                       ...           ...   \n575445                    NaN           NaN   \n575446                    NaN           NaN   \n575485                    NaN           NaN   \n575486                    NaN           NaN   \n575487                    NaN           NaN   \n\n                                         Repository                 Tags  \\\nObject ID                                                                  \n243605     Metropolitan Museum of Art, New York, NY         Cows|Scarabs   \n243606     Metropolitan Museum of Art, New York, NY   Mythical Creatures   \n244873     Metropolitan Museum of Art, New York, NY                  NaN   \n244875     Metropolitan Museum of Art, New York, NY              Scarabs   \n244876     Metropolitan Museum of Art, New York, NY                  NaN   \n...                                             ...                  ...   \n575445     Metropolitan Museum of Art, New York, NY              Scarabs   \n575446     Metropolitan Museum of Art, New York, NY              Scarabs   \n575485     Metropolitan Museum of Art, New York, NY              Scarabs   \n575486     Metropolitan Museum of Art, New York, NY  Hieroglyphs|Scarabs   \n575487     Metropolitan Museum of Art, New York, NY              Scarabs   \n\n                                                Tags AAT URL  \\\nObject ID                                                      \n243605     http://vocab.getty.edu/page/aat/300250120|http...   \n243606             http://vocab.getty.edu/page/aat/300375725   \n244873                                                   NaN   \n244875             http://vocab.getty.edu/page/aat/300230813   \n244876                                                   NaN   \n...                                                      ...   \n575445             http://vocab.getty.edu/page/aat/300230813   \n575446             http://vocab.getty.edu/page/aat/300230813   \n575485             http://vocab.getty.edu/page/aat/300230813   \n575486     http://vocab.getty.edu/page/aat/300028721|http...   \n575487             http://vocab.getty.edu/page/aat/300230813   \n\n                                           Tags Wikidata URL Object_name_len  \nObject ID                                                                     \n243605     https://www.wikidata.org/wiki/Q830|https://www...             6.0  \n243606                https://www.wikidata.org/wiki/Q2239243             6.0  \n244873                                                   NaN             6.0  \n244875                https://www.wikidata.org/wiki/Q2442735             6.0  \n244876                                                   NaN             6.0  \n...                                                      ...             ...  \n575445                https://www.wikidata.org/wiki/Q2442735             6.0  \n575446                https://www.wikidata.org/wiki/Q2442735             6.0  \n575485                https://www.wikidata.org/wiki/Q2442735             6.0  \n575486     https://www.wikidata.org/wiki/Q193762|https://...             6.0  \n575487                https://www.wikidata.org/wiki/Q2442735             6.0  \n\n[1130 rows x 54 columns]",
      "text/html": "<div>\n<style scoped>\n    .dataframe tbody tr th:only-of-type {\n        vertical-align: middle;\n    }\n\n    .dataframe tbody tr th {\n        vertical-align: top;\n    }\n\n    .dataframe thead th {\n        text-align: right;\n    }\n</style>\n<table border=\"1\" class=\"dataframe\">\n  <thead>\n    <tr style=\"text-align: right;\">\n      <th></th>\n      <th>Object Number</th>\n      <th>Is Highlight</th>\n      <th>Is Timeline Work</th>\n      <th>Is Public Domain</th>\n      <th>Gallery Number</th>\n      <th>Department</th>\n      <th>AccessionYear</th>\n      <th>Object Name</th>\n      <th>Title</th>\n      <th>Culture</th>\n      <th>...</th>\n      <th>Classification</th>\n      <th>Rights and Reproduction</th>\n      <th>Link Resource</th>\n      <th>Object Wikidata URL</th>\n      <th>Metadata Date</th>\n      <th>Repository</th>\n      <th>Tags</th>\n      <th>Tags AAT URL</th>\n      <th>Tags Wikidata URL</th>\n      <th>Object_name_len</th>\n    </tr>\n    <tr>\n      <th>Object ID</th>\n      <th></th>\n      <th></th>\n      <th></th>\n      <th></th>\n      <th></th>\n      <th></th>\n      <th></th>\n      <th></th>\n      <th></th>\n      <th></th>\n      <th></th>\n      <th></th>\n      <th></th>\n      <th></th>\n      <th></th>\n      <th></th>\n      <th></th>\n      <th></th>\n      <th></th>\n      <th></th>\n      <th></th>\n    </tr>\n  </thead>\n  <tbody>\n    <tr>\n      <th>243605</th>\n      <td>74.51.4193</td>\n      <td>False</td>\n      <td>False</td>\n      <td>True</td>\n      <td>171.0</td>\n      <td>Greek and Roman Art</td>\n      <td>1874.0</td>\n      <td>Scarab</td>\n      <td>Agate scarab</td>\n      <td>Greek</td>\n      <td>...</td>\n      <td>Gems</td>\n      <td>NaN</td>\n      <td>http://www.metmuseum.org/art/collection/search...</td>\n      <td>NaN</td>\n      <td>NaN</td>\n      <td>Metropolitan Museum of Art, New York, NY</td>\n      <td>Cows|Scarabs</td>\n      <td>http://vocab.getty.edu/page/aat/300250120|http...</td>\n      <td>https://www.wikidata.org/wiki/Q830|https://www...</td>\n      <td>6.0</td>\n    </tr>\n    <tr>\n      <th>243606</th>\n      <td>74.51.4194</td>\n      <td>False</td>\n      <td>False</td>\n      <td>True</td>\n      <td>171.0</td>\n      <td>Greek and Roman Art</td>\n      <td>1874.0</td>\n      <td>Scarab</td>\n      <td>Scarab</td>\n      <td>Cypriot</td>\n      <td>...</td>\n      <td>Gems|Gold and Silver</td>\n      <td>NaN</td>\n      <td>http://www.metmuseum.org/art/collection/search...</td>\n      <td>NaN</td>\n      <td>NaN</td>\n      <td>Metropolitan Museum of Art, New York, NY</td>\n      <td>Mythical Creatures</td>\n      <td>http://vocab.getty.edu/page/aat/300375725</td>\n      <td>https://www.wikidata.org/wiki/Q2239243</td>\n      <td>6.0</td>\n    </tr>\n    <tr>\n      <th>244873</th>\n      <td>81.6.2</td>\n      <td>False</td>\n      <td>False</td>\n      <td>False</td>\n      <td>NaN</td>\n      <td>Greek and Roman Art</td>\n      <td>1881.0</td>\n      <td>Scarab</td>\n      <td>Scarab</td>\n      <td>Roman</td>\n      <td>...</td>\n      <td>Gems</td>\n      <td>NaN</td>\n      <td>http://www.metmuseum.org/art/collection/search...</td>\n      <td>NaN</td>\n      <td>NaN</td>\n      <td>Metropolitan Museum of Art, New York, NY</td>\n      <td>NaN</td>\n      <td>NaN</td>\n      <td>NaN</td>\n      <td>6.0</td>\n    </tr>\n    <tr>\n      <th>244875</th>\n      <td>81.6.4</td>\n      <td>False</td>\n      <td>False</td>\n      <td>True</td>\n      <td>170.0</td>\n      <td>Greek and Roman Art</td>\n      <td>1881.0</td>\n      <td>Scarab</td>\n      <td>Banded agate scarab</td>\n      <td>Etruscan</td>\n      <td>...</td>\n      <td>Gems</td>\n      <td>NaN</td>\n      <td>http://www.metmuseum.org/art/collection/search...</td>\n      <td>NaN</td>\n      <td>NaN</td>\n      <td>Metropolitan Museum of Art, New York, NY</td>\n      <td>Scarabs</td>\n      <td>http://vocab.getty.edu/page/aat/300230813</td>\n      <td>https://www.wikidata.org/wiki/Q2442735</td>\n      <td>6.0</td>\n    </tr>\n    <tr>\n      <th>244876</th>\n      <td>81.6.5</td>\n      <td>False</td>\n      <td>False</td>\n      <td>False</td>\n      <td>NaN</td>\n      <td>Greek and Roman Art</td>\n      <td>1881.0</td>\n      <td>Scarab</td>\n      <td>Scarab</td>\n      <td>Greek or Etruscan</td>\n      <td>...</td>\n      <td>Gems</td>\n      <td>NaN</td>\n      <td>http://www.metmuseum.org/art/collection/search...</td>\n      <td>NaN</td>\n      <td>NaN</td>\n      <td>Metropolitan Museum of Art, New York, NY</td>\n      <td>NaN</td>\n      <td>NaN</td>\n      <td>NaN</td>\n      <td>6.0</td>\n    </tr>\n    <tr>\n      <th>...</th>\n      <td>...</td>\n      <td>...</td>\n      <td>...</td>\n      <td>...</td>\n      <td>...</td>\n      <td>...</td>\n      <td>...</td>\n      <td>...</td>\n      <td>...</td>\n      <td>...</td>\n      <td>...</td>\n      <td>...</td>\n      <td>...</td>\n      <td>...</td>\n      <td>...</td>\n      <td>...</td>\n      <td>...</td>\n      <td>...</td>\n      <td>...</td>\n      <td>...</td>\n      <td>...</td>\n    </tr>\n    <tr>\n      <th>575445</th>\n      <td>23.3.183</td>\n      <td>False</td>\n      <td>False</td>\n      <td>True</td>\n      <td>117.0</td>\n      <td>Egyptian Art</td>\n      <td>1923.0</td>\n      <td>Scarab</td>\n      <td>Scarab</td>\n      <td>NaN</td>\n      <td>...</td>\n      <td>NaN</td>\n      <td>NaN</td>\n      <td>http://www.metmuseum.org/art/collection/search...</td>\n      <td>NaN</td>\n      <td>NaN</td>\n      <td>Metropolitan Museum of Art, New York, NY</td>\n      <td>Scarabs</td>\n      <td>http://vocab.getty.edu/page/aat/300230813</td>\n      <td>https://www.wikidata.org/wiki/Q2442735</td>\n      <td>6.0</td>\n    </tr>\n    <tr>\n      <th>575446</th>\n      <td>23.3.187</td>\n      <td>False</td>\n      <td>False</td>\n      <td>True</td>\n      <td>117.0</td>\n      <td>Egyptian Art</td>\n      <td>1923.0</td>\n      <td>Scarab</td>\n      <td>Scarab</td>\n      <td>NaN</td>\n      <td>...</td>\n      <td>NaN</td>\n      <td>NaN</td>\n      <td>http://www.metmuseum.org/art/collection/search...</td>\n      <td>NaN</td>\n      <td>NaN</td>\n      <td>Metropolitan Museum of Art, New York, NY</td>\n      <td>Scarabs</td>\n      <td>http://vocab.getty.edu/page/aat/300230813</td>\n      <td>https://www.wikidata.org/wiki/Q2442735</td>\n      <td>6.0</td>\n    </tr>\n    <tr>\n      <th>575485</th>\n      <td>23.3.260</td>\n      <td>False</td>\n      <td>False</td>\n      <td>True</td>\n      <td>117.0</td>\n      <td>Egyptian Art</td>\n      <td>1923.0</td>\n      <td>Scarab</td>\n      <td>Scarab</td>\n      <td>NaN</td>\n      <td>...</td>\n      <td>NaN</td>\n      <td>NaN</td>\n      <td>http://www.metmuseum.org/art/collection/search...</td>\n      <td>NaN</td>\n      <td>NaN</td>\n      <td>Metropolitan Museum of Art, New York, NY</td>\n      <td>Scarabs</td>\n      <td>http://vocab.getty.edu/page/aat/300230813</td>\n      <td>https://www.wikidata.org/wiki/Q2442735</td>\n      <td>6.0</td>\n    </tr>\n    <tr>\n      <th>575486</th>\n      <td>23.3.275</td>\n      <td>False</td>\n      <td>False</td>\n      <td>True</td>\n      <td>117.0</td>\n      <td>Egyptian Art</td>\n      <td>1923.0</td>\n      <td>Scarab</td>\n      <td>Scarab</td>\n      <td>NaN</td>\n      <td>...</td>\n      <td>NaN</td>\n      <td>NaN</td>\n      <td>http://www.metmuseum.org/art/collection/search...</td>\n      <td>NaN</td>\n      <td>NaN</td>\n      <td>Metropolitan Museum of Art, New York, NY</td>\n      <td>Hieroglyphs|Scarabs</td>\n      <td>http://vocab.getty.edu/page/aat/300028721|http...</td>\n      <td>https://www.wikidata.org/wiki/Q193762|https://...</td>\n      <td>6.0</td>\n    </tr>\n    <tr>\n      <th>575487</th>\n      <td>23.3.283</td>\n      <td>False</td>\n      <td>False</td>\n      <td>True</td>\n      <td>117.0</td>\n      <td>Egyptian Art</td>\n      <td>1923.0</td>\n      <td>Scarab</td>\n      <td>Scarab</td>\n      <td>NaN</td>\n      <td>...</td>\n      <td>NaN</td>\n      <td>NaN</td>\n      <td>http://www.metmuseum.org/art/collection/search...</td>\n      <td>NaN</td>\n      <td>NaN</td>\n      <td>Metropolitan Museum of Art, New York, NY</td>\n      <td>Scarabs</td>\n      <td>http://vocab.getty.edu/page/aat/300230813</td>\n      <td>https://www.wikidata.org/wiki/Q2442735</td>\n      <td>6.0</td>\n    </tr>\n  </tbody>\n</table>\n<p>1130 rows × 54 columns</p>\n</div>"
     },
     "execution_count": 68,
     "metadata": {},
     "output_type": "execute_result"
    }
   ],
   "source": [
    "df.loc[df['Object Name'] == 'Scarab']"
   ],
   "metadata": {
    "collapsed": false
   }
  },
  {
   "cell_type": "markdown",
   "source": [
    "Aha, there is also only `Scarab`, therefore another consistency problem.\n",
    "To remove this kind of incostistency problem we could use `.apply(lambda x: x.split(',')[0])`, same thing should be checked and done for other special characters (`|`, `.`, `/`, ... )"
   ],
   "metadata": {
    "collapsed": false
   }
  },
  {
   "cell_type": "markdown",
   "source": [
    "Check for unprintable characters (only LF newline in this case)"
   ],
   "metadata": {
    "collapsed": false
   }
  },
  {
   "cell_type": "code",
   "execution_count": 69,
   "outputs": [
    {
     "data": {
      "text/plain": "          Object Number  Is Highlight  Is Timeline Work  Is Public Domain  \\\nObject ID                                                                   \n3580             16.177         False             False              True   \n3658       1971.180.65b         False             False             False   \n5612         1975.400.3         False             False              True   \n12890          46.67.84         False             False              True   \n19200           2007.43         False             False              True   \n...                 ...           ...               ...               ...   \n788902        21.91.243         False             False              True   \n788903        21.91.244         False             False              True   \n820446     26.50.1(146)         False             False             False   \n822562         28.99.29         False             False              True   \n845522     2020.373a, b         False             False              True   \n\n          Gallery Number           Department AccessionYear  \\\nObject ID                                                     \n3580                 751    The American Wing        1916.0   \n3658                 741    The American Wing        1971.0   \n5612                 704    The American Wing        1975.0   \n12890                730    The American Wing        1946.0   \n19200                NaN    The American Wing        2007.0   \n...                  ...                  ...           ...   \n788902               NaN  Drawings and Prints        1921.0   \n788903               NaN  Drawings and Prints        1921.0   \n820446               NaN  Drawings and Prints        1926.0   \n822562               NaN       Arms and Armor        1928.0   \n845522               NaN          Islamic Art        2020.0   \n\n                                                 Object Name  \\\nObject ID                                                      \n3580       Exterior Doorway from One West Broad Street,\\r...   \n3658                                          Fire Tongs\\r\\n   \n5612                                               Plate\\r\\n   \n12890      Painting\\r\\nFrigate Presiden\\r\\nFrigate Presid...   \n19200        Panel\\r\\n\\r\\n\\r\\n\\r\\n\\r\\n\\r\\n\\r\\n\\r\\n\\r\\nWindow   \n...                                                      ...   \n788902                                             Print\\r\\n   \n788903                                             Print\\r\\n   \n820446                                     Drawing \\r\\nPrint   \n822562                                      Crossbow nut\\r\\n   \n845522                            Mirror case with pouch\\r\\n   \n\n                                                       Title  \\\nObject ID                                                      \n3580       Exterior Doorway from One West Broad Street, S...   \n3658                                              Fire Tongs   \n5612                                                   Plate   \n12890      Fight Between the U.S. Frigate President and H...   \n19200                                                 Spring   \n...                                                      ...   \n788902                                  Chinoiserie Ornament   \n788903                                  Chinoiserie Ornament   \n820446                       Five dancing or fighting cupids   \n822562                                          Crossbow Nut   \n845522     Mirror Case Depicting the Meeting of Nasir al-...   \n\n                                    Culture  ...  \\\nObject ID                                    ...   \n3580                               American  ...   \n3658                                    NaN  ...   \n5612                               American  ...   \n12890                              American  ...   \n19200                              American  ...   \n...                                     ...  ...   \n788902                                  NaN  ...   \n788903                                  NaN  ...   \n820446                                  NaN  ...   \n822562     Western European or Near Eastern  ...   \n845522                                  NaN  ...   \n\n                           Classification Rights and Reproduction  \\\nObject ID                                                           \n3580                                  NaN                     NaN   \n3658                                  NaN                     NaN   \n5612                                  NaN                     NaN   \n12890                                 NaN                     NaN   \n19200                                 NaN                     NaN   \n...                                   ...                     ...   \n788902     Prints|Ornament & Architecture                     NaN   \n788903     Prints|Ornament & Architecture                     NaN   \n820446                             Prints                     NaN   \n822562                  Archery Equipment                     NaN   \n845522                            Lacquer                     NaN   \n\n                                               Link Resource  \\\nObject ID                                                      \n3580       http://www.metmuseum.org/art/collection/search...   \n3658       http://www.metmuseum.org/art/collection/search...   \n5612       http://www.metmuseum.org/art/collection/search...   \n12890      http://www.metmuseum.org/art/collection/search...   \n19200      http://www.metmuseum.org/art/collection/search...   \n...                                                      ...   \n788902     http://www.metmuseum.org/art/collection/search...   \n788903     http://www.metmuseum.org/art/collection/search...   \n820446     http://www.metmuseum.org/art/collection/search...   \n822562     http://www.metmuseum.org/art/collection/search...   \n845522     http://www.metmuseum.org/art/collection/search...   \n\n                               Object Wikidata URL Metadata Date  \\\nObject ID                                                          \n3580                                           NaN           NaN   \n3658                                           NaN           NaN   \n5612                                           NaN           NaN   \n12890      https://www.wikidata.org/wiki/Q19924726           NaN   \n19200                                          NaN           NaN   \n...                                            ...           ...   \n788902                                         NaN           NaN   \n788903                                         NaN           NaN   \n820446                                         NaN           NaN   \n822562                                         NaN           NaN   \n845522                                         NaN           NaN   \n\n                                         Repository  \\\nObject ID                                             \n3580       Metropolitan Museum of Art, New York, NY   \n3658       Metropolitan Museum of Art, New York, NY   \n5612       Metropolitan Museum of Art, New York, NY   \n12890      Metropolitan Museum of Art, New York, NY   \n19200      Metropolitan Museum of Art, New York, NY   \n...                                             ...   \n788902     Metropolitan Museum of Art, New York, NY   \n788903     Metropolitan Museum of Art, New York, NY   \n820446     Metropolitan Museum of Art, New York, NY   \n822562     Metropolitan Museum of Art, New York, NY   \n845522     Metropolitan Museum of Art, New York, NY   \n\n                                        Tags  \\\nObject ID                                      \n3580                                     NaN   \n3658                                     NaN   \n5612                                     NaN   \n12890                                  Ships   \n19200      Women|Lambs|Flowers|Leaves|Spring   \n...                                      ...   \n788902              Ornament|Men|Chinoiserie   \n788903        Boys|Playing Cards|Chinoiserie   \n820446                                   NaN   \n822562                                   NaN   \n845522                                   NaN   \n\n                                                Tags AAT URL  \\\nObject ID                                                      \n3580                                                     NaN   \n3658                                                     NaN   \n5612                                                     NaN   \n12890              http://vocab.getty.edu/page/aat/300082981   \n19200      http://vocab.getty.edu/page/aat/300025943|http...   \n...                                                      ...   \n788902     http://vocab.getty.edu/page/aat/300164595|http...   \n788903     http://vocab.getty.edu/page/aat/300247598|http...   \n820446                                                   NaN   \n822562                                                   NaN   \n845522                                                   NaN   \n\n                                           Tags Wikidata URL Object_name_len  \nObject ID                                                                     \n3580                                                     NaN            63.0  \n3658                                                     NaN            12.0  \n5612                                                     NaN             7.0  \n12890                   https://www.wikidata.org/wiki/Q11446            66.0  \n19200      https://www.wikidata.org/wiki/Q467|https://www...            29.0  \n...                                                      ...             ...  \n788902     https://www.wikidata.org/wiki/Q335261|https://...             7.0  \n788903     https://www.wikidata.org/wiki/Q3010|https://ww...             7.0  \n820446                                                   NaN            15.0  \n822562                                                   NaN            14.0  \n845522                                                   NaN            24.0  \n\n[1036 rows x 54 columns]",
      "text/html": "<div>\n<style scoped>\n    .dataframe tbody tr th:only-of-type {\n        vertical-align: middle;\n    }\n\n    .dataframe tbody tr th {\n        vertical-align: top;\n    }\n\n    .dataframe thead th {\n        text-align: right;\n    }\n</style>\n<table border=\"1\" class=\"dataframe\">\n  <thead>\n    <tr style=\"text-align: right;\">\n      <th></th>\n      <th>Object Number</th>\n      <th>Is Highlight</th>\n      <th>Is Timeline Work</th>\n      <th>Is Public Domain</th>\n      <th>Gallery Number</th>\n      <th>Department</th>\n      <th>AccessionYear</th>\n      <th>Object Name</th>\n      <th>Title</th>\n      <th>Culture</th>\n      <th>...</th>\n      <th>Classification</th>\n      <th>Rights and Reproduction</th>\n      <th>Link Resource</th>\n      <th>Object Wikidata URL</th>\n      <th>Metadata Date</th>\n      <th>Repository</th>\n      <th>Tags</th>\n      <th>Tags AAT URL</th>\n      <th>Tags Wikidata URL</th>\n      <th>Object_name_len</th>\n    </tr>\n    <tr>\n      <th>Object ID</th>\n      <th></th>\n      <th></th>\n      <th></th>\n      <th></th>\n      <th></th>\n      <th></th>\n      <th></th>\n      <th></th>\n      <th></th>\n      <th></th>\n      <th></th>\n      <th></th>\n      <th></th>\n      <th></th>\n      <th></th>\n      <th></th>\n      <th></th>\n      <th></th>\n      <th></th>\n      <th></th>\n      <th></th>\n    </tr>\n  </thead>\n  <tbody>\n    <tr>\n      <th>3580</th>\n      <td>16.177</td>\n      <td>False</td>\n      <td>False</td>\n      <td>True</td>\n      <td>751</td>\n      <td>The American Wing</td>\n      <td>1916.0</td>\n      <td>Exterior Doorway from One West Broad Street,\\r...</td>\n      <td>Exterior Doorway from One West Broad Street, S...</td>\n      <td>American</td>\n      <td>...</td>\n      <td>NaN</td>\n      <td>NaN</td>\n      <td>http://www.metmuseum.org/art/collection/search...</td>\n      <td>NaN</td>\n      <td>NaN</td>\n      <td>Metropolitan Museum of Art, New York, NY</td>\n      <td>NaN</td>\n      <td>NaN</td>\n      <td>NaN</td>\n      <td>63.0</td>\n    </tr>\n    <tr>\n      <th>3658</th>\n      <td>1971.180.65b</td>\n      <td>False</td>\n      <td>False</td>\n      <td>False</td>\n      <td>741</td>\n      <td>The American Wing</td>\n      <td>1971.0</td>\n      <td>Fire Tongs\\r\\n</td>\n      <td>Fire Tongs</td>\n      <td>NaN</td>\n      <td>...</td>\n      <td>NaN</td>\n      <td>NaN</td>\n      <td>http://www.metmuseum.org/art/collection/search...</td>\n      <td>NaN</td>\n      <td>NaN</td>\n      <td>Metropolitan Museum of Art, New York, NY</td>\n      <td>NaN</td>\n      <td>NaN</td>\n      <td>NaN</td>\n      <td>12.0</td>\n    </tr>\n    <tr>\n      <th>5612</th>\n      <td>1975.400.3</td>\n      <td>False</td>\n      <td>False</td>\n      <td>True</td>\n      <td>704</td>\n      <td>The American Wing</td>\n      <td>1975.0</td>\n      <td>Plate\\r\\n</td>\n      <td>Plate</td>\n      <td>American</td>\n      <td>...</td>\n      <td>NaN</td>\n      <td>NaN</td>\n      <td>http://www.metmuseum.org/art/collection/search...</td>\n      <td>NaN</td>\n      <td>NaN</td>\n      <td>Metropolitan Museum of Art, New York, NY</td>\n      <td>NaN</td>\n      <td>NaN</td>\n      <td>NaN</td>\n      <td>7.0</td>\n    </tr>\n    <tr>\n      <th>12890</th>\n      <td>46.67.84</td>\n      <td>False</td>\n      <td>False</td>\n      <td>True</td>\n      <td>730</td>\n      <td>The American Wing</td>\n      <td>1946.0</td>\n      <td>Painting\\r\\nFrigate Presiden\\r\\nFrigate Presid...</td>\n      <td>Fight Between the U.S. Frigate President and H...</td>\n      <td>American</td>\n      <td>...</td>\n      <td>NaN</td>\n      <td>NaN</td>\n      <td>http://www.metmuseum.org/art/collection/search...</td>\n      <td>https://www.wikidata.org/wiki/Q19924726</td>\n      <td>NaN</td>\n      <td>Metropolitan Museum of Art, New York, NY</td>\n      <td>Ships</td>\n      <td>http://vocab.getty.edu/page/aat/300082981</td>\n      <td>https://www.wikidata.org/wiki/Q11446</td>\n      <td>66.0</td>\n    </tr>\n    <tr>\n      <th>19200</th>\n      <td>2007.43</td>\n      <td>False</td>\n      <td>False</td>\n      <td>True</td>\n      <td>NaN</td>\n      <td>The American Wing</td>\n      <td>2007.0</td>\n      <td>Panel\\r\\n\\r\\n\\r\\n\\r\\n\\r\\n\\r\\n\\r\\n\\r\\n\\r\\nWindow</td>\n      <td>Spring</td>\n      <td>American</td>\n      <td>...</td>\n      <td>NaN</td>\n      <td>NaN</td>\n      <td>http://www.metmuseum.org/art/collection/search...</td>\n      <td>NaN</td>\n      <td>NaN</td>\n      <td>Metropolitan Museum of Art, New York, NY</td>\n      <td>Women|Lambs|Flowers|Leaves|Spring</td>\n      <td>http://vocab.getty.edu/page/aat/300025943|http...</td>\n      <td>https://www.wikidata.org/wiki/Q467|https://www...</td>\n      <td>29.0</td>\n    </tr>\n    <tr>\n      <th>...</th>\n      <td>...</td>\n      <td>...</td>\n      <td>...</td>\n      <td>...</td>\n      <td>...</td>\n      <td>...</td>\n      <td>...</td>\n      <td>...</td>\n      <td>...</td>\n      <td>...</td>\n      <td>...</td>\n      <td>...</td>\n      <td>...</td>\n      <td>...</td>\n      <td>...</td>\n      <td>...</td>\n      <td>...</td>\n      <td>...</td>\n      <td>...</td>\n      <td>...</td>\n      <td>...</td>\n    </tr>\n    <tr>\n      <th>788902</th>\n      <td>21.91.243</td>\n      <td>False</td>\n      <td>False</td>\n      <td>True</td>\n      <td>NaN</td>\n      <td>Drawings and Prints</td>\n      <td>1921.0</td>\n      <td>Print\\r\\n</td>\n      <td>Chinoiserie Ornament</td>\n      <td>NaN</td>\n      <td>...</td>\n      <td>Prints|Ornament &amp; Architecture</td>\n      <td>NaN</td>\n      <td>http://www.metmuseum.org/art/collection/search...</td>\n      <td>NaN</td>\n      <td>NaN</td>\n      <td>Metropolitan Museum of Art, New York, NY</td>\n      <td>Ornament|Men|Chinoiserie</td>\n      <td>http://vocab.getty.edu/page/aat/300164595|http...</td>\n      <td>https://www.wikidata.org/wiki/Q335261|https://...</td>\n      <td>7.0</td>\n    </tr>\n    <tr>\n      <th>788903</th>\n      <td>21.91.244</td>\n      <td>False</td>\n      <td>False</td>\n      <td>True</td>\n      <td>NaN</td>\n      <td>Drawings and Prints</td>\n      <td>1921.0</td>\n      <td>Print\\r\\n</td>\n      <td>Chinoiserie Ornament</td>\n      <td>NaN</td>\n      <td>...</td>\n      <td>Prints|Ornament &amp; Architecture</td>\n      <td>NaN</td>\n      <td>http://www.metmuseum.org/art/collection/search...</td>\n      <td>NaN</td>\n      <td>NaN</td>\n      <td>Metropolitan Museum of Art, New York, NY</td>\n      <td>Boys|Playing Cards|Chinoiserie</td>\n      <td>http://vocab.getty.edu/page/aat/300247598|http...</td>\n      <td>https://www.wikidata.org/wiki/Q3010|https://ww...</td>\n      <td>7.0</td>\n    </tr>\n    <tr>\n      <th>820446</th>\n      <td>26.50.1(146)</td>\n      <td>False</td>\n      <td>False</td>\n      <td>False</td>\n      <td>NaN</td>\n      <td>Drawings and Prints</td>\n      <td>1926.0</td>\n      <td>Drawing \\r\\nPrint</td>\n      <td>Five dancing or fighting cupids</td>\n      <td>NaN</td>\n      <td>...</td>\n      <td>Prints</td>\n      <td>NaN</td>\n      <td>http://www.metmuseum.org/art/collection/search...</td>\n      <td>NaN</td>\n      <td>NaN</td>\n      <td>Metropolitan Museum of Art, New York, NY</td>\n      <td>NaN</td>\n      <td>NaN</td>\n      <td>NaN</td>\n      <td>15.0</td>\n    </tr>\n    <tr>\n      <th>822562</th>\n      <td>28.99.29</td>\n      <td>False</td>\n      <td>False</td>\n      <td>True</td>\n      <td>NaN</td>\n      <td>Arms and Armor</td>\n      <td>1928.0</td>\n      <td>Crossbow nut\\r\\n</td>\n      <td>Crossbow Nut</td>\n      <td>Western European or Near Eastern</td>\n      <td>...</td>\n      <td>Archery Equipment</td>\n      <td>NaN</td>\n      <td>http://www.metmuseum.org/art/collection/search...</td>\n      <td>NaN</td>\n      <td>NaN</td>\n      <td>Metropolitan Museum of Art, New York, NY</td>\n      <td>NaN</td>\n      <td>NaN</td>\n      <td>NaN</td>\n      <td>14.0</td>\n    </tr>\n    <tr>\n      <th>845522</th>\n      <td>2020.373a, b</td>\n      <td>False</td>\n      <td>False</td>\n      <td>True</td>\n      <td>NaN</td>\n      <td>Islamic Art</td>\n      <td>2020.0</td>\n      <td>Mirror case with pouch\\r\\n</td>\n      <td>Mirror Case Depicting the Meeting of Nasir al-...</td>\n      <td>NaN</td>\n      <td>...</td>\n      <td>Lacquer</td>\n      <td>NaN</td>\n      <td>http://www.metmuseum.org/art/collection/search...</td>\n      <td>NaN</td>\n      <td>NaN</td>\n      <td>Metropolitan Museum of Art, New York, NY</td>\n      <td>NaN</td>\n      <td>NaN</td>\n      <td>NaN</td>\n      <td>24.0</td>\n    </tr>\n  </tbody>\n</table>\n<p>1036 rows × 54 columns</p>\n</div>"
     },
     "execution_count": 69,
     "metadata": {},
     "output_type": "execute_result"
    }
   ],
   "source": [
    "from string import printable\n",
    "# df.loc[str(df['Object Name']).isalnum()]\n",
    "# df.loc[df['Object Name'].apply(lambda x: not str(x).isalnum())]\n",
    "# df.loc[df['Object Name'].apply(lambda x: set(str(x)).difference(printable))]\n",
    "df.loc[df['Object Name'].apply(lambda x: '\\n' in str(x))]\n"
   ],
   "metadata": {
    "collapsed": false
   }
  },
  {
   "cell_type": "markdown",
   "source": [
    "We can see a name such as `Bowl\\r\\n\\r\\n\\r\\n\\r\\n\\r\\n\\r\\n\\r\\n\\r\\n\\r\\n\\r\\n\\r\\n\\r\\n\\r\\n\\r\\n\\r\\n\\r\\n\\r\\n\\r\\n\\r\\n\\r\\n\\r\\n\\r\\n\\r\\n\\r\\n\\r\\n\\r\\n\\r\\n\\r\\n\\r\\n\\r\\n\\r\\n\\r\\n`\n",
    "So we should clean the names of any unprintable characters. For this particular case a simple `name.strip()` would work, but a better solution is needed for all rows"
   ],
   "metadata": {
    "collapsed": false
   }
  },
  {
   "cell_type": "code",
   "execution_count": 70,
   "outputs": [],
   "source": [
    "# df_dedup_name['Object_name_commas_count'] = df_dedup_name['Object Name'].apply(lambda x: str(x).count(','))\n",
    "# df_dedup_name.Object_name_commas_count.describe()"
   ],
   "metadata": {
    "collapsed": false
   }
  },
  {
   "cell_type": "markdown",
   "source": [
    "Lets take a look if case sensitivity plays a role"
   ],
   "metadata": {
    "collapsed": false
   }
  },
  {
   "cell_type": "code",
   "execution_count": 71,
   "outputs": [
    {
     "data": {
      "text/plain": "449354"
     },
     "execution_count": 71,
     "metadata": {},
     "output_type": "execute_result"
    }
   ],
   "source": [
    "# get number of duplicate names\n",
    "df.duplicated(subset=['Object Name']).sum()"
   ],
   "metadata": {
    "collapsed": false
   }
  },
  {
   "cell_type": "code",
   "execution_count": 72,
   "outputs": [
    {
     "data": {
      "text/plain": "450202"
     },
     "execution_count": 72,
     "metadata": {},
     "output_type": "execute_result"
    }
   ],
   "source": [
    "# get number of duplicated names when case sensitivity does not matter\n",
    "df['Object Name'].apply(lambda x: str(x).upper()).duplicated().sum()"
   ],
   "metadata": {
    "collapsed": false
   }
  },
  {
   "cell_type": "markdown",
   "source": [
    "We can see that there are inconsistencies in case sensitivity. We should converted all rows in some way (all upper, all lower, 1st upper, ...)"
   ],
   "metadata": {
    "collapsed": false
   }
  },
  {
   "cell_type": "markdown",
   "source": [
    "## 2b"
   ],
   "metadata": {
    "collapsed": false
   }
  },
  {
   "cell_type": "markdown",
   "source": [
    "Lets decide on 2nd column. When I look back at the initial data exploration, 1st thing that seems very suspicious is `Artist Gender,284` when looking at number of unique values, so `Artist Gender` it is."
   ],
   "metadata": {
    "collapsed": false
   }
  },
  {
   "cell_type": "code",
   "execution_count": 73,
   "outputs": [
    {
     "data": {
      "text/plain": "           Object Number  Is Highlight  Is Timeline Work  Is Public Domain  \\\nObject ID                                                                    \n1             1979.486.1         False             False             False   \n35               04.1a–c          True              True             False   \n282            25.173a–o          True              True             False   \n311              1984.98         False             False             False   \n444            18.110.64         False              True              True   \n...                  ...           ...               ...               ...   \n838183       60.502.7(4)         False             False             False   \n840803        40.101(56)         False             False             False   \n849227      62.600.15(2)         False             False             False   \n853788         66.540.34         False             False             False   \n858033     1991.1073.232         False             False             False   \n\n          Gallery Number           Department AccessionYear Object Name  \\\nObject ID                                                                 \n1                    NaN    The American Wing        1979.0        Coin   \n35                   706    The American Wing        1904.0        Vase   \n282                  700    The American Wing        1925.0      Window   \n311                  701    The American Wing        1984.0    Baluster   \n444                  729    The American Wing        1918.0    Bedstead   \n...                  ...                  ...           ...         ...   \n838183               NaN  Drawings and Prints        1960.0        Book   \n840803               NaN  Drawings and Prints        1940.0       Print   \n849227               NaN  Drawings and Prints        1962.0        Book   \n853788               NaN  Drawings and Prints          1966        Book   \n858033               NaN  Drawings and Prints          1991        Book   \n\n                                                       Title   Culture  ...  \\\nObject ID                                                               ...   \n1                               One-dollar Liberty Head Coin       NaN  ...   \n35                                            The Adams Vase  American  ...   \n282                                         Autumn Landscape  American  ...   \n311        Baluster from the Guaranty Building, Buffalo, ...  American  ...   \n444                                                 Bedstead  American  ...   \n...                                                      ...       ...  ...   \n838183                           Illustrated London Almanack       NaN  ...   \n840803               Artist Color Proof Associates (leaflet)       NaN  ...   \n849227       The Life of Her Most Gracious Majesty the Queen       NaN  ...   \n853788     A London Garland, Selected from Five Centuries...       NaN  ...   \n858033                 Original Etchings by American Artists       NaN  ...   \n\n          Classification Rights and Reproduction  \\\nObject ID                                          \n1                    NaN                     NaN   \n35                   NaN                     NaN   \n282                  NaN                     NaN   \n311                  NaN                     NaN   \n444                  NaN                     NaN   \n...                  ...                     ...   \n838183             Books                     NaN   \n840803            Prints                     NaN   \n849227             Books                     NaN   \n853788             Books                     NaN   \n858033             Books                     NaN   \n\n                                               Link Resource  \\\nObject ID                                                      \n1           http://www.metmuseum.org/art/collection/search/1   \n35         http://www.metmuseum.org/art/collection/search/35   \n282        http://www.metmuseum.org/art/collection/search...   \n311        http://www.metmuseum.org/art/collection/search...   \n444        http://www.metmuseum.org/art/collection/search...   \n...                                                      ...   \n838183     http://www.metmuseum.org/art/collection/search...   \n840803     http://www.metmuseum.org/art/collection/search...   \n849227     http://www.metmuseum.org/art/collection/search...   \n853788     http://www.metmuseum.org/art/collection/search...   \n858033     http://www.metmuseum.org/art/collection/search...   \n\n                               Object Wikidata URL Metadata Date  \\\nObject ID                                                          \n1                                              NaN           NaN   \n35         https://www.wikidata.org/wiki/Q83545838           NaN   \n282        https://www.wikidata.org/wiki/Q83560015           NaN   \n311                                            NaN           NaN   \n444                                            NaN           NaN   \n...                                            ...           ...   \n838183                                         NaN           NaN   \n840803                                         NaN           NaN   \n849227                                         NaN           NaN   \n853788                                         NaN           NaN   \n858033                                         NaN           NaN   \n\n                                         Repository  \\\nObject ID                                             \n1          Metropolitan Museum of Art, New York, NY   \n35         Metropolitan Museum of Art, New York, NY   \n282        Metropolitan Museum of Art, New York, NY   \n311        Metropolitan Museum of Art, New York, NY   \n444        Metropolitan Museum of Art, New York, NY   \n...                                             ...   \n838183     Metropolitan Museum of Art, New York, NY   \n840803     Metropolitan Museum of Art, New York, NY   \n849227     Metropolitan Museum of Art, New York, NY   \n853788     Metropolitan Museum of Art, New York, NY   \n858033     Metropolitan Museum of Art, New York, NY   \n\n                                           Tags  \\\nObject ID                                         \n1                                           NaN   \n35                   Animals|Garlands|Birds|Men   \n282        Windows|Waterfalls|Landscapes|Autumn   \n311                                         NaN   \n444                                         NaN   \n...                                         ...   \n838183                                      NaN   \n840803                                      NaN   \n849227                                      NaN   \n853788                                      NaN   \n858033                                      NaN   \n\n                                                Tags AAT URL  \\\nObject ID                                                      \n1                                                        NaN   \n35         http://vocab.getty.edu/page/aat/300249525|http...   \n282        http://vocab.getty.edu/page/aat/300002944|http...   \n311                                                      NaN   \n444                                                      NaN   \n...                                                      ...   \n838183                                                   NaN   \n840803                                                   NaN   \n849227                                                   NaN   \n853788                                                   NaN   \n858033                                                   NaN   \n\n                                           Tags Wikidata URL Object_name_len  \nObject ID                                                                     \n1                                                        NaN             4.0  \n35         https://www.wikidata.org/wiki/Q729|https://www...             4.0  \n282        https://www.wikidata.org/wiki/Q35473|https://w...             6.0  \n311                                                      NaN             8.0  \n444                                                      NaN             8.0  \n...                                                      ...             ...  \n838183                                                   NaN             4.0  \n840803                                                   NaN             5.0  \n849227                                                   NaN             4.0  \n853788                                                   NaN             4.0  \n858033                                                   NaN             4.0  \n\n[285 rows x 54 columns]",
      "text/html": "<div>\n<style scoped>\n    .dataframe tbody tr th:only-of-type {\n        vertical-align: middle;\n    }\n\n    .dataframe tbody tr th {\n        vertical-align: top;\n    }\n\n    .dataframe thead th {\n        text-align: right;\n    }\n</style>\n<table border=\"1\" class=\"dataframe\">\n  <thead>\n    <tr style=\"text-align: right;\">\n      <th></th>\n      <th>Object Number</th>\n      <th>Is Highlight</th>\n      <th>Is Timeline Work</th>\n      <th>Is Public Domain</th>\n      <th>Gallery Number</th>\n      <th>Department</th>\n      <th>AccessionYear</th>\n      <th>Object Name</th>\n      <th>Title</th>\n      <th>Culture</th>\n      <th>...</th>\n      <th>Classification</th>\n      <th>Rights and Reproduction</th>\n      <th>Link Resource</th>\n      <th>Object Wikidata URL</th>\n      <th>Metadata Date</th>\n      <th>Repository</th>\n      <th>Tags</th>\n      <th>Tags AAT URL</th>\n      <th>Tags Wikidata URL</th>\n      <th>Object_name_len</th>\n    </tr>\n    <tr>\n      <th>Object ID</th>\n      <th></th>\n      <th></th>\n      <th></th>\n      <th></th>\n      <th></th>\n      <th></th>\n      <th></th>\n      <th></th>\n      <th></th>\n      <th></th>\n      <th></th>\n      <th></th>\n      <th></th>\n      <th></th>\n      <th></th>\n      <th></th>\n      <th></th>\n      <th></th>\n      <th></th>\n      <th></th>\n      <th></th>\n    </tr>\n  </thead>\n  <tbody>\n    <tr>\n      <th>1</th>\n      <td>1979.486.1</td>\n      <td>False</td>\n      <td>False</td>\n      <td>False</td>\n      <td>NaN</td>\n      <td>The American Wing</td>\n      <td>1979.0</td>\n      <td>Coin</td>\n      <td>One-dollar Liberty Head Coin</td>\n      <td>NaN</td>\n      <td>...</td>\n      <td>NaN</td>\n      <td>NaN</td>\n      <td>http://www.metmuseum.org/art/collection/search/1</td>\n      <td>NaN</td>\n      <td>NaN</td>\n      <td>Metropolitan Museum of Art, New York, NY</td>\n      <td>NaN</td>\n      <td>NaN</td>\n      <td>NaN</td>\n      <td>4.0</td>\n    </tr>\n    <tr>\n      <th>35</th>\n      <td>04.1a–c</td>\n      <td>True</td>\n      <td>True</td>\n      <td>False</td>\n      <td>706</td>\n      <td>The American Wing</td>\n      <td>1904.0</td>\n      <td>Vase</td>\n      <td>The Adams Vase</td>\n      <td>American</td>\n      <td>...</td>\n      <td>NaN</td>\n      <td>NaN</td>\n      <td>http://www.metmuseum.org/art/collection/search/35</td>\n      <td>https://www.wikidata.org/wiki/Q83545838</td>\n      <td>NaN</td>\n      <td>Metropolitan Museum of Art, New York, NY</td>\n      <td>Animals|Garlands|Birds|Men</td>\n      <td>http://vocab.getty.edu/page/aat/300249525|http...</td>\n      <td>https://www.wikidata.org/wiki/Q729|https://www...</td>\n      <td>4.0</td>\n    </tr>\n    <tr>\n      <th>282</th>\n      <td>25.173a–o</td>\n      <td>True</td>\n      <td>True</td>\n      <td>False</td>\n      <td>700</td>\n      <td>The American Wing</td>\n      <td>1925.0</td>\n      <td>Window</td>\n      <td>Autumn Landscape</td>\n      <td>American</td>\n      <td>...</td>\n      <td>NaN</td>\n      <td>NaN</td>\n      <td>http://www.metmuseum.org/art/collection/search...</td>\n      <td>https://www.wikidata.org/wiki/Q83560015</td>\n      <td>NaN</td>\n      <td>Metropolitan Museum of Art, New York, NY</td>\n      <td>Windows|Waterfalls|Landscapes|Autumn</td>\n      <td>http://vocab.getty.edu/page/aat/300002944|http...</td>\n      <td>https://www.wikidata.org/wiki/Q35473|https://w...</td>\n      <td>6.0</td>\n    </tr>\n    <tr>\n      <th>311</th>\n      <td>1984.98</td>\n      <td>False</td>\n      <td>False</td>\n      <td>False</td>\n      <td>701</td>\n      <td>The American Wing</td>\n      <td>1984.0</td>\n      <td>Baluster</td>\n      <td>Baluster from the Guaranty Building, Buffalo, ...</td>\n      <td>American</td>\n      <td>...</td>\n      <td>NaN</td>\n      <td>NaN</td>\n      <td>http://www.metmuseum.org/art/collection/search...</td>\n      <td>NaN</td>\n      <td>NaN</td>\n      <td>Metropolitan Museum of Art, New York, NY</td>\n      <td>NaN</td>\n      <td>NaN</td>\n      <td>NaN</td>\n      <td>8.0</td>\n    </tr>\n    <tr>\n      <th>444</th>\n      <td>18.110.64</td>\n      <td>False</td>\n      <td>True</td>\n      <td>True</td>\n      <td>729</td>\n      <td>The American Wing</td>\n      <td>1918.0</td>\n      <td>Bedstead</td>\n      <td>Bedstead</td>\n      <td>American</td>\n      <td>...</td>\n      <td>NaN</td>\n      <td>NaN</td>\n      <td>http://www.metmuseum.org/art/collection/search...</td>\n      <td>NaN</td>\n      <td>NaN</td>\n      <td>Metropolitan Museum of Art, New York, NY</td>\n      <td>NaN</td>\n      <td>NaN</td>\n      <td>NaN</td>\n      <td>8.0</td>\n    </tr>\n    <tr>\n      <th>...</th>\n      <td>...</td>\n      <td>...</td>\n      <td>...</td>\n      <td>...</td>\n      <td>...</td>\n      <td>...</td>\n      <td>...</td>\n      <td>...</td>\n      <td>...</td>\n      <td>...</td>\n      <td>...</td>\n      <td>...</td>\n      <td>...</td>\n      <td>...</td>\n      <td>...</td>\n      <td>...</td>\n      <td>...</td>\n      <td>...</td>\n      <td>...</td>\n      <td>...</td>\n      <td>...</td>\n    </tr>\n    <tr>\n      <th>838183</th>\n      <td>60.502.7(4)</td>\n      <td>False</td>\n      <td>False</td>\n      <td>False</td>\n      <td>NaN</td>\n      <td>Drawings and Prints</td>\n      <td>1960.0</td>\n      <td>Book</td>\n      <td>Illustrated London Almanack</td>\n      <td>NaN</td>\n      <td>...</td>\n      <td>Books</td>\n      <td>NaN</td>\n      <td>http://www.metmuseum.org/art/collection/search...</td>\n      <td>NaN</td>\n      <td>NaN</td>\n      <td>Metropolitan Museum of Art, New York, NY</td>\n      <td>NaN</td>\n      <td>NaN</td>\n      <td>NaN</td>\n      <td>4.0</td>\n    </tr>\n    <tr>\n      <th>840803</th>\n      <td>40.101(56)</td>\n      <td>False</td>\n      <td>False</td>\n      <td>False</td>\n      <td>NaN</td>\n      <td>Drawings and Prints</td>\n      <td>1940.0</td>\n      <td>Print</td>\n      <td>Artist Color Proof Associates (leaflet)</td>\n      <td>NaN</td>\n      <td>...</td>\n      <td>Prints</td>\n      <td>NaN</td>\n      <td>http://www.metmuseum.org/art/collection/search...</td>\n      <td>NaN</td>\n      <td>NaN</td>\n      <td>Metropolitan Museum of Art, New York, NY</td>\n      <td>NaN</td>\n      <td>NaN</td>\n      <td>NaN</td>\n      <td>5.0</td>\n    </tr>\n    <tr>\n      <th>849227</th>\n      <td>62.600.15(2)</td>\n      <td>False</td>\n      <td>False</td>\n      <td>False</td>\n      <td>NaN</td>\n      <td>Drawings and Prints</td>\n      <td>1962.0</td>\n      <td>Book</td>\n      <td>The Life of Her Most Gracious Majesty the Queen</td>\n      <td>NaN</td>\n      <td>...</td>\n      <td>Books</td>\n      <td>NaN</td>\n      <td>http://www.metmuseum.org/art/collection/search...</td>\n      <td>NaN</td>\n      <td>NaN</td>\n      <td>Metropolitan Museum of Art, New York, NY</td>\n      <td>NaN</td>\n      <td>NaN</td>\n      <td>NaN</td>\n      <td>4.0</td>\n    </tr>\n    <tr>\n      <th>853788</th>\n      <td>66.540.34</td>\n      <td>False</td>\n      <td>False</td>\n      <td>False</td>\n      <td>NaN</td>\n      <td>Drawings and Prints</td>\n      <td>1966</td>\n      <td>Book</td>\n      <td>A London Garland, Selected from Five Centuries...</td>\n      <td>NaN</td>\n      <td>...</td>\n      <td>Books</td>\n      <td>NaN</td>\n      <td>http://www.metmuseum.org/art/collection/search...</td>\n      <td>NaN</td>\n      <td>NaN</td>\n      <td>Metropolitan Museum of Art, New York, NY</td>\n      <td>NaN</td>\n      <td>NaN</td>\n      <td>NaN</td>\n      <td>4.0</td>\n    </tr>\n    <tr>\n      <th>858033</th>\n      <td>1991.1073.232</td>\n      <td>False</td>\n      <td>False</td>\n      <td>False</td>\n      <td>NaN</td>\n      <td>Drawings and Prints</td>\n      <td>1991</td>\n      <td>Book</td>\n      <td>Original Etchings by American Artists</td>\n      <td>NaN</td>\n      <td>...</td>\n      <td>Books</td>\n      <td>NaN</td>\n      <td>http://www.metmuseum.org/art/collection/search...</td>\n      <td>NaN</td>\n      <td>NaN</td>\n      <td>Metropolitan Museum of Art, New York, NY</td>\n      <td>NaN</td>\n      <td>NaN</td>\n      <td>NaN</td>\n      <td>4.0</td>\n    </tr>\n  </tbody>\n</table>\n<p>285 rows × 54 columns</p>\n</div>"
     },
     "execution_count": 73,
     "metadata": {},
     "output_type": "execute_result"
    }
   ],
   "source": [
    "# get list of unique values\n",
    "df_dedup_artist_gender = df.drop_duplicates(subset=['Artist Gender'])\n",
    "df_dedup_artist_gender"
   ],
   "metadata": {
    "collapsed": false
   }
  },
  {
   "cell_type": "markdown",
   "source": [
    "We can see that it is a big mess, with values like `||||||||||||||Female|||||||`\n",
    "To find all inconsistencies I'll actually try to clean the data"
   ],
   "metadata": {
    "collapsed": false
   }
  },
  {
   "cell_type": "code",
   "execution_count": 74,
   "outputs": [],
   "source": [
    "# first convert NaN into empty string\n",
    "df_dedup_artist_gender = df_dedup_artist_gender.fillna('')"
   ],
   "metadata": {
    "collapsed": false
   }
  },
  {
   "cell_type": "code",
   "execution_count": 75,
   "outputs": [],
   "source": [
    "def clean_artist_gender(text: str) -> str:\n",
    "    # split string into list by `|`\n",
    "    split_list = text.split('|')\n",
    "    # remove empty substrings\n",
    "    split_list = list(filter(len, split_list))\n",
    "    # deduplicate substrings\n",
    "    split_list = list(set(split_list))\n",
    "    # make into string. If there are multiple substrings in list, join it with `, ` (Spoiler there arent any anyway)\n",
    "    final_value = \", \".join(split_list)\n",
    "    return final_value"
   ],
   "metadata": {
    "collapsed": false
   }
  },
  {
   "cell_type": "code",
   "execution_count": 76,
   "outputs": [
    {
     "data": {
      "text/plain": "Object ID\n1               \n35              \n282       Female\n311             \n444             \n           ...  \n838183    Female\n840803    Female\n849227    Female\n853788    Female\n858033    Female\nName: Artist Gender, Length: 285, dtype: object"
     },
     "execution_count": 76,
     "metadata": {},
     "output_type": "execute_result"
    }
   ],
   "source": [
    "df_dedup_artist_gender = df_dedup_artist_gender['Artist Gender'].apply(lambda x: clean_artist_gender(str(x)))\n",
    "df_dedup_artist_gender"
   ],
   "metadata": {
    "collapsed": false
   }
  },
  {
   "cell_type": "code",
   "execution_count": 77,
   "outputs": [
    {
     "data": {
      "text/plain": "Object ID\n1            \n282    Female\nName: Artist Gender, dtype: object"
     },
     "execution_count": 77,
     "metadata": {},
     "output_type": "execute_result"
    }
   ],
   "source": [
    "# lets dedup again\n",
    "df_dedup_artist_gender = df_dedup_artist_gender.drop_duplicates()\n",
    "df_dedup_artist_gender"
   ],
   "metadata": {
    "collapsed": false
   }
  },
  {
   "cell_type": "markdown",
   "source": [
    "### yikes!\n",
    "I just noticed that use of the `||||||||||||||Female|||||||` is because there are multiple authors, which makes it not a consistency problem. (It would be better to check if for all author columns the number of `|` is the same in one row, but I am not gonna bother here)\n",
    "However I'll still count this one as incorrect since there are is no info if the artist is a male. Maybe all null values are male, but we cannot say for sure."
   ],
   "metadata": {
    "collapsed": false
   }
  },
  {
   "cell_type": "markdown",
   "source": [
    "## 2c"
   ],
   "metadata": {
    "collapsed": false
   }
  },
  {
   "cell_type": "markdown",
   "source": [
    "I could pick any author related column, but let's look at smth else.\n",
    "Again, looking at the data exploration, I notice `Object Date`, so lets explore that"
   ],
   "metadata": {
    "collapsed": false
   }
  },
  {
   "cell_type": "code",
   "execution_count": 78,
   "outputs": [
    {
     "data": {
      "text/plain": "          Object Number  Is Highlight  Is Timeline Work  Is Public Domain  \\\nObject ID                                                                   \n1            1979.486.1         False             False             False   \n2            1980.264.5         False             False             False   \n3              67.265.9         False             False             False   \n10           1979.486.3         False             False             False   \n11           1979.486.2         False             False             False   \n...                 ...           ...               ...               ...   \n858211       67.539.162         False             False             False   \n858213     1980.1124.25         False             False             False   \n858241     17.3.3442-83         False             False             False   \n858251       1976.622.1         False             False             False   \n860871      53.600.1434         False             False             False   \n\n          Gallery Number           Department AccessionYear     Object Name  \\\nObject ID                                                                     \n1                    NaN    The American Wing        1979.0            Coin   \n2                    NaN    The American Wing        1980.0            Coin   \n3                    NaN    The American Wing        1967.0            Coin   \n10                   NaN    The American Wing        1979.0            Coin   \n11                   NaN    The American Wing        1979.0            Coin   \n...                  ...                  ...           ...             ...   \n858211               NaN  Drawings and Prints          1967           Print   \n858213               NaN  Drawings and Prints          1980           Print   \n858241               NaN  Drawings and Prints          1917           Print   \n858251               NaN  Drawings and Prints          1976  Book, pamphlet   \n860871               NaN  Drawings and Prints          1953           Print   \n\n                                                       Title Culture  ...  \\\nObject ID                                                             ...   \n1                               One-dollar Liberty Head Coin     NaN  ...   \n2                               Ten-dollar Liberty Head Coin     NaN  ...   \n3                                 Two-and-a-Half Dollar Coin     NaN  ...   \n10                    Two-and-a-half-dollar Indian Head Coin     NaN  ...   \n11                   Two-and-a-half-dollar Liberty Head Coin     NaN  ...   \n...                                                      ...     ...  ...   \n858211                         Ornamental frame with figures     NaN  ...   \n858213                             Portrait of Benjamin West     NaN  ...   \n858241            Six guineas entrance and a guinea a lesson     NaN  ...   \n858251              Craftsman Catalog of Dog Goods, No. 1-25     NaN  ...   \n860871     Forest landscape with cattle drinking, a woman...     NaN  ...   \n\n          Classification Rights and Reproduction  \\\nObject ID                                          \n1                    NaN                     NaN   \n2                    NaN                     NaN   \n3                    NaN                     NaN   \n10                   NaN                     NaN   \n11                   NaN                     NaN   \n...                  ...                     ...   \n858211            Prints                     NaN   \n858213            Prints                     NaN   \n858241            Prints                     NaN   \n858251             Books                     NaN   \n860871            Prints                     NaN   \n\n                                               Link Resource  \\\nObject ID                                                      \n1           http://www.metmuseum.org/art/collection/search/1   \n2           http://www.metmuseum.org/art/collection/search/2   \n3           http://www.metmuseum.org/art/collection/search/3   \n10         http://www.metmuseum.org/art/collection/search/10   \n11         http://www.metmuseum.org/art/collection/search/11   \n...                                                      ...   \n858211     http://www.metmuseum.org/art/collection/search...   \n858213     http://www.metmuseum.org/art/collection/search...   \n858241     http://www.metmuseum.org/art/collection/search...   \n858251     http://www.metmuseum.org/art/collection/search...   \n860871     http://www.metmuseum.org/art/collection/search...   \n\n          Object Wikidata URL Metadata Date  \\\nObject ID                                     \n1                         NaN           NaN   \n2                         NaN           NaN   \n3                         NaN           NaN   \n10                        NaN           NaN   \n11                        NaN           NaN   \n...                       ...           ...   \n858211                    NaN           NaN   \n858213                    NaN           NaN   \n858241                    NaN           NaN   \n858251                    NaN           NaN   \n860871                    NaN           NaN   \n\n                                         Repository Tags Tags AAT URL  \\\nObject ID                                                               \n1          Metropolitan Museum of Art, New York, NY  NaN          NaN   \n2          Metropolitan Museum of Art, New York, NY  NaN          NaN   \n3          Metropolitan Museum of Art, New York, NY  NaN          NaN   \n10         Metropolitan Museum of Art, New York, NY  NaN          NaN   \n11         Metropolitan Museum of Art, New York, NY  NaN          NaN   \n...                                             ...  ...          ...   \n858211     Metropolitan Museum of Art, New York, NY  NaN          NaN   \n858213     Metropolitan Museum of Art, New York, NY  NaN          NaN   \n858241     Metropolitan Museum of Art, New York, NY  NaN          NaN   \n858251     Metropolitan Museum of Art, New York, NY  NaN          NaN   \n860871     Metropolitan Museum of Art, New York, NY  NaN          NaN   \n\n          Tags Wikidata URL Object_name_len  \nObject ID                                    \n1                       NaN             4.0  \n2                       NaN             4.0  \n3                       NaN             4.0  \n10                      NaN             4.0  \n11                      NaN             4.0  \n...                     ...             ...  \n858211                  NaN             5.0  \n858213                  NaN             5.0  \n858241                  NaN             5.0  \n858251                  NaN            14.0  \n860871                  NaN             5.0  \n\n[32697 rows x 54 columns]",
      "text/html": "<div>\n<style scoped>\n    .dataframe tbody tr th:only-of-type {\n        vertical-align: middle;\n    }\n\n    .dataframe tbody tr th {\n        vertical-align: top;\n    }\n\n    .dataframe thead th {\n        text-align: right;\n    }\n</style>\n<table border=\"1\" class=\"dataframe\">\n  <thead>\n    <tr style=\"text-align: right;\">\n      <th></th>\n      <th>Object Number</th>\n      <th>Is Highlight</th>\n      <th>Is Timeline Work</th>\n      <th>Is Public Domain</th>\n      <th>Gallery Number</th>\n      <th>Department</th>\n      <th>AccessionYear</th>\n      <th>Object Name</th>\n      <th>Title</th>\n      <th>Culture</th>\n      <th>...</th>\n      <th>Classification</th>\n      <th>Rights and Reproduction</th>\n      <th>Link Resource</th>\n      <th>Object Wikidata URL</th>\n      <th>Metadata Date</th>\n      <th>Repository</th>\n      <th>Tags</th>\n      <th>Tags AAT URL</th>\n      <th>Tags Wikidata URL</th>\n      <th>Object_name_len</th>\n    </tr>\n    <tr>\n      <th>Object ID</th>\n      <th></th>\n      <th></th>\n      <th></th>\n      <th></th>\n      <th></th>\n      <th></th>\n      <th></th>\n      <th></th>\n      <th></th>\n      <th></th>\n      <th></th>\n      <th></th>\n      <th></th>\n      <th></th>\n      <th></th>\n      <th></th>\n      <th></th>\n      <th></th>\n      <th></th>\n      <th></th>\n      <th></th>\n    </tr>\n  </thead>\n  <tbody>\n    <tr>\n      <th>1</th>\n      <td>1979.486.1</td>\n      <td>False</td>\n      <td>False</td>\n      <td>False</td>\n      <td>NaN</td>\n      <td>The American Wing</td>\n      <td>1979.0</td>\n      <td>Coin</td>\n      <td>One-dollar Liberty Head Coin</td>\n      <td>NaN</td>\n      <td>...</td>\n      <td>NaN</td>\n      <td>NaN</td>\n      <td>http://www.metmuseum.org/art/collection/search/1</td>\n      <td>NaN</td>\n      <td>NaN</td>\n      <td>Metropolitan Museum of Art, New York, NY</td>\n      <td>NaN</td>\n      <td>NaN</td>\n      <td>NaN</td>\n      <td>4.0</td>\n    </tr>\n    <tr>\n      <th>2</th>\n      <td>1980.264.5</td>\n      <td>False</td>\n      <td>False</td>\n      <td>False</td>\n      <td>NaN</td>\n      <td>The American Wing</td>\n      <td>1980.0</td>\n      <td>Coin</td>\n      <td>Ten-dollar Liberty Head Coin</td>\n      <td>NaN</td>\n      <td>...</td>\n      <td>NaN</td>\n      <td>NaN</td>\n      <td>http://www.metmuseum.org/art/collection/search/2</td>\n      <td>NaN</td>\n      <td>NaN</td>\n      <td>Metropolitan Museum of Art, New York, NY</td>\n      <td>NaN</td>\n      <td>NaN</td>\n      <td>NaN</td>\n      <td>4.0</td>\n    </tr>\n    <tr>\n      <th>3</th>\n      <td>67.265.9</td>\n      <td>False</td>\n      <td>False</td>\n      <td>False</td>\n      <td>NaN</td>\n      <td>The American Wing</td>\n      <td>1967.0</td>\n      <td>Coin</td>\n      <td>Two-and-a-Half Dollar Coin</td>\n      <td>NaN</td>\n      <td>...</td>\n      <td>NaN</td>\n      <td>NaN</td>\n      <td>http://www.metmuseum.org/art/collection/search/3</td>\n      <td>NaN</td>\n      <td>NaN</td>\n      <td>Metropolitan Museum of Art, New York, NY</td>\n      <td>NaN</td>\n      <td>NaN</td>\n      <td>NaN</td>\n      <td>4.0</td>\n    </tr>\n    <tr>\n      <th>10</th>\n      <td>1979.486.3</td>\n      <td>False</td>\n      <td>False</td>\n      <td>False</td>\n      <td>NaN</td>\n      <td>The American Wing</td>\n      <td>1979.0</td>\n      <td>Coin</td>\n      <td>Two-and-a-half-dollar Indian Head Coin</td>\n      <td>NaN</td>\n      <td>...</td>\n      <td>NaN</td>\n      <td>NaN</td>\n      <td>http://www.metmuseum.org/art/collection/search/10</td>\n      <td>NaN</td>\n      <td>NaN</td>\n      <td>Metropolitan Museum of Art, New York, NY</td>\n      <td>NaN</td>\n      <td>NaN</td>\n      <td>NaN</td>\n      <td>4.0</td>\n    </tr>\n    <tr>\n      <th>11</th>\n      <td>1979.486.2</td>\n      <td>False</td>\n      <td>False</td>\n      <td>False</td>\n      <td>NaN</td>\n      <td>The American Wing</td>\n      <td>1979.0</td>\n      <td>Coin</td>\n      <td>Two-and-a-half-dollar Liberty Head Coin</td>\n      <td>NaN</td>\n      <td>...</td>\n      <td>NaN</td>\n      <td>NaN</td>\n      <td>http://www.metmuseum.org/art/collection/search/11</td>\n      <td>NaN</td>\n      <td>NaN</td>\n      <td>Metropolitan Museum of Art, New York, NY</td>\n      <td>NaN</td>\n      <td>NaN</td>\n      <td>NaN</td>\n      <td>4.0</td>\n    </tr>\n    <tr>\n      <th>...</th>\n      <td>...</td>\n      <td>...</td>\n      <td>...</td>\n      <td>...</td>\n      <td>...</td>\n      <td>...</td>\n      <td>...</td>\n      <td>...</td>\n      <td>...</td>\n      <td>...</td>\n      <td>...</td>\n      <td>...</td>\n      <td>...</td>\n      <td>...</td>\n      <td>...</td>\n      <td>...</td>\n      <td>...</td>\n      <td>...</td>\n      <td>...</td>\n      <td>...</td>\n      <td>...</td>\n    </tr>\n    <tr>\n      <th>858211</th>\n      <td>67.539.162</td>\n      <td>False</td>\n      <td>False</td>\n      <td>False</td>\n      <td>NaN</td>\n      <td>Drawings and Prints</td>\n      <td>1967</td>\n      <td>Print</td>\n      <td>Ornamental frame with figures</td>\n      <td>NaN</td>\n      <td>...</td>\n      <td>Prints</td>\n      <td>NaN</td>\n      <td>http://www.metmuseum.org/art/collection/search...</td>\n      <td>NaN</td>\n      <td>NaN</td>\n      <td>Metropolitan Museum of Art, New York, NY</td>\n      <td>NaN</td>\n      <td>NaN</td>\n      <td>NaN</td>\n      <td>5.0</td>\n    </tr>\n    <tr>\n      <th>858213</th>\n      <td>1980.1124.25</td>\n      <td>False</td>\n      <td>False</td>\n      <td>False</td>\n      <td>NaN</td>\n      <td>Drawings and Prints</td>\n      <td>1980</td>\n      <td>Print</td>\n      <td>Portrait of Benjamin West</td>\n      <td>NaN</td>\n      <td>...</td>\n      <td>Prints</td>\n      <td>NaN</td>\n      <td>http://www.metmuseum.org/art/collection/search...</td>\n      <td>NaN</td>\n      <td>NaN</td>\n      <td>Metropolitan Museum of Art, New York, NY</td>\n      <td>NaN</td>\n      <td>NaN</td>\n      <td>NaN</td>\n      <td>5.0</td>\n    </tr>\n    <tr>\n      <th>858241</th>\n      <td>17.3.3442-83</td>\n      <td>False</td>\n      <td>False</td>\n      <td>False</td>\n      <td>NaN</td>\n      <td>Drawings and Prints</td>\n      <td>1917</td>\n      <td>Print</td>\n      <td>Six guineas entrance and a guinea a lesson</td>\n      <td>NaN</td>\n      <td>...</td>\n      <td>Prints</td>\n      <td>NaN</td>\n      <td>http://www.metmuseum.org/art/collection/search...</td>\n      <td>NaN</td>\n      <td>NaN</td>\n      <td>Metropolitan Museum of Art, New York, NY</td>\n      <td>NaN</td>\n      <td>NaN</td>\n      <td>NaN</td>\n      <td>5.0</td>\n    </tr>\n    <tr>\n      <th>858251</th>\n      <td>1976.622.1</td>\n      <td>False</td>\n      <td>False</td>\n      <td>False</td>\n      <td>NaN</td>\n      <td>Drawings and Prints</td>\n      <td>1976</td>\n      <td>Book, pamphlet</td>\n      <td>Craftsman Catalog of Dog Goods, No. 1-25</td>\n      <td>NaN</td>\n      <td>...</td>\n      <td>Books</td>\n      <td>NaN</td>\n      <td>http://www.metmuseum.org/art/collection/search...</td>\n      <td>NaN</td>\n      <td>NaN</td>\n      <td>Metropolitan Museum of Art, New York, NY</td>\n      <td>NaN</td>\n      <td>NaN</td>\n      <td>NaN</td>\n      <td>14.0</td>\n    </tr>\n    <tr>\n      <th>860871</th>\n      <td>53.600.1434</td>\n      <td>False</td>\n      <td>False</td>\n      <td>False</td>\n      <td>NaN</td>\n      <td>Drawings and Prints</td>\n      <td>1953</td>\n      <td>Print</td>\n      <td>Forest landscape with cattle drinking, a woman...</td>\n      <td>NaN</td>\n      <td>...</td>\n      <td>Prints</td>\n      <td>NaN</td>\n      <td>http://www.metmuseum.org/art/collection/search...</td>\n      <td>NaN</td>\n      <td>NaN</td>\n      <td>Metropolitan Museum of Art, New York, NY</td>\n      <td>NaN</td>\n      <td>NaN</td>\n      <td>NaN</td>\n      <td>5.0</td>\n    </tr>\n  </tbody>\n</table>\n<p>32697 rows × 54 columns</p>\n</div>"
     },
     "execution_count": 78,
     "metadata": {},
     "output_type": "execute_result"
    }
   ],
   "source": [
    "# get list of unique values\n",
    "df_dedup_object_date = df.drop_duplicates(subset=['Object Date'])\n",
    "df_dedup_object_date"
   ],
   "metadata": {
    "collapsed": false
   }
  },
  {
   "cell_type": "markdown",
   "source": [
    "out of some examples there are few ways of representations\n",
    "\n",
    "```\n",
    "1853\n",
    "1909-27\n",
    "1665-1700\n",
    "ca. 1887\n",
    "after 1866\n",
    "ca. 1902–3\n",
    "19th century\n",
    "1821–ca. 1843\n",
    "1716 or 1719 (edition)\n",
    "1787 (?)\n",
    "1879, cast probably 1880\n",
    "September 25, 1973\n",
    "```\n",
    "\n",
    "This makes it clear the ranges and uncertainty are represented in multiple ways => inconsistency"
   ],
   "metadata": {
    "collapsed": false
   }
  },
  {
   "cell_type": "markdown",
   "source": [
    "# 3. Select at least **two features** where you expect integrity problems (describe your choice) and check integrity of those features. By integrity we mean correct logical relations between features (e.g. female names for females only). _(2 points)_"
   ],
   "metadata": {
    "collapsed": false
   }
  },
  {
   "cell_type": "markdown",
   "source": [
    "## 3A\n",
    "During step 2c when exploring `Object date` I notice 2 other columns `Object Begin Date` and `Object end Date`, I think that there could be integrity problems between those, since there should be direct relationship between these 3. Lets explore\n",
    "Lets try to create our own `Object Date` from the other two columns"
   ],
   "metadata": {
    "collapsed": false
   }
  },
  {
   "cell_type": "code",
   "execution_count": 79,
   "outputs": [],
   "source": [
    "# convert `Object Date` to string\n",
    "df['Object Date'] = df['Object Date'].astype(str)"
   ],
   "metadata": {
    "collapsed": false
   }
  },
  {
   "cell_type": "code",
   "execution_count": 80,
   "outputs": [],
   "source": [
    "def combine_date(begin: str, end: str) -> str:\n",
    "    if begin == end:\n",
    "        return str(begin)\n",
    "    if begin[0:3] == end[0:3]:\n",
    "        return f\"{begin}–{end[3:]}\"\n",
    "    if begin[0:2] == end[0:2]:\n",
    "        return f\"{begin}–{end[2:]}\"\n",
    "    return f\"{begin}–{end}\"\n",
    "        # return f\"{begin}-{end}\""
   ],
   "metadata": {
    "collapsed": false
   }
  },
  {
   "cell_type": "code",
   "execution_count": 81,
   "outputs": [
    {
     "data": {
      "text/plain": "Object ID\n1              1853\n2              1901\n3           1909–27\n4           1909–27\n5           1909–27\n            ...    \n860869         1904\n860870         1904\n860871      1768–78\n860872    1890–1900\n860873    1890–1900\nName: object_date_combined, Length: 477804, dtype: object"
     },
     "execution_count": 81,
     "metadata": {},
     "output_type": "execute_result"
    }
   ],
   "source": [
    "df['object_date_combined'] = df.apply(lambda x: combine_date(str(x['Object Begin Date']), str(x['Object End Date'])), axis=1)\n",
    "df.object_date_combined"
   ],
   "metadata": {
    "collapsed": false
   }
  },
  {
   "cell_type": "code",
   "execution_count": 82,
   "outputs": [
    {
     "data": {
      "text/plain": "          Object Date object_date_combined\nObject ID                                 \n35            1893–95               1893–5\n36           ca. 1887               1884–7\n37           ca. 1785               1782–5\n38           ca. 1785               1782–5\n44           ca. 1790              1787–90\n...               ...                  ...\n860867           1758              1753–63\n860868           1758              1753–63\n860871     after 1773              1768–78\n860872           1904            1890–1900\n860873           1904            1890–1900\n\n[328702 rows x 2 columns]",
      "text/html": "<div>\n<style scoped>\n    .dataframe tbody tr th:only-of-type {\n        vertical-align: middle;\n    }\n\n    .dataframe tbody tr th {\n        vertical-align: top;\n    }\n\n    .dataframe thead th {\n        text-align: right;\n    }\n</style>\n<table border=\"1\" class=\"dataframe\">\n  <thead>\n    <tr style=\"text-align: right;\">\n      <th></th>\n      <th>Object Date</th>\n      <th>object_date_combined</th>\n    </tr>\n    <tr>\n      <th>Object ID</th>\n      <th></th>\n      <th></th>\n    </tr>\n  </thead>\n  <tbody>\n    <tr>\n      <th>35</th>\n      <td>1893–95</td>\n      <td>1893–5</td>\n    </tr>\n    <tr>\n      <th>36</th>\n      <td>ca. 1887</td>\n      <td>1884–7</td>\n    </tr>\n    <tr>\n      <th>37</th>\n      <td>ca. 1785</td>\n      <td>1782–5</td>\n    </tr>\n    <tr>\n      <th>38</th>\n      <td>ca. 1785</td>\n      <td>1782–5</td>\n    </tr>\n    <tr>\n      <th>44</th>\n      <td>ca. 1790</td>\n      <td>1787–90</td>\n    </tr>\n    <tr>\n      <th>...</th>\n      <td>...</td>\n      <td>...</td>\n    </tr>\n    <tr>\n      <th>860867</th>\n      <td>1758</td>\n      <td>1753–63</td>\n    </tr>\n    <tr>\n      <th>860868</th>\n      <td>1758</td>\n      <td>1753–63</td>\n    </tr>\n    <tr>\n      <th>860871</th>\n      <td>after 1773</td>\n      <td>1768–78</td>\n    </tr>\n    <tr>\n      <th>860872</th>\n      <td>1904</td>\n      <td>1890–1900</td>\n    </tr>\n    <tr>\n      <th>860873</th>\n      <td>1904</td>\n      <td>1890–1900</td>\n    </tr>\n  </tbody>\n</table>\n<p>328702 rows × 2 columns</p>\n</div>"
     },
     "execution_count": 82,
     "metadata": {},
     "output_type": "execute_result"
    }
   ],
   "source": [
    "# show rows where these differ\n",
    "df.loc[df['Object Date'] != df['object_date_combined']][['Object Date', 'object_date_combined']]"
   ],
   "metadata": {
    "collapsed": false
   }
  },
  {
   "cell_type": "markdown",
   "source": [
    "from the previous cell output we can see that `Object Date` is kind of random. I am talking about deleting leading digits in the end part, example:\n",
    "begin = 1755\n",
    "end = 1758\n",
    "this is represented in multiple different ways, so like\n",
    "1755-1758\n",
    "1755-58\n",
    "1755-8"
   ],
   "metadata": {
    "collapsed": false
   }
  },
  {
   "cell_type": "markdown",
   "source": [
    "there is also a problem with the `ca.`\n",
    "`ca. 1875` can mean `1872-1875`, but also `1872-1878`"
   ],
   "metadata": {
    "collapsed": false
   }
  },
  {
   "cell_type": "markdown",
   "source": [
    "there are also examples like `19th century` which is not that bad, but there are also things like `after 1885`, like what is that supposed to mean, what range after?"
   ],
   "metadata": {
    "collapsed": false
   }
  },
  {
   "cell_type": "markdown",
   "source": [
    "## 3B\n",
    "as I have already talked about in 2B, the number of `|` in all of the artist related columns should be the same, since this is used when there are multiple columns. So if the number of these is different on a row, then it could be an integrity problem, lets check"
   ],
   "metadata": {
    "collapsed": false
   }
  },
  {
   "cell_type": "code",
   "execution_count": 83,
   "outputs": [
    {
     "data": {
      "text/plain": "Index(['Object Number', 'Is Highlight', 'Is Timeline Work', 'Is Public Domain',\n       'Gallery Number', 'Department', 'AccessionYear', 'Object Name', 'Title',\n       'Culture', 'Period', 'Dynasty', 'Reign', 'Portfolio', 'Constituent ID',\n       'Artist Role', 'Artist Prefix', 'Artist Display Name',\n       'Artist Display Bio', 'Artist Suffix', 'Artist Alpha Sort',\n       'Artist Nationality', 'Artist Begin Date', 'Artist End Date',\n       'Artist Gender', 'Artist ULAN URL', 'Artist Wikidata URL',\n       'Object Date', 'Object Begin Date', 'Object End Date', 'Medium',\n       'Dimensions', 'Credit Line', 'Geography Type', 'City', 'State',\n       'County', 'Country', 'Region', 'Subregion', 'Locale', 'Locus',\n       'Excavation', 'River', 'Classification', 'Rights and Reproduction',\n       'Link Resource', 'Object Wikidata URL', 'Metadata Date', 'Repository',\n       'Tags', 'Tags AAT URL', 'Tags Wikidata URL', 'Object_name_len',\n       'object_date_combined'],\n      dtype='object')"
     },
     "execution_count": 83,
     "metadata": {},
     "output_type": "execute_result"
    }
   ],
   "source": [
    "# find out list of all artist columns\n",
    "df.columns"
   ],
   "metadata": {
    "collapsed": false
   }
  },
  {
   "cell_type": "code",
   "execution_count": 84,
   "outputs": [],
   "source": [
    "artist_columns=[\n",
    "    'Artist Role', 'Artist Prefix', 'Artist Display Name', 'Artist Display Bio', 'Artist Suffix', 'Artist Alpha Sort', 'Artist Nationality', 'Artist Begin Date', 'Artist End Date', 'Artist Gender', 'Artist ULAN URL', 'Artist Wikidata URL'\n",
    "]"
   ],
   "metadata": {
    "collapsed": false
   }
  },
  {
   "cell_type": "code",
   "execution_count": 85,
   "outputs": [],
   "source": [
    "# get number of occurrences for `|` for all artist columns\n",
    "artist_pipe_counts = {}\n",
    "for col in artist_columns:\n",
    "    artist_pipe_counts[col] = df[col].apply(lambda x: str(x).count('|'))"
   ],
   "metadata": {
    "collapsed": false
   }
  },
  {
   "cell_type": "code",
   "execution_count": 86,
   "outputs": [
    {
     "data": {
      "text/plain": "Empty DataFrame\nColumns: [Object Number, Is Highlight, Is Timeline Work, Is Public Domain, Gallery Number, Department, AccessionYear, Object Name, Title, Culture, Period, Dynasty, Reign, Portfolio, Constituent ID, Artist Role, Artist Prefix, Artist Display Name, Artist Display Bio, Artist Suffix, Artist Alpha Sort, Artist Nationality, Artist Begin Date, Artist End Date, Artist Gender, Artist ULAN URL, Artist Wikidata URL, Object Date, Object Begin Date, Object End Date, Medium, Dimensions, Credit Line, Geography Type, City, State, County, Country, Region, Subregion, Locale, Locus, Excavation, River, Classification, Rights and Reproduction, Link Resource, Object Wikidata URL, Metadata Date, Repository, Tags, Tags AAT URL, Tags Wikidata URL, Object_name_len, object_date_combined]\nIndex: []\n\n[0 rows x 55 columns]",
      "text/html": "<div>\n<style scoped>\n    .dataframe tbody tr th:only-of-type {\n        vertical-align: middle;\n    }\n\n    .dataframe tbody tr th {\n        vertical-align: top;\n    }\n\n    .dataframe thead th {\n        text-align: right;\n    }\n</style>\n<table border=\"1\" class=\"dataframe\">\n  <thead>\n    <tr style=\"text-align: right;\">\n      <th></th>\n      <th>Object Number</th>\n      <th>Is Highlight</th>\n      <th>Is Timeline Work</th>\n      <th>Is Public Domain</th>\n      <th>Gallery Number</th>\n      <th>Department</th>\n      <th>AccessionYear</th>\n      <th>Object Name</th>\n      <th>Title</th>\n      <th>Culture</th>\n      <th>...</th>\n      <th>Rights and Reproduction</th>\n      <th>Link Resource</th>\n      <th>Object Wikidata URL</th>\n      <th>Metadata Date</th>\n      <th>Repository</th>\n      <th>Tags</th>\n      <th>Tags AAT URL</th>\n      <th>Tags Wikidata URL</th>\n      <th>Object_name_len</th>\n      <th>object_date_combined</th>\n    </tr>\n    <tr>\n      <th>Object ID</th>\n      <th></th>\n      <th></th>\n      <th></th>\n      <th></th>\n      <th></th>\n      <th></th>\n      <th></th>\n      <th></th>\n      <th></th>\n      <th></th>\n      <th></th>\n      <th></th>\n      <th></th>\n      <th></th>\n      <th></th>\n      <th></th>\n      <th></th>\n      <th></th>\n      <th></th>\n      <th></th>\n      <th></th>\n    </tr>\n  </thead>\n  <tbody>\n  </tbody>\n</table>\n<p>0 rows × 55 columns</p>\n</div>"
     },
     "execution_count": 86,
     "metadata": {},
     "output_type": "execute_result"
    }
   ],
   "source": [
    "# example\n",
    "df.loc[artist_pipe_counts['Artist Role'] != artist_pipe_counts['Artist Display Name']]"
   ],
   "metadata": {
    "collapsed": false
   }
  },
  {
   "cell_type": "code",
   "execution_count": 87,
   "outputs": [],
   "source": [
    "for i in range(0, len(artist_columns)-1):\n",
    "    a = artist_columns[i]\n",
    "    b = artist_columns[i+1]\n",
    "    missmatch_count = len(df.loc[artist_pipe_counts[a] != artist_pipe_counts[b]])\n",
    "    if missmatch_count > 0:\n",
    "        print(f\"Pipe count does not match for columns `{a}` and `{b}`\")\n"
   ],
   "metadata": {
    "collapsed": false
   }
  },
  {
   "cell_type": "markdown",
   "source": [
    "Based on this we know that the count of `|` occurrences is the same for all columns, hence integrity is fine (at least in this case anyway)"
   ],
   "metadata": {
    "collapsed": false
   }
  },
  {
   "cell_type": "markdown",
   "source": [],
   "metadata": {
    "collapsed": false
   }
  },
  {
   "cell_type": "markdown",
   "source": [
    "# 4. Convert at least **five features** to a proper data type. Choose at least one numeric, one categorical and one datetime. _(1.5 points)_"
   ],
   "metadata": {
    "collapsed": false
   }
  },
  {
   "cell_type": "code",
   "execution_count": 88,
   "outputs": [
    {
     "data": {
      "text/plain": "          Object Number Gallery Number           Department AccessionYear  \\\nObject ID                                                                   \n1            1979.486.1            NaN    The American Wing        1979.0   \n2            1980.264.5            NaN    The American Wing        1980.0   \n3              67.265.9            NaN    The American Wing        1967.0   \n4             67.265.10            NaN    The American Wing        1967.0   \n5             67.265.11            NaN    The American Wing        1967.0   \n...                 ...            ...                  ...           ...   \n860869      23.112.2893            NaN  Drawings and Prints          1923   \n860870      23.112.2894            NaN  Drawings and Prints          1923   \n860871      53.600.1434            NaN  Drawings and Prints          1953   \n860872      23.112.2895            NaN  Drawings and Prints          1923   \n860873      23.112.2896            NaN  Drawings and Prints          1923   \n\n          Object Name                                              Title  \\\nObject ID                                                                  \n1                Coin                       One-dollar Liberty Head Coin   \n2                Coin                       Ten-dollar Liberty Head Coin   \n3                Coin                         Two-and-a-Half Dollar Coin   \n4                Coin                         Two-and-a-Half Dollar Coin   \n5                Coin                         Two-and-a-Half Dollar Coin   \n...               ...                                                ...   \n860869        Drawing                                     Phaeton #24567   \n860870        Drawing             Stanhope Phaeton #25538-25539 (#21222)   \n860871          Print  Forest landscape with cattle drinking, a woman...   \n860872        Drawing                           Phaeton with folding top   \n860873        Drawing                                   Stanhope Phaeton   \n\n          Culture Period Dynasty Reign  ... River Classification  \\\nObject ID                               ...                        \n1             NaN    NaN     NaN   NaN  ...   NaN            NaN   \n2             NaN    NaN     NaN   NaN  ...   NaN            NaN   \n3             NaN    NaN     NaN   NaN  ...   NaN            NaN   \n4             NaN    NaN     NaN   NaN  ...   NaN            NaN   \n5             NaN    NaN     NaN   NaN  ...   NaN            NaN   \n...           ...    ...     ...   ...  ...   ...            ...   \n860869        NaN    NaN     NaN   NaN  ...   NaN       Drawings   \n860870        NaN    NaN     NaN   NaN  ...   NaN       Drawings   \n860871        NaN    NaN     NaN   NaN  ...   NaN         Prints   \n860872        NaN    NaN     NaN   NaN  ...   NaN       Drawings   \n860873        NaN    NaN     NaN   NaN  ...   NaN       Drawings   \n\n          Rights and Reproduction  \\\nObject ID                           \n1                             NaN   \n2                             NaN   \n3                             NaN   \n4                             NaN   \n5                             NaN   \n...                           ...   \n860869                        NaN   \n860870                        NaN   \n860871                        NaN   \n860872                        NaN   \n860873                        NaN   \n\n                                               Link Resource  \\\nObject ID                                                      \n1           http://www.metmuseum.org/art/collection/search/1   \n2           http://www.metmuseum.org/art/collection/search/2   \n3           http://www.metmuseum.org/art/collection/search/3   \n4           http://www.metmuseum.org/art/collection/search/4   \n5           http://www.metmuseum.org/art/collection/search/5   \n...                                                      ...   \n860869     http://www.metmuseum.org/art/collection/search...   \n860870     http://www.metmuseum.org/art/collection/search...   \n860871     http://www.metmuseum.org/art/collection/search...   \n860872     http://www.metmuseum.org/art/collection/search...   \n860873     http://www.metmuseum.org/art/collection/search...   \n\n          Object Wikidata URL                                Repository  \\\nObject ID                                                                 \n1                         NaN  Metropolitan Museum of Art, New York, NY   \n2                         NaN  Metropolitan Museum of Art, New York, NY   \n3                         NaN  Metropolitan Museum of Art, New York, NY   \n4                         NaN  Metropolitan Museum of Art, New York, NY   \n5                         NaN  Metropolitan Museum of Art, New York, NY   \n...                       ...                                       ...   \n860869                    NaN  Metropolitan Museum of Art, New York, NY   \n860870                    NaN  Metropolitan Museum of Art, New York, NY   \n860871                    NaN  Metropolitan Museum of Art, New York, NY   \n860872                    NaN  Metropolitan Museum of Art, New York, NY   \n860873                    NaN  Metropolitan Museum of Art, New York, NY   \n\n                Tags                               Tags AAT URL  \\\nObject ID                                                         \n1                NaN                                        NaN   \n2                NaN                                        NaN   \n3                NaN                                        NaN   \n4                NaN                                        NaN   \n5                NaN                                        NaN   \n...              ...                                        ...   \n860869     Carriages  http://vocab.getty.edu/page/aat/300185335   \n860870     Carriages  http://vocab.getty.edu/page/aat/300185335   \n860871           NaN                                        NaN   \n860872     Carriages  http://vocab.getty.edu/page/aat/300185335   \n860873     Carriages  http://vocab.getty.edu/page/aat/300185335   \n\n                               Tags Wikidata URL object_date_combined  \nObject ID                                                              \n1                                            NaN                 1853  \n2                                            NaN                 1901  \n3                                            NaN              1909–27  \n4                                            NaN              1909–27  \n5                                            NaN              1909–27  \n...                                          ...                  ...  \n860869     https://www.wikidata.org/wiki/Q235356                 1904  \n860870     https://www.wikidata.org/wiki/Q235356                 1904  \n860871                                       NaN              1768–78  \n860872     https://www.wikidata.org/wiki/Q235356            1890–1900  \n860873     https://www.wikidata.org/wiki/Q235356            1890–1900  \n\n[477804 rows x 48 columns]",
      "text/html": "<div>\n<style scoped>\n    .dataframe tbody tr th:only-of-type {\n        vertical-align: middle;\n    }\n\n    .dataframe tbody tr th {\n        vertical-align: top;\n    }\n\n    .dataframe thead th {\n        text-align: right;\n    }\n</style>\n<table border=\"1\" class=\"dataframe\">\n  <thead>\n    <tr style=\"text-align: right;\">\n      <th></th>\n      <th>Object Number</th>\n      <th>Gallery Number</th>\n      <th>Department</th>\n      <th>AccessionYear</th>\n      <th>Object Name</th>\n      <th>Title</th>\n      <th>Culture</th>\n      <th>Period</th>\n      <th>Dynasty</th>\n      <th>Reign</th>\n      <th>...</th>\n      <th>River</th>\n      <th>Classification</th>\n      <th>Rights and Reproduction</th>\n      <th>Link Resource</th>\n      <th>Object Wikidata URL</th>\n      <th>Repository</th>\n      <th>Tags</th>\n      <th>Tags AAT URL</th>\n      <th>Tags Wikidata URL</th>\n      <th>object_date_combined</th>\n    </tr>\n    <tr>\n      <th>Object ID</th>\n      <th></th>\n      <th></th>\n      <th></th>\n      <th></th>\n      <th></th>\n      <th></th>\n      <th></th>\n      <th></th>\n      <th></th>\n      <th></th>\n      <th></th>\n      <th></th>\n      <th></th>\n      <th></th>\n      <th></th>\n      <th></th>\n      <th></th>\n      <th></th>\n      <th></th>\n      <th></th>\n      <th></th>\n    </tr>\n  </thead>\n  <tbody>\n    <tr>\n      <th>1</th>\n      <td>1979.486.1</td>\n      <td>NaN</td>\n      <td>The American Wing</td>\n      <td>1979.0</td>\n      <td>Coin</td>\n      <td>One-dollar Liberty Head Coin</td>\n      <td>NaN</td>\n      <td>NaN</td>\n      <td>NaN</td>\n      <td>NaN</td>\n      <td>...</td>\n      <td>NaN</td>\n      <td>NaN</td>\n      <td>NaN</td>\n      <td>http://www.metmuseum.org/art/collection/search/1</td>\n      <td>NaN</td>\n      <td>Metropolitan Museum of Art, New York, NY</td>\n      <td>NaN</td>\n      <td>NaN</td>\n      <td>NaN</td>\n      <td>1853</td>\n    </tr>\n    <tr>\n      <th>2</th>\n      <td>1980.264.5</td>\n      <td>NaN</td>\n      <td>The American Wing</td>\n      <td>1980.0</td>\n      <td>Coin</td>\n      <td>Ten-dollar Liberty Head Coin</td>\n      <td>NaN</td>\n      <td>NaN</td>\n      <td>NaN</td>\n      <td>NaN</td>\n      <td>...</td>\n      <td>NaN</td>\n      <td>NaN</td>\n      <td>NaN</td>\n      <td>http://www.metmuseum.org/art/collection/search/2</td>\n      <td>NaN</td>\n      <td>Metropolitan Museum of Art, New York, NY</td>\n      <td>NaN</td>\n      <td>NaN</td>\n      <td>NaN</td>\n      <td>1901</td>\n    </tr>\n    <tr>\n      <th>3</th>\n      <td>67.265.9</td>\n      <td>NaN</td>\n      <td>The American Wing</td>\n      <td>1967.0</td>\n      <td>Coin</td>\n      <td>Two-and-a-Half Dollar Coin</td>\n      <td>NaN</td>\n      <td>NaN</td>\n      <td>NaN</td>\n      <td>NaN</td>\n      <td>...</td>\n      <td>NaN</td>\n      <td>NaN</td>\n      <td>NaN</td>\n      <td>http://www.metmuseum.org/art/collection/search/3</td>\n      <td>NaN</td>\n      <td>Metropolitan Museum of Art, New York, NY</td>\n      <td>NaN</td>\n      <td>NaN</td>\n      <td>NaN</td>\n      <td>1909–27</td>\n    </tr>\n    <tr>\n      <th>4</th>\n      <td>67.265.10</td>\n      <td>NaN</td>\n      <td>The American Wing</td>\n      <td>1967.0</td>\n      <td>Coin</td>\n      <td>Two-and-a-Half Dollar Coin</td>\n      <td>NaN</td>\n      <td>NaN</td>\n      <td>NaN</td>\n      <td>NaN</td>\n      <td>...</td>\n      <td>NaN</td>\n      <td>NaN</td>\n      <td>NaN</td>\n      <td>http://www.metmuseum.org/art/collection/search/4</td>\n      <td>NaN</td>\n      <td>Metropolitan Museum of Art, New York, NY</td>\n      <td>NaN</td>\n      <td>NaN</td>\n      <td>NaN</td>\n      <td>1909–27</td>\n    </tr>\n    <tr>\n      <th>5</th>\n      <td>67.265.11</td>\n      <td>NaN</td>\n      <td>The American Wing</td>\n      <td>1967.0</td>\n      <td>Coin</td>\n      <td>Two-and-a-Half Dollar Coin</td>\n      <td>NaN</td>\n      <td>NaN</td>\n      <td>NaN</td>\n      <td>NaN</td>\n      <td>...</td>\n      <td>NaN</td>\n      <td>NaN</td>\n      <td>NaN</td>\n      <td>http://www.metmuseum.org/art/collection/search/5</td>\n      <td>NaN</td>\n      <td>Metropolitan Museum of Art, New York, NY</td>\n      <td>NaN</td>\n      <td>NaN</td>\n      <td>NaN</td>\n      <td>1909–27</td>\n    </tr>\n    <tr>\n      <th>...</th>\n      <td>...</td>\n      <td>...</td>\n      <td>...</td>\n      <td>...</td>\n      <td>...</td>\n      <td>...</td>\n      <td>...</td>\n      <td>...</td>\n      <td>...</td>\n      <td>...</td>\n      <td>...</td>\n      <td>...</td>\n      <td>...</td>\n      <td>...</td>\n      <td>...</td>\n      <td>...</td>\n      <td>...</td>\n      <td>...</td>\n      <td>...</td>\n      <td>...</td>\n      <td>...</td>\n    </tr>\n    <tr>\n      <th>860869</th>\n      <td>23.112.2893</td>\n      <td>NaN</td>\n      <td>Drawings and Prints</td>\n      <td>1923</td>\n      <td>Drawing</td>\n      <td>Phaeton #24567</td>\n      <td>NaN</td>\n      <td>NaN</td>\n      <td>NaN</td>\n      <td>NaN</td>\n      <td>...</td>\n      <td>NaN</td>\n      <td>Drawings</td>\n      <td>NaN</td>\n      <td>http://www.metmuseum.org/art/collection/search...</td>\n      <td>NaN</td>\n      <td>Metropolitan Museum of Art, New York, NY</td>\n      <td>Carriages</td>\n      <td>http://vocab.getty.edu/page/aat/300185335</td>\n      <td>https://www.wikidata.org/wiki/Q235356</td>\n      <td>1904</td>\n    </tr>\n    <tr>\n      <th>860870</th>\n      <td>23.112.2894</td>\n      <td>NaN</td>\n      <td>Drawings and Prints</td>\n      <td>1923</td>\n      <td>Drawing</td>\n      <td>Stanhope Phaeton #25538-25539 (#21222)</td>\n      <td>NaN</td>\n      <td>NaN</td>\n      <td>NaN</td>\n      <td>NaN</td>\n      <td>...</td>\n      <td>NaN</td>\n      <td>Drawings</td>\n      <td>NaN</td>\n      <td>http://www.metmuseum.org/art/collection/search...</td>\n      <td>NaN</td>\n      <td>Metropolitan Museum of Art, New York, NY</td>\n      <td>Carriages</td>\n      <td>http://vocab.getty.edu/page/aat/300185335</td>\n      <td>https://www.wikidata.org/wiki/Q235356</td>\n      <td>1904</td>\n    </tr>\n    <tr>\n      <th>860871</th>\n      <td>53.600.1434</td>\n      <td>NaN</td>\n      <td>Drawings and Prints</td>\n      <td>1953</td>\n      <td>Print</td>\n      <td>Forest landscape with cattle drinking, a woman...</td>\n      <td>NaN</td>\n      <td>NaN</td>\n      <td>NaN</td>\n      <td>NaN</td>\n      <td>...</td>\n      <td>NaN</td>\n      <td>Prints</td>\n      <td>NaN</td>\n      <td>http://www.metmuseum.org/art/collection/search...</td>\n      <td>NaN</td>\n      <td>Metropolitan Museum of Art, New York, NY</td>\n      <td>NaN</td>\n      <td>NaN</td>\n      <td>NaN</td>\n      <td>1768–78</td>\n    </tr>\n    <tr>\n      <th>860872</th>\n      <td>23.112.2895</td>\n      <td>NaN</td>\n      <td>Drawings and Prints</td>\n      <td>1923</td>\n      <td>Drawing</td>\n      <td>Phaeton with folding top</td>\n      <td>NaN</td>\n      <td>NaN</td>\n      <td>NaN</td>\n      <td>NaN</td>\n      <td>...</td>\n      <td>NaN</td>\n      <td>Drawings</td>\n      <td>NaN</td>\n      <td>http://www.metmuseum.org/art/collection/search...</td>\n      <td>NaN</td>\n      <td>Metropolitan Museum of Art, New York, NY</td>\n      <td>Carriages</td>\n      <td>http://vocab.getty.edu/page/aat/300185335</td>\n      <td>https://www.wikidata.org/wiki/Q235356</td>\n      <td>1890–1900</td>\n    </tr>\n    <tr>\n      <th>860873</th>\n      <td>23.112.2896</td>\n      <td>NaN</td>\n      <td>Drawings and Prints</td>\n      <td>1923</td>\n      <td>Drawing</td>\n      <td>Stanhope Phaeton</td>\n      <td>NaN</td>\n      <td>NaN</td>\n      <td>NaN</td>\n      <td>NaN</td>\n      <td>...</td>\n      <td>NaN</td>\n      <td>Drawings</td>\n      <td>NaN</td>\n      <td>http://www.metmuseum.org/art/collection/search...</td>\n      <td>NaN</td>\n      <td>Metropolitan Museum of Art, New York, NY</td>\n      <td>Carriages</td>\n      <td>http://vocab.getty.edu/page/aat/300185335</td>\n      <td>https://www.wikidata.org/wiki/Q235356</td>\n      <td>1890–1900</td>\n    </tr>\n  </tbody>\n</table>\n<p>477804 rows × 48 columns</p>\n</div>"
     },
     "execution_count": 88,
     "metadata": {},
     "output_type": "execute_result"
    }
   ],
   "source": [
    "# lets get all object type columns\n",
    "df.select_dtypes(include=['object'])"
   ],
   "metadata": {
    "collapsed": false
   }
  },
  {
   "cell_type": "markdown",
   "source": [
    "### 4a\n",
    "as far as datetime, we can choose AssentionYear. It appears to represent years only, but it still doesnt hurt to change to datetime. One of the advantage might be future comparisons"
   ],
   "metadata": {
    "collapsed": false
   }
  },
  {
   "cell_type": "code",
   "execution_count": 89,
   "outputs": [],
   "source": [
    "def convert_accession_year(inp) -> int:\n",
    "    if pd.isna(inp):\n",
    "        return inp\n",
    "        # return -1\n",
    "    if isinstance(inp, str):\n",
    "        # convert records like '2005-02-15' into 2005\n",
    "        return inp.split('-')[0]\n",
    "    return int(inp)"
   ],
   "metadata": {
    "collapsed": false
   }
  },
  {
   "cell_type": "code",
   "execution_count": 90,
   "outputs": [],
   "source": [
    "# df['AccessionYear'] = df['AccessionYear'].apply(convert_accession_year)\n",
    "# # df['AccessionYear'] = df['AccessionYear'].apply(lambda x: int(x) if pd.notna(x) else x)\n",
    "# df['AccessionYear']= pd.to_datetime(df['AccessionYear'], format='%y')\n",
    "df['AccessionYear']= pd.to_datetime(df['AccessionYear'])"
   ],
   "metadata": {
    "collapsed": false
   }
  },
  {
   "cell_type": "markdown",
   "source": [
    "### 4b,c,d\n",
    "Department seems like a good candidate for categorical data type with 19 unique values`"
   ],
   "metadata": {
    "collapsed": false
   }
  },
  {
   "cell_type": "code",
   "execution_count": 91,
   "outputs": [],
   "source": [
    "# sex_category = pd.api.types.CategoricalDtype(categories=['male','female'], ordered=False)\n",
    "# df['Department'] = df['Department'].astype(sex_category)\n",
    "df['Department'] = pd.Categorical(df['Department'])"
   ],
   "metadata": {
    "collapsed": false
   }
  },
  {
   "cell_type": "markdown",
   "source": [
    "these also look like good candinates\n",
    "```\n",
    "Dynasty,403\n",
    "Reign,389\n",
    "```"
   ],
   "metadata": {
    "collapsed": false
   }
  },
  {
   "cell_type": "code",
   "execution_count": 92,
   "outputs": [],
   "source": [
    "df['Dynasty'] = pd.Categorical(df['Dynasty'])\n",
    "df['Reign'] = pd.Categorical(df['Reign'])"
   ],
   "metadata": {
    "collapsed": false
   }
  },
  {
   "cell_type": "markdown",
   "source": [
    "If I would do the already mentioned cleaning for `Object Name`, then it would also be a good candidate for Categorical data type, but it is definitely not in the current state."
   ],
   "metadata": {
    "collapsed": false
   }
  },
  {
   "cell_type": "markdown",
   "source": [
    "### 4e\n",
    "as for the numerical data type, I am currently thinking `Constituent ID`, lets try it"
   ],
   "metadata": {
    "collapsed": false
   }
  },
  {
   "cell_type": "code",
   "execution_count": 93,
   "outputs": [
    {
     "name": "stdout",
     "output_type": "stream",
     "text": [
      "Integer out of range. at position 389\n"
     ]
    }
   ],
   "source": [
    "try:\n",
    "    df['Constituent ID']= pd.to_numeric(df['Constituent ID'])\n",
    "except Exception as e:\n",
    "    print(e)"
   ],
   "metadata": {
    "collapsed": false
   }
  },
  {
   "cell_type": "markdown",
   "source": [
    "Oh, the IDs dont fit into 64bit integer, never mind, lets take a look at smth else.\n",
    "Maybe `Galery Number`, somebody could consider it as a categorical data type, but I thinking about it more as an ID."
   ],
   "metadata": {
    "collapsed": false
   }
  },
  {
   "cell_type": "code",
   "execution_count": 94,
   "outputs": [
    {
     "data": {
      "text/plain": "                Object Number  Is Highlight  Is Timeline Work  \\\nObject ID                                                       \n1                  1979.486.1         False             False   \n33                      64.62         False             False   \n35                    04.1a–c          True              True   \n42                    60.58.1         False             False   \n62                   22.120.1         False             False   \n...                       ...           ...               ...   \n854924             2021.326.1         False             False   \n855358           2021.323a, b         False             False   \n855857     F128.9.N3 H35 1925          True             False   \n855895             48.101.91h         False             False   \n857709             74.51.6718         False             False   \n\n           Is Public Domain  Gallery Number           Department  \\\nObject ID                                                          \n1                     False             NaN    The American Wing   \n33                    False             774    The American Wing   \n35                    False             706    The American Wing   \n42                     True             724    The American Wing   \n62                     True             741    The American Wing   \n...                     ...             ...                  ...   \n854924                False             253            Asian Art   \n855358                False             207            Asian Art   \n855857                False  Watson Library        The Libraries   \n855895                 True             453          Islamic Art   \n857709                 True             171  Greek and Roman Art   \n\n                          AccessionYear                  Object Name  \\\nObject ID                                                              \n1         1970-01-01 00:00:00.000001979                         Coin   \n33        1970-01-01 00:00:00.000001964                         Bust   \n35        1970-01-01 00:00:00.000001904                         Vase   \n42        1970-01-01 00:00:00.000001960                      Andiron   \n62        1970-01-01 00:00:00.000001922                      Andiron   \n...                                 ...                          ...   \n854924    2021-01-01 00:00:00.000000000                       Tangka   \n855358    2021-01-01 00:00:00.000000000  Hexagonal vessel with cover   \n855857                              NaT                          NaN   \n855895    1948-01-01 00:00:00.000000000           Beads and pendants   \n857709    1874-01-01 00:00:00.000000000                        Askos   \n\n                                                       Title        Culture  \\\nObject ID                                                                     \n1                               One-dollar Liberty Head Coin            NaN   \n33                                   Bust of Abraham Lincoln       American   \n35                                            The Adams Vase       American   \n42                                                   Andiron       American   \n62                                                   Andiron            NaN   \n...                                                      ...            ...   \n854924                                                   NaN  Central Tibet   \n855358     손대현 주칠빙렬무늬 함|孫大鉉　八角牡丹文　器 |Hexagonal vessel wit...          Korea   \n855857     Survey Graphic. Volume LIII, No. 11, March 1 1...            NaN   \n855895                                    Beads and Pendants            NaN   \n857709          Terracotta askos in the shape of a quadruped        Cypriot   \n\n           ... Rights and Reproduction  \\\nObject ID  ...                           \n1          ...                     NaN   \n33         ...                     NaN   \n35         ...                     NaN   \n42         ...                     NaN   \n62         ...                     NaN   \n...        ...                     ...   \n854924     ...                     NaN   \n855358     ...          © Sohn Daehyun   \n855857     ...                     NaN   \n855895     ...                     NaN   \n857709     ...                     NaN   \n\n                                               Link Resource  \\\nObject ID                                                      \n1           http://www.metmuseum.org/art/collection/search/1   \n33         http://www.metmuseum.org/art/collection/search/33   \n35         http://www.metmuseum.org/art/collection/search/35   \n42         http://www.metmuseum.org/art/collection/search/42   \n62         http://www.metmuseum.org/art/collection/search/62   \n...                                                      ...   \n854924     http://www.metmuseum.org/art/collection/search...   \n855358     http://www.metmuseum.org/art/collection/search...   \n855857     http://www.metmuseum.org/art/collection/search...   \n855895     http://www.metmuseum.org/art/collection/search...   \n857709     http://www.metmuseum.org/art/collection/search...   \n\n                               Object Wikidata URL Metadata Date  \\\nObject ID                                                          \n1                                              NaN           NaN   \n33                                             NaN           NaN   \n35         https://www.wikidata.org/wiki/Q83545838           NaN   \n42                                             NaN           NaN   \n62                                             NaN           NaN   \n...                                            ...           ...   \n854924                                         NaN           NaN   \n855358                                         NaN           NaN   \n855857                                         NaN           NaN   \n855895                                         NaN           NaN   \n857709                                         NaN           NaN   \n\n                                         Repository  \\\nObject ID                                             \n1          Metropolitan Museum of Art, New York, NY   \n33         Metropolitan Museum of Art, New York, NY   \n35         Metropolitan Museum of Art, New York, NY   \n42         Metropolitan Museum of Art, New York, NY   \n62         Metropolitan Museum of Art, New York, NY   \n...                                             ...   \n854924     Metropolitan Museum of Art, New York, NY   \n855358     Metropolitan Museum of Art, New York, NY   \n855857     Metropolitan Museum of Art, New York, NY   \n855895     Metropolitan Museum of Art, New York, NY   \n857709     Metropolitan Museum of Art, New York, NY   \n\n                                    Tags  \\\nObject ID                                  \n1                                    NaN   \n33         Men|Abraham Lincoln|Portraits   \n35            Animals|Garlands|Birds|Men   \n42                                   NaN   \n62                                   NaN   \n...                                  ...   \n854924                               NaN   \n855358                               NaN   \n855857                               NaN   \n855895                               NaN   \n857709                               NaN   \n\n                                                Tags AAT URL  \\\nObject ID                                                      \n1                                                        NaN   \n33         http://vocab.getty.edu/page/aat/300025928|http...   \n35         http://vocab.getty.edu/page/aat/300249525|http...   \n42                                                       NaN   \n62                                                       NaN   \n...                                                      ...   \n854924                                                   NaN   \n855358                                                   NaN   \n855857                                                   NaN   \n855895                                                   NaN   \n857709                                                   NaN   \n\n                                           Tags Wikidata URL Object_name_len  \\\nObject ID                                                                      \n1                                                        NaN             4.0   \n33         https://www.wikidata.org/wiki/Q8441|https://ww...             4.0   \n35         https://www.wikidata.org/wiki/Q729|https://www...             4.0   \n42                                                       NaN             7.0   \n62                                                       NaN             7.0   \n...                                                      ...             ...   \n854924                                                   NaN             6.0   \n855358                                                   NaN            27.0   \n855857                                                   NaN             NaN   \n855895                                                   NaN            18.0   \n857709                                                   NaN             5.0   \n\n          object_date_combined  \nObject ID                       \n1                         1853  \n33                        1876  \n35                      1893–5  \n42                   1795–1810  \n62                   1797–1800  \n...                        ...  \n854924               1600–1799  \n855358                    2018  \n855857                    1925  \n855895                700–1299  \n857709             -2000–-1725  \n\n[610 rows x 55 columns]",
      "text/html": "<div>\n<style scoped>\n    .dataframe tbody tr th:only-of-type {\n        vertical-align: middle;\n    }\n\n    .dataframe tbody tr th {\n        vertical-align: top;\n    }\n\n    .dataframe thead th {\n        text-align: right;\n    }\n</style>\n<table border=\"1\" class=\"dataframe\">\n  <thead>\n    <tr style=\"text-align: right;\">\n      <th></th>\n      <th>Object Number</th>\n      <th>Is Highlight</th>\n      <th>Is Timeline Work</th>\n      <th>Is Public Domain</th>\n      <th>Gallery Number</th>\n      <th>Department</th>\n      <th>AccessionYear</th>\n      <th>Object Name</th>\n      <th>Title</th>\n      <th>Culture</th>\n      <th>...</th>\n      <th>Rights and Reproduction</th>\n      <th>Link Resource</th>\n      <th>Object Wikidata URL</th>\n      <th>Metadata Date</th>\n      <th>Repository</th>\n      <th>Tags</th>\n      <th>Tags AAT URL</th>\n      <th>Tags Wikidata URL</th>\n      <th>Object_name_len</th>\n      <th>object_date_combined</th>\n    </tr>\n    <tr>\n      <th>Object ID</th>\n      <th></th>\n      <th></th>\n      <th></th>\n      <th></th>\n      <th></th>\n      <th></th>\n      <th></th>\n      <th></th>\n      <th></th>\n      <th></th>\n      <th></th>\n      <th></th>\n      <th></th>\n      <th></th>\n      <th></th>\n      <th></th>\n      <th></th>\n      <th></th>\n      <th></th>\n      <th></th>\n      <th></th>\n    </tr>\n  </thead>\n  <tbody>\n    <tr>\n      <th>1</th>\n      <td>1979.486.1</td>\n      <td>False</td>\n      <td>False</td>\n      <td>False</td>\n      <td>NaN</td>\n      <td>The American Wing</td>\n      <td>1970-01-01 00:00:00.000001979</td>\n      <td>Coin</td>\n      <td>One-dollar Liberty Head Coin</td>\n      <td>NaN</td>\n      <td>...</td>\n      <td>NaN</td>\n      <td>http://www.metmuseum.org/art/collection/search/1</td>\n      <td>NaN</td>\n      <td>NaN</td>\n      <td>Metropolitan Museum of Art, New York, NY</td>\n      <td>NaN</td>\n      <td>NaN</td>\n      <td>NaN</td>\n      <td>4.0</td>\n      <td>1853</td>\n    </tr>\n    <tr>\n      <th>33</th>\n      <td>64.62</td>\n      <td>False</td>\n      <td>False</td>\n      <td>False</td>\n      <td>774</td>\n      <td>The American Wing</td>\n      <td>1970-01-01 00:00:00.000001964</td>\n      <td>Bust</td>\n      <td>Bust of Abraham Lincoln</td>\n      <td>American</td>\n      <td>...</td>\n      <td>NaN</td>\n      <td>http://www.metmuseum.org/art/collection/search/33</td>\n      <td>NaN</td>\n      <td>NaN</td>\n      <td>Metropolitan Museum of Art, New York, NY</td>\n      <td>Men|Abraham Lincoln|Portraits</td>\n      <td>http://vocab.getty.edu/page/aat/300025928|http...</td>\n      <td>https://www.wikidata.org/wiki/Q8441|https://ww...</td>\n      <td>4.0</td>\n      <td>1876</td>\n    </tr>\n    <tr>\n      <th>35</th>\n      <td>04.1a–c</td>\n      <td>True</td>\n      <td>True</td>\n      <td>False</td>\n      <td>706</td>\n      <td>The American Wing</td>\n      <td>1970-01-01 00:00:00.000001904</td>\n      <td>Vase</td>\n      <td>The Adams Vase</td>\n      <td>American</td>\n      <td>...</td>\n      <td>NaN</td>\n      <td>http://www.metmuseum.org/art/collection/search/35</td>\n      <td>https://www.wikidata.org/wiki/Q83545838</td>\n      <td>NaN</td>\n      <td>Metropolitan Museum of Art, New York, NY</td>\n      <td>Animals|Garlands|Birds|Men</td>\n      <td>http://vocab.getty.edu/page/aat/300249525|http...</td>\n      <td>https://www.wikidata.org/wiki/Q729|https://www...</td>\n      <td>4.0</td>\n      <td>1893–5</td>\n    </tr>\n    <tr>\n      <th>42</th>\n      <td>60.58.1</td>\n      <td>False</td>\n      <td>False</td>\n      <td>True</td>\n      <td>724</td>\n      <td>The American Wing</td>\n      <td>1970-01-01 00:00:00.000001960</td>\n      <td>Andiron</td>\n      <td>Andiron</td>\n      <td>American</td>\n      <td>...</td>\n      <td>NaN</td>\n      <td>http://www.metmuseum.org/art/collection/search/42</td>\n      <td>NaN</td>\n      <td>NaN</td>\n      <td>Metropolitan Museum of Art, New York, NY</td>\n      <td>NaN</td>\n      <td>NaN</td>\n      <td>NaN</td>\n      <td>7.0</td>\n      <td>1795–1810</td>\n    </tr>\n    <tr>\n      <th>62</th>\n      <td>22.120.1</td>\n      <td>False</td>\n      <td>False</td>\n      <td>True</td>\n      <td>741</td>\n      <td>The American Wing</td>\n      <td>1970-01-01 00:00:00.000001922</td>\n      <td>Andiron</td>\n      <td>Andiron</td>\n      <td>NaN</td>\n      <td>...</td>\n      <td>NaN</td>\n      <td>http://www.metmuseum.org/art/collection/search/62</td>\n      <td>NaN</td>\n      <td>NaN</td>\n      <td>Metropolitan Museum of Art, New York, NY</td>\n      <td>NaN</td>\n      <td>NaN</td>\n      <td>NaN</td>\n      <td>7.0</td>\n      <td>1797–1800</td>\n    </tr>\n    <tr>\n      <th>...</th>\n      <td>...</td>\n      <td>...</td>\n      <td>...</td>\n      <td>...</td>\n      <td>...</td>\n      <td>...</td>\n      <td>...</td>\n      <td>...</td>\n      <td>...</td>\n      <td>...</td>\n      <td>...</td>\n      <td>...</td>\n      <td>...</td>\n      <td>...</td>\n      <td>...</td>\n      <td>...</td>\n      <td>...</td>\n      <td>...</td>\n      <td>...</td>\n      <td>...</td>\n      <td>...</td>\n    </tr>\n    <tr>\n      <th>854924</th>\n      <td>2021.326.1</td>\n      <td>False</td>\n      <td>False</td>\n      <td>False</td>\n      <td>253</td>\n      <td>Asian Art</td>\n      <td>2021-01-01 00:00:00.000000000</td>\n      <td>Tangka</td>\n      <td>NaN</td>\n      <td>Central Tibet</td>\n      <td>...</td>\n      <td>NaN</td>\n      <td>http://www.metmuseum.org/art/collection/search...</td>\n      <td>NaN</td>\n      <td>NaN</td>\n      <td>Metropolitan Museum of Art, New York, NY</td>\n      <td>NaN</td>\n      <td>NaN</td>\n      <td>NaN</td>\n      <td>6.0</td>\n      <td>1600–1799</td>\n    </tr>\n    <tr>\n      <th>855358</th>\n      <td>2021.323a, b</td>\n      <td>False</td>\n      <td>False</td>\n      <td>False</td>\n      <td>207</td>\n      <td>Asian Art</td>\n      <td>2021-01-01 00:00:00.000000000</td>\n      <td>Hexagonal vessel with cover</td>\n      <td>손대현 주칠빙렬무늬 함|孫大鉉　八角牡丹文　器 |Hexagonal vessel wit...</td>\n      <td>Korea</td>\n      <td>...</td>\n      <td>© Sohn Daehyun</td>\n      <td>http://www.metmuseum.org/art/collection/search...</td>\n      <td>NaN</td>\n      <td>NaN</td>\n      <td>Metropolitan Museum of Art, New York, NY</td>\n      <td>NaN</td>\n      <td>NaN</td>\n      <td>NaN</td>\n      <td>27.0</td>\n      <td>2018</td>\n    </tr>\n    <tr>\n      <th>855857</th>\n      <td>F128.9.N3 H35 1925</td>\n      <td>True</td>\n      <td>False</td>\n      <td>False</td>\n      <td>Watson Library</td>\n      <td>The Libraries</td>\n      <td>NaT</td>\n      <td>NaN</td>\n      <td>Survey Graphic. Volume LIII, No. 11, March 1 1...</td>\n      <td>NaN</td>\n      <td>...</td>\n      <td>NaN</td>\n      <td>http://www.metmuseum.org/art/collection/search...</td>\n      <td>NaN</td>\n      <td>NaN</td>\n      <td>Metropolitan Museum of Art, New York, NY</td>\n      <td>NaN</td>\n      <td>NaN</td>\n      <td>NaN</td>\n      <td>NaN</td>\n      <td>1925</td>\n    </tr>\n    <tr>\n      <th>855895</th>\n      <td>48.101.91h</td>\n      <td>False</td>\n      <td>False</td>\n      <td>True</td>\n      <td>453</td>\n      <td>Islamic Art</td>\n      <td>1948-01-01 00:00:00.000000000</td>\n      <td>Beads and pendants</td>\n      <td>Beads and Pendants</td>\n      <td>NaN</td>\n      <td>...</td>\n      <td>NaN</td>\n      <td>http://www.metmuseum.org/art/collection/search...</td>\n      <td>NaN</td>\n      <td>NaN</td>\n      <td>Metropolitan Museum of Art, New York, NY</td>\n      <td>NaN</td>\n      <td>NaN</td>\n      <td>NaN</td>\n      <td>18.0</td>\n      <td>700–1299</td>\n    </tr>\n    <tr>\n      <th>857709</th>\n      <td>74.51.6718</td>\n      <td>False</td>\n      <td>False</td>\n      <td>True</td>\n      <td>171</td>\n      <td>Greek and Roman Art</td>\n      <td>1874-01-01 00:00:00.000000000</td>\n      <td>Askos</td>\n      <td>Terracotta askos in the shape of a quadruped</td>\n      <td>Cypriot</td>\n      <td>...</td>\n      <td>NaN</td>\n      <td>http://www.metmuseum.org/art/collection/search...</td>\n      <td>NaN</td>\n      <td>NaN</td>\n      <td>Metropolitan Museum of Art, New York, NY</td>\n      <td>NaN</td>\n      <td>NaN</td>\n      <td>NaN</td>\n      <td>5.0</td>\n      <td>-2000–-1725</td>\n    </tr>\n  </tbody>\n</table>\n<p>610 rows × 55 columns</p>\n</div>"
     },
     "execution_count": 94,
     "metadata": {},
     "output_type": "execute_result"
    }
   ],
   "source": [
    "# let's 1st take a look at the data\n",
    "df.drop_duplicates(subset=['Gallery Number'])"
   ],
   "metadata": {
    "collapsed": false
   }
  },
  {
   "cell_type": "markdown",
   "source": [
    "as far as all of the float values go, all of those have `0` as the decimal value, so those can be safely converted to int.\n",
    "However, there are some string values as well, since those are not duplicated, lets just replace them with NaN."
   ],
   "metadata": {
    "collapsed": false
   }
  },
  {
   "cell_type": "code",
   "execution_count": 95,
   "outputs": [],
   "source": [
    "# https://stackoverflow.com/questions/53668421/replace-a-string-value-with-nan-in-pandas-data-frame-python\n",
    "df['Gallery Number']= pd.to_numeric(df['Gallery Number'], errors='coerce')\n"
   ],
   "metadata": {
    "collapsed": false
   }
  },
  {
   "cell_type": "markdown",
   "source": [
    "# 5. Find some outliers and describe your method. _(3 points, depends on creativity)_"
   ],
   "metadata": {
    "collapsed": false
   }
  },
  {
   "cell_type": "markdown",
   "source": [
    "### 5.1\n",
    "I already found a few outliers in 4e. There were 4 rows which had Galery Number as String, which I would consider very outliery"
   ],
   "metadata": {
    "collapsed": false
   }
  },
  {
   "cell_type": "markdown",
   "source": [
    "### 5.2\n"
   ],
   "metadata": {
    "collapsed": false
   }
  },
  {
   "cell_type": "code",
   "execution_count": 96,
   "outputs": [
    {
     "data": {
      "text/plain": "          Object Number  Is Highlight  Is Timeline Work  Is Public Domain  \\\nObject ID                                                                   \n1            1979.486.1         False             False             False   \n2            1980.264.5         False             False             False   \n3              67.265.9         False             False             False   \n4             67.265.10         False             False             False   \n5             67.265.11         False             False             False   \n\n           Gallery Number         Department                 AccessionYear  \\\nObject ID                                                                    \n1                     NaN  The American Wing 1970-01-01 00:00:00.000001979   \n2                     NaN  The American Wing 1970-01-01 00:00:00.000001980   \n3                     NaN  The American Wing 1970-01-01 00:00:00.000001967   \n4                     NaN  The American Wing 1970-01-01 00:00:00.000001967   \n5                     NaN  The American Wing 1970-01-01 00:00:00.000001967   \n\n          Object Name                         Title Culture  ...  \\\nObject ID                                                    ...   \n1                Coin  One-dollar Liberty Head Coin     NaN  ...   \n2                Coin  Ten-dollar Liberty Head Coin     NaN  ...   \n3                Coin    Two-and-a-Half Dollar Coin     NaN  ...   \n4                Coin    Two-and-a-Half Dollar Coin     NaN  ...   \n5                Coin    Two-and-a-Half Dollar Coin     NaN  ...   \n\n          Rights and Reproduction  \\\nObject ID                           \n1                             NaN   \n2                             NaN   \n3                             NaN   \n4                             NaN   \n5                             NaN   \n\n                                              Link Resource  \\\nObject ID                                                     \n1          http://www.metmuseum.org/art/collection/search/1   \n2          http://www.metmuseum.org/art/collection/search/2   \n3          http://www.metmuseum.org/art/collection/search/3   \n4          http://www.metmuseum.org/art/collection/search/4   \n5          http://www.metmuseum.org/art/collection/search/5   \n\n          Object Wikidata URL Metadata Date  \\\nObject ID                                     \n1                         NaN           NaN   \n2                         NaN           NaN   \n3                         NaN           NaN   \n4                         NaN           NaN   \n5                         NaN           NaN   \n\n                                         Repository Tags Tags AAT URL  \\\nObject ID                                                               \n1          Metropolitan Museum of Art, New York, NY  NaN          NaN   \n2          Metropolitan Museum of Art, New York, NY  NaN          NaN   \n3          Metropolitan Museum of Art, New York, NY  NaN          NaN   \n4          Metropolitan Museum of Art, New York, NY  NaN          NaN   \n5          Metropolitan Museum of Art, New York, NY  NaN          NaN   \n\n          Tags Wikidata URL Object_name_len object_date_combined  \nObject ID                                                         \n1                       NaN             4.0                 1853  \n2                       NaN             4.0                 1901  \n3                       NaN             4.0              1909–27  \n4                       NaN             4.0              1909–27  \n5                       NaN             4.0              1909–27  \n\n[5 rows x 55 columns]",
      "text/html": "<div>\n<style scoped>\n    .dataframe tbody tr th:only-of-type {\n        vertical-align: middle;\n    }\n\n    .dataframe tbody tr th {\n        vertical-align: top;\n    }\n\n    .dataframe thead th {\n        text-align: right;\n    }\n</style>\n<table border=\"1\" class=\"dataframe\">\n  <thead>\n    <tr style=\"text-align: right;\">\n      <th></th>\n      <th>Object Number</th>\n      <th>Is Highlight</th>\n      <th>Is Timeline Work</th>\n      <th>Is Public Domain</th>\n      <th>Gallery Number</th>\n      <th>Department</th>\n      <th>AccessionYear</th>\n      <th>Object Name</th>\n      <th>Title</th>\n      <th>Culture</th>\n      <th>...</th>\n      <th>Rights and Reproduction</th>\n      <th>Link Resource</th>\n      <th>Object Wikidata URL</th>\n      <th>Metadata Date</th>\n      <th>Repository</th>\n      <th>Tags</th>\n      <th>Tags AAT URL</th>\n      <th>Tags Wikidata URL</th>\n      <th>Object_name_len</th>\n      <th>object_date_combined</th>\n    </tr>\n    <tr>\n      <th>Object ID</th>\n      <th></th>\n      <th></th>\n      <th></th>\n      <th></th>\n      <th></th>\n      <th></th>\n      <th></th>\n      <th></th>\n      <th></th>\n      <th></th>\n      <th></th>\n      <th></th>\n      <th></th>\n      <th></th>\n      <th></th>\n      <th></th>\n      <th></th>\n      <th></th>\n      <th></th>\n      <th></th>\n      <th></th>\n    </tr>\n  </thead>\n  <tbody>\n    <tr>\n      <th>1</th>\n      <td>1979.486.1</td>\n      <td>False</td>\n      <td>False</td>\n      <td>False</td>\n      <td>NaN</td>\n      <td>The American Wing</td>\n      <td>1970-01-01 00:00:00.000001979</td>\n      <td>Coin</td>\n      <td>One-dollar Liberty Head Coin</td>\n      <td>NaN</td>\n      <td>...</td>\n      <td>NaN</td>\n      <td>http://www.metmuseum.org/art/collection/search/1</td>\n      <td>NaN</td>\n      <td>NaN</td>\n      <td>Metropolitan Museum of Art, New York, NY</td>\n      <td>NaN</td>\n      <td>NaN</td>\n      <td>NaN</td>\n      <td>4.0</td>\n      <td>1853</td>\n    </tr>\n    <tr>\n      <th>2</th>\n      <td>1980.264.5</td>\n      <td>False</td>\n      <td>False</td>\n      <td>False</td>\n      <td>NaN</td>\n      <td>The American Wing</td>\n      <td>1970-01-01 00:00:00.000001980</td>\n      <td>Coin</td>\n      <td>Ten-dollar Liberty Head Coin</td>\n      <td>NaN</td>\n      <td>...</td>\n      <td>NaN</td>\n      <td>http://www.metmuseum.org/art/collection/search/2</td>\n      <td>NaN</td>\n      <td>NaN</td>\n      <td>Metropolitan Museum of Art, New York, NY</td>\n      <td>NaN</td>\n      <td>NaN</td>\n      <td>NaN</td>\n      <td>4.0</td>\n      <td>1901</td>\n    </tr>\n    <tr>\n      <th>3</th>\n      <td>67.265.9</td>\n      <td>False</td>\n      <td>False</td>\n      <td>False</td>\n      <td>NaN</td>\n      <td>The American Wing</td>\n      <td>1970-01-01 00:00:00.000001967</td>\n      <td>Coin</td>\n      <td>Two-and-a-Half Dollar Coin</td>\n      <td>NaN</td>\n      <td>...</td>\n      <td>NaN</td>\n      <td>http://www.metmuseum.org/art/collection/search/3</td>\n      <td>NaN</td>\n      <td>NaN</td>\n      <td>Metropolitan Museum of Art, New York, NY</td>\n      <td>NaN</td>\n      <td>NaN</td>\n      <td>NaN</td>\n      <td>4.0</td>\n      <td>1909–27</td>\n    </tr>\n    <tr>\n      <th>4</th>\n      <td>67.265.10</td>\n      <td>False</td>\n      <td>False</td>\n      <td>False</td>\n      <td>NaN</td>\n      <td>The American Wing</td>\n      <td>1970-01-01 00:00:00.000001967</td>\n      <td>Coin</td>\n      <td>Two-and-a-Half Dollar Coin</td>\n      <td>NaN</td>\n      <td>...</td>\n      <td>NaN</td>\n      <td>http://www.metmuseum.org/art/collection/search/4</td>\n      <td>NaN</td>\n      <td>NaN</td>\n      <td>Metropolitan Museum of Art, New York, NY</td>\n      <td>NaN</td>\n      <td>NaN</td>\n      <td>NaN</td>\n      <td>4.0</td>\n      <td>1909–27</td>\n    </tr>\n    <tr>\n      <th>5</th>\n      <td>67.265.11</td>\n      <td>False</td>\n      <td>False</td>\n      <td>False</td>\n      <td>NaN</td>\n      <td>The American Wing</td>\n      <td>1970-01-01 00:00:00.000001967</td>\n      <td>Coin</td>\n      <td>Two-and-a-Half Dollar Coin</td>\n      <td>NaN</td>\n      <td>...</td>\n      <td>NaN</td>\n      <td>http://www.metmuseum.org/art/collection/search/5</td>\n      <td>NaN</td>\n      <td>NaN</td>\n      <td>Metropolitan Museum of Art, New York, NY</td>\n      <td>NaN</td>\n      <td>NaN</td>\n      <td>NaN</td>\n      <td>4.0</td>\n      <td>1909–27</td>\n    </tr>\n  </tbody>\n</table>\n<p>5 rows × 55 columns</p>\n</div>"
     },
     "execution_count": 96,
     "metadata": {},
     "output_type": "execute_result"
    }
   ],
   "source": [
    "df.head()"
   ],
   "metadata": {
    "collapsed": false
   }
  },
  {
   "cell_type": "markdown",
   "source": [
    "There is only a few numerical/date columns, which makes this more difficult"
   ],
   "metadata": {
    "collapsed": false
   }
  },
  {
   "cell_type": "code",
   "execution_count": 97,
   "outputs": [
    {
     "data": {
      "text/plain": "<AxesSubplot: >"
     },
     "execution_count": 97,
     "metadata": {},
     "output_type": "execute_result"
    },
    {
     "data": {
      "text/plain": "<Figure size 640x480 with 1 Axes>",
      "image/png": "[encoded data removed]"
     },
     "metadata": {},
     "output_type": "display_data"
    }
   ],
   "source": [
    "# sns.boxplot(data=df['Object Begin Date'])\n",
    "# df.boxplot(column=['Object_name_len'])\n",
    "df.boxplot(column=['Object Begin Date'])\n",
    "# sns.boxplot(data=df.Object_name_len)"
   ],
   "metadata": {
    "collapsed": false
   }
  },
  {
   "cell_type": "markdown",
   "source": [
    "In this case it would not be good to mark all of `<25` and `>75` quantile rows as outliers, since this is not a gaussian distribution, but more as a exponential one or skewed poisson distribution. Based on the graph lets mark all values `<-5000` as outliers"
   ],
   "metadata": {
    "collapsed": false
   }
  },
  {
   "cell_type": "code",
   "execution_count": 98,
   "outputs": [
    {
     "data": {
      "text/plain": "            Object Number  Is Highlight  Is Timeline Work  Is Public Domain  \\\nObject ID                                                                     \n22143      12.37.110–.119         False             False             False   \n22144      12.37.100–.109         False             False             False   \n25608             08.99.1         False             False              True   \n44392         1994.605.92         False             False              True   \n44395         1994.605.95         False             False              True   \n...                   ...           ...               ...               ...   \n717707           08.99.11         False             False              True   \n717708           08.99.12         False             False              True   \n717729            08.99.9         False             False              True   \n782059        74.51.3839a         False             False             False   \n832566           2019.422         False             False              True   \n\n           Gallery Number           Department                 AccessionYear  \\\nObject ID                                                                      \n22143                 NaN       Arms and Armor 1970-01-01 00:00:00.000001912   \n22144                 NaN       Arms and Armor 1970-01-01 00:00:00.000001912   \n25608                 NaN       Arms and Armor 1970-01-01 00:00:00.000001908   \n44392                 NaN            Asian Art 1970-01-01 00:00:00.000001994   \n44395                 NaN            Asian Art 1970-01-01 00:00:00.000001994   \n...                   ...                  ...                           ...   \n717707                NaN       Arms and Armor 1970-01-01 00:00:00.000001908   \n717708                NaN       Arms and Armor 1970-01-01 00:00:00.000001908   \n717729                NaN       Arms and Armor 1970-01-01 00:00:00.000001908   \n782059                NaN  Greek and Roman Art 1970-01-01 00:00:00.000001874   \n832566                NaN       Arms and Armor 1970-01-01 00:00:00.000001999   \n\n                          Object Name                       Title  \\\nObject ID                                                           \n22143      Ten spearheads and sinkers  Ten Spearheads and Sinkers   \n22144      Ten spearheads and sinkers  Ten Spearheads and Sinkers   \n25608                       Arrowhead                   Arrowhead   \n44392                          Figure                         NaN   \n44395                     Belt buckle                         NaN   \n...                               ...                         ...   \n717707                      Arrowhead                   Arrowhead   \n717708                      Arrowhead                   Arrowhead   \n717729                      Arrowhead                   Arrowhead   \n782059       Earring-loop type, plain    Earring-loop type, plain   \n832566                         Biface                      Biface   \n\n                               Culture  ... Rights and Reproduction  \\\nObject ID                               ...                           \n22143                         Japanese  ...                     NaN   \n22144                         Japanese  ...                     NaN   \n25608      European, Italian peninsula  ...                     NaN   \n44392                            China  ...                     NaN   \n44395                            China  ...                     NaN   \n...                                ...  ...                     ...   \n717707     European, Italian peninsula  ...                     NaN   \n717708     European, Italian peninsula  ...                     NaN   \n717729     European, Italian peninsula  ...                     NaN   \n782059                             NaN  ...                     NaN   \n832566                       Acheulean  ...                     NaN   \n\n                                               Link Resource  \\\nObject ID                                                      \n22143      http://www.metmuseum.org/art/collection/search...   \n22144      http://www.metmuseum.org/art/collection/search...   \n25608      http://www.metmuseum.org/art/collection/search...   \n44392      http://www.metmuseum.org/art/collection/search...   \n44395      http://www.metmuseum.org/art/collection/search...   \n...                                                      ...   \n717707     http://www.metmuseum.org/art/collection/search...   \n717708     http://www.metmuseum.org/art/collection/search...   \n717729     http://www.metmuseum.org/art/collection/search...   \n782059     http://www.metmuseum.org/art/collection/search...   \n832566     http://www.metmuseum.org/art/collection/search...   \n\n          Object Wikidata URL Metadata Date  \\\nObject ID                                     \n22143                     NaN           NaN   \n22144                     NaN           NaN   \n25608                     NaN           NaN   \n44392                     NaN           NaN   \n44395                     NaN           NaN   \n...                       ...           ...   \n717707                    NaN           NaN   \n717708                    NaN           NaN   \n717729                    NaN           NaN   \n782059                    NaN           NaN   \n832566                    NaN           NaN   \n\n                                         Repository                   Tags  \\\nObject ID                                                                    \n22143      Metropolitan Museum of Art, New York, NY                    NaN   \n22144      Metropolitan Museum of Art, New York, NY                    NaN   \n25608      Metropolitan Museum of Art, New York, NY                    NaN   \n44392      Metropolitan Museum of Art, New York, NY  Human Figures|Farmers   \n44395      Metropolitan Museum of Art, New York, NY                    NaN   \n...                                             ...                    ...   \n717707     Metropolitan Museum of Art, New York, NY                    NaN   \n717708     Metropolitan Museum of Art, New York, NY                    NaN   \n717729     Metropolitan Museum of Art, New York, NY                    NaN   \n782059     Metropolitan Museum of Art, New York, NY                    NaN   \n832566     Metropolitan Museum of Art, New York, NY                    NaN   \n\n                                                Tags AAT URL  \\\nObject ID                                                      \n22143                                                    NaN   \n22144                                                    NaN   \n25608                                                    NaN   \n44392      http://vocab.getty.edu/page/aat/300404114|http...   \n44395                                                    NaN   \n...                                                      ...   \n717707                                                   NaN   \n717708                                                   NaN   \n717729                                                   NaN   \n782059                                                   NaN   \n832566                                                   NaN   \n\n                                           Tags Wikidata URL Object_name_len  \\\nObject ID                                                                      \n22143                                                    NaN            26.0   \n22144                                                    NaN            26.0   \n25608                                                    NaN             9.0   \n44392      https://www.wikidata.org/wiki/Q5937779|https:/...             6.0   \n44395                                                    NaN            11.0   \n...                                                      ...             ...   \n717707                                                   NaN             9.0   \n717708                                                   NaN             9.0   \n717729                                                   NaN             9.0   \n782059                                                   NaN            24.0   \n832566                                                   NaN             6.0   \n\n          object_date_combined  \nObject ID                       \n22143              -12500–-300  \n22144              -12500–-300  \n25608             -10025–-4975  \n44392              -10000–1644  \n44395              -10000–1644  \n...                        ...  \n717707            -10025–-4975  \n717708            -10025–-4975  \n717729            -10025–-4975  \n782059               -7000–330  \n832566         -300050–-125000  \n\n[1776 rows x 55 columns]",
      "text/html": "<div>\n<style scoped>\n    .dataframe tbody tr th:only-of-type {\n        vertical-align: middle;\n    }\n\n    .dataframe tbody tr th {\n        vertical-align: top;\n    }\n\n    .dataframe thead th {\n        text-align: right;\n    }\n</style>\n<table border=\"1\" class=\"dataframe\">\n  <thead>\n    <tr style=\"text-align: right;\">\n      <th></th>\n      <th>Object Number</th>\n      <th>Is Highlight</th>\n      <th>Is Timeline Work</th>\n      <th>Is Public Domain</th>\n      <th>Gallery Number</th>\n      <th>Department</th>\n      <th>AccessionYear</th>\n      <th>Object Name</th>\n      <th>Title</th>\n      <th>Culture</th>\n      <th>...</th>\n      <th>Rights and Reproduction</th>\n      <th>Link Resource</th>\n      <th>Object Wikidata URL</th>\n      <th>Metadata Date</th>\n      <th>Repository</th>\n      <th>Tags</th>\n      <th>Tags AAT URL</th>\n      <th>Tags Wikidata URL</th>\n      <th>Object_name_len</th>\n      <th>object_date_combined</th>\n    </tr>\n    <tr>\n      <th>Object ID</th>\n      <th></th>\n      <th></th>\n      <th></th>\n      <th></th>\n      <th></th>\n      <th></th>\n      <th></th>\n      <th></th>\n      <th></th>\n      <th></th>\n      <th></th>\n      <th></th>\n      <th></th>\n      <th></th>\n      <th></th>\n      <th></th>\n      <th></th>\n      <th></th>\n      <th></th>\n      <th></th>\n      <th></th>\n    </tr>\n  </thead>\n  <tbody>\n    <tr>\n      <th>22143</th>\n      <td>12.37.110–.119</td>\n      <td>False</td>\n      <td>False</td>\n      <td>False</td>\n      <td>NaN</td>\n      <td>Arms and Armor</td>\n      <td>1970-01-01 00:00:00.000001912</td>\n      <td>Ten spearheads and sinkers</td>\n      <td>Ten Spearheads and Sinkers</td>\n      <td>Japanese</td>\n      <td>...</td>\n      <td>NaN</td>\n      <td>http://www.metmuseum.org/art/collection/search...</td>\n      <td>NaN</td>\n      <td>NaN</td>\n      <td>Metropolitan Museum of Art, New York, NY</td>\n      <td>NaN</td>\n      <td>NaN</td>\n      <td>NaN</td>\n      <td>26.0</td>\n      <td>-12500–-300</td>\n    </tr>\n    <tr>\n      <th>22144</th>\n      <td>12.37.100–.109</td>\n      <td>False</td>\n      <td>False</td>\n      <td>False</td>\n      <td>NaN</td>\n      <td>Arms and Armor</td>\n      <td>1970-01-01 00:00:00.000001912</td>\n      <td>Ten spearheads and sinkers</td>\n      <td>Ten Spearheads and Sinkers</td>\n      <td>Japanese</td>\n      <td>...</td>\n      <td>NaN</td>\n      <td>http://www.metmuseum.org/art/collection/search...</td>\n      <td>NaN</td>\n      <td>NaN</td>\n      <td>Metropolitan Museum of Art, New York, NY</td>\n      <td>NaN</td>\n      <td>NaN</td>\n      <td>NaN</td>\n      <td>26.0</td>\n      <td>-12500–-300</td>\n    </tr>\n    <tr>\n      <th>25608</th>\n      <td>08.99.1</td>\n      <td>False</td>\n      <td>False</td>\n      <td>True</td>\n      <td>NaN</td>\n      <td>Arms and Armor</td>\n      <td>1970-01-01 00:00:00.000001908</td>\n      <td>Arrowhead</td>\n      <td>Arrowhead</td>\n      <td>European, Italian peninsula</td>\n      <td>...</td>\n      <td>NaN</td>\n      <td>http://www.metmuseum.org/art/collection/search...</td>\n      <td>NaN</td>\n      <td>NaN</td>\n      <td>Metropolitan Museum of Art, New York, NY</td>\n      <td>NaN</td>\n      <td>NaN</td>\n      <td>NaN</td>\n      <td>9.0</td>\n      <td>-10025–-4975</td>\n    </tr>\n    <tr>\n      <th>44392</th>\n      <td>1994.605.92</td>\n      <td>False</td>\n      <td>False</td>\n      <td>True</td>\n      <td>NaN</td>\n      <td>Asian Art</td>\n      <td>1970-01-01 00:00:00.000001994</td>\n      <td>Figure</td>\n      <td>NaN</td>\n      <td>China</td>\n      <td>...</td>\n      <td>NaN</td>\n      <td>http://www.metmuseum.org/art/collection/search...</td>\n      <td>NaN</td>\n      <td>NaN</td>\n      <td>Metropolitan Museum of Art, New York, NY</td>\n      <td>Human Figures|Farmers</td>\n      <td>http://vocab.getty.edu/page/aat/300404114|http...</td>\n      <td>https://www.wikidata.org/wiki/Q5937779|https:/...</td>\n      <td>6.0</td>\n      <td>-10000–1644</td>\n    </tr>\n    <tr>\n      <th>44395</th>\n      <td>1994.605.95</td>\n      <td>False</td>\n      <td>False</td>\n      <td>True</td>\n      <td>NaN</td>\n      <td>Asian Art</td>\n      <td>1970-01-01 00:00:00.000001994</td>\n      <td>Belt buckle</td>\n      <td>NaN</td>\n      <td>China</td>\n      <td>...</td>\n      <td>NaN</td>\n      <td>http://www.metmuseum.org/art/collection/search...</td>\n      <td>NaN</td>\n      <td>NaN</td>\n      <td>Metropolitan Museum of Art, New York, NY</td>\n      <td>NaN</td>\n      <td>NaN</td>\n      <td>NaN</td>\n      <td>11.0</td>\n      <td>-10000–1644</td>\n    </tr>\n    <tr>\n      <th>...</th>\n      <td>...</td>\n      <td>...</td>\n      <td>...</td>\n      <td>...</td>\n      <td>...</td>\n      <td>...</td>\n      <td>...</td>\n      <td>...</td>\n      <td>...</td>\n      <td>...</td>\n      <td>...</td>\n      <td>...</td>\n      <td>...</td>\n      <td>...</td>\n      <td>...</td>\n      <td>...</td>\n      <td>...</td>\n      <td>...</td>\n      <td>...</td>\n      <td>...</td>\n      <td>...</td>\n    </tr>\n    <tr>\n      <th>717707</th>\n      <td>08.99.11</td>\n      <td>False</td>\n      <td>False</td>\n      <td>True</td>\n      <td>NaN</td>\n      <td>Arms and Armor</td>\n      <td>1970-01-01 00:00:00.000001908</td>\n      <td>Arrowhead</td>\n      <td>Arrowhead</td>\n      <td>European, Italian peninsula</td>\n      <td>...</td>\n      <td>NaN</td>\n      <td>http://www.metmuseum.org/art/collection/search...</td>\n      <td>NaN</td>\n      <td>NaN</td>\n      <td>Metropolitan Museum of Art, New York, NY</td>\n      <td>NaN</td>\n      <td>NaN</td>\n      <td>NaN</td>\n      <td>9.0</td>\n      <td>-10025–-4975</td>\n    </tr>\n    <tr>\n      <th>717708</th>\n      <td>08.99.12</td>\n      <td>False</td>\n      <td>False</td>\n      <td>True</td>\n      <td>NaN</td>\n      <td>Arms and Armor</td>\n      <td>1970-01-01 00:00:00.000001908</td>\n      <td>Arrowhead</td>\n      <td>Arrowhead</td>\n      <td>European, Italian peninsula</td>\n      <td>...</td>\n      <td>NaN</td>\n      <td>http://www.metmuseum.org/art/collection/search...</td>\n      <td>NaN</td>\n      <td>NaN</td>\n      <td>Metropolitan Museum of Art, New York, NY</td>\n      <td>NaN</td>\n      <td>NaN</td>\n      <td>NaN</td>\n      <td>9.0</td>\n      <td>-10025–-4975</td>\n    </tr>\n    <tr>\n      <th>717729</th>\n      <td>08.99.9</td>\n      <td>False</td>\n      <td>False</td>\n      <td>True</td>\n      <td>NaN</td>\n      <td>Arms and Armor</td>\n      <td>1970-01-01 00:00:00.000001908</td>\n      <td>Arrowhead</td>\n      <td>Arrowhead</td>\n      <td>European, Italian peninsula</td>\n      <td>...</td>\n      <td>NaN</td>\n      <td>http://www.metmuseum.org/art/collection/search...</td>\n      <td>NaN</td>\n      <td>NaN</td>\n      <td>Metropolitan Museum of Art, New York, NY</td>\n      <td>NaN</td>\n      <td>NaN</td>\n      <td>NaN</td>\n      <td>9.0</td>\n      <td>-10025–-4975</td>\n    </tr>\n    <tr>\n      <th>782059</th>\n      <td>74.51.3839a</td>\n      <td>False</td>\n      <td>False</td>\n      <td>False</td>\n      <td>NaN</td>\n      <td>Greek and Roman Art</td>\n      <td>1970-01-01 00:00:00.000001874</td>\n      <td>Earring-loop type, plain</td>\n      <td>Earring-loop type, plain</td>\n      <td>NaN</td>\n      <td>...</td>\n      <td>NaN</td>\n      <td>http://www.metmuseum.org/art/collection/search...</td>\n      <td>NaN</td>\n      <td>NaN</td>\n      <td>Metropolitan Museum of Art, New York, NY</td>\n      <td>NaN</td>\n      <td>NaN</td>\n      <td>NaN</td>\n      <td>24.0</td>\n      <td>-7000–330</td>\n    </tr>\n    <tr>\n      <th>832566</th>\n      <td>2019.422</td>\n      <td>False</td>\n      <td>False</td>\n      <td>True</td>\n      <td>NaN</td>\n      <td>Arms and Armor</td>\n      <td>1970-01-01 00:00:00.000001999</td>\n      <td>Biface</td>\n      <td>Biface</td>\n      <td>Acheulean</td>\n      <td>...</td>\n      <td>NaN</td>\n      <td>http://www.metmuseum.org/art/collection/search...</td>\n      <td>NaN</td>\n      <td>NaN</td>\n      <td>Metropolitan Museum of Art, New York, NY</td>\n      <td>NaN</td>\n      <td>NaN</td>\n      <td>NaN</td>\n      <td>6.0</td>\n      <td>-300050–-125000</td>\n    </tr>\n  </tbody>\n</table>\n<p>1776 rows × 55 columns</p>\n</div>"
     },
     "execution_count": 98,
     "metadata": {},
     "output_type": "execute_result"
    }
   ],
   "source": [
    "# Q3 = df.quantile(0.75)\n",
    "# df['Object Begin Date'] > Q3['Object Begin Date']\n",
    "df.loc[df['Object Begin Date'] < -5000]"
   ],
   "metadata": {
    "collapsed": false
   }
  },
  {
   "cell_type": "code",
   "execution_count": 99,
   "outputs": [
    {
     "data": {
      "text/plain": "<seaborn.axisgrid.JointGrid at 0x33ebc8c40>"
     },
     "execution_count": 99,
     "metadata": {},
     "output_type": "execute_result"
    },
    {
     "data": {
      "text/plain": "<Figure size 600x600 with 3 Axes>",
      "image/png": "[encoded data removed]"
     },
     "metadata": {},
     "output_type": "display_data"
    }
   ],
   "source": [
    "# plot of `Object Begin Date` and `Object End Date`\n",
    "sns.jointplot(x='Object Begin Date', y='Object End Date', data = df)\n",
    "# nothing out of ordinary"
   ],
   "metadata": {
    "collapsed": false
   }
  },
  {
   "cell_type": "markdown",
   "source": [
    "I only looked at the lower bound for the dates, I wonder what is going on, with the upper bound as well, lets check againts the current year (2022)"
   ],
   "metadata": {
    "collapsed": false
   }
  },
  {
   "cell_type": "code",
   "execution_count": 100,
   "outputs": [
    {
     "data": {
      "text/plain": "          Object Number  Is Highlight  Is Timeline Work  Is Public Domain  \\\nObject ID                                                                   \n502176        89.4.1612         False             False              True   \n502410        89.4.1811         False             False             False   \n\n           Gallery Number           Department                 AccessionYear  \\\nObject ID                                                                      \n502176                NaN  Musical Instruments 1970-01-01 00:00:00.000001889   \n502410                NaN  Musical Instruments 1970-01-01 00:00:00.000001889   \n\n          Object Name Title                  Culture  ...  \\\nObject ID                                             ...   \n502176           Bell  Bell  Italian (Ancient Roman)  ...   \n502410           Bell  Bell  Italian (Ancient Roman)  ...   \n\n          Rights and Reproduction  \\\nObject ID                           \n502176                        NaN   \n502410                        NaN   \n\n                                               Link Resource  \\\nObject ID                                                      \n502176     http://www.metmuseum.org/art/collection/search...   \n502410     http://www.metmuseum.org/art/collection/search...   \n\n          Object Wikidata URL Metadata Date  \\\nObject ID                                     \n502176                    NaN           NaN   \n502410                    NaN           NaN   \n\n                                         Repository Tags Tags AAT URL  \\\nObject ID                                                               \n502176     Metropolitan Museum of Art, New York, NY  NaN          NaN   \n502410     Metropolitan Museum of Art, New York, NY  NaN          NaN   \n\n          Tags Wikidata URL Object_name_len object_date_combined  \nObject ID                                                         \n502176                  NaN             4.0               5000–1  \n502410                  NaN             4.0               5000–0  \n\n[2 rows x 55 columns]",
      "text/html": "<div>\n<style scoped>\n    .dataframe tbody tr th:only-of-type {\n        vertical-align: middle;\n    }\n\n    .dataframe tbody tr th {\n        vertical-align: top;\n    }\n\n    .dataframe thead th {\n        text-align: right;\n    }\n</style>\n<table border=\"1\" class=\"dataframe\">\n  <thead>\n    <tr style=\"text-align: right;\">\n      <th></th>\n      <th>Object Number</th>\n      <th>Is Highlight</th>\n      <th>Is Timeline Work</th>\n      <th>Is Public Domain</th>\n      <th>Gallery Number</th>\n      <th>Department</th>\n      <th>AccessionYear</th>\n      <th>Object Name</th>\n      <th>Title</th>\n      <th>Culture</th>\n      <th>...</th>\n      <th>Rights and Reproduction</th>\n      <th>Link Resource</th>\n      <th>Object Wikidata URL</th>\n      <th>Metadata Date</th>\n      <th>Repository</th>\n      <th>Tags</th>\n      <th>Tags AAT URL</th>\n      <th>Tags Wikidata URL</th>\n      <th>Object_name_len</th>\n      <th>object_date_combined</th>\n    </tr>\n    <tr>\n      <th>Object ID</th>\n      <th></th>\n      <th></th>\n      <th></th>\n      <th></th>\n      <th></th>\n      <th></th>\n      <th></th>\n      <th></th>\n      <th></th>\n      <th></th>\n      <th></th>\n      <th></th>\n      <th></th>\n      <th></th>\n      <th></th>\n      <th></th>\n      <th></th>\n      <th></th>\n      <th></th>\n      <th></th>\n      <th></th>\n    </tr>\n  </thead>\n  <tbody>\n    <tr>\n      <th>502176</th>\n      <td>89.4.1612</td>\n      <td>False</td>\n      <td>False</td>\n      <td>True</td>\n      <td>NaN</td>\n      <td>Musical Instruments</td>\n      <td>1970-01-01 00:00:00.000001889</td>\n      <td>Bell</td>\n      <td>Bell</td>\n      <td>Italian (Ancient Roman)</td>\n      <td>...</td>\n      <td>NaN</td>\n      <td>http://www.metmuseum.org/art/collection/search...</td>\n      <td>NaN</td>\n      <td>NaN</td>\n      <td>Metropolitan Museum of Art, New York, NY</td>\n      <td>NaN</td>\n      <td>NaN</td>\n      <td>NaN</td>\n      <td>4.0</td>\n      <td>5000–1</td>\n    </tr>\n    <tr>\n      <th>502410</th>\n      <td>89.4.1811</td>\n      <td>False</td>\n      <td>False</td>\n      <td>False</td>\n      <td>NaN</td>\n      <td>Musical Instruments</td>\n      <td>1970-01-01 00:00:00.000001889</td>\n      <td>Bell</td>\n      <td>Bell</td>\n      <td>Italian (Ancient Roman)</td>\n      <td>...</td>\n      <td>NaN</td>\n      <td>http://www.metmuseum.org/art/collection/search...</td>\n      <td>NaN</td>\n      <td>NaN</td>\n      <td>Metropolitan Museum of Art, New York, NY</td>\n      <td>NaN</td>\n      <td>NaN</td>\n      <td>NaN</td>\n      <td>4.0</td>\n      <td>5000–0</td>\n    </tr>\n  </tbody>\n</table>\n<p>2 rows × 55 columns</p>\n</div>"
     },
     "execution_count": 100,
     "metadata": {},
     "output_type": "execute_result"
    }
   ],
   "source": [
    "df.loc[df['Object Begin Date'] > 2022]"
   ],
   "metadata": {
    "collapsed": false
   }
  },
  {
   "cell_type": "markdown",
   "source": [
    "`Object Begin Date` == 5000? definetly outlier"
   ],
   "metadata": {
    "collapsed": false
   }
  },
  {
   "cell_type": "code",
   "execution_count": 101,
   "outputs": [
    {
     "data": {
      "text/plain": "          Object Number  Is Highlight  Is Timeline Work  Is Public Domain  \\\nObject ID                                                                   \n49818        1998.488.2         False             False              True   \n188903          04.9.19         False             False              True   \n317192      1999.47.327         False             False             False   \n317193      1999.47.328         False             False             False   \n317194      1999.47.329         False             False             False   \n...                 ...           ...               ...               ...   \n772746      2019.290.13         False             False             False   \n811201       2018.566.1         False             False             False   \n811202       2018.566.2         False             False             False   \n811203       2018.566.3         False             False             False   \n840171          2021.32         False             False             False   \n\n           Gallery Number                                 Department  \\\nObject ID                                                              \n49818                 NaN                                  Asian Art   \n188903                NaN     European Sculpture and Decorative Arts   \n317192                NaN  Arts of Africa, Oceania, and the Americas   \n317193                NaN  Arts of Africa, Oceania, and the Americas   \n317194                NaN  Arts of Africa, Oceania, and the Americas   \n...                   ...                                        ...   \n772746                NaN                                  Asian Art   \n811201                NaN                                Islamic Art   \n811202                NaN                                Islamic Art   \n811203                NaN                                Islamic Art   \n840171                NaN                                Islamic Art   \n\n                          AccessionYear            Object Name  \\\nObject ID                                                        \n49818     1970-01-01 00:00:00.000001998         Frieze section   \n188903    1970-01-01 00:00:00.000001904                   Bowl   \n317192    1970-01-01 00:00:00.000001999           Ear ornament   \n317193    1970-01-01 00:00:00.000001999           Ear ornament   \n317194    1970-01-01 00:00:00.000001999                  Skirt   \n...                                 ...                    ...   \n772746    1970-01-01 00:00:00.000002019  Framed hanging scroll   \n811201    1970-01-01 00:00:00.000002018             Photograph   \n811202    1970-01-01 00:00:00.000002018             Photograph   \n811203    1970-01-01 00:00:00.000002018             Photograph   \n840171    1970-01-01 00:00:00.000002021                Textile   \n\n                                                       Title  \\\nObject ID                                                      \n49818                                                    NaN   \n188903     Wide-rimmed bowl with Vulcan Forging Arms with...   \n317192                              Ear or Sideburn Ornament   \n317193                              Ear or Sideburn Ornament   \n317194                        Woman's Shell and Beaded Skirt   \n...                                                      ...   \n772746                                                   NaN   \n811201                       Indigo Extraction 1, Tamil Nadu   \n811202                       Indigo Extraction 4, Tamil Nadu   \n811203                       Indigo Extraction 3, Tamil Nadu   \n840171     Textile Length with Seated Deer and Floral Blo...   \n\n                            Culture  ... Rights and Reproduction  \\\nObject ID                            ...                           \n49818                         India  ...                     NaN   \n188903     Italian, probably Urbino  ...                     NaN   \n317192          Shuar or Achuar (?)  ...                     NaN   \n317193          Shuar or Achuar (?)  ...                     NaN   \n317194          Shuar or Achuar (?)  ...                     NaN   \n...                             ...  ...                     ...   \n772746                        China  ...                     NaN   \n811201                          NaN  ...         © Briana Blasko   \n811202                          NaN  ...         © Briana Blasko   \n811203                          NaN  ...         © Briana Blasko   \n840171                          NaN  ...                     NaN   \n\n                                               Link Resource  \\\nObject ID                                                      \n49818      http://www.metmuseum.org/art/collection/search...   \n188903     http://www.metmuseum.org/art/collection/search...   \n317192     http://www.metmuseum.org/art/collection/search...   \n317193     http://www.metmuseum.org/art/collection/search...   \n317194     http://www.metmuseum.org/art/collection/search...   \n...                                                      ...   \n772746     http://www.metmuseum.org/art/collection/search...   \n811201     http://www.metmuseum.org/art/collection/search...   \n811202     http://www.metmuseum.org/art/collection/search...   \n811203     http://www.metmuseum.org/art/collection/search...   \n840171     http://www.metmuseum.org/art/collection/search...   \n\n          Object Wikidata URL Metadata Date  \\\nObject ID                                     \n49818                     NaN           NaN   \n188903                    NaN           NaN   \n317192                    NaN           NaN   \n317193                    NaN           NaN   \n317194                    NaN           NaN   \n...                       ...           ...   \n772746                    NaN           NaN   \n811201                    NaN           NaN   \n811202                    NaN           NaN   \n811203                    NaN           NaN   \n840171                    NaN           NaN   \n\n                                         Repository                Tags  \\\nObject ID                                                                 \n49818      Metropolitan Museum of Art, New York, NY                 NaN   \n188903     Metropolitan Museum of Art, New York, NY  Cupid|Venus|Vulcan   \n317192     Metropolitan Museum of Art, New York, NY                 NaN   \n317193     Metropolitan Museum of Art, New York, NY                 NaN   \n317194     Metropolitan Museum of Art, New York, NY                 NaN   \n...                                             ...                 ...   \n772746     Metropolitan Museum of Art, New York, NY                 NaN   \n811201     Metropolitan Museum of Art, New York, NY                 NaN   \n811202     Metropolitan Museum of Art, New York, NY                 NaN   \n811203     Metropolitan Museum of Art, New York, NY                 NaN   \n840171     Metropolitan Museum of Art, New York, NY                 NaN   \n\n                                                Tags AAT URL  \\\nObject ID                                                      \n49818                                                    NaN   \n188903     http://vocab.getty.edu/page/aat/300380105|http...   \n317192                                                   NaN   \n317193                                                   NaN   \n317194                                                   NaN   \n...                                                      ...   \n772746                                                   NaN   \n811201                                                   NaN   \n811202                                                   NaN   \n811203                                                   NaN   \n840171                                                   NaN   \n\n                                           Tags Wikidata URL Object_name_len  \\\nObject ID                                                                      \n49818                                                    NaN            14.0   \n188903     https://www.wikidata.org/wiki/Q5011|https://ww...             4.0   \n317192                                                   NaN            12.0   \n317193                                                   NaN            12.0   \n317194                                                   NaN             5.0   \n...                                                      ...             ...   \n772746                                                   NaN            21.0   \n811201                                                   NaN            10.0   \n811202                                                   NaN            10.0   \n811203                                                   NaN            10.0   \n840171                                                   NaN             7.0   \n\n          object_date_combined  \nObject ID                       \n49818                1950–2099  \n188903                1523–335  \n317192               1875–2025  \n317193               1875–2025  \n317194               1875–2025  \n...                        ...  \n772746               1929–2029  \n811201               1985–2035  \n811202               1985–2035  \n811203               1985–2035  \n840171               1994–2044  \n\n[238 rows x 55 columns]",
      "text/html": "<div>\n<style scoped>\n    .dataframe tbody tr th:only-of-type {\n        vertical-align: middle;\n    }\n\n    .dataframe tbody tr th {\n        vertical-align: top;\n    }\n\n    .dataframe thead th {\n        text-align: right;\n    }\n</style>\n<table border=\"1\" class=\"dataframe\">\n  <thead>\n    <tr style=\"text-align: right;\">\n      <th></th>\n      <th>Object Number</th>\n      <th>Is Highlight</th>\n      <th>Is Timeline Work</th>\n      <th>Is Public Domain</th>\n      <th>Gallery Number</th>\n      <th>Department</th>\n      <th>AccessionYear</th>\n      <th>Object Name</th>\n      <th>Title</th>\n      <th>Culture</th>\n      <th>...</th>\n      <th>Rights and Reproduction</th>\n      <th>Link Resource</th>\n      <th>Object Wikidata URL</th>\n      <th>Metadata Date</th>\n      <th>Repository</th>\n      <th>Tags</th>\n      <th>Tags AAT URL</th>\n      <th>Tags Wikidata URL</th>\n      <th>Object_name_len</th>\n      <th>object_date_combined</th>\n    </tr>\n    <tr>\n      <th>Object ID</th>\n      <th></th>\n      <th></th>\n      <th></th>\n      <th></th>\n      <th></th>\n      <th></th>\n      <th></th>\n      <th></th>\n      <th></th>\n      <th></th>\n      <th></th>\n      <th></th>\n      <th></th>\n      <th></th>\n      <th></th>\n      <th></th>\n      <th></th>\n      <th></th>\n      <th></th>\n      <th></th>\n      <th></th>\n    </tr>\n  </thead>\n  <tbody>\n    <tr>\n      <th>49818</th>\n      <td>1998.488.2</td>\n      <td>False</td>\n      <td>False</td>\n      <td>True</td>\n      <td>NaN</td>\n      <td>Asian Art</td>\n      <td>1970-01-01 00:00:00.000001998</td>\n      <td>Frieze section</td>\n      <td>NaN</td>\n      <td>India</td>\n      <td>...</td>\n      <td>NaN</td>\n      <td>http://www.metmuseum.org/art/collection/search...</td>\n      <td>NaN</td>\n      <td>NaN</td>\n      <td>Metropolitan Museum of Art, New York, NY</td>\n      <td>NaN</td>\n      <td>NaN</td>\n      <td>NaN</td>\n      <td>14.0</td>\n      <td>1950–2099</td>\n    </tr>\n    <tr>\n      <th>188903</th>\n      <td>04.9.19</td>\n      <td>False</td>\n      <td>False</td>\n      <td>True</td>\n      <td>NaN</td>\n      <td>European Sculpture and Decorative Arts</td>\n      <td>1970-01-01 00:00:00.000001904</td>\n      <td>Bowl</td>\n      <td>Wide-rimmed bowl with Vulcan Forging Arms with...</td>\n      <td>Italian, probably Urbino</td>\n      <td>...</td>\n      <td>NaN</td>\n      <td>http://www.metmuseum.org/art/collection/search...</td>\n      <td>NaN</td>\n      <td>NaN</td>\n      <td>Metropolitan Museum of Art, New York, NY</td>\n      <td>Cupid|Venus|Vulcan</td>\n      <td>http://vocab.getty.edu/page/aat/300380105|http...</td>\n      <td>https://www.wikidata.org/wiki/Q5011|https://ww...</td>\n      <td>4.0</td>\n      <td>1523–335</td>\n    </tr>\n    <tr>\n      <th>317192</th>\n      <td>1999.47.327</td>\n      <td>False</td>\n      <td>False</td>\n      <td>False</td>\n      <td>NaN</td>\n      <td>Arts of Africa, Oceania, and the Americas</td>\n      <td>1970-01-01 00:00:00.000001999</td>\n      <td>Ear ornament</td>\n      <td>Ear or Sideburn Ornament</td>\n      <td>Shuar or Achuar (?)</td>\n      <td>...</td>\n      <td>NaN</td>\n      <td>http://www.metmuseum.org/art/collection/search...</td>\n      <td>NaN</td>\n      <td>NaN</td>\n      <td>Metropolitan Museum of Art, New York, NY</td>\n      <td>NaN</td>\n      <td>NaN</td>\n      <td>NaN</td>\n      <td>12.0</td>\n      <td>1875–2025</td>\n    </tr>\n    <tr>\n      <th>317193</th>\n      <td>1999.47.328</td>\n      <td>False</td>\n      <td>False</td>\n      <td>False</td>\n      <td>NaN</td>\n      <td>Arts of Africa, Oceania, and the Americas</td>\n      <td>1970-01-01 00:00:00.000001999</td>\n      <td>Ear ornament</td>\n      <td>Ear or Sideburn Ornament</td>\n      <td>Shuar or Achuar (?)</td>\n      <td>...</td>\n      <td>NaN</td>\n      <td>http://www.metmuseum.org/art/collection/search...</td>\n      <td>NaN</td>\n      <td>NaN</td>\n      <td>Metropolitan Museum of Art, New York, NY</td>\n      <td>NaN</td>\n      <td>NaN</td>\n      <td>NaN</td>\n      <td>12.0</td>\n      <td>1875–2025</td>\n    </tr>\n    <tr>\n      <th>317194</th>\n      <td>1999.47.329</td>\n      <td>False</td>\n      <td>False</td>\n      <td>False</td>\n      <td>NaN</td>\n      <td>Arts of Africa, Oceania, and the Americas</td>\n      <td>1970-01-01 00:00:00.000001999</td>\n      <td>Skirt</td>\n      <td>Woman's Shell and Beaded Skirt</td>\n      <td>Shuar or Achuar (?)</td>\n      <td>...</td>\n      <td>NaN</td>\n      <td>http://www.metmuseum.org/art/collection/search...</td>\n      <td>NaN</td>\n      <td>NaN</td>\n      <td>Metropolitan Museum of Art, New York, NY</td>\n      <td>NaN</td>\n      <td>NaN</td>\n      <td>NaN</td>\n      <td>5.0</td>\n      <td>1875–2025</td>\n    </tr>\n    <tr>\n      <th>...</th>\n      <td>...</td>\n      <td>...</td>\n      <td>...</td>\n      <td>...</td>\n      <td>...</td>\n      <td>...</td>\n      <td>...</td>\n      <td>...</td>\n      <td>...</td>\n      <td>...</td>\n      <td>...</td>\n      <td>...</td>\n      <td>...</td>\n      <td>...</td>\n      <td>...</td>\n      <td>...</td>\n      <td>...</td>\n      <td>...</td>\n      <td>...</td>\n      <td>...</td>\n      <td>...</td>\n    </tr>\n    <tr>\n      <th>772746</th>\n      <td>2019.290.13</td>\n      <td>False</td>\n      <td>False</td>\n      <td>False</td>\n      <td>NaN</td>\n      <td>Asian Art</td>\n      <td>1970-01-01 00:00:00.000002019</td>\n      <td>Framed hanging scroll</td>\n      <td>NaN</td>\n      <td>China</td>\n      <td>...</td>\n      <td>NaN</td>\n      <td>http://www.metmuseum.org/art/collection/search...</td>\n      <td>NaN</td>\n      <td>NaN</td>\n      <td>Metropolitan Museum of Art, New York, NY</td>\n      <td>NaN</td>\n      <td>NaN</td>\n      <td>NaN</td>\n      <td>21.0</td>\n      <td>1929–2029</td>\n    </tr>\n    <tr>\n      <th>811201</th>\n      <td>2018.566.1</td>\n      <td>False</td>\n      <td>False</td>\n      <td>False</td>\n      <td>NaN</td>\n      <td>Islamic Art</td>\n      <td>1970-01-01 00:00:00.000002018</td>\n      <td>Photograph</td>\n      <td>Indigo Extraction 1, Tamil Nadu</td>\n      <td>NaN</td>\n      <td>...</td>\n      <td>© Briana Blasko</td>\n      <td>http://www.metmuseum.org/art/collection/search...</td>\n      <td>NaN</td>\n      <td>NaN</td>\n      <td>Metropolitan Museum of Art, New York, NY</td>\n      <td>NaN</td>\n      <td>NaN</td>\n      <td>NaN</td>\n      <td>10.0</td>\n      <td>1985–2035</td>\n    </tr>\n    <tr>\n      <th>811202</th>\n      <td>2018.566.2</td>\n      <td>False</td>\n      <td>False</td>\n      <td>False</td>\n      <td>NaN</td>\n      <td>Islamic Art</td>\n      <td>1970-01-01 00:00:00.000002018</td>\n      <td>Photograph</td>\n      <td>Indigo Extraction 4, Tamil Nadu</td>\n      <td>NaN</td>\n      <td>...</td>\n      <td>© Briana Blasko</td>\n      <td>http://www.metmuseum.org/art/collection/search...</td>\n      <td>NaN</td>\n      <td>NaN</td>\n      <td>Metropolitan Museum of Art, New York, NY</td>\n      <td>NaN</td>\n      <td>NaN</td>\n      <td>NaN</td>\n      <td>10.0</td>\n      <td>1985–2035</td>\n    </tr>\n    <tr>\n      <th>811203</th>\n      <td>2018.566.3</td>\n      <td>False</td>\n      <td>False</td>\n      <td>False</td>\n      <td>NaN</td>\n      <td>Islamic Art</td>\n      <td>1970-01-01 00:00:00.000002018</td>\n      <td>Photograph</td>\n      <td>Indigo Extraction 3, Tamil Nadu</td>\n      <td>NaN</td>\n      <td>...</td>\n      <td>© Briana Blasko</td>\n      <td>http://www.metmuseum.org/art/collection/search...</td>\n      <td>NaN</td>\n      <td>NaN</td>\n      <td>Metropolitan Museum of Art, New York, NY</td>\n      <td>NaN</td>\n      <td>NaN</td>\n      <td>NaN</td>\n      <td>10.0</td>\n      <td>1985–2035</td>\n    </tr>\n    <tr>\n      <th>840171</th>\n      <td>2021.32</td>\n      <td>False</td>\n      <td>False</td>\n      <td>False</td>\n      <td>NaN</td>\n      <td>Islamic Art</td>\n      <td>1970-01-01 00:00:00.000002021</td>\n      <td>Textile</td>\n      <td>Textile Length with Seated Deer and Floral Blo...</td>\n      <td>NaN</td>\n      <td>...</td>\n      <td>NaN</td>\n      <td>http://www.metmuseum.org/art/collection/search...</td>\n      <td>NaN</td>\n      <td>NaN</td>\n      <td>Metropolitan Museum of Art, New York, NY</td>\n      <td>NaN</td>\n      <td>NaN</td>\n      <td>NaN</td>\n      <td>7.0</td>\n      <td>1994–2044</td>\n    </tr>\n  </tbody>\n</table>\n<p>238 rows × 55 columns</p>\n</div>"
     },
     "execution_count": 101,
     "metadata": {},
     "output_type": "execute_result"
    }
   ],
   "source": [
    "df.loc[df['Object End Date'] > 2022]"
   ],
   "metadata": {
    "collapsed": false
   }
  },
  {
   "cell_type": "markdown",
   "source": [
    "We dont know exactly what `Object End Date` exactly means, but I suppose that it can be a future year as well, so values like 20225 make sense, since there could be some contracts for how long the museum will have this item. So lets choose everything with `Object End Date > 2100`"
   ],
   "metadata": {
    "collapsed": false
   }
  },
  {
   "cell_type": "code",
   "execution_count": 102,
   "outputs": [
    {
     "data": {
      "text/plain": "          Object Number  Is Highlight  Is Timeline Work  Is Public Domain  \\\nObject ID                                                                   \n188903          04.9.19         False             False              True   \n363446        24.63.304         False             False             False   \n379662      23.112.1595         False             False              True   \n\n           Gallery Number                              Department  \\\nObject ID                                                           \n188903                NaN  European Sculpture and Decorative Arts   \n363446                NaN                     Drawings and Prints   \n379662                NaN                     Drawings and Prints   \n\n                          AccessionYear Object Name  \\\nObject ID                                             \n188903    1970-01-01 00:00:00.000001904        Bowl   \n363446    1970-01-01 00:00:00.000001924       Print   \n379662    1970-01-01 00:00:00.000001923     Drawing   \n\n                                                       Title  \\\nObject ID                                                      \n188903     Wide-rimmed bowl with Vulcan Forging Arms with...   \n363446                                   La Jeune Parisienne   \n379662                            Design for Landau, no. 958   \n\n                            Culture  ... Rights and Reproduction  \\\nObject ID                            ...                           \n188903     Italian, probably Urbino  ...                     NaN   \n363446                          NaN  ...                     NaN   \n379662                          NaN  ...                     NaN   \n\n                                               Link Resource  \\\nObject ID                                                      \n188903     http://www.metmuseum.org/art/collection/search...   \n363446     http://www.metmuseum.org/art/collection/search...   \n379662     http://www.metmuseum.org/art/collection/search...   \n\n          Object Wikidata URL Metadata Date  \\\nObject ID                                     \n188903                    NaN           NaN   \n363446                    NaN           NaN   \n379662                    NaN           NaN   \n\n                                         Repository                Tags  \\\nObject ID                                                                 \n188903     Metropolitan Museum of Art, New York, NY  Cupid|Venus|Vulcan   \n363446     Metropolitan Museum of Art, New York, NY                 NaN   \n379662     Metropolitan Museum of Art, New York, NY           Carriages   \n\n                                                Tags AAT URL  \\\nObject ID                                                      \n188903     http://vocab.getty.edu/page/aat/300380105|http...   \n363446                                                   NaN   \n379662             http://vocab.getty.edu/page/aat/300185335   \n\n                                           Tags Wikidata URL Object_name_len  \\\nObject ID                                                                      \n188903     https://www.wikidata.org/wiki/Q5011|https://ww...             4.0   \n363446                                                   NaN             5.0   \n379662                 https://www.wikidata.org/wiki/Q235356             7.0   \n\n          object_date_combined  \nObject ID                       \n188903                1523–335  \n363446               1790–2835  \n379662               1850–2870  \n\n[3 rows x 55 columns]",
      "text/html": "<div>\n<style scoped>\n    .dataframe tbody tr th:only-of-type {\n        vertical-align: middle;\n    }\n\n    .dataframe tbody tr th {\n        vertical-align: top;\n    }\n\n    .dataframe thead th {\n        text-align: right;\n    }\n</style>\n<table border=\"1\" class=\"dataframe\">\n  <thead>\n    <tr style=\"text-align: right;\">\n      <th></th>\n      <th>Object Number</th>\n      <th>Is Highlight</th>\n      <th>Is Timeline Work</th>\n      <th>Is Public Domain</th>\n      <th>Gallery Number</th>\n      <th>Department</th>\n      <th>AccessionYear</th>\n      <th>Object Name</th>\n      <th>Title</th>\n      <th>Culture</th>\n      <th>...</th>\n      <th>Rights and Reproduction</th>\n      <th>Link Resource</th>\n      <th>Object Wikidata URL</th>\n      <th>Metadata Date</th>\n      <th>Repository</th>\n      <th>Tags</th>\n      <th>Tags AAT URL</th>\n      <th>Tags Wikidata URL</th>\n      <th>Object_name_len</th>\n      <th>object_date_combined</th>\n    </tr>\n    <tr>\n      <th>Object ID</th>\n      <th></th>\n      <th></th>\n      <th></th>\n      <th></th>\n      <th></th>\n      <th></th>\n      <th></th>\n      <th></th>\n      <th></th>\n      <th></th>\n      <th></th>\n      <th></th>\n      <th></th>\n      <th></th>\n      <th></th>\n      <th></th>\n      <th></th>\n      <th></th>\n      <th></th>\n      <th></th>\n      <th></th>\n    </tr>\n  </thead>\n  <tbody>\n    <tr>\n      <th>188903</th>\n      <td>04.9.19</td>\n      <td>False</td>\n      <td>False</td>\n      <td>True</td>\n      <td>NaN</td>\n      <td>European Sculpture and Decorative Arts</td>\n      <td>1970-01-01 00:00:00.000001904</td>\n      <td>Bowl</td>\n      <td>Wide-rimmed bowl with Vulcan Forging Arms with...</td>\n      <td>Italian, probably Urbino</td>\n      <td>...</td>\n      <td>NaN</td>\n      <td>http://www.metmuseum.org/art/collection/search...</td>\n      <td>NaN</td>\n      <td>NaN</td>\n      <td>Metropolitan Museum of Art, New York, NY</td>\n      <td>Cupid|Venus|Vulcan</td>\n      <td>http://vocab.getty.edu/page/aat/300380105|http...</td>\n      <td>https://www.wikidata.org/wiki/Q5011|https://ww...</td>\n      <td>4.0</td>\n      <td>1523–335</td>\n    </tr>\n    <tr>\n      <th>363446</th>\n      <td>24.63.304</td>\n      <td>False</td>\n      <td>False</td>\n      <td>False</td>\n      <td>NaN</td>\n      <td>Drawings and Prints</td>\n      <td>1970-01-01 00:00:00.000001924</td>\n      <td>Print</td>\n      <td>La Jeune Parisienne</td>\n      <td>NaN</td>\n      <td>...</td>\n      <td>NaN</td>\n      <td>http://www.metmuseum.org/art/collection/search...</td>\n      <td>NaN</td>\n      <td>NaN</td>\n      <td>Metropolitan Museum of Art, New York, NY</td>\n      <td>NaN</td>\n      <td>NaN</td>\n      <td>NaN</td>\n      <td>5.0</td>\n      <td>1790–2835</td>\n    </tr>\n    <tr>\n      <th>379662</th>\n      <td>23.112.1595</td>\n      <td>False</td>\n      <td>False</td>\n      <td>True</td>\n      <td>NaN</td>\n      <td>Drawings and Prints</td>\n      <td>1970-01-01 00:00:00.000001923</td>\n      <td>Drawing</td>\n      <td>Design for Landau, no. 958</td>\n      <td>NaN</td>\n      <td>...</td>\n      <td>NaN</td>\n      <td>http://www.metmuseum.org/art/collection/search...</td>\n      <td>NaN</td>\n      <td>NaN</td>\n      <td>Metropolitan Museum of Art, New York, NY</td>\n      <td>Carriages</td>\n      <td>http://vocab.getty.edu/page/aat/300185335</td>\n      <td>https://www.wikidata.org/wiki/Q235356</td>\n      <td>7.0</td>\n      <td>1850–2870</td>\n    </tr>\n  </tbody>\n</table>\n<p>3 rows × 55 columns</p>\n</div>"
     },
     "execution_count": 102,
     "metadata": {},
     "output_type": "execute_result"
    }
   ],
   "source": [
    "df.loc[df['Object End Date'] > 2100]"
   ],
   "metadata": {
    "collapsed": false
   }
  },
  {
   "cell_type": "markdown",
   "source": [
    "# 6. Detect missing data in at least **three features**, convert them to a proper representation (if they are already not), and impute missing values in at least **one feature**. _(1 + 3 points, depends on creativity)_"
   ],
   "metadata": {
    "collapsed": false
   }
  },
  {
   "cell_type": "code",
   "execution_count": 103,
   "outputs": [
    {
     "name": "stdout",
     "output_type": "stream",
     "text": [
      "<class 'pandas.core.frame.DataFrame'>\n",
      "Int64Index: 477804 entries, 1 to 860873\n",
      "Data columns (total 55 columns):\n",
      " #   Column                   Non-Null Count   Dtype         \n",
      "---  ------                   --------------   -----         \n",
      " 0   Object Number            477804 non-null  object        \n",
      " 1   Is Highlight             477804 non-null  bool          \n",
      " 2   Is Timeline Work         477804 non-null  bool          \n",
      " 3   Is Public Domain         477804 non-null  bool          \n",
      " 4   Gallery Number           51725 non-null   float64       \n",
      " 5   Department               477804 non-null  category      \n",
      " 6   AccessionYear            474248 non-null  datetime64[ns]\n",
      " 7   Object Name              476113 non-null  object        \n",
      " 8   Title                    448619 non-null  object        \n",
      " 9   Culture                  207379 non-null  object        \n",
      " 10  Period                   90956 non-null   object        \n",
      " 11  Dynasty                  23233 non-null   category      \n",
      " 12  Reign                    11226 non-null   category      \n",
      " 13  Portfolio                23530 non-null   object        \n",
      " 14  Constituent ID           275535 non-null  object        \n",
      " 15  Artist Role              273436 non-null  object        \n",
      " 16  Artist Prefix            275535 non-null  object        \n",
      " 17  Artist Display Name      275535 non-null  object        \n",
      " 18  Artist Display Bio       273436 non-null  object        \n",
      " 19  Artist Suffix            275487 non-null  object        \n",
      " 20  Artist Alpha Sort        275535 non-null  object        \n",
      " 21  Artist Nationality       275535 non-null  object        \n",
      " 22  Artist Begin Date        275535 non-null  object        \n",
      " 23  Artist End Date          275535 non-null  object        \n",
      " 24  Artist Gender            103061 non-null  object        \n",
      " 25  Artist ULAN URL          222021 non-null  object        \n",
      " 26  Artist Wikidata URL      217732 non-null  object        \n",
      " 27  Object Date              477804 non-null  object        \n",
      " 28  Object Begin Date        477804 non-null  int64         \n",
      " 29  Object End Date          477804 non-null  int64         \n",
      " 30  Medium                   470684 non-null  object        \n",
      " 31  Dimensions               402510 non-null  object        \n",
      " 32  Credit Line              477353 non-null  object        \n",
      " 33  Geography Type           59769 non-null   object        \n",
      " 34  City                     32407 non-null   object        \n",
      " 35  State                    2550 non-null    object        \n",
      " 36  County                   8450 non-null    object        \n",
      " 37  Country                  75751 non-null   object        \n",
      " 38  Region                   31360 non-null   object        \n",
      " 39  Subregion                22124 non-null   object        \n",
      " 40  Locale                   15709 non-null   object        \n",
      " 41  Locus                    7493 non-null    object        \n",
      " 42  Excavation               16558 non-null   object        \n",
      " 43  River                    2095 non-null    object        \n",
      " 44  Classification           399598 non-null  object        \n",
      " 45  Rights and Reproduction  24198 non-null   object        \n",
      " 46  Link Resource            477804 non-null  object        \n",
      " 47  Object Wikidata URL      22265 non-null   object        \n",
      " 48  Metadata Date            0 non-null       float64       \n",
      " 49  Repository               477804 non-null  object        \n",
      " 50  Tags                     200400 non-null  object        \n",
      " 51  Tags AAT URL             200400 non-null  object        \n",
      " 52  Tags Wikidata URL        200400 non-null  object        \n",
      " 53  Object_name_len          476113 non-null  float64       \n",
      " 54  object_date_combined     477804 non-null  object        \n",
      "dtypes: bool(3), category(3), datetime64[ns](1), float64(3), int64(2), object(43)\n",
      "memory usage: 185.9+ MB\n"
     ]
    }
   ],
   "source": [
    "df.info()"
   ],
   "metadata": {
    "collapsed": false
   }
  },
  {
   "cell_type": "markdown",
   "source": [
    "### 6a\n",
    "as already thorougly explained, there are missing data in `Artist Gender`, especially all of the `Male` values"
   ],
   "metadata": {
    "collapsed": false
   }
  },
  {
   "cell_type": "markdown",
   "source": [
    "### 6b\n",
    "there are some missing values for `Object Name` and `Title`.\n",
    "looking at some of the data, the `Object Name` is sometimes the same as `Title`, lets input one of these if the other is missing. In case both of these are missing, let's use `Unkown`"
   ],
   "metadata": {
    "collapsed": false
   }
  },
  {
   "cell_type": "code",
   "execution_count": 104,
   "outputs": [
    {
     "data": {
      "text/plain": "          Object Number  Is Highlight  Is Timeline Work  Is Public Domain  \\\nObject ID                                                                   \n36             1976.319         False             False             False   \n42              60.58.1         False             False              True   \n43              60.58.2         False             False              True   \n44          10.125.444a         False             False              True   \n45          10.125.444b         False             False              True   \n...                 ...           ...               ...               ...   \n856789       48.101.72w         False             False              True   \n856790       48.101.72x         False             False              True   \n856960     2021.419a, b         False             False             False   \n856961     2021.420a, b         False             False             False   \n856962     2021.421a, b         False             False             False   \n\n           Gallery Number         Department                 AccessionYear  \\\nObject ID                                                                    \n36                  774.0  The American Wing 1970-01-01 00:00:00.000001976   \n42                  724.0  The American Wing 1970-01-01 00:00:00.000001960   \n43                  724.0  The American Wing 1970-01-01 00:00:00.000001960   \n44                  774.0  The American Wing 1970-01-01 00:00:00.000001910   \n45                  774.0  The American Wing 1970-01-01 00:00:00.000001910   \n...                   ...                ...                           ...   \n856789                NaN        Islamic Art 1948-01-01 00:00:00.000000000   \n856790                NaN        Islamic Art 1948-01-01 00:00:00.000000000   \n856960                NaN  Costume Institute 2021-01-01 00:00:00.000000000   \n856961                NaN  Costume Institute 2021-01-01 00:00:00.000000000   \n856962                NaN  Costume Institute 2021-01-01 00:00:00.000000000   \n\n          Object Name       Title            Culture  ...  \\\nObject ID                                             ...   \n36         Side Chair  Side Chair           American  ...   \n42            Andiron     Andiron           American  ...   \n43            Andiron     Andiron           American  ...   \n44            Andiron     Andiron                NaN  ...   \n45            Andiron     Andiron                NaN  ...   \n...               ...         ...                ...  ...   \n856789           bead        bead                NaN  ...   \n856790           bead        bead                NaN  ...   \n856960         Corset      Corset  Possibly American  ...   \n856961          Dress       Dress           American  ...   \n856962       Jumpsuit    Jumpsuit           American  ...   \n\n          Rights and Reproduction  \\\nObject ID                           \n36                            NaN   \n42                            NaN   \n43                            NaN   \n44                            NaN   \n45                            NaN   \n...                           ...   \n856789                        NaN   \n856790                        NaN   \n856960                        NaN   \n856961                        NaN   \n856962                        NaN   \n\n                                               Link Resource  \\\nObject ID                                                      \n36         http://www.metmuseum.org/art/collection/search/36   \n42         http://www.metmuseum.org/art/collection/search/42   \n43         http://www.metmuseum.org/art/collection/search/43   \n44         http://www.metmuseum.org/art/collection/search/44   \n45         http://www.metmuseum.org/art/collection/search/45   \n...                                                      ...   \n856789     http://www.metmuseum.org/art/collection/search...   \n856790     http://www.metmuseum.org/art/collection/search...   \n856960     http://www.metmuseum.org/art/collection/search...   \n856961     http://www.metmuseum.org/art/collection/search...   \n856962     http://www.metmuseum.org/art/collection/search...   \n\n          Object Wikidata URL Metadata Date  \\\nObject ID                                     \n36                        NaN           NaN   \n42                        NaN           NaN   \n43                        NaN           NaN   \n44                        NaN           NaN   \n45                        NaN           NaN   \n...                       ...           ...   \n856789                    NaN           NaN   \n856790                    NaN           NaN   \n856960                    NaN           NaN   \n856961                    NaN           NaN   \n856962                    NaN           NaN   \n\n                                         Repository Tags Tags AAT URL  \\\nObject ID                                                               \n36         Metropolitan Museum of Art, New York, NY  NaN          NaN   \n42         Metropolitan Museum of Art, New York, NY  NaN          NaN   \n43         Metropolitan Museum of Art, New York, NY  NaN          NaN   \n44         Metropolitan Museum of Art, New York, NY  NaN          NaN   \n45         Metropolitan Museum of Art, New York, NY  NaN          NaN   \n...                                             ...  ...          ...   \n856789     Metropolitan Museum of Art, New York, NY  NaN          NaN   \n856790     Metropolitan Museum of Art, New York, NY  NaN          NaN   \n856960     Metropolitan Museum of Art, New York, NY  NaN          NaN   \n856961     Metropolitan Museum of Art, New York, NY  NaN          NaN   \n856962     Metropolitan Museum of Art, New York, NY  NaN          NaN   \n\n          Tags Wikidata URL Object_name_len object_date_combined  \nObject ID                                                         \n36                      NaN            10.0               1884–7  \n42                      NaN             7.0            1795–1810  \n43                      NaN             7.0            1795–1810  \n44                      NaN             7.0              1787–90  \n45                      NaN             7.0              1787–90  \n...                     ...             ...                  ...  \n856789                  NaN             4.0                    0  \n856790                  NaN             4.0                    0  \n856960                  NaN             6.0              1820–30  \n856961                  NaN             5.0              1963–73  \n856962                  NaN             8.0              1963–73  \n\n[102159 rows x 55 columns]",
      "text/html": "<div>\n<style scoped>\n    .dataframe tbody tr th:only-of-type {\n        vertical-align: middle;\n    }\n\n    .dataframe tbody tr th {\n        vertical-align: top;\n    }\n\n    .dataframe thead th {\n        text-align: right;\n    }\n</style>\n<table border=\"1\" class=\"dataframe\">\n  <thead>\n    <tr style=\"text-align: right;\">\n      <th></th>\n      <th>Object Number</th>\n      <th>Is Highlight</th>\n      <th>Is Timeline Work</th>\n      <th>Is Public Domain</th>\n      <th>Gallery Number</th>\n      <th>Department</th>\n      <th>AccessionYear</th>\n      <th>Object Name</th>\n      <th>Title</th>\n      <th>Culture</th>\n      <th>...</th>\n      <th>Rights and Reproduction</th>\n      <th>Link Resource</th>\n      <th>Object Wikidata URL</th>\n      <th>Metadata Date</th>\n      <th>Repository</th>\n      <th>Tags</th>\n      <th>Tags AAT URL</th>\n      <th>Tags Wikidata URL</th>\n      <th>Object_name_len</th>\n      <th>object_date_combined</th>\n    </tr>\n    <tr>\n      <th>Object ID</th>\n      <th></th>\n      <th></th>\n      <th></th>\n      <th></th>\n      <th></th>\n      <th></th>\n      <th></th>\n      <th></th>\n      <th></th>\n      <th></th>\n      <th></th>\n      <th></th>\n      <th></th>\n      <th></th>\n      <th></th>\n      <th></th>\n      <th></th>\n      <th></th>\n      <th></th>\n      <th></th>\n      <th></th>\n    </tr>\n  </thead>\n  <tbody>\n    <tr>\n      <th>36</th>\n      <td>1976.319</td>\n      <td>False</td>\n      <td>False</td>\n      <td>False</td>\n      <td>774.0</td>\n      <td>The American Wing</td>\n      <td>1970-01-01 00:00:00.000001976</td>\n      <td>Side Chair</td>\n      <td>Side Chair</td>\n      <td>American</td>\n      <td>...</td>\n      <td>NaN</td>\n      <td>http://www.metmuseum.org/art/collection/search/36</td>\n      <td>NaN</td>\n      <td>NaN</td>\n      <td>Metropolitan Museum of Art, New York, NY</td>\n      <td>NaN</td>\n      <td>NaN</td>\n      <td>NaN</td>\n      <td>10.0</td>\n      <td>1884–7</td>\n    </tr>\n    <tr>\n      <th>42</th>\n      <td>60.58.1</td>\n      <td>False</td>\n      <td>False</td>\n      <td>True</td>\n      <td>724.0</td>\n      <td>The American Wing</td>\n      <td>1970-01-01 00:00:00.000001960</td>\n      <td>Andiron</td>\n      <td>Andiron</td>\n      <td>American</td>\n      <td>...</td>\n      <td>NaN</td>\n      <td>http://www.metmuseum.org/art/collection/search/42</td>\n      <td>NaN</td>\n      <td>NaN</td>\n      <td>Metropolitan Museum of Art, New York, NY</td>\n      <td>NaN</td>\n      <td>NaN</td>\n      <td>NaN</td>\n      <td>7.0</td>\n      <td>1795–1810</td>\n    </tr>\n    <tr>\n      <th>43</th>\n      <td>60.58.2</td>\n      <td>False</td>\n      <td>False</td>\n      <td>True</td>\n      <td>724.0</td>\n      <td>The American Wing</td>\n      <td>1970-01-01 00:00:00.000001960</td>\n      <td>Andiron</td>\n      <td>Andiron</td>\n      <td>American</td>\n      <td>...</td>\n      <td>NaN</td>\n      <td>http://www.metmuseum.org/art/collection/search/43</td>\n      <td>NaN</td>\n      <td>NaN</td>\n      <td>Metropolitan Museum of Art, New York, NY</td>\n      <td>NaN</td>\n      <td>NaN</td>\n      <td>NaN</td>\n      <td>7.0</td>\n      <td>1795–1810</td>\n    </tr>\n    <tr>\n      <th>44</th>\n      <td>10.125.444a</td>\n      <td>False</td>\n      <td>False</td>\n      <td>True</td>\n      <td>774.0</td>\n      <td>The American Wing</td>\n      <td>1970-01-01 00:00:00.000001910</td>\n      <td>Andiron</td>\n      <td>Andiron</td>\n      <td>NaN</td>\n      <td>...</td>\n      <td>NaN</td>\n      <td>http://www.metmuseum.org/art/collection/search/44</td>\n      <td>NaN</td>\n      <td>NaN</td>\n      <td>Metropolitan Museum of Art, New York, NY</td>\n      <td>NaN</td>\n      <td>NaN</td>\n      <td>NaN</td>\n      <td>7.0</td>\n      <td>1787–90</td>\n    </tr>\n    <tr>\n      <th>45</th>\n      <td>10.125.444b</td>\n      <td>False</td>\n      <td>False</td>\n      <td>True</td>\n      <td>774.0</td>\n      <td>The American Wing</td>\n      <td>1970-01-01 00:00:00.000001910</td>\n      <td>Andiron</td>\n      <td>Andiron</td>\n      <td>NaN</td>\n      <td>...</td>\n      <td>NaN</td>\n      <td>http://www.metmuseum.org/art/collection/search/45</td>\n      <td>NaN</td>\n      <td>NaN</td>\n      <td>Metropolitan Museum of Art, New York, NY</td>\n      <td>NaN</td>\n      <td>NaN</td>\n      <td>NaN</td>\n      <td>7.0</td>\n      <td>1787–90</td>\n    </tr>\n    <tr>\n      <th>...</th>\n      <td>...</td>\n      <td>...</td>\n      <td>...</td>\n      <td>...</td>\n      <td>...</td>\n      <td>...</td>\n      <td>...</td>\n      <td>...</td>\n      <td>...</td>\n      <td>...</td>\n      <td>...</td>\n      <td>...</td>\n      <td>...</td>\n      <td>...</td>\n      <td>...</td>\n      <td>...</td>\n      <td>...</td>\n      <td>...</td>\n      <td>...</td>\n      <td>...</td>\n      <td>...</td>\n    </tr>\n    <tr>\n      <th>856789</th>\n      <td>48.101.72w</td>\n      <td>False</td>\n      <td>False</td>\n      <td>True</td>\n      <td>NaN</td>\n      <td>Islamic Art</td>\n      <td>1948-01-01 00:00:00.000000000</td>\n      <td>bead</td>\n      <td>bead</td>\n      <td>NaN</td>\n      <td>...</td>\n      <td>NaN</td>\n      <td>http://www.metmuseum.org/art/collection/search...</td>\n      <td>NaN</td>\n      <td>NaN</td>\n      <td>Metropolitan Museum of Art, New York, NY</td>\n      <td>NaN</td>\n      <td>NaN</td>\n      <td>NaN</td>\n      <td>4.0</td>\n      <td>0</td>\n    </tr>\n    <tr>\n      <th>856790</th>\n      <td>48.101.72x</td>\n      <td>False</td>\n      <td>False</td>\n      <td>True</td>\n      <td>NaN</td>\n      <td>Islamic Art</td>\n      <td>1948-01-01 00:00:00.000000000</td>\n      <td>bead</td>\n      <td>bead</td>\n      <td>NaN</td>\n      <td>...</td>\n      <td>NaN</td>\n      <td>http://www.metmuseum.org/art/collection/search...</td>\n      <td>NaN</td>\n      <td>NaN</td>\n      <td>Metropolitan Museum of Art, New York, NY</td>\n      <td>NaN</td>\n      <td>NaN</td>\n      <td>NaN</td>\n      <td>4.0</td>\n      <td>0</td>\n    </tr>\n    <tr>\n      <th>856960</th>\n      <td>2021.419a, b</td>\n      <td>False</td>\n      <td>False</td>\n      <td>False</td>\n      <td>NaN</td>\n      <td>Costume Institute</td>\n      <td>2021-01-01 00:00:00.000000000</td>\n      <td>Corset</td>\n      <td>Corset</td>\n      <td>Possibly American</td>\n      <td>...</td>\n      <td>NaN</td>\n      <td>http://www.metmuseum.org/art/collection/search...</td>\n      <td>NaN</td>\n      <td>NaN</td>\n      <td>Metropolitan Museum of Art, New York, NY</td>\n      <td>NaN</td>\n      <td>NaN</td>\n      <td>NaN</td>\n      <td>6.0</td>\n      <td>1820–30</td>\n    </tr>\n    <tr>\n      <th>856961</th>\n      <td>2021.420a, b</td>\n      <td>False</td>\n      <td>False</td>\n      <td>False</td>\n      <td>NaN</td>\n      <td>Costume Institute</td>\n      <td>2021-01-01 00:00:00.000000000</td>\n      <td>Dress</td>\n      <td>Dress</td>\n      <td>American</td>\n      <td>...</td>\n      <td>NaN</td>\n      <td>http://www.metmuseum.org/art/collection/search...</td>\n      <td>NaN</td>\n      <td>NaN</td>\n      <td>Metropolitan Museum of Art, New York, NY</td>\n      <td>NaN</td>\n      <td>NaN</td>\n      <td>NaN</td>\n      <td>5.0</td>\n      <td>1963–73</td>\n    </tr>\n    <tr>\n      <th>856962</th>\n      <td>2021.421a, b</td>\n      <td>False</td>\n      <td>False</td>\n      <td>False</td>\n      <td>NaN</td>\n      <td>Costume Institute</td>\n      <td>2021-01-01 00:00:00.000000000</td>\n      <td>Jumpsuit</td>\n      <td>Jumpsuit</td>\n      <td>American</td>\n      <td>...</td>\n      <td>NaN</td>\n      <td>http://www.metmuseum.org/art/collection/search...</td>\n      <td>NaN</td>\n      <td>NaN</td>\n      <td>Metropolitan Museum of Art, New York, NY</td>\n      <td>NaN</td>\n      <td>NaN</td>\n      <td>NaN</td>\n      <td>8.0</td>\n      <td>1963–73</td>\n    </tr>\n  </tbody>\n</table>\n<p>102159 rows × 55 columns</p>\n</div>"
     },
     "execution_count": 104,
     "metadata": {},
     "output_type": "execute_result"
    }
   ],
   "source": [
    "df.loc[df['Object Name'] == df['Title']]"
   ],
   "metadata": {
    "collapsed": false
   }
  },
  {
   "cell_type": "code",
   "execution_count": 105,
   "outputs": [],
   "source": [
    "def input_name_title(row):\n",
    "    if pd.isnull(row['Object Name']) and pd.isnull(row['Title']):\n",
    "        row['Object Name'] = 'Unknown'\n",
    "        row['Title'] = 'Unknown'\n",
    "    elif pd.isnull(row['Title']):\n",
    "        row['Title'] = row['Object Name']\n",
    "    elif pd.isnull(row['Object Name']):\n",
    "        row['Object Name'] = row['Title']\n",
    "    return row"
   ],
   "metadata": {
    "collapsed": false
   }
  },
  {
   "cell_type": "code",
   "execution_count": 106,
   "outputs": [],
   "source": [
    "df = df.apply(input_name_title, axis=1)"
   ],
   "metadata": {
    "collapsed": false
   }
  },
  {
   "cell_type": "code",
   "execution_count": 107,
   "outputs": [
    {
     "data": {
      "text/plain": "                        Object Number  Is Highlight  Is Timeline Work  \\\nObject ID                                                               \n36                           1976.319         False             False   \n42                            60.58.1         False             False   \n43                            60.58.2         False             False   \n44                        10.125.444a         False             False   \n45                        10.125.444b         False             False   \n...                               ...           ...               ...   \n857450              N6538.N5 P62 1967         False             False   \n857471                 DT494 .F3 1963         False             False   \n857476     N6537.H3458 A4 2019 copy 1         False             False   \n857521                       41.1.204         False             False   \n857522                       22.41.63         False             False   \n\n           Is Public Domain  Gallery Number           Department  \\\nObject ID                                                          \n36                    False           774.0    The American Wing   \n42                     True           724.0    The American Wing   \n43                     True           724.0    The American Wing   \n44                     True           774.0    The American Wing   \n45                     True           774.0    The American Wing   \n...                     ...             ...                  ...   \n857450                False             NaN        The Libraries   \n857471                False             NaN        The Libraries   \n857476                False             NaN        The Libraries   \n857521                False             NaN  Drawings and Prints   \n857522                False             NaN  Drawings and Prints   \n\n                          AccessionYear  \\\nObject ID                                 \n36        1970-01-01 00:00:00.000001976   \n42        1970-01-01 00:00:00.000001960   \n43        1970-01-01 00:00:00.000001960   \n44        1970-01-01 00:00:00.000001910   \n45        1970-01-01 00:00:00.000001910   \n...                                 ...   \n857450                              NaT   \n857471                              NaT   \n857476                              NaT   \n857521    1941-01-01 00:00:00.000000000   \n857522    1922-01-01 00:00:00.000000000   \n\n                                                 Object Name  \\\nObject ID                                                      \n36                                                Side Chair   \n42                                                   Andiron   \n43                                                   Andiron   \n44                                                   Andiron   \n45                                                   Andiron   \n...                                                      ...   \n857450     Ten Afro-American artists of the Nineteenth ce...   \n857471                                 West Africa vignettes   \n857476     Trenton Doyle Hancock : mind of the mound : cr...   \n857521          Christ before Annas, after Martin Schongauer   \n857522                        Arms of Rohrbach and Holzhauer   \n\n                                                       Title   Culture  ...  \\\nObject ID                                                               ...   \n36                                                Side Chair  American  ...   \n42                                                   Andiron  American  ...   \n43                                                   Andiron  American  ...   \n44                                                   Andiron       NaN  ...   \n45                                                   Andiron       NaN  ...   \n...                                                      ...       ...  ...   \n857450     Ten Afro-American artists of the Nineteenth ce...       NaN  ...   \n857471                                 West Africa vignettes       NaN  ...   \n857476     Trenton Doyle Hancock : mind of the mound : cr...       NaN  ...   \n857521          Christ before Annas, after Martin Schongauer       NaN  ...   \n857522                        Arms of Rohrbach and Holzhauer       NaN  ...   \n\n          Rights and Reproduction  \\\nObject ID                           \n36                            NaN   \n42                            NaN   \n43                            NaN   \n44                            NaN   \n45                            NaN   \n...                           ...   \n857450                        NaN   \n857471                        NaN   \n857476                        NaN   \n857521                        NaN   \n857522                        NaN   \n\n                                               Link Resource  \\\nObject ID                                                      \n36         http://www.metmuseum.org/art/collection/search/36   \n42         http://www.metmuseum.org/art/collection/search/42   \n43         http://www.metmuseum.org/art/collection/search/43   \n44         http://www.metmuseum.org/art/collection/search/44   \n45         http://www.metmuseum.org/art/collection/search/45   \n...                                                      ...   \n857450     http://www.metmuseum.org/art/collection/search...   \n857471     http://www.metmuseum.org/art/collection/search...   \n857476     http://www.metmuseum.org/art/collection/search...   \n857521     http://www.metmuseum.org/art/collection/search...   \n857522     http://www.metmuseum.org/art/collection/search...   \n\n          Object Wikidata URL Metadata Date  \\\nObject ID                                     \n36                        NaN           NaN   \n42                        NaN           NaN   \n43                        NaN           NaN   \n44                        NaN           NaN   \n45                        NaN           NaN   \n...                       ...           ...   \n857450                    NaN           NaN   \n857471                    NaN           NaN   \n857476                    NaN           NaN   \n857521                    NaN           NaN   \n857522                    NaN           NaN   \n\n                                         Repository Tags Tags AAT URL  \\\nObject ID                                                               \n36         Metropolitan Museum of Art, New York, NY  NaN          NaN   \n42         Metropolitan Museum of Art, New York, NY  NaN          NaN   \n43         Metropolitan Museum of Art, New York, NY  NaN          NaN   \n44         Metropolitan Museum of Art, New York, NY  NaN          NaN   \n45         Metropolitan Museum of Art, New York, NY  NaN          NaN   \n...                                             ...  ...          ...   \n857450     Metropolitan Museum of Art, New York, NY  NaN          NaN   \n857471     Metropolitan Museum of Art, New York, NY  NaN          NaN   \n857476     Metropolitan Museum of Art, New York, NY  NaN          NaN   \n857521     Metropolitan Museum of Art, New York, NY  NaN          NaN   \n857522     Metropolitan Museum of Art, New York, NY  NaN          NaN   \n\n          Tags Wikidata URL Object_name_len object_date_combined  \nObject ID                                                         \n36                      NaN            10.0               1884–7  \n42                      NaN             7.0            1795–1810  \n43                      NaN             7.0            1795–1810  \n44                      NaN             7.0              1787–90  \n45                      NaN             7.0              1787–90  \n...                     ...             ...                  ...  \n857450                  NaN             NaN                 1967  \n857471                  NaN             NaN                 1963  \n857476                  NaN             NaN                 2019  \n857521                  NaN             NaN                    0  \n857522                  NaN             NaN                    0  \n\n[132982 rows x 55 columns]",
      "text/html": "<div>\n<style scoped>\n    .dataframe tbody tr th:only-of-type {\n        vertical-align: middle;\n    }\n\n    .dataframe tbody tr th {\n        vertical-align: top;\n    }\n\n    .dataframe thead th {\n        text-align: right;\n    }\n</style>\n<table border=\"1\" class=\"dataframe\">\n  <thead>\n    <tr style=\"text-align: right;\">\n      <th></th>\n      <th>Object Number</th>\n      <th>Is Highlight</th>\n      <th>Is Timeline Work</th>\n      <th>Is Public Domain</th>\n      <th>Gallery Number</th>\n      <th>Department</th>\n      <th>AccessionYear</th>\n      <th>Object Name</th>\n      <th>Title</th>\n      <th>Culture</th>\n      <th>...</th>\n      <th>Rights and Reproduction</th>\n      <th>Link Resource</th>\n      <th>Object Wikidata URL</th>\n      <th>Metadata Date</th>\n      <th>Repository</th>\n      <th>Tags</th>\n      <th>Tags AAT URL</th>\n      <th>Tags Wikidata URL</th>\n      <th>Object_name_len</th>\n      <th>object_date_combined</th>\n    </tr>\n    <tr>\n      <th>Object ID</th>\n      <th></th>\n      <th></th>\n      <th></th>\n      <th></th>\n      <th></th>\n      <th></th>\n      <th></th>\n      <th></th>\n      <th></th>\n      <th></th>\n      <th></th>\n      <th></th>\n      <th></th>\n      <th></th>\n      <th></th>\n      <th></th>\n      <th></th>\n      <th></th>\n      <th></th>\n      <th></th>\n      <th></th>\n    </tr>\n  </thead>\n  <tbody>\n    <tr>\n      <th>36</th>\n      <td>1976.319</td>\n      <td>False</td>\n      <td>False</td>\n      <td>False</td>\n      <td>774.0</td>\n      <td>The American Wing</td>\n      <td>1970-01-01 00:00:00.000001976</td>\n      <td>Side Chair</td>\n      <td>Side Chair</td>\n      <td>American</td>\n      <td>...</td>\n      <td>NaN</td>\n      <td>http://www.metmuseum.org/art/collection/search/36</td>\n      <td>NaN</td>\n      <td>NaN</td>\n      <td>Metropolitan Museum of Art, New York, NY</td>\n      <td>NaN</td>\n      <td>NaN</td>\n      <td>NaN</td>\n      <td>10.0</td>\n      <td>1884–7</td>\n    </tr>\n    <tr>\n      <th>42</th>\n      <td>60.58.1</td>\n      <td>False</td>\n      <td>False</td>\n      <td>True</td>\n      <td>724.0</td>\n      <td>The American Wing</td>\n      <td>1970-01-01 00:00:00.000001960</td>\n      <td>Andiron</td>\n      <td>Andiron</td>\n      <td>American</td>\n      <td>...</td>\n      <td>NaN</td>\n      <td>http://www.metmuseum.org/art/collection/search/42</td>\n      <td>NaN</td>\n      <td>NaN</td>\n      <td>Metropolitan Museum of Art, New York, NY</td>\n      <td>NaN</td>\n      <td>NaN</td>\n      <td>NaN</td>\n      <td>7.0</td>\n      <td>1795–1810</td>\n    </tr>\n    <tr>\n      <th>43</th>\n      <td>60.58.2</td>\n      <td>False</td>\n      <td>False</td>\n      <td>True</td>\n      <td>724.0</td>\n      <td>The American Wing</td>\n      <td>1970-01-01 00:00:00.000001960</td>\n      <td>Andiron</td>\n      <td>Andiron</td>\n      <td>American</td>\n      <td>...</td>\n      <td>NaN</td>\n      <td>http://www.metmuseum.org/art/collection/search/43</td>\n      <td>NaN</td>\n      <td>NaN</td>\n      <td>Metropolitan Museum of Art, New York, NY</td>\n      <td>NaN</td>\n      <td>NaN</td>\n      <td>NaN</td>\n      <td>7.0</td>\n      <td>1795–1810</td>\n    </tr>\n    <tr>\n      <th>44</th>\n      <td>10.125.444a</td>\n      <td>False</td>\n      <td>False</td>\n      <td>True</td>\n      <td>774.0</td>\n      <td>The American Wing</td>\n      <td>1970-01-01 00:00:00.000001910</td>\n      <td>Andiron</td>\n      <td>Andiron</td>\n      <td>NaN</td>\n      <td>...</td>\n      <td>NaN</td>\n      <td>http://www.metmuseum.org/art/collection/search/44</td>\n      <td>NaN</td>\n      <td>NaN</td>\n      <td>Metropolitan Museum of Art, New York, NY</td>\n      <td>NaN</td>\n      <td>NaN</td>\n      <td>NaN</td>\n      <td>7.0</td>\n      <td>1787–90</td>\n    </tr>\n    <tr>\n      <th>45</th>\n      <td>10.125.444b</td>\n      <td>False</td>\n      <td>False</td>\n      <td>True</td>\n      <td>774.0</td>\n      <td>The American Wing</td>\n      <td>1970-01-01 00:00:00.000001910</td>\n      <td>Andiron</td>\n      <td>Andiron</td>\n      <td>NaN</td>\n      <td>...</td>\n      <td>NaN</td>\n      <td>http://www.metmuseum.org/art/collection/search/45</td>\n      <td>NaN</td>\n      <td>NaN</td>\n      <td>Metropolitan Museum of Art, New York, NY</td>\n      <td>NaN</td>\n      <td>NaN</td>\n      <td>NaN</td>\n      <td>7.0</td>\n      <td>1787–90</td>\n    </tr>\n    <tr>\n      <th>...</th>\n      <td>...</td>\n      <td>...</td>\n      <td>...</td>\n      <td>...</td>\n      <td>...</td>\n      <td>...</td>\n      <td>...</td>\n      <td>...</td>\n      <td>...</td>\n      <td>...</td>\n      <td>...</td>\n      <td>...</td>\n      <td>...</td>\n      <td>...</td>\n      <td>...</td>\n      <td>...</td>\n      <td>...</td>\n      <td>...</td>\n      <td>...</td>\n      <td>...</td>\n      <td>...</td>\n    </tr>\n    <tr>\n      <th>857450</th>\n      <td>N6538.N5 P62 1967</td>\n      <td>False</td>\n      <td>False</td>\n      <td>False</td>\n      <td>NaN</td>\n      <td>The Libraries</td>\n      <td>NaT</td>\n      <td>Ten Afro-American artists of the Nineteenth ce...</td>\n      <td>Ten Afro-American artists of the Nineteenth ce...</td>\n      <td>NaN</td>\n      <td>...</td>\n      <td>NaN</td>\n      <td>http://www.metmuseum.org/art/collection/search...</td>\n      <td>NaN</td>\n      <td>NaN</td>\n      <td>Metropolitan Museum of Art, New York, NY</td>\n      <td>NaN</td>\n      <td>NaN</td>\n      <td>NaN</td>\n      <td>NaN</td>\n      <td>1967</td>\n    </tr>\n    <tr>\n      <th>857471</th>\n      <td>DT494 .F3 1963</td>\n      <td>False</td>\n      <td>False</td>\n      <td>False</td>\n      <td>NaN</td>\n      <td>The Libraries</td>\n      <td>NaT</td>\n      <td>West Africa vignettes</td>\n      <td>West Africa vignettes</td>\n      <td>NaN</td>\n      <td>...</td>\n      <td>NaN</td>\n      <td>http://www.metmuseum.org/art/collection/search...</td>\n      <td>NaN</td>\n      <td>NaN</td>\n      <td>Metropolitan Museum of Art, New York, NY</td>\n      <td>NaN</td>\n      <td>NaN</td>\n      <td>NaN</td>\n      <td>NaN</td>\n      <td>1963</td>\n    </tr>\n    <tr>\n      <th>857476</th>\n      <td>N6537.H3458 A4 2019 copy 1</td>\n      <td>False</td>\n      <td>False</td>\n      <td>False</td>\n      <td>NaN</td>\n      <td>The Libraries</td>\n      <td>NaT</td>\n      <td>Trenton Doyle Hancock : mind of the mound : cr...</td>\n      <td>Trenton Doyle Hancock : mind of the mound : cr...</td>\n      <td>NaN</td>\n      <td>...</td>\n      <td>NaN</td>\n      <td>http://www.metmuseum.org/art/collection/search...</td>\n      <td>NaN</td>\n      <td>NaN</td>\n      <td>Metropolitan Museum of Art, New York, NY</td>\n      <td>NaN</td>\n      <td>NaN</td>\n      <td>NaN</td>\n      <td>NaN</td>\n      <td>2019</td>\n    </tr>\n    <tr>\n      <th>857521</th>\n      <td>41.1.204</td>\n      <td>False</td>\n      <td>False</td>\n      <td>False</td>\n      <td>NaN</td>\n      <td>Drawings and Prints</td>\n      <td>1941-01-01 00:00:00.000000000</td>\n      <td>Christ before Annas, after Martin Schongauer</td>\n      <td>Christ before Annas, after Martin Schongauer</td>\n      <td>NaN</td>\n      <td>...</td>\n      <td>NaN</td>\n      <td>http://www.metmuseum.org/art/collection/search...</td>\n      <td>NaN</td>\n      <td>NaN</td>\n      <td>Metropolitan Museum of Art, New York, NY</td>\n      <td>NaN</td>\n      <td>NaN</td>\n      <td>NaN</td>\n      <td>NaN</td>\n      <td>0</td>\n    </tr>\n    <tr>\n      <th>857522</th>\n      <td>22.41.63</td>\n      <td>False</td>\n      <td>False</td>\n      <td>False</td>\n      <td>NaN</td>\n      <td>Drawings and Prints</td>\n      <td>1922-01-01 00:00:00.000000000</td>\n      <td>Arms of Rohrbach and Holzhauer</td>\n      <td>Arms of Rohrbach and Holzhauer</td>\n      <td>NaN</td>\n      <td>...</td>\n      <td>NaN</td>\n      <td>http://www.metmuseum.org/art/collection/search...</td>\n      <td>NaN</td>\n      <td>NaN</td>\n      <td>Metropolitan Museum of Art, New York, NY</td>\n      <td>NaN</td>\n      <td>NaN</td>\n      <td>NaN</td>\n      <td>NaN</td>\n      <td>0</td>\n    </tr>\n  </tbody>\n</table>\n<p>132982 rows × 55 columns</p>\n</div>"
     },
     "execution_count": 107,
     "metadata": {},
     "output_type": "execute_result"
    }
   ],
   "source": [
    "df.loc[df['Object Name'] == df['Title']]"
   ],
   "metadata": {
    "collapsed": false
   }
  },
  {
   "cell_type": "code",
   "execution_count": 108,
   "outputs": [
    {
     "name": "stdout",
     "output_type": "stream",
     "text": [
      "<class 'pandas.core.frame.DataFrame'>\n",
      "Int64Index: 477804 entries, 1 to 860873\n",
      "Data columns (total 55 columns):\n",
      " #   Column                   Non-Null Count   Dtype         \n",
      "---  ------                   --------------   -----         \n",
      " 0   Object Number            477804 non-null  object        \n",
      " 1   Is Highlight             477804 non-null  bool          \n",
      " 2   Is Timeline Work         477804 non-null  bool          \n",
      " 3   Is Public Domain         477804 non-null  bool          \n",
      " 4   Gallery Number           51725 non-null   float64       \n",
      " 5   Department               477804 non-null  object        \n",
      " 6   AccessionYear            474248 non-null  datetime64[ns]\n",
      " 7   Object Name              477804 non-null  object        \n",
      " 8   Title                    477804 non-null  object        \n",
      " 9   Culture                  207379 non-null  object        \n",
      " 10  Period                   90956 non-null   object        \n",
      " 11  Dynasty                  23233 non-null   object        \n",
      " 12  Reign                    11226 non-null   object        \n",
      " 13  Portfolio                23530 non-null   object        \n",
      " 14  Constituent ID           275535 non-null  object        \n",
      " 15  Artist Role              273436 non-null  object        \n",
      " 16  Artist Prefix            275535 non-null  object        \n",
      " 17  Artist Display Name      275535 non-null  object        \n",
      " 18  Artist Display Bio       273436 non-null  object        \n",
      " 19  Artist Suffix            275487 non-null  object        \n",
      " 20  Artist Alpha Sort        275535 non-null  object        \n",
      " 21  Artist Nationality       275535 non-null  object        \n",
      " 22  Artist Begin Date        275535 non-null  object        \n",
      " 23  Artist End Date          275535 non-null  object        \n",
      " 24  Artist Gender            103061 non-null  object        \n",
      " 25  Artist ULAN URL          222021 non-null  object        \n",
      " 26  Artist Wikidata URL      217732 non-null  object        \n",
      " 27  Object Date              477804 non-null  object        \n",
      " 28  Object Begin Date        477804 non-null  int64         \n",
      " 29  Object End Date          477804 non-null  int64         \n",
      " 30  Medium                   470684 non-null  object        \n",
      " 31  Dimensions               402510 non-null  object        \n",
      " 32  Credit Line              477353 non-null  object        \n",
      " 33  Geography Type           59769 non-null   object        \n",
      " 34  City                     32407 non-null   object        \n",
      " 35  State                    2550 non-null    object        \n",
      " 36  County                   8450 non-null    object        \n",
      " 37  Country                  75751 non-null   object        \n",
      " 38  Region                   31360 non-null   object        \n",
      " 39  Subregion                22124 non-null   object        \n",
      " 40  Locale                   15709 non-null   object        \n",
      " 41  Locus                    7493 non-null    object        \n",
      " 42  Excavation               16558 non-null   object        \n",
      " 43  River                    2095 non-null    object        \n",
      " 44  Classification           399598 non-null  object        \n",
      " 45  Rights and Reproduction  24198 non-null   object        \n",
      " 46  Link Resource            477804 non-null  object        \n",
      " 47  Object Wikidata URL      22265 non-null   object        \n",
      " 48  Metadata Date            0 non-null       float64       \n",
      " 49  Repository               477804 non-null  object        \n",
      " 50  Tags                     200400 non-null  object        \n",
      " 51  Tags AAT URL             200400 non-null  object        \n",
      " 52  Tags Wikidata URL        200400 non-null  object        \n",
      " 53  Object_name_len          476113 non-null  float64       \n",
      " 54  object_date_combined     477804 non-null  object        \n",
      "dtypes: bool(3), datetime64[ns](1), float64(3), int64(2), object(46)\n",
      "memory usage: 194.6+ MB\n"
     ]
    }
   ],
   "source": [
    "df.info()"
   ],
   "metadata": {
    "collapsed": false
   }
  },
  {
   "cell_type": "markdown",
   "source": [
    "# 7. Focus more precisely on the cleaning of the \"Medium\" feature. As if you were to use it in KNN algorithm later. _(2 points)_"
   ],
   "metadata": {
    "collapsed": false
   }
  },
  {
   "cell_type": "markdown",
   "source": [
    "lets take a look at some of the values"
   ],
   "metadata": {
    "collapsed": false
   }
  },
  {
   "cell_type": "code",
   "execution_count": 109,
   "outputs": [
    {
     "data": {
      "text/plain": "          Object Number  Is Highlight  Is Timeline Work  Is Public Domain  \\\nObject ID                                                                   \n1            1979.486.1         False             False             False   \n15             16.74.49         False             False             False   \n16             16.74.27         False             False             False   \n24             16.74.33         False             False             False   \n33                64.62         False             False             False   \n...                 ...           ...               ...               ...   \n858218     1980.1124.30         False             False             False   \n860859      23.112.2889         False             False              True   \n860860     23.112.2889a         False             False              True   \n860863      23.112.2891         False             False              True   \n860873      23.112.2896         False             False              True   \n\n           Gallery Number           Department                 AccessionYear  \\\nObject ID                                                                      \n1                     NaN    The American Wing 1970-01-01 00:00:00.000001979   \n15                    NaN    The American Wing 1970-01-01 00:00:00.000001916   \n16                    NaN    The American Wing 1970-01-01 00:00:00.000001916   \n24                    NaN    The American Wing 1970-01-01 00:00:00.000001916   \n33                  774.0    The American Wing 1970-01-01 00:00:00.000001964   \n...                   ...                  ...                           ...   \n858218                NaN  Drawings and Prints 1980-01-01 00:00:00.000000000   \n860859                NaN  Drawings and Prints 1923-01-01 00:00:00.000000000   \n860860                NaN  Drawings and Prints 1923-01-01 00:00:00.000000000   \n860863                NaN  Drawings and Prints 1923-01-01 00:00:00.000000000   \n860873                NaN  Drawings and Prints 1923-01-01 00:00:00.000000000   \n\n          Object Name                                      Title   Culture  \\\nObject ID                                                                    \n1                Coin               One-dollar Liberty Head Coin       NaN   \n15               Coin                             Coin, 1/2 Real   Mexican   \n16               Peso                             Coin, 1/4 Peso   Mexican   \n24           Centavos                          Coin, 10 Centavos   Mexican   \n33               Bust                    Bust of Abraham Lincoln  American   \n...               ...                                        ...       ...   \n858218          Print                       Louis Pierre Baltard       NaN   \n860859        Drawing                    Stanhope Phaeton #21222       NaN   \n860860        Drawing  Stanhope Phaeton #21222, #22136, #25312-3       NaN   \n860863        Drawing                        Mail Phaeton #23303       NaN   \n860873        Drawing                           Stanhope Phaeton       NaN   \n\n           ... Rights and Reproduction  \\\nObject ID  ...                           \n1          ...                     NaN   \n15         ...                     NaN   \n16         ...                     NaN   \n24         ...                     NaN   \n33         ...                     NaN   \n...        ...                     ...   \n858218     ...                     NaN   \n860859     ...                     NaN   \n860860     ...                     NaN   \n860863     ...                     NaN   \n860873     ...                     NaN   \n\n                                               Link Resource  \\\nObject ID                                                      \n1           http://www.metmuseum.org/art/collection/search/1   \n15         http://www.metmuseum.org/art/collection/search/15   \n16         http://www.metmuseum.org/art/collection/search/16   \n24         http://www.metmuseum.org/art/collection/search/24   \n33         http://www.metmuseum.org/art/collection/search/33   \n...                                                      ...   \n858218     http://www.metmuseum.org/art/collection/search...   \n860859     http://www.metmuseum.org/art/collection/search...   \n860860     http://www.metmuseum.org/art/collection/search...   \n860863     http://www.metmuseum.org/art/collection/search...   \n860873     http://www.metmuseum.org/art/collection/search...   \n\n          Object Wikidata URL Metadata Date  \\\nObject ID                                     \n1                         NaN           NaN   \n15                        NaN           NaN   \n16                        NaN           NaN   \n24                        NaN           NaN   \n33                        NaN           NaN   \n...                       ...           ...   \n858218                    NaN           NaN   \n860859                    NaN           NaN   \n860860                    NaN           NaN   \n860863                    NaN           NaN   \n860873                    NaN           NaN   \n\n                                         Repository  \\\nObject ID                                             \n1          Metropolitan Museum of Art, New York, NY   \n15         Metropolitan Museum of Art, New York, NY   \n16         Metropolitan Museum of Art, New York, NY   \n24         Metropolitan Museum of Art, New York, NY   \n33         Metropolitan Museum of Art, New York, NY   \n...                                             ...   \n858218     Metropolitan Museum of Art, New York, NY   \n860859     Metropolitan Museum of Art, New York, NY   \n860860     Metropolitan Museum of Art, New York, NY   \n860863     Metropolitan Museum of Art, New York, NY   \n860873     Metropolitan Museum of Art, New York, NY   \n\n                                    Tags  \\\nObject ID                                  \n1                                    NaN   \n15                                   NaN   \n16                                   NaN   \n24                                   NaN   \n33         Men|Abraham Lincoln|Portraits   \n...                                  ...   \n858218                               NaN   \n860859                         Carriages   \n860860                         Carriages   \n860863                         Carriages   \n860873                         Carriages   \n\n                                                Tags AAT URL  \\\nObject ID                                                      \n1                                                        NaN   \n15                                                       NaN   \n16                                                       NaN   \n24                                                       NaN   \n33         http://vocab.getty.edu/page/aat/300025928|http...   \n...                                                      ...   \n858218                                                   NaN   \n860859             http://vocab.getty.edu/page/aat/300185335   \n860860             http://vocab.getty.edu/page/aat/300185335   \n860863             http://vocab.getty.edu/page/aat/300185335   \n860873             http://vocab.getty.edu/page/aat/300185335   \n\n                                           Tags Wikidata URL Object_name_len  \\\nObject ID                                                                      \n1                                                        NaN             4.0   \n15                                                       NaN             4.0   \n16                                                       NaN             4.0   \n24                                                       NaN             8.0   \n33         https://www.wikidata.org/wiki/Q8441|https://ww...             4.0   \n...                                                      ...             ...   \n858218                                                   NaN             5.0   \n860859                 https://www.wikidata.org/wiki/Q235356             7.0   \n860860                 https://www.wikidata.org/wiki/Q235356             7.0   \n860863                 https://www.wikidata.org/wiki/Q235356             7.0   \n860873                 https://www.wikidata.org/wiki/Q235356             7.0   \n\n          object_date_combined  \nObject ID                       \n1                         1853  \n15                   1665–1700  \n16                   1800–1900  \n24                     1860–70  \n33                        1876  \n...                        ...  \n858218                    1852  \n860859                    1897  \n860860                    1897  \n860863                    1897  \n860873               1890–1900  \n\n[64686 rows x 55 columns]",
      "text/html": "<div>\n<style scoped>\n    .dataframe tbody tr th:only-of-type {\n        vertical-align: middle;\n    }\n\n    .dataframe tbody tr th {\n        vertical-align: top;\n    }\n\n    .dataframe thead th {\n        text-align: right;\n    }\n</style>\n<table border=\"1\" class=\"dataframe\">\n  <thead>\n    <tr style=\"text-align: right;\">\n      <th></th>\n      <th>Object Number</th>\n      <th>Is Highlight</th>\n      <th>Is Timeline Work</th>\n      <th>Is Public Domain</th>\n      <th>Gallery Number</th>\n      <th>Department</th>\n      <th>AccessionYear</th>\n      <th>Object Name</th>\n      <th>Title</th>\n      <th>Culture</th>\n      <th>...</th>\n      <th>Rights and Reproduction</th>\n      <th>Link Resource</th>\n      <th>Object Wikidata URL</th>\n      <th>Metadata Date</th>\n      <th>Repository</th>\n      <th>Tags</th>\n      <th>Tags AAT URL</th>\n      <th>Tags Wikidata URL</th>\n      <th>Object_name_len</th>\n      <th>object_date_combined</th>\n    </tr>\n    <tr>\n      <th>Object ID</th>\n      <th></th>\n      <th></th>\n      <th></th>\n      <th></th>\n      <th></th>\n      <th></th>\n      <th></th>\n      <th></th>\n      <th></th>\n      <th></th>\n      <th></th>\n      <th></th>\n      <th></th>\n      <th></th>\n      <th></th>\n      <th></th>\n      <th></th>\n      <th></th>\n      <th></th>\n      <th></th>\n      <th></th>\n    </tr>\n  </thead>\n  <tbody>\n    <tr>\n      <th>1</th>\n      <td>1979.486.1</td>\n      <td>False</td>\n      <td>False</td>\n      <td>False</td>\n      <td>NaN</td>\n      <td>The American Wing</td>\n      <td>1970-01-01 00:00:00.000001979</td>\n      <td>Coin</td>\n      <td>One-dollar Liberty Head Coin</td>\n      <td>NaN</td>\n      <td>...</td>\n      <td>NaN</td>\n      <td>http://www.metmuseum.org/art/collection/search/1</td>\n      <td>NaN</td>\n      <td>NaN</td>\n      <td>Metropolitan Museum of Art, New York, NY</td>\n      <td>NaN</td>\n      <td>NaN</td>\n      <td>NaN</td>\n      <td>4.0</td>\n      <td>1853</td>\n    </tr>\n    <tr>\n      <th>15</th>\n      <td>16.74.49</td>\n      <td>False</td>\n      <td>False</td>\n      <td>False</td>\n      <td>NaN</td>\n      <td>The American Wing</td>\n      <td>1970-01-01 00:00:00.000001916</td>\n      <td>Coin</td>\n      <td>Coin, 1/2 Real</td>\n      <td>Mexican</td>\n      <td>...</td>\n      <td>NaN</td>\n      <td>http://www.metmuseum.org/art/collection/search/15</td>\n      <td>NaN</td>\n      <td>NaN</td>\n      <td>Metropolitan Museum of Art, New York, NY</td>\n      <td>NaN</td>\n      <td>NaN</td>\n      <td>NaN</td>\n      <td>4.0</td>\n      <td>1665–1700</td>\n    </tr>\n    <tr>\n      <th>16</th>\n      <td>16.74.27</td>\n      <td>False</td>\n      <td>False</td>\n      <td>False</td>\n      <td>NaN</td>\n      <td>The American Wing</td>\n      <td>1970-01-01 00:00:00.000001916</td>\n      <td>Peso</td>\n      <td>Coin, 1/4 Peso</td>\n      <td>Mexican</td>\n      <td>...</td>\n      <td>NaN</td>\n      <td>http://www.metmuseum.org/art/collection/search/16</td>\n      <td>NaN</td>\n      <td>NaN</td>\n      <td>Metropolitan Museum of Art, New York, NY</td>\n      <td>NaN</td>\n      <td>NaN</td>\n      <td>NaN</td>\n      <td>4.0</td>\n      <td>1800–1900</td>\n    </tr>\n    <tr>\n      <th>24</th>\n      <td>16.74.33</td>\n      <td>False</td>\n      <td>False</td>\n      <td>False</td>\n      <td>NaN</td>\n      <td>The American Wing</td>\n      <td>1970-01-01 00:00:00.000001916</td>\n      <td>Centavos</td>\n      <td>Coin, 10 Centavos</td>\n      <td>Mexican</td>\n      <td>...</td>\n      <td>NaN</td>\n      <td>http://www.metmuseum.org/art/collection/search/24</td>\n      <td>NaN</td>\n      <td>NaN</td>\n      <td>Metropolitan Museum of Art, New York, NY</td>\n      <td>NaN</td>\n      <td>NaN</td>\n      <td>NaN</td>\n      <td>8.0</td>\n      <td>1860–70</td>\n    </tr>\n    <tr>\n      <th>33</th>\n      <td>64.62</td>\n      <td>False</td>\n      <td>False</td>\n      <td>False</td>\n      <td>774.0</td>\n      <td>The American Wing</td>\n      <td>1970-01-01 00:00:00.000001964</td>\n      <td>Bust</td>\n      <td>Bust of Abraham Lincoln</td>\n      <td>American</td>\n      <td>...</td>\n      <td>NaN</td>\n      <td>http://www.metmuseum.org/art/collection/search/33</td>\n      <td>NaN</td>\n      <td>NaN</td>\n      <td>Metropolitan Museum of Art, New York, NY</td>\n      <td>Men|Abraham Lincoln|Portraits</td>\n      <td>http://vocab.getty.edu/page/aat/300025928|http...</td>\n      <td>https://www.wikidata.org/wiki/Q8441|https://ww...</td>\n      <td>4.0</td>\n      <td>1876</td>\n    </tr>\n    <tr>\n      <th>...</th>\n      <td>...</td>\n      <td>...</td>\n      <td>...</td>\n      <td>...</td>\n      <td>...</td>\n      <td>...</td>\n      <td>...</td>\n      <td>...</td>\n      <td>...</td>\n      <td>...</td>\n      <td>...</td>\n      <td>...</td>\n      <td>...</td>\n      <td>...</td>\n      <td>...</td>\n      <td>...</td>\n      <td>...</td>\n      <td>...</td>\n      <td>...</td>\n      <td>...</td>\n      <td>...</td>\n    </tr>\n    <tr>\n      <th>858218</th>\n      <td>1980.1124.30</td>\n      <td>False</td>\n      <td>False</td>\n      <td>False</td>\n      <td>NaN</td>\n      <td>Drawings and Prints</td>\n      <td>1980-01-01 00:00:00.000000000</td>\n      <td>Print</td>\n      <td>Louis Pierre Baltard</td>\n      <td>NaN</td>\n      <td>...</td>\n      <td>NaN</td>\n      <td>http://www.metmuseum.org/art/collection/search...</td>\n      <td>NaN</td>\n      <td>NaN</td>\n      <td>Metropolitan Museum of Art, New York, NY</td>\n      <td>NaN</td>\n      <td>NaN</td>\n      <td>NaN</td>\n      <td>5.0</td>\n      <td>1852</td>\n    </tr>\n    <tr>\n      <th>860859</th>\n      <td>23.112.2889</td>\n      <td>False</td>\n      <td>False</td>\n      <td>True</td>\n      <td>NaN</td>\n      <td>Drawings and Prints</td>\n      <td>1923-01-01 00:00:00.000000000</td>\n      <td>Drawing</td>\n      <td>Stanhope Phaeton #21222</td>\n      <td>NaN</td>\n      <td>...</td>\n      <td>NaN</td>\n      <td>http://www.metmuseum.org/art/collection/search...</td>\n      <td>NaN</td>\n      <td>NaN</td>\n      <td>Metropolitan Museum of Art, New York, NY</td>\n      <td>Carriages</td>\n      <td>http://vocab.getty.edu/page/aat/300185335</td>\n      <td>https://www.wikidata.org/wiki/Q235356</td>\n      <td>7.0</td>\n      <td>1897</td>\n    </tr>\n    <tr>\n      <th>860860</th>\n      <td>23.112.2889a</td>\n      <td>False</td>\n      <td>False</td>\n      <td>True</td>\n      <td>NaN</td>\n      <td>Drawings and Prints</td>\n      <td>1923-01-01 00:00:00.000000000</td>\n      <td>Drawing</td>\n      <td>Stanhope Phaeton #21222, #22136, #25312-3</td>\n      <td>NaN</td>\n      <td>...</td>\n      <td>NaN</td>\n      <td>http://www.metmuseum.org/art/collection/search...</td>\n      <td>NaN</td>\n      <td>NaN</td>\n      <td>Metropolitan Museum of Art, New York, NY</td>\n      <td>Carriages</td>\n      <td>http://vocab.getty.edu/page/aat/300185335</td>\n      <td>https://www.wikidata.org/wiki/Q235356</td>\n      <td>7.0</td>\n      <td>1897</td>\n    </tr>\n    <tr>\n      <th>860863</th>\n      <td>23.112.2891</td>\n      <td>False</td>\n      <td>False</td>\n      <td>True</td>\n      <td>NaN</td>\n      <td>Drawings and Prints</td>\n      <td>1923-01-01 00:00:00.000000000</td>\n      <td>Drawing</td>\n      <td>Mail Phaeton #23303</td>\n      <td>NaN</td>\n      <td>...</td>\n      <td>NaN</td>\n      <td>http://www.metmuseum.org/art/collection/search...</td>\n      <td>NaN</td>\n      <td>NaN</td>\n      <td>Metropolitan Museum of Art, New York, NY</td>\n      <td>Carriages</td>\n      <td>http://vocab.getty.edu/page/aat/300185335</td>\n      <td>https://www.wikidata.org/wiki/Q235356</td>\n      <td>7.0</td>\n      <td>1897</td>\n    </tr>\n    <tr>\n      <th>860873</th>\n      <td>23.112.2896</td>\n      <td>False</td>\n      <td>False</td>\n      <td>True</td>\n      <td>NaN</td>\n      <td>Drawings and Prints</td>\n      <td>1923-01-01 00:00:00.000000000</td>\n      <td>Drawing</td>\n      <td>Stanhope Phaeton</td>\n      <td>NaN</td>\n      <td>...</td>\n      <td>NaN</td>\n      <td>http://www.metmuseum.org/art/collection/search...</td>\n      <td>NaN</td>\n      <td>NaN</td>\n      <td>Metropolitan Museum of Art, New York, NY</td>\n      <td>Carriages</td>\n      <td>http://vocab.getty.edu/page/aat/300185335</td>\n      <td>https://www.wikidata.org/wiki/Q235356</td>\n      <td>7.0</td>\n      <td>1890–1900</td>\n    </tr>\n  </tbody>\n</table>\n<p>64686 rows × 55 columns</p>\n</div>"
     },
     "execution_count": 109,
     "metadata": {},
     "output_type": "execute_result"
    }
   ],
   "source": [
    "df.drop_duplicates(subset=['Medium'])"
   ],
   "metadata": {
    "collapsed": false
   }
  },
  {
   "cell_type": "markdown",
   "source": [
    "64686 is too many unique values, lets try to reduce it."
   ],
   "metadata": {
    "collapsed": false
   }
  },
  {
   "cell_type": "code",
   "execution_count": 110,
   "outputs": [],
   "source": [
    "# ignore this\n",
    "medium_set = set()"
   ],
   "metadata": {
    "collapsed": false
   }
  },
  {
   "cell_type": "code",
   "execution_count": 111,
   "outputs": [],
   "source": [
    "import re\n",
    "\n",
    "def convert(medium):\n",
    "    # make everything lower case\n",
    "    medium = str(medium)\n",
    "    medium = medium.lower()\n",
    "\n",
    "    # remove () and [] including their contents\n",
    "    # https://stackoverflow.com/questions/14596884/remove-text-between-and\n",
    "    medium = re.sub(\"[\\(\\[].*?[\\)\\]]\", \"\", medium)\n",
    "\n",
    "    # split into list of mediums\n",
    "    # https://stackoverflow.com/questions/4998629/split-string-with-multiple-delimiters-in-python\n",
    "    # medium_list_raw = re.split('; |, | or |\\n| and | on ', medium)\n",
    "    medium_list_raw = re.split(';|,| or |\\n| and | on |\\.', medium)\n",
    "\n",
    "    medium_list=[]\n",
    "    for m in medium_list_raw:\n",
    "        # remove leading and trailing whitespaces\n",
    "        m.strip()\n",
    "\n",
    "\n",
    "        # when there is `with` in medium, the 1st part is always the most important\n",
    "        m = m.split(\"with\")[0]\n",
    "\n",
    "        # when there are multiple word, the last one is usually the important subject, the words before that are irrelevant adjectives\n",
    "        m = m.split(\" \")[-1]\n",
    "\n",
    "        m.strip()\n",
    "        medium_list.append(m.strip())\n",
    "    # medium_list = medium_list_raw\n",
    "\n",
    "    # # remove empty substrings\n",
    "    medium_list = list(filter(len, medium_list))\n",
    "    # deduplicate substrings\n",
    "    medium_list = list(set(medium_list))\n",
    "\n",
    "    # ignore this\n",
    "    for m in medium_list:\n",
    "        medium_set.add(m)\n",
    "\n",
    "    # sort mediums in a list\n",
    "    medium_list.sort()\n",
    "    return \", \".join(medium_list)"
   ],
   "metadata": {
    "collapsed": false
   }
  },
  {
   "cell_type": "code",
   "execution_count": 112,
   "outputs": [
    {
     "data": {
      "text/plain": "Object ID\n1                                       gold\n2                                       gold\n3                                       gold\n4                                       gold\n5                                       gold\n                         ...                \n860869    canvas, edge, graphite, perforated\n860870                         graphite, ink\n860871                               etching\n860872                              graphite\n860873                                   ink\nName: Medium, Length: 477804, dtype: object"
     },
     "execution_count": 112,
     "metadata": {},
     "output_type": "execute_result"
    }
   ],
   "source": [
    "df.Medium.apply(convert)"
   ],
   "metadata": {
    "collapsed": false
   }
  },
  {
   "cell_type": "code",
   "execution_count": 113,
   "outputs": [],
   "source": [
    "medium_reduced = df.Medium.apply(convert)"
   ],
   "metadata": {
    "collapsed": false
   }
  },
  {
   "cell_type": "code",
   "execution_count": 114,
   "outputs": [
    {
     "data": {
      "text/plain": "{'process-',\n 'iii',\n 'slit',\n 'e-nashiji',\n 'sild',\n 'cutouts',\n 'remounted',\n 'textured',\n 'saphires',\n 'flower',\n 'knit',\n 'leviathan',\n '36/50',\n '41/50',\n 'wood-polychromed',\n 'asbestos',\n 'polychromy',\n 'watelet',\n 'stae',\n 'greywacke',\n 'whistler',\n 'burner',\n 'materilals',\n 'barkcloth',\n 'whiteware',\n 'glued',\n 'pâte',\n 'mineral',\n 'stone-slate',\n '5',\n 'pvc',\n 'silk-synthetic',\n 'lacewood',\n 'pills',\n 'sizes',\n 'essence',\n 'amethyst?',\n 'colophon',\n 'chloromelanite',\n 'surfaces',\n 'directors',\n 'enamelled',\n 'known',\n 'scraped',\n 'banderoles',\n 'chestnut',\n 'brick',\n 'granite',\n 'limewood',\n 'white',\n 'hotei',\n 'haircloth',\n 'handmade',\n 'thorn',\n 'copper/bronze',\n 'fame',\n 'extant',\n 'grapes',\n 'transparencies',\n 'graywacke',\n 'ii/iv',\n 'of',\n 'shrine',\n 'biscuit',\n 'spar',\n 'potin',\n 'black-white',\n 'cupola',\n 'striated',\n 'amaranth',\n 'illustrations:engraving',\n 'calculations',\n '42)',\n 'pens',\n 'flint',\n 'reddish',\n 'moire',\n 'glitter',\n 'drawers',\n 'tie',\n 'gourds',\n '184',\n 'ceramic',\n '92',\n 'them',\n 'model',\n 'fax',\n '28',\n 'illustrations',\n 'blackened',\n 'side',\n 'sheeting',\n 'knees',\n '25/75',\n 'buriin',\n 'drab',\n 'pad',\n 'hue',\n 'bead/bells',\n 'stripes',\n 'terracotta',\n 'aventurine',\n 'polyamide',\n 'granodiorite',\n 'pencil-wash-2graphite',\n 'crochet',\n 'green/yellow-green',\n 'diadem',\n 'c-print',\n 'unknown',\n 'filligree',\n 'tigerware',\n 'autotype',\n 'boards',\n 'lettering',\n 'oil',\n 'overglaze-painted',\n 'dusting',\n 'cleaned',\n 'miniature',\n 'openwork',\n 'ishime',\n 'blues',\n 'sheep',\n 'beryls',\n 'tofu',\n 'seashell',\n 'bulb',\n 'tin-glazed',\n 'shelves',\n 'nh)',\n 'asuka',\n 'pulboard',\n 'heavy',\n 'egg',\n 'paintbrush',\n 'serpentine/aphrodite',\n 'artotype',\n 'cimolo',\n 'corn',\n 'mitre',\n 'facsimile',\n 'aquqmarine',\n 'counterproofs',\n 'pitted',\n 'tone',\n 'guards',\n 'on',\n 'collograph',\n 'cut-slipware',\n 'tortoise',\n 'ngraving',\n '55',\n 'innk',\n 'lithorgraph',\n 'hand',\n 'parcel-gilded',\n 'accretion',\n 'orihon',\n 'underglaze',\n 'window',\n '-and-short',\n 'impresssion',\n 'thicker',\n 'sandpaper',\n 'chenille',\n 'rim',\n 'stamped',\n 'longevity',\n 'inlays',\n 'moldmade',\n 'scratched',\n 'tapestry',\n 'stock',\n 'sides',\n 'clipped',\n 'mackie',\n 'cellulose',\n 'web',\n 'moleskin',\n 'modern',\n 'mottoes',\n 'ear',\n 'mermaid',\n 'serpentine',\n 'gimp',\n '/turke/1',\n 'graphtie',\n 'stetite',\n 'sp',\n 'lavender',\n 'serum',\n 'good',\n 'gilt-copper',\n 'crystals',\n 'duck',\n 'lawler',\n 'collotypes?',\n 'heliogravure',\n 'remains',\n 'lapel',\n 'strap',\n 'antimony',\n 'panels',\n 'variant',\n 'alloys',\n 'maps',\n 'lift',\n 'cutout',\n 'case',\n 'stems',\n 'ruler',\n 'penn',\n 'assignment',\n 'european',\n 'freehand',\n 'overall',\n 'divided',\n 'off-centre',\n 'diorite',\n 'colour',\n 'polish',\n '4',\n 'metallcuts',\n 'unillustrated',\n 'colorcore®',\n 'motor',\n 'diagrams',\n '54',\n 'linen/wool',\n 'earhenware',\n '15',\n '140',\n 'engraving?',\n 'settings',\n 'grained',\n 'lusterware',\n 'lignette',\n 'mokume-nuri',\n 'opalescent',\n '100',\n 'shutters',\n 'fulvii',\n 'equipment',\n 'standard',\n 'mezzotints',\n 'horns',\n 'bread',\n 'bite',\n '12)',\n 'lithographer',\n 'chromo-lithographs',\n 'brocade',\n 'needlework',\n 'purl',\n 'iron',\n 'agate',\n 'mezzogravure',\n 'fridrich',\n 'pasted',\n 'softground',\n 'mounting',\n 'enamel-painted',\n 'scraper',\n 'tyvek',\n 'lustred',\n 'bray',\n 'limestone\"',\n 'm',\n 'bronzze',\n 'simili-vellum',\n 'pontil',\n 'zhun',\n 'églomisé',\n 'jute',\n 'phototelegraphy',\n 'russet',\n 'juniper',\n 'ivor',\n 'bivalve',\n 'hirame',\n 'chalk?',\n 'inlaid',\n 'free-blown',\n 'mice',\n 'nicolo',\n 'carpet',\n '82',\n 'needles',\n 'reamed',\n 'sq',\n 'lights',\n 'work',\n 'agates',\n 'pebbles?',\n 'deerskin',\n 'ceremony',\n 'mount',\n 'acorns',\n '1885\"',\n 'calque',\n 'pigment)',\n 'added',\n '8/25',\n 'celotex',\n 'barbs',\n 'hardground',\n 'red-brown',\n 'blocks',\n 'fresco',\n 'sawdust',\n 'teca',\n 'postcard',\n 'togidashi',\n 'film',\n 'incavo',\n 'rock',\n 'outline',\n 'zalce',\n '17/25',\n 'wool',\n 'velcro',\n 'rembrandt',\n 'pouch',\n 'de',\n 'sheet-metal',\n 'attendants',\n 'tsuikoku',\n 'lyocell',\n 'edges',\n 'crab',\n 'heighteningr',\n 'blanc',\n 'corners',\n 'joined',\n 'rubbed',\n 'guilding',\n 'metalwork-gold',\n 'amethyst',\n 'footstool',\n \"cat's-eyes\",\n 'wax)',\n 'wilkinson',\n 'auriferous-silver',\n 'screen',\n 'assembled',\n 'poppy',\n 'suede',\n '19/25',\n 'moosehair',\n 'tissue',\n 'sequins',\n 'silicon',\n 'mud?',\n 'silvered)',\n 'metalcuts',\n 'single-channel',\n 'scale',\n 'ruby',\n 'ironwood',\n 'whitewash',\n 'hard',\n 'escapement',\n 'unfired',\n 'standing',\n 'shoulders',\n 'lampwork',\n 'c',\n 'albitite',\n 'buratto',\n 'replacements',\n 'bezel',\n 'loops',\n 'additions',\n 'fifth',\n 'bronzing',\n 'champleve',\n 'paste-board',\n 'sinew',\n 'basket',\n '50/50',\n 'iron-red',\n '12/14',\n 'rider)',\n 'formica',\n '\"cold-painted',\n 'gourt',\n 'staves',\n 'fishskin',\n 'stonepaste',\n 'tradcloth',\n 'screen-printed',\n '11/30',\n 'pole',\n 'applied',\n 'garment',\n 'mitered',\n 'b',\n 'ethching',\n 'cushion',\n 'liftground',\n 'softgound',\n 'rohrbach',\n '10',\n 'cane',\n 'mahoogany',\n 'symbols',\n '\"ruffles\"',\n 'selvage',\n 'carmine',\n 'dolomite',\n 'okawara',\n 'wall',\n 'oil-',\n 'papier-maché',\n 'breccia',\n 'furnace',\n 'halftone',\n 'chrysoberyl',\n 'monograph',\n 'hook',\n 'components',\n 'developed',\n 'key',\n 'baptist',\n 'pastes',\n 'silver',\n 'pinewood',\n 'gouged',\n 'satinwood-veneer',\n 'abs',\n 'linen?',\n 'engravingl',\n 'elastic',\n 'bookcover',\n 'studies',\n 'rubber-stamping',\n 'ebonite',\n 'black-blue',\n 'handprinting',\n 'chinecollé',\n 'bronze-gilt',\n '1844',\n 'kurochiku',\n 'pot-metal',\n 'sand',\n 'sage-green',\n 'honeycombs',\n 'acetate',\n '18',\n 'wrappers',\n 'pitch',\n 'ballpoint',\n 'celluloid',\n 'wad',\n 'touches',\n 'bells/beads',\n 'sardonyx',\n 'emulsions',\n 'tamarisk',\n 'tusche',\n 'booklets',\n 'mouthrim',\n 'off-white',\n 'embossment',\n 'pincered',\n 'walrus',\n 'red-orange',\n 'synthteic',\n 'movement',\n 'terminals',\n 'binding',\n 'cashmere',\n 'plinth',\n 'fox',\n 'in-glaze-',\n 'horizon',\n 'fishline',\n 'mandolino',\n 'azurite',\n 'photochrom',\n 'half-tone',\n 'shells',\n 'lace',\n 'system',\n 'english',\n 'vertical',\n 'patina',\n 'gold/metalwork',\n 'fleur-de-lis',\n 'ivorine',\n 'towel',\n 'bluish',\n 'emulsion',\n '80',\n 'calcinated',\n 'sticks',\n 'angora/wool',\n 'olive-green',\n 'medium-weight',\n 'later',\n 'polyester-viscose',\n 'removed',\n 'marbleized',\n 'april',\n 'poplar',\n 'work)',\n 'appliqued',\n 'serpentinite',\n 'electrotypes',\n 'reeds',\n 'hip-length',\n 'stippled',\n 'trailed',\n 'litharge',\n 'pyrophyllite',\n 'wool/cotton',\n 'opals',\n 'nagaban',\n 'copper-bronze',\n 'machine-made',\n 'berries',\n 'cano',\n 'letters',\n 'incrusted',\n 'gutta-percha',\n 'pods',\n 'pattina',\n 'india',\n 'lampas',\n 'yuzen-dyed',\n 'shallow',\n 'cold-painted',\n 'the',\n 'kid',\n 'pale',\n 'stitching',\n 'plutonite®',\n 'couching',\n 'corrected',\n 'sanded',\n 'raised',\n 'lashing',\n 'veral',\n 'rusted',\n 'goache',\n 'diabase',\n 'applications',\n 'hand-tinted',\n 'clasps',\n 'raisonné',\n 'padauk',\n 'determined',\n 'filler',\n 'fresh-water-pearls',\n 'peach',\n 'amalgam',\n 'willow',\n 'glass-latticinio',\n 'ormolu',\n 'pate',\n 'extensions',\n 'patte-de-verre',\n 'typescript',\n '1873\"',\n 'damasee',\n 'ocher',\n 'relic',\n 'lustreware',\n 'lithographt',\n 'underglaze-',\n 'bori',\n 'ferrule',\n '2144b',\n '09',\n 'phototype',\n 'detected',\n 'scrap',\n 'areas',\n 'oxide',\n 'polypropylene',\n 'marquetry',\n 'soft-ground',\n 'handscroll',\n 'seated',\n 'silver-gilt',\n 'stitiches',\n '2144a',\n 'diopside',\n 'solder',\n 'painting?',\n 'slippped',\n 'posthumous',\n 'gemstones',\n '48)',\n 'photo-etchings',\n 'papyrus',\n 'watercolr',\n 'talc',\n 'coil',\n 'sheets',\n 'vermeil',\n 'whatman',\n 'studs',\n 'cones',\n 'softeners',\n 'wrapping',\n 'negative',\n 'magnesite',\n '206',\n 'rayon?',\n 'fish',\n 'blue',\n 'frontispiece',\n 'highlights',\n 'obsidian',\n 'borderline',\n 'togidashi/maki-e',\n 'elastane',\n 'fundame',\n 'ayala',\n 'claystone',\n 'actuator',\n '11/20',\n 'base',\n 'mechanism',\n 'translation',\n 'scorper',\n 'bitumem',\n 'lycra',\n 'melamine',\n '4a',\n 'silverf',\n '12/100',\n 'chūban',\n 'thumbprint',\n 'rayon/wool',\n '13/25',\n 'book',\n 'holabird',\n 'hollar',\n '160',\n 'triacetate',\n 'gunshot',\n '21/40',\n 'underneath',\n 'graphite?',\n '11/25',\n 'drypoint?',\n 'waterclor',\n '150',\n 'tortoises',\n 'triangular',\n 'earrings',\n 'yarns',\n 'running',\n 'men',\n 'softwood',\n 'bands',\n 'sappherine',\n 'gouche',\n 'fossilized',\n '1885',\n 'matter',\n 'aluminograph',\n 'pistons',\n 'wtercolor',\n 'dress',\n 'eglomise)',\n 'bulbs',\n 'compound',\n '228',\n 'jersey',\n '8/30',\n 'weaving',\n 'underglaze-painted',\n 'flannel',\n 'handwriting',\n 'cornelians',\n 'quartaite',\n 'sublimation',\n 'horsehair?',\n 'leatherette',\n 'buckram',\n 'markings',\n 'picrolite',\n 'appeaered',\n 'slab',\n 'quarternary',\n 'edgeing',\n 'tailpieces',\n 'animation',\n 'filaments',\n 'tiles',\n 'plush',\n 'overlay',\n 'vol',\n '60',\n 'topaz-tinted',\n 'aqautint',\n '\"quartzwacke\"',\n 'column',\n 'cloudings',\n 'plum',\n 'faille',\n 'endpieces',\n 'coils',\n 'veinings',\n 'gilt?',\n 'shelf',\n 'process?',\n 'mm',\n 'hanging',\n 'grounds',\n 'headpiece',\n 'soles',\n 'inscriptions',\n 'ears',\n 'ties',\n 'purple-brown',\n 'enamel?',\n 'pelts',\n 'outlets',\n 'gilding',\n 'lisle',\n 'shearling',\n 'visible',\n 'cabochon',\n 'same',\n 'ironstone',\n 'shape',\n 'polyester',\n 'encrustation',\n 'strainer',\n 'ō-ōban',\n 'constructed',\n 'reprint',\n '152',\n 'epoxy',\n 'yellow-green',\n 'daguerrotypes',\n 'reticella',\n 'spinels',\n '1904',\n 'bark',\n 'woman',\n 'five',\n 'airbrush',\n 'cardboard',\n 'yewwood',\n 'down',\n 'lion',\n 'tar',\n 'albertypes',\n 'pina',\n 'oen',\n 'arrows',\n 'castelli\"',\n 'terrycloth',\n 'runners',\n '86)',\n 'medallions',\n 'conglomerate',\n '1997',\n 'gypsum',\n 'ribs',\n 'silkk',\n '1878',\n 'onyx',\n 'jewels',\n 'implements',\n 'bird',\n '74/75',\n 'numbering)',\n '\"cold-painted\"',\n 'brownish-green',\n 'silk/cellophane',\n 'possibly',\n 'cagework',\n 'drypiont',\n 'slag',\n 'lamé',\n 'motifs',\n 'plates:engraving',\n 'statuary',\n 'stones',\n 'branches',\n 'lithographs?',\n 'thuya',\n 'egyptian',\n 'agate?',\n 'zincograph',\n 'beechwood?',\n 'bat',\n 'heliotypes',\n 'pineapple',\n 'fudame',\n 'looped',\n 'amber',\n 'pendant',\n 'crosses',\n 'calligraphies',\n 'monoprint',\n 'stencilling',\n 'oolitic',\n 'strings',\n 'money',\n 'spoons',\n 'passementerie',\n 'die-cuts',\n 'silhouette',\n 'necklace',\n 'infill',\n 'jacket',\n 'substrate',\n 'seconds',\n 'paper',\n 'bodycolor',\n 'sectioned',\n 'lingbi',\n 'multiple',\n 'mat',\n 'garnet',\n 'copy',\n 'filet',\n 'lacqer',\n 'splashed',\n 'earthwnware',\n 'coins',\n 'red',\n 'carnelian-agate',\n '1866-67',\n 'flooring',\n 'silhouettes',\n 'louvre',\n 'maroon',\n 'graphitea',\n 'part',\n 'swatch',\n 'beadwork',\n 'buff-colored',\n 'spigot',\n 'polycarbonate',\n '12/25',\n 'maplewood',\n 'architecture',\n '424',\n 'inkwatercolor',\n 'ceylon',\n 'tin)',\n 'eggshells',\n 'proofs',\n '1-8',\n 'rome',\n 'cicada',\n 'inlcusions',\n 'carnelian',\n 'puppy',\n 'tails',\n 'wallpaper',\n 'fox-dancer',\n 'hairs',\n '10/40',\n 'stretcher',\n 'corundum',\n 'polyester/cotton',\n 'gaze',\n 'purple-gray',\n 'water-color',\n 'finish',\n '43)',\n 'maranite',\n 'gabbro',\n 'striping',\n 'frets',\n 'woodblock',\n 'stalk',\n 'nitrate',\n 'rayon',\n 'barberry',\n 'unpainted',\n 'union',\n 'tent-stitch',\n '(nephrite',\n '3)',\n 'ropes',\n 'beaded',\n 'roller',\n 'rolled',\n 'linden',\n 'bamboo',\n 'appliquéd',\n 'lacquers',\n 'pilate',\n 'etchin',\n 'cheek',\n 'velour',\n 'raffia',\n 'siltstone',\n 'quilted',\n 'aspen',\n 'a-w:jade',\n 'plied',\n 'ribbons',\n 'double-weave',\n 'sythetic',\n 'bolting',\n 'enclosure',\n 'toys',\n 'eggshell',\n 'circular',\n 'pea-green',\n 'marbled',\n 'corner',\n 'lunette',\n 'meter',\n 'dynel',\n 'bag',\n 'woodburytype',\n 'aquatints',\n 'outlines',\n 'ambergris',\n 'bis',\n 'cabinet',\n 'copies',\n 'overglazed',\n 'cupra',\n 'cut',\n 'nashij',\n 'ornamentation',\n 'framed',\n 'tire',\n 'refractors',\n 'sachet',\n 'around',\n 'overenameled',\n 'calves',\n 'coating',\n 'latten',\n 'pencil/ink',\n 'horseback',\n 'caneware',\n 'bills',\n 'sheep-bone',\n 'band?',\n 'slip-painted',\n 'cowroid',\n 'moonstone2',\n '4/50',\n 'pearwood',\n 'contet',\n 'skin',\n 'capitals',\n 'covering',\n 'sugar-lift',\n 'texts',\n 'siena',\n 'horizontally',\n 'gravure',\n 'vessel',\n 'bay',\n 'crocheted',\n 'second',\n 'make',\n 'neon',\n 'kirigane',\n 'chorite',\n 'elastine',\n 'screenprint',\n 'snail',\n 'right',\n 'wallpapers',\n 'darker',\n 'titles',\n 'mats',\n 'piecework',\n 'latex',\n 'roundel',\n 'marble-luni',\n '88)',\n 'synthetc',\n '47)',\n 'copper-gilded',\n 'signed',\n 'fringes',\n 'markers',\n 'wafer',\n 'brown-red',\n 'ox-hide',\n 'cartridges',\n '1901',\n 'sodalite',\n 'trier',\n 'soundboard',\n 'borders',\n 'antelope-hide',\n 'hood',\n 'foliage',\n 'salt',\n 'slipcase',\n ...}"
     },
     "execution_count": 114,
     "metadata": {},
     "output_type": "execute_result"
    }
   ],
   "source": [
    "# you can ignore this. This is a list of all unique single mediums (not combinations of mediums)\n",
    "medium_set"
   ],
   "metadata": {
    "collapsed": false
   }
  },
  {
   "cell_type": "markdown",
   "source": [
    "57527 is better, but still a lot of values"
   ],
   "metadata": {
    "collapsed": false
   }
  },
  {
   "cell_type": "markdown",
   "source": [
    "I'd like to use 1hot encoding, however with this amount of categories/values for medium, it would a curse of dimensionality. Because of that, I will converted it to a numeric value, which is not good, but maybe we can still find out smth from it."
   ],
   "metadata": {
    "collapsed": false
   }
  },
  {
   "cell_type": "code",
   "execution_count": 115,
   "outputs": [],
   "source": [
    "df['medium_categorical'] = medium_reduced.astype('category')"
   ],
   "metadata": {
    "collapsed": false
   }
  },
  {
   "cell_type": "code",
   "execution_count": 116,
   "outputs": [
    {
     "data": {
      "text/plain": "Object ID\n1         20924\n2         20924\n3         20924\n4         20924\n5         20924\n          ...  \n860869     9841\n860870    22058\n860871    17927\n860872    22016\n860873    23292\nName: medium_num, Length: 477804, dtype: int16"
     },
     "execution_count": 116,
     "metadata": {},
     "output_type": "execute_result"
    }
   ],
   "source": [
    "# convert into categorical and then into integer value\n",
    "#https://stackoverflow.com/questions/32011359/convert-categorical-data-in-pandas-dataframe\n",
    "df['medium_num'] = df[['medium_categorical']].apply(lambda x: x.cat.codes)\n",
    "df['medium_num']"
   ],
   "metadata": {
    "collapsed": false
   }
  },
  {
   "cell_type": "markdown",
   "source": [
    "# 8. Focus on the extraction of physical dimensions of each item (width, depth and height in centimeters) from the \"Dimensions\" feature. _(2 points)_"
   ],
   "metadata": {
    "collapsed": false
   }
  },
  {
   "cell_type": "code",
   "execution_count": 117,
   "outputs": [
    {
     "data": {
      "text/plain": "          Object Number  Is Highlight  Is Timeline Work  Is Public Domain  \\\nObject ID                                                                   \n1            1979.486.1         False             False             False   \n3              67.265.9         False             False             False   \n15             16.74.49         False             False             False   \n16             16.74.27         False             False             False   \n24             16.74.33         False             False             False   \n...                 ...           ...               ...               ...   \n860865      53.600.1438         False             False             False   \n860866      23.112.2892         False             False              True   \n860867      53.600.1437         False             False             False   \n860868      53.600.1433         False             False             False   \n860871      53.600.1434         False             False             False   \n\n           Gallery Number           Department                 AccessionYear  \\\nObject ID                                                                      \n1                     NaN    The American Wing 1970-01-01 00:00:00.000001979   \n3                     NaN    The American Wing 1970-01-01 00:00:00.000001967   \n15                    NaN    The American Wing 1970-01-01 00:00:00.000001916   \n16                    NaN    The American Wing 1970-01-01 00:00:00.000001916   \n24                    NaN    The American Wing 1970-01-01 00:00:00.000001916   \n...                   ...                  ...                           ...   \n860865                NaN  Drawings and Prints 1953-01-01 00:00:00.000000000   \n860866                NaN  Drawings and Prints 1923-01-01 00:00:00.000000000   \n860867                NaN  Drawings and Prints 1953-01-01 00:00:00.000000000   \n860868                NaN  Drawings and Prints 1953-01-01 00:00:00.000000000   \n860871                NaN  Drawings and Prints 1953-01-01 00:00:00.000000000   \n\n          Object Name                                              Title  \\\nObject ID                                                                  \n1                Coin                       One-dollar Liberty Head Coin   \n3                Coin                         Two-and-a-Half Dollar Coin   \n15               Coin                                     Coin, 1/2 Real   \n16               Peso                                     Coin, 1/4 Peso   \n24           Centavos                                  Coin, 10 Centavos   \n...               ...                                                ...   \n860865          Print                                    Patie and Roger   \n860866        Drawing                            Stanhope Phaeton #23533   \n860867          Print                                    Roger and Jenny   \n860868          Print                           Madge's attack on Bauldy   \n860871          Print  Forest landscape with cattle drinking, a woman...   \n\n           Culture  ... Object Wikidata URL Metadata Date  \\\nObject ID           ...                                     \n1              NaN  ...                 NaN           NaN   \n3              NaN  ...                 NaN           NaN   \n15         Mexican  ...                 NaN           NaN   \n16         Mexican  ...                 NaN           NaN   \n24         Mexican  ...                 NaN           NaN   \n...            ...  ...                 ...           ...   \n860865         NaN  ...                 NaN           NaN   \n860866         NaN  ...                 NaN           NaN   \n860867         NaN  ...                 NaN           NaN   \n860868         NaN  ...                 NaN           NaN   \n860871         NaN  ...                 NaN           NaN   \n\n                                         Repository       Tags  \\\nObject ID                                                        \n1          Metropolitan Museum of Art, New York, NY        NaN   \n3          Metropolitan Museum of Art, New York, NY        NaN   \n15         Metropolitan Museum of Art, New York, NY        NaN   \n16         Metropolitan Museum of Art, New York, NY        NaN   \n24         Metropolitan Museum of Art, New York, NY        NaN   \n...                                             ...        ...   \n860865     Metropolitan Museum of Art, New York, NY        NaN   \n860866     Metropolitan Museum of Art, New York, NY  Carriages   \n860867     Metropolitan Museum of Art, New York, NY        NaN   \n860868     Metropolitan Museum of Art, New York, NY        NaN   \n860871     Metropolitan Museum of Art, New York, NY        NaN   \n\n                                        Tags AAT URL  \\\nObject ID                                              \n1                                                NaN   \n3                                                NaN   \n15                                               NaN   \n16                                               NaN   \n24                                               NaN   \n...                                              ...   \n860865                                           NaN   \n860866     http://vocab.getty.edu/page/aat/300185335   \n860867                                           NaN   \n860868                                           NaN   \n860871                                           NaN   \n\n                               Tags Wikidata URL Object_name_len  \\\nObject ID                                                          \n1                                            NaN             4.0   \n3                                            NaN             4.0   \n15                                           NaN             4.0   \n16                                           NaN             4.0   \n24                                           NaN             8.0   \n...                                          ...             ...   \n860865                                       NaN             5.0   \n860866     https://www.wikidata.org/wiki/Q235356             7.0   \n860867                                       NaN             5.0   \n860868                                       NaN             5.0   \n860871                                       NaN             5.0   \n\n          object_date_combined                  medium_categorical medium_num  \nObject ID                                                                      \n1                         1853                                gold      20924  \n3                      1909–27                                gold      20924  \n15                   1665–1700                              silver      28533  \n16                   1800–1900                      bronze, copper       7848  \n24                     1860–70                              nickel      26691  \n...                        ...                                 ...        ...  \n860865                 1753–63                             etching      17927  \n860866                    1897  canvas, edge, graphite, perforated       9841  \n860867                 1753–63                             etching      17927  \n860868                 1753–63                             etching      17927  \n860871                 1768–78                             etching      17927  \n\n[259820 rows x 57 columns]",
      "text/html": "<div>\n<style scoped>\n    .dataframe tbody tr th:only-of-type {\n        vertical-align: middle;\n    }\n\n    .dataframe tbody tr th {\n        vertical-align: top;\n    }\n\n    .dataframe thead th {\n        text-align: right;\n    }\n</style>\n<table border=\"1\" class=\"dataframe\">\n  <thead>\n    <tr style=\"text-align: right;\">\n      <th></th>\n      <th>Object Number</th>\n      <th>Is Highlight</th>\n      <th>Is Timeline Work</th>\n      <th>Is Public Domain</th>\n      <th>Gallery Number</th>\n      <th>Department</th>\n      <th>AccessionYear</th>\n      <th>Object Name</th>\n      <th>Title</th>\n      <th>Culture</th>\n      <th>...</th>\n      <th>Object Wikidata URL</th>\n      <th>Metadata Date</th>\n      <th>Repository</th>\n      <th>Tags</th>\n      <th>Tags AAT URL</th>\n      <th>Tags Wikidata URL</th>\n      <th>Object_name_len</th>\n      <th>object_date_combined</th>\n      <th>medium_categorical</th>\n      <th>medium_num</th>\n    </tr>\n    <tr>\n      <th>Object ID</th>\n      <th></th>\n      <th></th>\n      <th></th>\n      <th></th>\n      <th></th>\n      <th></th>\n      <th></th>\n      <th></th>\n      <th></th>\n      <th></th>\n      <th></th>\n      <th></th>\n      <th></th>\n      <th></th>\n      <th></th>\n      <th></th>\n      <th></th>\n      <th></th>\n      <th></th>\n      <th></th>\n      <th></th>\n    </tr>\n  </thead>\n  <tbody>\n    <tr>\n      <th>1</th>\n      <td>1979.486.1</td>\n      <td>False</td>\n      <td>False</td>\n      <td>False</td>\n      <td>NaN</td>\n      <td>The American Wing</td>\n      <td>1970-01-01 00:00:00.000001979</td>\n      <td>Coin</td>\n      <td>One-dollar Liberty Head Coin</td>\n      <td>NaN</td>\n      <td>...</td>\n      <td>NaN</td>\n      <td>NaN</td>\n      <td>Metropolitan Museum of Art, New York, NY</td>\n      <td>NaN</td>\n      <td>NaN</td>\n      <td>NaN</td>\n      <td>4.0</td>\n      <td>1853</td>\n      <td>gold</td>\n      <td>20924</td>\n    </tr>\n    <tr>\n      <th>3</th>\n      <td>67.265.9</td>\n      <td>False</td>\n      <td>False</td>\n      <td>False</td>\n      <td>NaN</td>\n      <td>The American Wing</td>\n      <td>1970-01-01 00:00:00.000001967</td>\n      <td>Coin</td>\n      <td>Two-and-a-Half Dollar Coin</td>\n      <td>NaN</td>\n      <td>...</td>\n      <td>NaN</td>\n      <td>NaN</td>\n      <td>Metropolitan Museum of Art, New York, NY</td>\n      <td>NaN</td>\n      <td>NaN</td>\n      <td>NaN</td>\n      <td>4.0</td>\n      <td>1909–27</td>\n      <td>gold</td>\n      <td>20924</td>\n    </tr>\n    <tr>\n      <th>15</th>\n      <td>16.74.49</td>\n      <td>False</td>\n      <td>False</td>\n      <td>False</td>\n      <td>NaN</td>\n      <td>The American Wing</td>\n      <td>1970-01-01 00:00:00.000001916</td>\n      <td>Coin</td>\n      <td>Coin, 1/2 Real</td>\n      <td>Mexican</td>\n      <td>...</td>\n      <td>NaN</td>\n      <td>NaN</td>\n      <td>Metropolitan Museum of Art, New York, NY</td>\n      <td>NaN</td>\n      <td>NaN</td>\n      <td>NaN</td>\n      <td>4.0</td>\n      <td>1665–1700</td>\n      <td>silver</td>\n      <td>28533</td>\n    </tr>\n    <tr>\n      <th>16</th>\n      <td>16.74.27</td>\n      <td>False</td>\n      <td>False</td>\n      <td>False</td>\n      <td>NaN</td>\n      <td>The American Wing</td>\n      <td>1970-01-01 00:00:00.000001916</td>\n      <td>Peso</td>\n      <td>Coin, 1/4 Peso</td>\n      <td>Mexican</td>\n      <td>...</td>\n      <td>NaN</td>\n      <td>NaN</td>\n      <td>Metropolitan Museum of Art, New York, NY</td>\n      <td>NaN</td>\n      <td>NaN</td>\n      <td>NaN</td>\n      <td>4.0</td>\n      <td>1800–1900</td>\n      <td>bronze, copper</td>\n      <td>7848</td>\n    </tr>\n    <tr>\n      <th>24</th>\n      <td>16.74.33</td>\n      <td>False</td>\n      <td>False</td>\n      <td>False</td>\n      <td>NaN</td>\n      <td>The American Wing</td>\n      <td>1970-01-01 00:00:00.000001916</td>\n      <td>Centavos</td>\n      <td>Coin, 10 Centavos</td>\n      <td>Mexican</td>\n      <td>...</td>\n      <td>NaN</td>\n      <td>NaN</td>\n      <td>Metropolitan Museum of Art, New York, NY</td>\n      <td>NaN</td>\n      <td>NaN</td>\n      <td>NaN</td>\n      <td>8.0</td>\n      <td>1860–70</td>\n      <td>nickel</td>\n      <td>26691</td>\n    </tr>\n    <tr>\n      <th>...</th>\n      <td>...</td>\n      <td>...</td>\n      <td>...</td>\n      <td>...</td>\n      <td>...</td>\n      <td>...</td>\n      <td>...</td>\n      <td>...</td>\n      <td>...</td>\n      <td>...</td>\n      <td>...</td>\n      <td>...</td>\n      <td>...</td>\n      <td>...</td>\n      <td>...</td>\n      <td>...</td>\n      <td>...</td>\n      <td>...</td>\n      <td>...</td>\n      <td>...</td>\n      <td>...</td>\n    </tr>\n    <tr>\n      <th>860865</th>\n      <td>53.600.1438</td>\n      <td>False</td>\n      <td>False</td>\n      <td>False</td>\n      <td>NaN</td>\n      <td>Drawings and Prints</td>\n      <td>1953-01-01 00:00:00.000000000</td>\n      <td>Print</td>\n      <td>Patie and Roger</td>\n      <td>NaN</td>\n      <td>...</td>\n      <td>NaN</td>\n      <td>NaN</td>\n      <td>Metropolitan Museum of Art, New York, NY</td>\n      <td>NaN</td>\n      <td>NaN</td>\n      <td>NaN</td>\n      <td>5.0</td>\n      <td>1753–63</td>\n      <td>etching</td>\n      <td>17927</td>\n    </tr>\n    <tr>\n      <th>860866</th>\n      <td>23.112.2892</td>\n      <td>False</td>\n      <td>False</td>\n      <td>True</td>\n      <td>NaN</td>\n      <td>Drawings and Prints</td>\n      <td>1923-01-01 00:00:00.000000000</td>\n      <td>Drawing</td>\n      <td>Stanhope Phaeton #23533</td>\n      <td>NaN</td>\n      <td>...</td>\n      <td>NaN</td>\n      <td>NaN</td>\n      <td>Metropolitan Museum of Art, New York, NY</td>\n      <td>Carriages</td>\n      <td>http://vocab.getty.edu/page/aat/300185335</td>\n      <td>https://www.wikidata.org/wiki/Q235356</td>\n      <td>7.0</td>\n      <td>1897</td>\n      <td>canvas, edge, graphite, perforated</td>\n      <td>9841</td>\n    </tr>\n    <tr>\n      <th>860867</th>\n      <td>53.600.1437</td>\n      <td>False</td>\n      <td>False</td>\n      <td>False</td>\n      <td>NaN</td>\n      <td>Drawings and Prints</td>\n      <td>1953-01-01 00:00:00.000000000</td>\n      <td>Print</td>\n      <td>Roger and Jenny</td>\n      <td>NaN</td>\n      <td>...</td>\n      <td>NaN</td>\n      <td>NaN</td>\n      <td>Metropolitan Museum of Art, New York, NY</td>\n      <td>NaN</td>\n      <td>NaN</td>\n      <td>NaN</td>\n      <td>5.0</td>\n      <td>1753–63</td>\n      <td>etching</td>\n      <td>17927</td>\n    </tr>\n    <tr>\n      <th>860868</th>\n      <td>53.600.1433</td>\n      <td>False</td>\n      <td>False</td>\n      <td>False</td>\n      <td>NaN</td>\n      <td>Drawings and Prints</td>\n      <td>1953-01-01 00:00:00.000000000</td>\n      <td>Print</td>\n      <td>Madge's attack on Bauldy</td>\n      <td>NaN</td>\n      <td>...</td>\n      <td>NaN</td>\n      <td>NaN</td>\n      <td>Metropolitan Museum of Art, New York, NY</td>\n      <td>NaN</td>\n      <td>NaN</td>\n      <td>NaN</td>\n      <td>5.0</td>\n      <td>1753–63</td>\n      <td>etching</td>\n      <td>17927</td>\n    </tr>\n    <tr>\n      <th>860871</th>\n      <td>53.600.1434</td>\n      <td>False</td>\n      <td>False</td>\n      <td>False</td>\n      <td>NaN</td>\n      <td>Drawings and Prints</td>\n      <td>1953-01-01 00:00:00.000000000</td>\n      <td>Print</td>\n      <td>Forest landscape with cattle drinking, a woman...</td>\n      <td>NaN</td>\n      <td>...</td>\n      <td>NaN</td>\n      <td>NaN</td>\n      <td>Metropolitan Museum of Art, New York, NY</td>\n      <td>NaN</td>\n      <td>NaN</td>\n      <td>NaN</td>\n      <td>5.0</td>\n      <td>1768–78</td>\n      <td>etching</td>\n      <td>17927</td>\n    </tr>\n  </tbody>\n</table>\n<p>259820 rows × 57 columns</p>\n</div>"
     },
     "execution_count": 117,
     "metadata": {},
     "output_type": "execute_result"
    }
   ],
   "source": [
    "# lets take a look how the data generally looks\n",
    "df.drop_duplicates(subset=['Dimensions'])\n"
   ],
   "metadata": {
    "collapsed": false
   }
  },
  {
   "cell_type": "code",
   "execution_count": 118,
   "outputs": [],
   "source": [
    "def remove_units(value, is_in_cm: bool, is_in_inch: bool):\n",
    "    if is_in_cm:\n",
    "        return value.split('cm')[0].strip()\n",
    "    if is_in_inch:\n",
    "        return value.split('in')[0].strip()\n",
    "    return value.strip()\n",
    "\n",
    "def convert_unit(value, is_in_inch: bool):\n",
    "    if is_in_inch:\n",
    "        try:\n",
    "            return float(value) / 2.54\n",
    "        except:\n",
    "            return '-1'\n",
    "    return value\n",
    "\n",
    "# got a bit inspired by https://discord.com/channels/366970031445377024/756554669190414406/1034404910017552384\n",
    "def process_dimensions_i_cm(orig_dim) -> tuple[int, int, int]:\n",
    "    # take contents of a (). In case there is multiple of them, take the first one\n",
    "    parentheses_insides = re.findall(\"\\((.*?)\\)\", str(orig_dim))\n",
    "    if len(parentheses_insides) == 0:\n",
    "        # return\n",
    "        return -1, -1, -1\n",
    "    parentheses_inside = parentheses_insides[0]\n",
    "\n",
    "    # sometime multiple units are used, lets pick the last one, which is usually in centimeters\n",
    "    parentheses_inside = parentheses_inside.split(', ')[-1]\n",
    "\n",
    "    is_in_cm = 'cm' in parentheses_inside\n",
    "    is_in_inch = 'in' in parentheses_inside\n",
    "\n",
    "    if is_in_cm and is_in_inch:\n",
    "        print(f\"BOTH MEASUREMENTS: {parentheses_inside}\")\n",
    "\n",
    "    # split by ' X ' since sometimes there are multiple dimensions and sometimes not\n",
    "    dimensions = parentheses_inside.split(' x ')\n",
    "\n",
    "    # usually in the \"last\" dimension are also the measurements. Lets remove it\n",
    "\n",
    "\n",
    "    # # untested alternative\n",
    "    # dimensions[-1] = remove_units(dimensions[-1], is_in_cm, is_in_inch)\n",
    "    # out_dimensions = [0, 0, 0]\n",
    "    # for d in range(len(dimensions)):\n",
    "    #     out_dimensions[i] = convert_unit(dimensions[i], is_in_inch)\n",
    "    # return out_dimensions\n",
    "\n",
    "    if len(dimensions) == 1:\n",
    "        dimensions[0] = remove_units(dimensions[0], is_in_cm, is_in_inch)\n",
    "        dimensions[0] = convert_unit(dimensions[0], is_in_inch)\n",
    "        return dimensions[0], 0, 0\n",
    "    if len(dimensions) == 2:\n",
    "        dimensions[1] = remove_units(dimensions[1], is_in_cm, is_in_inch)\n",
    "        dimensions[0] = convert_unit(dimensions[0], is_in_inch)\n",
    "        dimensions[1] = convert_unit(dimensions[1], is_in_inch)\n",
    "        return dimensions[0], dimensions[1], 0\n",
    "    if len(dimensions) >= 3:\n",
    "        dimensions[2] = remove_units(dimensions[2], is_in_cm, is_in_inch)\n",
    "        dimensions[0] = convert_unit(dimensions[0], is_in_inch)\n",
    "        dimensions[1] = convert_unit(dimensions[1], is_in_inch)\n",
    "        dimensions[2] = convert_unit(dimensions[2], is_in_inch)\n",
    "        return dimensions[0], dimensions[1], dimensions[2]\n",
    "\n",
    "    return parentheses_inside"
   ],
   "metadata": {
    "collapsed": false
   }
  },
  {
   "cell_type": "code",
   "execution_count": 119,
   "outputs": [
    {
     "name": "stdout",
     "output_type": "stream",
     "text": [
      "BOTH MEASUREMENTS: 504 in. x 45.7 cm\n",
      "BOTH MEASUREMENTS: 504 in. x 45.7 cm\n",
      "BOTH MEASUREMENTS: 73 cm; L. of blade 24 in. (61 cm\n",
      "BOTH MEASUREMENTS:  30.6 cm; W.  5 3/32 in. (12.9 cm\n",
      "BOTH MEASUREMENTS: w/o base: 8 3/4 in. (22.2 cm\n",
      "BOTH MEASUREMENTS: 3.8 cm0; W. 1 7/8 in. (4.8 cm\n",
      "BOTH MEASUREMENTS: 1 15/16 in. (4.9 cm\n",
      "BOTH MEASUREMENTS: H. with cover: 2 1/4 in. (5.7 cm\n",
      "BOTH MEASUREMENTS: 4.4 cm; W. 4 1/2 in. (11.4 cm\n",
      "BOTH MEASUREMENTS: 5.4 cm0; W. 2 1/8 in. (5.4 cm\n",
      "BOTH MEASUREMENTS: 3.5 cm0; W. 1 1/3 in. (3.2 cm\n",
      "BOTH MEASUREMENTS: 5.7 cm0; W. 7/8 in. (2.2 cm\n",
      "BOTH MEASUREMENTS: 3.2 cm0; W. 1 1/2 in. (3.8 cm\n",
      "BOTH MEASUREMENTS: 3.5 cm0; W. 1 5/8 in. (4.1 cm\n",
      "BOTH MEASUREMENTS: 4.4 cm0; W. 1 1/4 in. (3.2 cm\n",
      "BOTH MEASUREMENTS: 4.4 cm0; W. 1 1/4 in. (3.2 cm\n",
      "BOTH MEASUREMENTS: 1 cm; L. 2 3/4 in. (7 cm\n",
      "BOTH MEASUREMENTS: L. 4 1/8 in. (10.5 cm\n",
      "BOTH MEASUREMENTS: 1 1/4 in. (3.2 cm\n",
      "BOTH MEASUREMENTS: 10.8 cm x 6.3 in.\n",
      "BOTH MEASUREMENTS: H including lions 8.3 x D 0.7 x Diam 7.2 cm\n",
      "BOTH MEASUREMENTS: 12.6 cm x W. 1-3/8 in. (3.2 cm\n",
      "BOTH MEASUREMENTS: 25.9 x 18.7 cm (cut within plate line\n",
      "BOTH MEASUREMENTS: 6-3/4 in.; Depth: 5.1 cm (2 in.\n",
      "BOTH MEASUREMENTS: Longest pipe 35.6 cm (14 in.\n",
      "BOTH MEASUREMENTS: measured 4 cm in from bell\n",
      "BOTH MEASUREMENTS: 3-1/2 -  3-5/8 in. (extendable by ca. .4 cm\n",
      "BOTH MEASUREMENTS: 25.3 cm; Mouth Diam. 3-3/4 in. (9.7 cm\n",
      "BOTH MEASUREMENTS: 69 cm (2-3/4 in.\n",
      "BOTH MEASUREMENTS: Embouchure L: 53.7 cm (21-1/8 in.\n",
      "BOTH MEASUREMENTS: h. 1.3 cm (1/2 in\n",
      "BOTH MEASUREMENTS: 2.5 cm (1 in.\n",
      "BOTH MEASUREMENTS:  11/16 in0; w. 0.8 cm (5/16 in\n",
      "BOTH MEASUREMENTS: 8 1/2 in0; w. 9.9 cm (3 7/8 in\n",
      "BOTH MEASUREMENTS: 5/8 in.0; w. 1.8 cm (11/16 in.\n"
     ]
    }
   ],
   "source": [
    "dimensions_cols = df.apply(lambda x: process_dimensions_i_cm(x['Dimensions']), axis='columns', result_type='expand')\n",
    "dimensions_cols = dimensions_cols.rename(columns={0: 'width', 1: 'depth', 2: 'height'})\n",
    "df = pd.concat([df, dimensions_cols], axis='columns')\n",
    "# df = df.rename(columns={0: 'width', 1: 'depth', 2: 'height'})\n",
    "# for index, row in df.iterrows():\n",
    "#     width, depth, height = process_dimensions_i_cm(row['Dimensions'])\n",
    "#     row['width'] = width\n",
    "#     row['depth'] = depth\n",
    "#     row['height'] = height\n"
   ],
   "metadata": {
    "collapsed": false
   }
  },
  {
   "cell_type": "code",
   "execution_count": 120,
   "outputs": [
    {
     "data": {
      "text/plain": "          Object Number  Is Highlight  Is Timeline Work  Is Public Domain  \\\nObject ID                                                                   \n1            1979.486.1         False             False             False   \n2            1980.264.5         False             False             False   \n3              67.265.9         False             False             False   \n4             67.265.10         False             False             False   \n5             67.265.11         False             False             False   \n...                 ...           ...               ...               ...   \n860869      23.112.2893         False             False              True   \n860870      23.112.2894         False             False              True   \n860871      53.600.1434         False             False             False   \n860872      23.112.2895         False             False              True   \n860873      23.112.2896         False             False              True   \n\n           Gallery Number           Department                 AccessionYear  \\\nObject ID                                                                      \n1                     NaN    The American Wing 1970-01-01 00:00:00.000001979   \n2                     NaN    The American Wing 1970-01-01 00:00:00.000001980   \n3                     NaN    The American Wing 1970-01-01 00:00:00.000001967   \n4                     NaN    The American Wing 1970-01-01 00:00:00.000001967   \n5                     NaN    The American Wing 1970-01-01 00:00:00.000001967   \n...                   ...                  ...                           ...   \n860869                NaN  Drawings and Prints 1923-01-01 00:00:00.000000000   \n860870                NaN  Drawings and Prints 1923-01-01 00:00:00.000000000   \n860871                NaN  Drawings and Prints 1953-01-01 00:00:00.000000000   \n860872                NaN  Drawings and Prints 1923-01-01 00:00:00.000000000   \n860873                NaN  Drawings and Prints 1923-01-01 00:00:00.000000000   \n\n          Object Name                                              Title  \\\nObject ID                                                                  \n1                Coin                       One-dollar Liberty Head Coin   \n2                Coin                       Ten-dollar Liberty Head Coin   \n3                Coin                         Two-and-a-Half Dollar Coin   \n4                Coin                         Two-and-a-Half Dollar Coin   \n5                Coin                         Two-and-a-Half Dollar Coin   \n...               ...                                                ...   \n860869        Drawing                                     Phaeton #24567   \n860870        Drawing             Stanhope Phaeton #25538-25539 (#21222)   \n860871          Print  Forest landscape with cattle drinking, a woman...   \n860872        Drawing                           Phaeton with folding top   \n860873        Drawing                                   Stanhope Phaeton   \n\n          Culture  ...       Tags                               Tags AAT URL  \\\nObject ID          ...                                                         \n1             NaN  ...        NaN                                        NaN   \n2             NaN  ...        NaN                                        NaN   \n3             NaN  ...        NaN                                        NaN   \n4             NaN  ...        NaN                                        NaN   \n5             NaN  ...        NaN                                        NaN   \n...           ...  ...        ...                                        ...   \n860869        NaN  ...  Carriages  http://vocab.getty.edu/page/aat/300185335   \n860870        NaN  ...  Carriages  http://vocab.getty.edu/page/aat/300185335   \n860871        NaN  ...        NaN                                        NaN   \n860872        NaN  ...  Carriages  http://vocab.getty.edu/page/aat/300185335   \n860873        NaN  ...  Carriages  http://vocab.getty.edu/page/aat/300185335   \n\n                               Tags Wikidata URL Object_name_len  \\\nObject ID                                                          \n1                                            NaN             4.0   \n2                                            NaN             4.0   \n3                                            NaN             4.0   \n4                                            NaN             4.0   \n5                                            NaN             4.0   \n...                                          ...             ...   \n860869     https://www.wikidata.org/wiki/Q235356             7.0   \n860870     https://www.wikidata.org/wiki/Q235356             7.0   \n860871                                       NaN             5.0   \n860872     https://www.wikidata.org/wiki/Q235356             7.0   \n860873     https://www.wikidata.org/wiki/Q235356             7.0   \n\n          object_date_combined                  medium_categorical medium_num  \\\nObject ID                                                                       \n1                         1853                                gold      20924   \n2                         1901                                gold      20924   \n3                      1909–27                                gold      20924   \n4                      1909–27                                gold      20924   \n5                      1909–27                                gold      20924   \n...                        ...                                 ...        ...   \n860869                    1904  canvas, edge, graphite, perforated       9841   \n860870                    1904                       graphite, ink      22058   \n860871                 1768–78                             etching      17927   \n860872               1890–1900                            graphite      22016   \n860873               1890–1900                                 ink      23292   \n\n                 width depth height  \nObject ID                            \n1                   -1    -1     -1  \n2                   -1    -1     -1  \n3                  1.7     0      0  \n4                  1.7     0      0  \n5                  1.7     0      0  \n...                ...   ...    ...  \n860869     34.3 × 57.2     0      0  \n860870       33 × 56.5     0      0  \n860871     29.6 × 19.4     0      0  \n860872       33 × 56.5     0      0  \n860873     29.8 × 45.1     0      0  \n\n[477804 rows x 60 columns]",
      "text/html": "<div>\n<style scoped>\n    .dataframe tbody tr th:only-of-type {\n        vertical-align: middle;\n    }\n\n    .dataframe tbody tr th {\n        vertical-align: top;\n    }\n\n    .dataframe thead th {\n        text-align: right;\n    }\n</style>\n<table border=\"1\" class=\"dataframe\">\n  <thead>\n    <tr style=\"text-align: right;\">\n      <th></th>\n      <th>Object Number</th>\n      <th>Is Highlight</th>\n      <th>Is Timeline Work</th>\n      <th>Is Public Domain</th>\n      <th>Gallery Number</th>\n      <th>Department</th>\n      <th>AccessionYear</th>\n      <th>Object Name</th>\n      <th>Title</th>\n      <th>Culture</th>\n      <th>...</th>\n      <th>Tags</th>\n      <th>Tags AAT URL</th>\n      <th>Tags Wikidata URL</th>\n      <th>Object_name_len</th>\n      <th>object_date_combined</th>\n      <th>medium_categorical</th>\n      <th>medium_num</th>\n      <th>width</th>\n      <th>depth</th>\n      <th>height</th>\n    </tr>\n    <tr>\n      <th>Object ID</th>\n      <th></th>\n      <th></th>\n      <th></th>\n      <th></th>\n      <th></th>\n      <th></th>\n      <th></th>\n      <th></th>\n      <th></th>\n      <th></th>\n      <th></th>\n      <th></th>\n      <th></th>\n      <th></th>\n      <th></th>\n      <th></th>\n      <th></th>\n      <th></th>\n      <th></th>\n      <th></th>\n      <th></th>\n    </tr>\n  </thead>\n  <tbody>\n    <tr>\n      <th>1</th>\n      <td>1979.486.1</td>\n      <td>False</td>\n      <td>False</td>\n      <td>False</td>\n      <td>NaN</td>\n      <td>The American Wing</td>\n      <td>1970-01-01 00:00:00.000001979</td>\n      <td>Coin</td>\n      <td>One-dollar Liberty Head Coin</td>\n      <td>NaN</td>\n      <td>...</td>\n      <td>NaN</td>\n      <td>NaN</td>\n      <td>NaN</td>\n      <td>4.0</td>\n      <td>1853</td>\n      <td>gold</td>\n      <td>20924</td>\n      <td>-1</td>\n      <td>-1</td>\n      <td>-1</td>\n    </tr>\n    <tr>\n      <th>2</th>\n      <td>1980.264.5</td>\n      <td>False</td>\n      <td>False</td>\n      <td>False</td>\n      <td>NaN</td>\n      <td>The American Wing</td>\n      <td>1970-01-01 00:00:00.000001980</td>\n      <td>Coin</td>\n      <td>Ten-dollar Liberty Head Coin</td>\n      <td>NaN</td>\n      <td>...</td>\n      <td>NaN</td>\n      <td>NaN</td>\n      <td>NaN</td>\n      <td>4.0</td>\n      <td>1901</td>\n      <td>gold</td>\n      <td>20924</td>\n      <td>-1</td>\n      <td>-1</td>\n      <td>-1</td>\n    </tr>\n    <tr>\n      <th>3</th>\n      <td>67.265.9</td>\n      <td>False</td>\n      <td>False</td>\n      <td>False</td>\n      <td>NaN</td>\n      <td>The American Wing</td>\n      <td>1970-01-01 00:00:00.000001967</td>\n      <td>Coin</td>\n      <td>Two-and-a-Half Dollar Coin</td>\n      <td>NaN</td>\n      <td>...</td>\n      <td>NaN</td>\n      <td>NaN</td>\n      <td>NaN</td>\n      <td>4.0</td>\n      <td>1909–27</td>\n      <td>gold</td>\n      <td>20924</td>\n      <td>1.7</td>\n      <td>0</td>\n      <td>0</td>\n    </tr>\n    <tr>\n      <th>4</th>\n      <td>67.265.10</td>\n      <td>False</td>\n      <td>False</td>\n      <td>False</td>\n      <td>NaN</td>\n      <td>The American Wing</td>\n      <td>1970-01-01 00:00:00.000001967</td>\n      <td>Coin</td>\n      <td>Two-and-a-Half Dollar Coin</td>\n      <td>NaN</td>\n      <td>...</td>\n      <td>NaN</td>\n      <td>NaN</td>\n      <td>NaN</td>\n      <td>4.0</td>\n      <td>1909–27</td>\n      <td>gold</td>\n      <td>20924</td>\n      <td>1.7</td>\n      <td>0</td>\n      <td>0</td>\n    </tr>\n    <tr>\n      <th>5</th>\n      <td>67.265.11</td>\n      <td>False</td>\n      <td>False</td>\n      <td>False</td>\n      <td>NaN</td>\n      <td>The American Wing</td>\n      <td>1970-01-01 00:00:00.000001967</td>\n      <td>Coin</td>\n      <td>Two-and-a-Half Dollar Coin</td>\n      <td>NaN</td>\n      <td>...</td>\n      <td>NaN</td>\n      <td>NaN</td>\n      <td>NaN</td>\n      <td>4.0</td>\n      <td>1909–27</td>\n      <td>gold</td>\n      <td>20924</td>\n      <td>1.7</td>\n      <td>0</td>\n      <td>0</td>\n    </tr>\n    <tr>\n      <th>...</th>\n      <td>...</td>\n      <td>...</td>\n      <td>...</td>\n      <td>...</td>\n      <td>...</td>\n      <td>...</td>\n      <td>...</td>\n      <td>...</td>\n      <td>...</td>\n      <td>...</td>\n      <td>...</td>\n      <td>...</td>\n      <td>...</td>\n      <td>...</td>\n      <td>...</td>\n      <td>...</td>\n      <td>...</td>\n      <td>...</td>\n      <td>...</td>\n      <td>...</td>\n      <td>...</td>\n    </tr>\n    <tr>\n      <th>860869</th>\n      <td>23.112.2893</td>\n      <td>False</td>\n      <td>False</td>\n      <td>True</td>\n      <td>NaN</td>\n      <td>Drawings and Prints</td>\n      <td>1923-01-01 00:00:00.000000000</td>\n      <td>Drawing</td>\n      <td>Phaeton #24567</td>\n      <td>NaN</td>\n      <td>...</td>\n      <td>Carriages</td>\n      <td>http://vocab.getty.edu/page/aat/300185335</td>\n      <td>https://www.wikidata.org/wiki/Q235356</td>\n      <td>7.0</td>\n      <td>1904</td>\n      <td>canvas, edge, graphite, perforated</td>\n      <td>9841</td>\n      <td>34.3 × 57.2</td>\n      <td>0</td>\n      <td>0</td>\n    </tr>\n    <tr>\n      <th>860870</th>\n      <td>23.112.2894</td>\n      <td>False</td>\n      <td>False</td>\n      <td>True</td>\n      <td>NaN</td>\n      <td>Drawings and Prints</td>\n      <td>1923-01-01 00:00:00.000000000</td>\n      <td>Drawing</td>\n      <td>Stanhope Phaeton #25538-25539 (#21222)</td>\n      <td>NaN</td>\n      <td>...</td>\n      <td>Carriages</td>\n      <td>http://vocab.getty.edu/page/aat/300185335</td>\n      <td>https://www.wikidata.org/wiki/Q235356</td>\n      <td>7.0</td>\n      <td>1904</td>\n      <td>graphite, ink</td>\n      <td>22058</td>\n      <td>33 × 56.5</td>\n      <td>0</td>\n      <td>0</td>\n    </tr>\n    <tr>\n      <th>860871</th>\n      <td>53.600.1434</td>\n      <td>False</td>\n      <td>False</td>\n      <td>False</td>\n      <td>NaN</td>\n      <td>Drawings and Prints</td>\n      <td>1953-01-01 00:00:00.000000000</td>\n      <td>Print</td>\n      <td>Forest landscape with cattle drinking, a woman...</td>\n      <td>NaN</td>\n      <td>...</td>\n      <td>NaN</td>\n      <td>NaN</td>\n      <td>NaN</td>\n      <td>5.0</td>\n      <td>1768–78</td>\n      <td>etching</td>\n      <td>17927</td>\n      <td>29.6 × 19.4</td>\n      <td>0</td>\n      <td>0</td>\n    </tr>\n    <tr>\n      <th>860872</th>\n      <td>23.112.2895</td>\n      <td>False</td>\n      <td>False</td>\n      <td>True</td>\n      <td>NaN</td>\n      <td>Drawings and Prints</td>\n      <td>1923-01-01 00:00:00.000000000</td>\n      <td>Drawing</td>\n      <td>Phaeton with folding top</td>\n      <td>NaN</td>\n      <td>...</td>\n      <td>Carriages</td>\n      <td>http://vocab.getty.edu/page/aat/300185335</td>\n      <td>https://www.wikidata.org/wiki/Q235356</td>\n      <td>7.0</td>\n      <td>1890–1900</td>\n      <td>graphite</td>\n      <td>22016</td>\n      <td>33 × 56.5</td>\n      <td>0</td>\n      <td>0</td>\n    </tr>\n    <tr>\n      <th>860873</th>\n      <td>23.112.2896</td>\n      <td>False</td>\n      <td>False</td>\n      <td>True</td>\n      <td>NaN</td>\n      <td>Drawings and Prints</td>\n      <td>1923-01-01 00:00:00.000000000</td>\n      <td>Drawing</td>\n      <td>Stanhope Phaeton</td>\n      <td>NaN</td>\n      <td>...</td>\n      <td>Carriages</td>\n      <td>http://vocab.getty.edu/page/aat/300185335</td>\n      <td>https://www.wikidata.org/wiki/Q235356</td>\n      <td>7.0</td>\n      <td>1890–1900</td>\n      <td>ink</td>\n      <td>23292</td>\n      <td>29.8 × 45.1</td>\n      <td>0</td>\n      <td>0</td>\n    </tr>\n  </tbody>\n</table>\n<p>477804 rows × 60 columns</p>\n</div>"
     },
     "execution_count": 120,
     "metadata": {},
     "output_type": "execute_result"
    }
   ],
   "source": [
    "df"
   ],
   "metadata": {
    "collapsed": false
   }
  },
  {
   "cell_type": "code",
   "execution_count": 120,
   "outputs": [],
   "source": [],
   "metadata": {
    "collapsed": false
   }
  }
 ],
 "metadata": {
  "deepnote": {
   "is_reactive": false
  },
  "deepnote_execution_queue": [],
  "deepnote_notebook_id": "16b0fa78064d4e96881a41330999904b",
  "kernelspec": {
   "display_name": "Python 3 (ipykernel)",
   "language": "python",
   "name": "python3"
  },
  "language_info": {
   "codemirror_mode": {
    "name": "ipython",
    "version": 3
   },
   "file_extension": ".py",
   "mimetype": "text/x-python",
   "name": "python",
   "nbconvert_exporter": "python",
   "pygments_lexer": "ipython3",
   "version": "3.10.4"
  }
 },
 "nbformat": 4,
 "nbformat_minor": 4
}
